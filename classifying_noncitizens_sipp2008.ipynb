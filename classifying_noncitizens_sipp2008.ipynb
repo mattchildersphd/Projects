{
 "cells": [
  {
   "cell_type": "code",
   "execution_count": 1,
   "metadata": {},
   "outputs": [],
   "source": [
    "import pandas as pd\n",
    "import numpy as np\n",
    "import seaborn as sns\n",
    "import matplotlib.pyplot as plt\n",
    "import statsmodels.api as sm\n",
    "from dython.nominal import associations\n",
    "%matplotlib inline\n",
    "\n",
    "from sklearn import metrics\n",
    "from sklearn import ensemble\n",
    "from sklearn import datasets\n",
    "from sklearn.utils import shuffle\n",
    "from sklearn.metrics import mean_squared_error\n",
    "from sklearn.utils import resample\n",
    "from sklearn.naive_bayes import BernoulliNB\n",
    "from sklearn.naive_bayes import ComplementNB\n",
    "from sklearn.model_selection import train_test_split\n",
    "from sklearn.model_selection import cross_val_score\n",
    "from sklearn.metrics import confusion_matrix\n",
    "from sklearn.metrics import accuracy_score\n",
    "from sklearn.metrics import precision_score\n",
    "from sklearn.metrics import recall_score\n",
    "from sklearn.metrics import f1_score\n",
    "from sklearn import svm\n",
    "from sklearn.model_selection import GridSearchCV\n",
    "from sklearn.model_selection import RandomizedSearchCV\n",
    "from scipy.stats import uniform\n",
    "from sklearn.neighbors import KNeighborsClassifier\n",
    "from sklearn.ensemble import RandomForestClassifier\n",
    "from sklearn.ensemble import GradientBoostingClassifier\n",
    "from collections import Counter\n",
    "from sklearn.datasets import make_classification\n",
    "from imblearn.over_sampling import SMOTE\n",
    "from sklearn.linear_model import LogisticRegression\n",
    "from sklearn.feature_selection import RFECV\n",
    "from sklearn.base import clone \n",
    "from boruta import BorutaPy\n",
    "from sklearn.neural_network import MLPClassifier\n",
    "\n",
    "from collections import Counter\n",
    "from imblearn.over_sampling import SMOTE\n",
    "from imblearn.over_sampling import RandomOverSampler\n",
    "from imblearn.under_sampling import RandomUnderSampler\n",
    "from imblearn.combine import SMOTEENN\n",
    "from imblearn.over_sampling import SMOTENC\n",
    "\n",
    "from imblearn.pipeline import Pipeline\n",
    "from sklearn.model_selection import RepeatedStratifiedKFold\n",
    "from imblearn.pipeline import make_pipeline\n",
    "from sklearn.model_selection import KFold\n",
    "\n",
    "\n",
    "from scipy.stats import pointbiserialr\n",
    "import scipy.stats as stats\n",
    "import scipy.stats as ss\n",
    "from scipy.stats.mstats import winsorize\n",
    "\n",
    "import optuna\n",
    "from hyperopt import hp, tpe, fmin, Trials, STATUS_OK, space_eval\n",
    "\n",
    "import warnings\n",
    "warnings.filterwarnings(\"ignore\")"
   ]
  },
  {
   "cell_type": "markdown",
   "metadata": {},
   "source": [
    "## Supervised Learning Capstone: Predicting Unauthorized Status Among Noncitizens Using Census Data\n",
    "\n",
    "My purpose for this capstone is to build a model using U.S. Census survey data that predicts a noncitizen's legal status reasonably well. I am a political scientist working in the health care policy research and advocacy space and much of my work would benefit from having the ability to filter out this population from measures of eligibility for health insurance programs in the United States. Estimating the unauthorized immigrant population is an important step in the process of calculating how many residents in the United States fall into the so-called health insurance \"coverage gap.\" People who fall into this category are those who make too much money to qualify for Medicaid but do not make enough to qualify for government subsidized health insurance premiums on the health insurance exchanges. I am currently working on a project centered on the coverage gap and I would like to be able to measure the unauthorized population in Florida's major metropolitan areas. \n",
    "\n",
    "I will use data from the 2008 Survey of Income and Program Participation (SIPP), which is a national panel survey of approximately 390,000 individuals in 50,000-60,000 households over a four-year period. The U.S. government uses it to track microeconomic trends and analyze how government programs affect American households over time. The panel is asked a core set of questions in every wave that measures socioeconomic status, demographics, and receipt of and use of government spending program transfers. Each wave also includes an additional set of questions on a specific topic. The second wave covers ethnicity and immigration and it will form the basis of my analysis here. I will also incorporate functional limitations measures from the fourth wave because influential studies of unauthorized immigrants have used it to classify noncitizens. \n",
    "\n",
    "Researchers who use the 2008 SIPP to estimate unauthorized status among noncitizens typically merge the second wave data with a larger Census dataset, either the American Community Survey (ACS) or Current Population Survey (CPS), and use a multiple imputation algorithm algorithm to predict a noncitizen's legal status. The ACS and CPS measure respondents' citizenship status, but do not probe further to measure whether they are in the United States legally. The SIPP, on other hand, includes questions measuring whether the person came to the U.S. as a legal permanent resident (LPR) or whether they have \"adjusted\" to permanent status since entering the country. It also measures other forms of legal entry through various visa programs or whether the person is a refugee or asylee, but the government only provides data on LPR status. Researchers must apply for special access to the other legal status measures and pay a hefty access fee (I will rely on the public data instead). \n",
    "\n",
    "All of the Census surveys ask the same set of ethnicity, demographic, and socioeconomic status questions, so researchers may combine the SIPP and ACS (or CPS) for a multiple imputation analysis. The algorithms thus \"impute\" legal status in the data from the ACS or CPS in the pooled data file.\n",
    "    \n",
    "Pivoting from the literature, I will use machine learning algorithms to train a model to predict unauthorized status in the SIPP with the hopes of accurately predicting a noncitizen's legal status. If I am successful, I can use the model on either the ACS or CPS to predict unauthorized status in those datasets (which is my plan). \n",
    "\n",
    "For each wave, the survey data is housed in three files: the core file, the topical module file, and the file with replicate weights. I will only use the core and the topical module files here. "
   ]
  },
  {
   "cell_type": "code",
   "execution_count": 2,
   "metadata": {},
   "outputs": [],
   "source": [
    "# Reading in the topical modules\n",
    "\n",
    "sipp2008_w2tm = pd.read_stata('/Users/machilders/Documents/Data Science/Thinkful/Data Files/sipp2008/sipp2008w2.dta')\n",
    "sipp2008_w4tm = pd.read_stata('/Users/machilders/Documents/Research/Data/SIPP/sippp08putm4.dta')"
   ]
  },
  {
   "cell_type": "code",
   "execution_count": 3,
   "metadata": {},
   "outputs": [],
   "source": [
    "# Reading in the core data\n",
    "\n",
    "sipp2008_w2core = pd.read_stata('/Users/machilders/Documents/Data Science/Thinkful/Data Files/sipp2008/sipp2008core.dta')"
   ]
  },
  {
   "cell_type": "markdown",
   "metadata": {},
   "source": [
    "### Background and Potential Features\n",
    "\n",
    "There are a few groups of social scientists who have estimated the number of unauthorized immigrants in the United States whose models are either widely used, or widely cited in the news and among policymakers. Pew Research Center's methods (PRC) are the most well known and they use a method referred to as the \"residual method.\" It employs a combination of administrative statistics on the number of legal noncitizens from the federal government and Census survey data (ACS) to estimate the unlawful population. Their early attempts in the late 1990s were rather simple: they used Census estimates of the noncitizen population and substracted the government's official number of lawful noncitizens to calculate the number of unauthorized immigrants. \n",
    "\n",
    "As computer processing technology advanced, social scientists at PRC and in academia began to use multiple imputation algorithms to create more precise and granular estimates. They pooled SIPP and ACS data to impute a noncitizen's legal status, with the SIPP being the 'donor' data and the ACS being the target. Both surveys sample the national population in similar ways and use a common set of socioeconomic and demographic features to serve as predictors. The SIPP asks its noncitizen respondents whether they had legal status when they entered the country and if they have since become legal permanent residents. The ACS, on the other hand, only asks respondents if they are citizens, without probing them further to infer their legal status. Thus, in the pooled dataset, a variable measuring a noncitizen's legal status would have missing values for noncitizens from the ACS.  \n",
    "\n",
    "For this analysis, I will use features from three unauthorized immigrant multiple imputation models that are popular in social science research to build a classification model. The first is from a 2014 study testing alternative methods and it uses eight features (see below). The second is a central component in a Kaiser Family Foundation (KFF) analysis estimating the number of low-income Americans who are in the health insurance \"coverage gap\". The KFF study is considered to be the gold standard for estimating the size of this population. The third is a model used by the Migration Policy Institute for its work measuring how federal policies impact the immigrant population. \n",
    "\n",
    "    Van Hook, Jennifer, James D. Bachmeier, Donna L. Coffman, and Ofer Harel. 2015. “Can We Spin Straw Into Gold? An Evaluation of Immigrant Legal Status Imputation Approaches.” Demography 52 (1): 329–54. https://doi.org/10.1007/s13524-014-0358-x.\n",
    "- Family poverty level \n",
    "- education level\n",
    "- Born in Mexico\n",
    "- Years of U.S. residence\n",
    "- age\n",
    "- gender\n",
    "- Number of functional limitations (disabilities)\n",
    "- Poor health\n",
    "\n",
    "The Van Hook et al. group's feature set has the fewest dimensions, but we are not able to completely replicate it. Looking into the future stages of this project, the ACS does not include measures of Americans' health status. On the other hand, most of the remaining features overlap with the two models below.\n",
    "\n",
    "    Garfield, Rachel, Kendal Orgera, and Anthony Damico. 2019. “The Coverage Gap: Uninsured Poor Adults in States That Do Not Expand Medicaid.” Issue brief. Washington, D.C.: Kaiser Family Foundation. https://www.kff.org/medicaid/issue-brief/the-coverage-gap-uninsured-poor-adults-in-states-that-do-not-expand-medicaid/.\n",
    "- Year of US entry,\n",
    "- Job industry classification,\n",
    "- State of residence,\n",
    "- Family Poverty Level,\n",
    "- Ownership or rental of residence,\n",
    "- Presence of at least one citizen in household,\n",
    "- Number of occupants in the household (< or >= six occupants),\n",
    "- Whether all household occupants are related,\n",
    "- Number of workers in household,\n",
    "- Health insurance coverage status,\n",
    "- Gender\n",
    "- Ethnicity-Hispanic or Latino Origin\n",
    "\n",
    "We can replicate this model completely because both the SIPP and ACS have all of the features. \n",
    "\n",
    "    Capps, Randy, James D. Bachmeier, Michael Fix, and Jennifer Van Hook. 2013. “A Demographic, Socioeconomic, and Health Coverage Profile of Unauthorized Immigrants in the United States.” 5. Washington D.C.: Migration Policy Institute. https://www.migrationpolicy.org/research/demographic-socioeconomic-and-health-coverage-profile-unauthorized-immigrants-united-states.\n",
    "- world region of birth \n",
    "- duration of US residence \n",
    "- English language proficiency\n",
    "- age\n",
    "- sex \n",
    "- are they married or not\n",
    "- parental status (has children)\n",
    "- household size\n",
    "- educational attainment\n",
    "- homeownership\n",
    "- insurance coverage\n",
    "- labor force status\n",
    "- income-to-poverty ratio\n",
    "- US state/region of residence"
   ]
  },
  {
   "cell_type": "markdown",
   "metadata": {},
   "source": [
    "### Variables to keep from core file:\n",
    "\n",
    "Identifiers and weights:\n",
    "'ssuid' , 'shhadid', 'epppnum' , 'rfid' , 'rsid', 'wpfinwgt', 'srefmon',\n",
    "\n",
    "Demographic:\n",
    "'tage' ,'ebornus' , 'ecitizen' , 'tftotinc' , 'rfpov' ,\n",
    "'ejbind1' , 'eorigin' , 'tfipsst', 'epdjbthn' , 'etenure' ,\n",
    "'esex' , 'tmetro', 'tjbocc1', 'ehowwell', 'eeducate', 'epnspous', 'epnmom', 'epndad', 'errp', 'esftype', 'espeak', 'esfr', 'shhadid', 'eftype', 'rdesgpnt', 'ems', 'eafever', 'efrefper'\n",
    "\n",
    "Insurance Vars:\n",
    "'rchampm' , 'er20' , 'er03a' , 'er01a' , 'rprvhi' ,\n",
    "'rprvhi2' , 'emcocov' , 'ecrmth' , 'ecdmth'"
   ]
  },
  {
   "cell_type": "markdown",
   "metadata": {},
   "source": [
    "### Variables to keep from topical files: \n",
    "\n",
    "Wave 2: \n",
    "identifiers:\n",
    "'ssuid', 'epppnum',\n",
    "\n",
    "migration variables:\n",
    "'timstat', 'eadjust','tmoveus', 'tbrstate', 'tmovyryr', 'bcntry'\n",
    "\n",
    "Wave 4:\n",
    "identifiers:\n",
    "'ssuid', 'epppnum',\n",
    "\n",
    "functional limitation variables (standard federal functional limitation questions, also in ACS and CPS):\n",
    "'edis' 1-6"
   ]
  },
  {
   "cell_type": "code",
   "execution_count": 4,
   "metadata": {},
   "outputs": [],
   "source": [
    "# Creating smaller dataset with variables from core file\n",
    "\n",
    "sipp2008_w2core_small = sipp2008_w2core[['ssuid' , 'shhadid', 'epppnum' , 'rfid' , 'rfid2', 'rsid','wpfinwgt', 'tage', 'ebornus',\n",
    "                                         'ecitizen', 'tftotinc', 'rfpov', 'ejbind1', 'epdjbthn', 'tjbocc1', 'erace',\n",
    "                                         'eorigin', 'tfipsst', 'etenure','esex', 'tmetro', 'rdesgpnt',\n",
    "                                         'rchampm', 'er20', 'er03a', 'er01a', 'rprvhi', 'rprvhi2','emcocov', \n",
    "                                         'ecrmth', 'ecdmth','srefmon', 'eeducate', 'espeak', 'ehowwell', 'epnspous', \n",
    "                                         'epnmom', 'epndad', 'errp', 'esftype', 'esfr', 'eftype', 'eafever',\n",
    "                                         'efkind', 'efspouse', 'ehiowner', 'ems', 'efrefper']]\n"
   ]
  },
  {
   "cell_type": "code",
   "execution_count": 5,
   "metadata": {},
   "outputs": [
    {
     "data": {
      "text/html": [
       "<div>\n",
       "<style scoped>\n",
       "    .dataframe tbody tr th:only-of-type {\n",
       "        vertical-align: middle;\n",
       "    }\n",
       "\n",
       "    .dataframe tbody tr th {\n",
       "        vertical-align: top;\n",
       "    }\n",
       "\n",
       "    .dataframe thead th {\n",
       "        text-align: right;\n",
       "    }\n",
       "</style>\n",
       "<table border=\"1\" class=\"dataframe\">\n",
       "  <thead>\n",
       "    <tr style=\"text-align: right;\">\n",
       "      <th></th>\n",
       "      <th>ssuid</th>\n",
       "      <th>shhadid</th>\n",
       "      <th>epppnum</th>\n",
       "      <th>rfid</th>\n",
       "      <th>rfid2</th>\n",
       "      <th>rsid</th>\n",
       "      <th>wpfinwgt</th>\n",
       "      <th>tage</th>\n",
       "      <th>ebornus</th>\n",
       "      <th>ecitizen</th>\n",
       "      <th>...</th>\n",
       "      <th>errp</th>\n",
       "      <th>esftype</th>\n",
       "      <th>esfr</th>\n",
       "      <th>eftype</th>\n",
       "      <th>eafever</th>\n",
       "      <th>efkind</th>\n",
       "      <th>efspouse</th>\n",
       "      <th>ehiowner</th>\n",
       "      <th>ems</th>\n",
       "      <th>efrefper</th>\n",
       "    </tr>\n",
       "  </thead>\n",
       "  <tbody>\n",
       "    <tr>\n",
       "      <th>0</th>\n",
       "      <td>019128000276</td>\n",
       "      <td>11</td>\n",
       "      <td>0101</td>\n",
       "      <td>1</td>\n",
       "      <td>1</td>\n",
       "      <td>-1</td>\n",
       "      <td>3903.1606</td>\n",
       "      <td>29</td>\n",
       "      <td>2</td>\n",
       "      <td>2</td>\n",
       "      <td>...</td>\n",
       "      <td>1</td>\n",
       "      <td>-1</td>\n",
       "      <td>0</td>\n",
       "      <td>1</td>\n",
       "      <td>2</td>\n",
       "      <td>1</td>\n",
       "      <td>102</td>\n",
       "      <td>1</td>\n",
       "      <td>1</td>\n",
       "      <td>101</td>\n",
       "    </tr>\n",
       "    <tr>\n",
       "      <th>1</th>\n",
       "      <td>019128000276</td>\n",
       "      <td>11</td>\n",
       "      <td>0101</td>\n",
       "      <td>2</td>\n",
       "      <td>2</td>\n",
       "      <td>-1</td>\n",
       "      <td>3979.0720</td>\n",
       "      <td>29</td>\n",
       "      <td>2</td>\n",
       "      <td>2</td>\n",
       "      <td>...</td>\n",
       "      <td>1</td>\n",
       "      <td>-1</td>\n",
       "      <td>0</td>\n",
       "      <td>1</td>\n",
       "      <td>2</td>\n",
       "      <td>1</td>\n",
       "      <td>102</td>\n",
       "      <td>1</td>\n",
       "      <td>1</td>\n",
       "      <td>101</td>\n",
       "    </tr>\n",
       "    <tr>\n",
       "      <th>2</th>\n",
       "      <td>019128000276</td>\n",
       "      <td>11</td>\n",
       "      <td>0101</td>\n",
       "      <td>3</td>\n",
       "      <td>3</td>\n",
       "      <td>-1</td>\n",
       "      <td>4056.2319</td>\n",
       "      <td>29</td>\n",
       "      <td>2</td>\n",
       "      <td>2</td>\n",
       "      <td>...</td>\n",
       "      <td>1</td>\n",
       "      <td>-1</td>\n",
       "      <td>0</td>\n",
       "      <td>1</td>\n",
       "      <td>2</td>\n",
       "      <td>1</td>\n",
       "      <td>102</td>\n",
       "      <td>1</td>\n",
       "      <td>1</td>\n",
       "      <td>101</td>\n",
       "    </tr>\n",
       "    <tr>\n",
       "      <th>3</th>\n",
       "      <td>019128000276</td>\n",
       "      <td>11</td>\n",
       "      <td>0101</td>\n",
       "      <td>4</td>\n",
       "      <td>4</td>\n",
       "      <td>-1</td>\n",
       "      <td>3973.9954</td>\n",
       "      <td>29</td>\n",
       "      <td>2</td>\n",
       "      <td>2</td>\n",
       "      <td>...</td>\n",
       "      <td>1</td>\n",
       "      <td>-1</td>\n",
       "      <td>0</td>\n",
       "      <td>1</td>\n",
       "      <td>2</td>\n",
       "      <td>1</td>\n",
       "      <td>102</td>\n",
       "      <td>1</td>\n",
       "      <td>1</td>\n",
       "      <td>101</td>\n",
       "    </tr>\n",
       "    <tr>\n",
       "      <th>4</th>\n",
       "      <td>019128000276</td>\n",
       "      <td>11</td>\n",
       "      <td>0102</td>\n",
       "      <td>1</td>\n",
       "      <td>1</td>\n",
       "      <td>-1</td>\n",
       "      <td>3903.1606</td>\n",
       "      <td>32</td>\n",
       "      <td>2</td>\n",
       "      <td>2</td>\n",
       "      <td>...</td>\n",
       "      <td>3</td>\n",
       "      <td>-1</td>\n",
       "      <td>0</td>\n",
       "      <td>1</td>\n",
       "      <td>2</td>\n",
       "      <td>1</td>\n",
       "      <td>102</td>\n",
       "      <td>2</td>\n",
       "      <td>1</td>\n",
       "      <td>101</td>\n",
       "    </tr>\n",
       "  </tbody>\n",
       "</table>\n",
       "<p>5 rows × 48 columns</p>\n",
       "</div>"
      ],
      "text/plain": [
       "          ssuid  shhadid epppnum  rfid  rfid2  rsid   wpfinwgt  tage  ebornus  \\\n",
       "0  019128000276       11    0101     1      1    -1  3903.1606    29        2   \n",
       "1  019128000276       11    0101     2      2    -1  3979.0720    29        2   \n",
       "2  019128000276       11    0101     3      3    -1  4056.2319    29        2   \n",
       "3  019128000276       11    0101     4      4    -1  3973.9954    29        2   \n",
       "4  019128000276       11    0102     1      1    -1  3903.1606    32        2   \n",
       "\n",
       "   ecitizen  ...  errp  esftype  esfr  eftype  eafever  efkind  efspouse  \\\n",
       "0         2  ...     1       -1     0       1        2       1       102   \n",
       "1         2  ...     1       -1     0       1        2       1       102   \n",
       "2         2  ...     1       -1     0       1        2       1       102   \n",
       "3         2  ...     1       -1     0       1        2       1       102   \n",
       "4         2  ...     3       -1     0       1        2       1       102   \n",
       "\n",
       "   ehiowner  ems  efrefper  \n",
       "0         1    1       101  \n",
       "1         1    1       101  \n",
       "2         1    1       101  \n",
       "3         1    1       101  \n",
       "4         2    1       101  \n",
       "\n",
       "[5 rows x 48 columns]"
      ]
     },
     "execution_count": 5,
     "metadata": {},
     "output_type": "execute_result"
    }
   ],
   "source": [
    "# Checking to see if the data looks OK\n",
    "\n",
    "sipp2008_w2core_small.head()"
   ]
  },
  {
   "cell_type": "code",
   "execution_count": 6,
   "metadata": {},
   "outputs": [],
   "source": [
    "# Creating smaller topical module files with migration variables-Wave 2\n",
    "\n",
    "sipp2008_w2tm_small = sipp2008_w2tm[['ssuid', 'epppnum', 'timstat', 'eadjust','tmoveus', 'tbrstate', 'tmovyryr']]"
   ]
  },
  {
   "cell_type": "code",
   "execution_count": 7,
   "metadata": {},
   "outputs": [],
   "source": [
    "# Creating smaller topical module from wave 4\n",
    "sipp2008_w4tm_small = sipp2008_w4tm[['ssuid', 'epppnum', 'edis1', 'edis2', 'edis3', 'edis4', 'edis5', 'edis6']]"
   ]
  },
  {
   "cell_type": "code",
   "execution_count": 8,
   "metadata": {},
   "outputs": [
    {
     "name": "stdout",
     "output_type": "stream",
     "text": [
      "<class 'pandas.core.frame.DataFrame'>\n",
      "Int64Index: 392702 entries, 0 to 392701\n",
      "Data columns (total 48 columns):\n",
      " #   Column    Non-Null Count   Dtype  \n",
      "---  ------    --------------   -----  \n",
      " 0   ssuid     392702 non-null  object \n",
      " 1   shhadid   392702 non-null  int16  \n",
      " 2   epppnum   392702 non-null  object \n",
      " 3   rfid      392702 non-null  int16  \n",
      " 4   rfid2     392702 non-null  int16  \n",
      " 5   rsid      392702 non-null  int16  \n",
      " 6   wpfinwgt  392702 non-null  float64\n",
      " 7   tage      392702 non-null  int8   \n",
      " 8   ebornus   392702 non-null  int8   \n",
      " 9   ecitizen  392702 non-null  int8   \n",
      " 10  tftotinc  392702 non-null  int32  \n",
      " 11  rfpov     392702 non-null  int32  \n",
      " 12  ejbind1   392702 non-null  int16  \n",
      " 13  epdjbthn  392702 non-null  int8   \n",
      " 14  tjbocc1   392702 non-null  int16  \n",
      " 15  erace     392702 non-null  int8   \n",
      " 16  eorigin   392702 non-null  int8   \n",
      " 17  tfipsst   392702 non-null  int8   \n",
      " 18  etenure   392702 non-null  int8   \n",
      " 19  esex      392702 non-null  int8   \n",
      " 20  tmetro    392702 non-null  int8   \n",
      " 21  rdesgpnt  392702 non-null  int8   \n",
      " 22  rchampm   392702 non-null  int8   \n",
      " 23  er20      392702 non-null  int8   \n",
      " 24  er03a     392702 non-null  int8   \n",
      " 25  er01a     392702 non-null  int8   \n",
      " 26  rprvhi    392702 non-null  int8   \n",
      " 27  rprvhi2   392702 non-null  int8   \n",
      " 28  emcocov   392702 non-null  int8   \n",
      " 29  ecrmth    392702 non-null  int8   \n",
      " 30  ecdmth    392702 non-null  int8   \n",
      " 31  srefmon   392702 non-null  int8   \n",
      " 32  eeducate  392702 non-null  int8   \n",
      " 33  espeak    392702 non-null  int8   \n",
      " 34  ehowwell  392702 non-null  int8   \n",
      " 35  epnspous  392702 non-null  int16  \n",
      " 36  epnmom    392702 non-null  int16  \n",
      " 37  epndad    392702 non-null  int16  \n",
      " 38  errp      392702 non-null  int8   \n",
      " 39  esftype   392702 non-null  int8   \n",
      " 40  esfr      392702 non-null  int8   \n",
      " 41  eftype    392702 non-null  int8   \n",
      " 42  eafever   392702 non-null  int8   \n",
      " 43  efkind    392702 non-null  int8   \n",
      " 44  efspouse  392702 non-null  int16  \n",
      " 45  ehiowner  392702 non-null  int8   \n",
      " 46  ems       392702 non-null  int8   \n",
      " 47  efrefper  392702 non-null  int16  \n",
      "dtypes: float64(1), int16(11), int32(2), int8(32), object(2)\n",
      "memory usage: 35.2+ MB\n"
     ]
    }
   ],
   "source": [
    "# Checking the data types in the core file.\n",
    "\n",
    "sipp2008_w2core_small.info()"
   ]
  },
  {
   "cell_type": "markdown",
   "metadata": {},
   "source": [
    "### Creating identifier variable for respondents\n",
    "\n",
    "Every person is assigned a household number and a person number within that household. We can combine them to create an ID variable. The household and person number variables are strings, so we can add them together and convert to a numeric column later. We will do this for each of the three files that we have read into Pandas before we combine them into one for the analysis. "
   ]
  },
  {
   "cell_type": "code",
   "execution_count": 9,
   "metadata": {},
   "outputs": [],
   "source": [
    "# Unique identifiers for respondents can be created by concatenating ssuid (household number) and \n",
    "# epppnum (person number)\n",
    "# These two columns are objects, but we will convert them to numeric while combining them. \n",
    "    \n",
    "sipp2008_w2core_small['pid'] = pd.to_numeric(sipp2008_w2core_small['ssuid'].str.cat(sipp2008_w2core_small['epppnum']))"
   ]
  },
  {
   "cell_type": "markdown",
   "metadata": {},
   "source": [
    "### Creating a household identifier and a family identifier\n",
    "\n",
    "We can create a houshold identifier by cancatenating \"ssuid\" and \"sshadid\" and a family identifier by concatenating \"ssuid\", \"sshadid\", and \"rfid.\""
   ]
  },
  {
   "cell_type": "code",
   "execution_count": 10,
   "metadata": {},
   "outputs": [
    {
     "name": "stdout",
     "output_type": "stream",
     "text": [
      "<class 'pandas.core.frame.DataFrame'>\n",
      "Int64Index: 392702 entries, 0 to 392701\n",
      "Data columns (total 49 columns):\n",
      " #   Column    Non-Null Count   Dtype  \n",
      "---  ------    --------------   -----  \n",
      " 0   ssuid     392702 non-null  object \n",
      " 1   shhadid   392702 non-null  int16  \n",
      " 2   epppnum   392702 non-null  object \n",
      " 3   rfid      392702 non-null  int16  \n",
      " 4   rfid2     392702 non-null  int16  \n",
      " 5   rsid      392702 non-null  int16  \n",
      " 6   wpfinwgt  392702 non-null  float64\n",
      " 7   tage      392702 non-null  int8   \n",
      " 8   ebornus   392702 non-null  int8   \n",
      " 9   ecitizen  392702 non-null  int8   \n",
      " 10  tftotinc  392702 non-null  int32  \n",
      " 11  rfpov     392702 non-null  int32  \n",
      " 12  ejbind1   392702 non-null  int16  \n",
      " 13  epdjbthn  392702 non-null  int8   \n",
      " 14  tjbocc1   392702 non-null  int16  \n",
      " 15  erace     392702 non-null  int8   \n",
      " 16  eorigin   392702 non-null  int8   \n",
      " 17  tfipsst   392702 non-null  int8   \n",
      " 18  etenure   392702 non-null  int8   \n",
      " 19  esex      392702 non-null  int8   \n",
      " 20  tmetro    392702 non-null  int8   \n",
      " 21  rdesgpnt  392702 non-null  int8   \n",
      " 22  rchampm   392702 non-null  int8   \n",
      " 23  er20      392702 non-null  int8   \n",
      " 24  er03a     392702 non-null  int8   \n",
      " 25  er01a     392702 non-null  int8   \n",
      " 26  rprvhi    392702 non-null  int8   \n",
      " 27  rprvhi2   392702 non-null  int8   \n",
      " 28  emcocov   392702 non-null  int8   \n",
      " 29  ecrmth    392702 non-null  int8   \n",
      " 30  ecdmth    392702 non-null  int8   \n",
      " 31  srefmon   392702 non-null  int8   \n",
      " 32  eeducate  392702 non-null  int8   \n",
      " 33  espeak    392702 non-null  int8   \n",
      " 34  ehowwell  392702 non-null  int8   \n",
      " 35  epnspous  392702 non-null  int16  \n",
      " 36  epnmom    392702 non-null  int16  \n",
      " 37  epndad    392702 non-null  int16  \n",
      " 38  errp      392702 non-null  int8   \n",
      " 39  esftype   392702 non-null  int8   \n",
      " 40  esfr      392702 non-null  int8   \n",
      " 41  eftype    392702 non-null  int8   \n",
      " 42  eafever   392702 non-null  int8   \n",
      " 43  efkind    392702 non-null  int8   \n",
      " 44  efspouse  392702 non-null  int16  \n",
      " 45  ehiowner  392702 non-null  int8   \n",
      " 46  ems       392702 non-null  int8   \n",
      " 47  efrefper  392702 non-null  int16  \n",
      " 48  pid       392702 non-null  int64  \n",
      "dtypes: float64(1), int16(11), int32(2), int64(1), int8(32), object(2)\n",
      "memory usage: 38.2+ MB\n"
     ]
    }
   ],
   "source": [
    "sipp2008_w2core_small.info()"
   ]
  },
  {
   "cell_type": "code",
   "execution_count": 11,
   "metadata": {},
   "outputs": [],
   "source": [
    "# Let's convert 'shhadid' into a string column to concatenate it with ssuid to \n",
    "# create the household id column.\n",
    "\n",
    "sipp2008_w2core_small['shhadid'] = sipp2008_w2core_small['shhadid'].astype(str)\n",
    "\n",
    "sipp2008_w2core_small['hhid'] = sipp2008_w2core_small['ssuid'] + sipp2008_w2core_small['shhadid']"
   ]
  },
  {
   "cell_type": "code",
   "execution_count": 12,
   "metadata": {},
   "outputs": [
    {
     "data": {
      "text/html": [
       "<div>\n",
       "<style scoped>\n",
       "    .dataframe tbody tr th:only-of-type {\n",
       "        vertical-align: middle;\n",
       "    }\n",
       "\n",
       "    .dataframe tbody tr th {\n",
       "        vertical-align: top;\n",
       "    }\n",
       "\n",
       "    .dataframe thead th {\n",
       "        text-align: right;\n",
       "    }\n",
       "</style>\n",
       "<table border=\"1\" class=\"dataframe\">\n",
       "  <thead>\n",
       "    <tr style=\"text-align: right;\">\n",
       "      <th></th>\n",
       "      <th>ssuid</th>\n",
       "      <th>shhadid</th>\n",
       "      <th>hhid</th>\n",
       "    </tr>\n",
       "  </thead>\n",
       "  <tbody>\n",
       "    <tr>\n",
       "      <th>0</th>\n",
       "      <td>019128000276</td>\n",
       "      <td>11</td>\n",
       "      <td>01912800027611</td>\n",
       "    </tr>\n",
       "    <tr>\n",
       "      <th>1</th>\n",
       "      <td>019128000276</td>\n",
       "      <td>11</td>\n",
       "      <td>01912800027611</td>\n",
       "    </tr>\n",
       "    <tr>\n",
       "      <th>2</th>\n",
       "      <td>019128000276</td>\n",
       "      <td>11</td>\n",
       "      <td>01912800027611</td>\n",
       "    </tr>\n",
       "    <tr>\n",
       "      <th>3</th>\n",
       "      <td>019128000276</td>\n",
       "      <td>11</td>\n",
       "      <td>01912800027611</td>\n",
       "    </tr>\n",
       "    <tr>\n",
       "      <th>4</th>\n",
       "      <td>019128000276</td>\n",
       "      <td>11</td>\n",
       "      <td>01912800027611</td>\n",
       "    </tr>\n",
       "    <tr>\n",
       "      <th>5</th>\n",
       "      <td>019128000276</td>\n",
       "      <td>11</td>\n",
       "      <td>01912800027611</td>\n",
       "    </tr>\n",
       "    <tr>\n",
       "      <th>6</th>\n",
       "      <td>019128000276</td>\n",
       "      <td>11</td>\n",
       "      <td>01912800027611</td>\n",
       "    </tr>\n",
       "    <tr>\n",
       "      <th>7</th>\n",
       "      <td>019128000276</td>\n",
       "      <td>11</td>\n",
       "      <td>01912800027611</td>\n",
       "    </tr>\n",
       "    <tr>\n",
       "      <th>8</th>\n",
       "      <td>019128000276</td>\n",
       "      <td>11</td>\n",
       "      <td>01912800027611</td>\n",
       "    </tr>\n",
       "    <tr>\n",
       "      <th>9</th>\n",
       "      <td>019128000276</td>\n",
       "      <td>11</td>\n",
       "      <td>01912800027611</td>\n",
       "    </tr>\n",
       "  </tbody>\n",
       "</table>\n",
       "</div>"
      ],
      "text/plain": [
       "          ssuid shhadid            hhid\n",
       "0  019128000276      11  01912800027611\n",
       "1  019128000276      11  01912800027611\n",
       "2  019128000276      11  01912800027611\n",
       "3  019128000276      11  01912800027611\n",
       "4  019128000276      11  01912800027611\n",
       "5  019128000276      11  01912800027611\n",
       "6  019128000276      11  01912800027611\n",
       "7  019128000276      11  01912800027611\n",
       "8  019128000276      11  01912800027611\n",
       "9  019128000276      11  01912800027611"
      ]
     },
     "execution_count": 12,
     "metadata": {},
     "output_type": "execute_result"
    }
   ],
   "source": [
    "# Looks like it worked OK\n",
    "\n",
    "sipp2008_w2core_small[['ssuid', 'shhadid', 'hhid']].head(10)"
   ]
  },
  {
   "cell_type": "code",
   "execution_count": 13,
   "metadata": {},
   "outputs": [],
   "source": [
    " # Create a family identifier with ssuid + shhadid + rfid\n",
    "\n",
    "sipp2008_w2core_small['family'] = sipp2008_w2core_small['ssuid'] + sipp2008_w2core_small['shhadid'] + sipp2008_w2core_small['rfid'].astype(str)"
   ]
  },
  {
   "cell_type": "code",
   "execution_count": 14,
   "metadata": {},
   "outputs": [
    {
     "data": {
      "text/html": [
       "<div>\n",
       "<style scoped>\n",
       "    .dataframe tbody tr th:only-of-type {\n",
       "        vertical-align: middle;\n",
       "    }\n",
       "\n",
       "    .dataframe tbody tr th {\n",
       "        vertical-align: top;\n",
       "    }\n",
       "\n",
       "    .dataframe thead th {\n",
       "        text-align: right;\n",
       "    }\n",
       "</style>\n",
       "<table border=\"1\" class=\"dataframe\">\n",
       "  <thead>\n",
       "    <tr style=\"text-align: right;\">\n",
       "      <th></th>\n",
       "      <th>pid</th>\n",
       "      <th>hhid</th>\n",
       "      <th>family</th>\n",
       "      <th>ssuid</th>\n",
       "      <th>shhadid</th>\n",
       "      <th>rfid</th>\n",
       "    </tr>\n",
       "  </thead>\n",
       "  <tbody>\n",
       "    <tr>\n",
       "      <th>0</th>\n",
       "      <td>191280002760101</td>\n",
       "      <td>01912800027611</td>\n",
       "      <td>019128000276111</td>\n",
       "      <td>019128000276</td>\n",
       "      <td>11</td>\n",
       "      <td>1</td>\n",
       "    </tr>\n",
       "    <tr>\n",
       "      <th>1</th>\n",
       "      <td>191280002760101</td>\n",
       "      <td>01912800027611</td>\n",
       "      <td>019128000276112</td>\n",
       "      <td>019128000276</td>\n",
       "      <td>11</td>\n",
       "      <td>2</td>\n",
       "    </tr>\n",
       "    <tr>\n",
       "      <th>2</th>\n",
       "      <td>191280002760101</td>\n",
       "      <td>01912800027611</td>\n",
       "      <td>019128000276113</td>\n",
       "      <td>019128000276</td>\n",
       "      <td>11</td>\n",
       "      <td>3</td>\n",
       "    </tr>\n",
       "    <tr>\n",
       "      <th>3</th>\n",
       "      <td>191280002760101</td>\n",
       "      <td>01912800027611</td>\n",
       "      <td>019128000276114</td>\n",
       "      <td>019128000276</td>\n",
       "      <td>11</td>\n",
       "      <td>4</td>\n",
       "    </tr>\n",
       "    <tr>\n",
       "      <th>4</th>\n",
       "      <td>191280002760102</td>\n",
       "      <td>01912800027611</td>\n",
       "      <td>019128000276111</td>\n",
       "      <td>019128000276</td>\n",
       "      <td>11</td>\n",
       "      <td>1</td>\n",
       "    </tr>\n",
       "    <tr>\n",
       "      <th>5</th>\n",
       "      <td>191280002760102</td>\n",
       "      <td>01912800027611</td>\n",
       "      <td>019128000276112</td>\n",
       "      <td>019128000276</td>\n",
       "      <td>11</td>\n",
       "      <td>2</td>\n",
       "    </tr>\n",
       "    <tr>\n",
       "      <th>6</th>\n",
       "      <td>191280002760102</td>\n",
       "      <td>01912800027611</td>\n",
       "      <td>019128000276113</td>\n",
       "      <td>019128000276</td>\n",
       "      <td>11</td>\n",
       "      <td>3</td>\n",
       "    </tr>\n",
       "    <tr>\n",
       "      <th>7</th>\n",
       "      <td>191280002760102</td>\n",
       "      <td>01912800027611</td>\n",
       "      <td>019128000276114</td>\n",
       "      <td>019128000276</td>\n",
       "      <td>11</td>\n",
       "      <td>4</td>\n",
       "    </tr>\n",
       "    <tr>\n",
       "      <th>8</th>\n",
       "      <td>191280002760103</td>\n",
       "      <td>01912800027611</td>\n",
       "      <td>019128000276111</td>\n",
       "      <td>019128000276</td>\n",
       "      <td>11</td>\n",
       "      <td>1</td>\n",
       "    </tr>\n",
       "    <tr>\n",
       "      <th>9</th>\n",
       "      <td>191280002760103</td>\n",
       "      <td>01912800027611</td>\n",
       "      <td>019128000276112</td>\n",
       "      <td>019128000276</td>\n",
       "      <td>11</td>\n",
       "      <td>2</td>\n",
       "    </tr>\n",
       "  </tbody>\n",
       "</table>\n",
       "</div>"
      ],
      "text/plain": [
       "               pid            hhid           family         ssuid shhadid  \\\n",
       "0  191280002760101  01912800027611  019128000276111  019128000276      11   \n",
       "1  191280002760101  01912800027611  019128000276112  019128000276      11   \n",
       "2  191280002760101  01912800027611  019128000276113  019128000276      11   \n",
       "3  191280002760101  01912800027611  019128000276114  019128000276      11   \n",
       "4  191280002760102  01912800027611  019128000276111  019128000276      11   \n",
       "5  191280002760102  01912800027611  019128000276112  019128000276      11   \n",
       "6  191280002760102  01912800027611  019128000276113  019128000276      11   \n",
       "7  191280002760102  01912800027611  019128000276114  019128000276      11   \n",
       "8  191280002760103  01912800027611  019128000276111  019128000276      11   \n",
       "9  191280002760103  01912800027611  019128000276112  019128000276      11   \n",
       "\n",
       "   rfid  \n",
       "0     1  \n",
       "1     2  \n",
       "2     3  \n",
       "3     4  \n",
       "4     1  \n",
       "5     2  \n",
       "6     3  \n",
       "7     4  \n",
       "8     1  \n",
       "9     2  "
      ]
     },
     "execution_count": 14,
     "metadata": {},
     "output_type": "execute_result"
    }
   ],
   "source": [
    "sipp2008_w2core_small[['pid', 'hhid', 'family', 'ssuid', 'shhadid', 'rfid']].head(10)"
   ]
  },
  {
   "cell_type": "code",
   "execution_count": 15,
   "metadata": {},
   "outputs": [],
   "source": [
    "# Creating a pid variable in Wave 2 topical module (reduced file)\n",
    "\n",
    "sipp2008_w2tm_small['pid'] = pd.to_numeric(sipp2008_w2tm_small['ssuid'] + sipp2008_w2tm_small['epppnum'])"
   ]
  },
  {
   "cell_type": "code",
   "execution_count": 16,
   "metadata": {},
   "outputs": [
    {
     "name": "stdout",
     "output_type": "stream",
     "text": [
      "<class 'pandas.core.frame.DataFrame'>\n",
      "Int64Index: 98504 entries, 0 to 98503\n",
      "Data columns (total 8 columns):\n",
      " #   Column    Non-Null Count  Dtype \n",
      "---  ------    --------------  ----- \n",
      " 0   ssuid     98504 non-null  object\n",
      " 1   epppnum   98504 non-null  object\n",
      " 2   timstat   98504 non-null  int8  \n",
      " 3   eadjust   98504 non-null  int8  \n",
      " 4   tmoveus   98504 non-null  int16 \n",
      " 5   tbrstate  98504 non-null  int16 \n",
      " 6   tmovyryr  98504 non-null  int16 \n",
      " 7   pid       98504 non-null  int64 \n",
      "dtypes: int16(3), int64(1), int8(2), object(2)\n",
      "memory usage: 3.8+ MB\n"
     ]
    }
   ],
   "source": [
    "sipp2008_w2tm_small.info()"
   ]
  },
  {
   "cell_type": "code",
   "execution_count": 17,
   "metadata": {},
   "outputs": [],
   "source": [
    "# Creating a pid variable in Wave 4 topical module file\n",
    "\n",
    "sipp2008_w4tm_small['pid'] = pd.to_numeric(sipp2008_w4tm_small['ssuid'].str.cat(sipp2008_w4tm_small['epppnum']))"
   ]
  },
  {
   "cell_type": "markdown",
   "metadata": {},
   "source": [
    "We are going to drop all observations in reference months 1-3 in the core file in order to allow us to merge it with the topical module file. The topical module file only contains data from the fourth reference month."
   ]
  },
  {
   "cell_type": "code",
   "execution_count": 18,
   "metadata": {},
   "outputs": [],
   "source": [
    "sipp2008_w2core_small = sipp2008_w2core_small[sipp2008_w2core_small.srefmon == 4].reset_index()"
   ]
  },
  {
   "cell_type": "code",
   "execution_count": 19,
   "metadata": {},
   "outputs": [
    {
     "name": "stdout",
     "output_type": "stream",
     "text": [
      "<class 'pandas.core.frame.DataFrame'>\n",
      "RangeIndex: 98504 entries, 0 to 98503\n",
      "Data columns (total 52 columns):\n",
      " #   Column    Non-Null Count  Dtype  \n",
      "---  ------    --------------  -----  \n",
      " 0   index     98504 non-null  int64  \n",
      " 1   ssuid     98504 non-null  object \n",
      " 2   shhadid   98504 non-null  object \n",
      " 3   epppnum   98504 non-null  object \n",
      " 4   rfid      98504 non-null  int16  \n",
      " 5   rfid2     98504 non-null  int16  \n",
      " 6   rsid      98504 non-null  int16  \n",
      " 7   wpfinwgt  98504 non-null  float64\n",
      " 8   tage      98504 non-null  int8   \n",
      " 9   ebornus   98504 non-null  int8   \n",
      " 10  ecitizen  98504 non-null  int8   \n",
      " 11  tftotinc  98504 non-null  int32  \n",
      " 12  rfpov     98504 non-null  int32  \n",
      " 13  ejbind1   98504 non-null  int16  \n",
      " 14  epdjbthn  98504 non-null  int8   \n",
      " 15  tjbocc1   98504 non-null  int16  \n",
      " 16  erace     98504 non-null  int8   \n",
      " 17  eorigin   98504 non-null  int8   \n",
      " 18  tfipsst   98504 non-null  int8   \n",
      " 19  etenure   98504 non-null  int8   \n",
      " 20  esex      98504 non-null  int8   \n",
      " 21  tmetro    98504 non-null  int8   \n",
      " 22  rdesgpnt  98504 non-null  int8   \n",
      " 23  rchampm   98504 non-null  int8   \n",
      " 24  er20      98504 non-null  int8   \n",
      " 25  er03a     98504 non-null  int8   \n",
      " 26  er01a     98504 non-null  int8   \n",
      " 27  rprvhi    98504 non-null  int8   \n",
      " 28  rprvhi2   98504 non-null  int8   \n",
      " 29  emcocov   98504 non-null  int8   \n",
      " 30  ecrmth    98504 non-null  int8   \n",
      " 31  ecdmth    98504 non-null  int8   \n",
      " 32  srefmon   98504 non-null  int8   \n",
      " 33  eeducate  98504 non-null  int8   \n",
      " 34  espeak    98504 non-null  int8   \n",
      " 35  ehowwell  98504 non-null  int8   \n",
      " 36  epnspous  98504 non-null  int16  \n",
      " 37  epnmom    98504 non-null  int16  \n",
      " 38  epndad    98504 non-null  int16  \n",
      " 39  errp      98504 non-null  int8   \n",
      " 40  esftype   98504 non-null  int8   \n",
      " 41  esfr      98504 non-null  int8   \n",
      " 42  eftype    98504 non-null  int8   \n",
      " 43  eafever   98504 non-null  int8   \n",
      " 44  efkind    98504 non-null  int8   \n",
      " 45  efspouse  98504 non-null  int16  \n",
      " 46  ehiowner  98504 non-null  int8   \n",
      " 47  ems       98504 non-null  int8   \n",
      " 48  efrefper  98504 non-null  int16  \n",
      " 49  pid       98504 non-null  int64  \n",
      " 50  hhid      98504 non-null  object \n",
      " 51  family    98504 non-null  object \n",
      "dtypes: float64(1), int16(10), int32(2), int64(2), int8(32), object(5)\n",
      "memory usage: 11.6+ MB\n"
     ]
    }
   ],
   "source": [
    "sipp2008_w2core_small.info()"
   ]
  },
  {
   "cell_type": "code",
   "execution_count": 20,
   "metadata": {},
   "outputs": [],
   "source": [
    "# Merging core and 2nd wave topical module file \n",
    "\n",
    "sipp2008w2_all = pd.merge(sipp2008_w2core_small, sipp2008_w2tm_small[['timstat', 'eadjust', 'tmoveus', 'tbrstate', 'tmovyryr', 'pid']], how = 'left', on = 'pid')"
   ]
  },
  {
   "cell_type": "code",
   "execution_count": 21,
   "metadata": {},
   "outputs": [],
   "source": [
    "# Merging in the 4th wave tm file\n",
    "\n",
    "sipp2008w2_all = pd.merge(sipp2008w2_all, sipp2008_w4tm_small[['edis1', 'edis2', 'edis3', 'edis4', 'edis5', 'edis6', 'pid']], how = 'left', on = 'pid')"
   ]
  },
  {
   "cell_type": "code",
   "execution_count": 22,
   "metadata": {},
   "outputs": [
    {
     "data": {
      "text/html": [
       "<div>\n",
       "<style scoped>\n",
       "    .dataframe tbody tr th:only-of-type {\n",
       "        vertical-align: middle;\n",
       "    }\n",
       "\n",
       "    .dataframe tbody tr th {\n",
       "        vertical-align: top;\n",
       "    }\n",
       "\n",
       "    .dataframe thead th {\n",
       "        text-align: right;\n",
       "    }\n",
       "</style>\n",
       "<table border=\"1\" class=\"dataframe\">\n",
       "  <thead>\n",
       "    <tr style=\"text-align: right;\">\n",
       "      <th></th>\n",
       "      <th>index</th>\n",
       "      <th>ssuid</th>\n",
       "      <th>shhadid</th>\n",
       "      <th>epppnum</th>\n",
       "      <th>rfid</th>\n",
       "      <th>rfid2</th>\n",
       "      <th>rsid</th>\n",
       "      <th>wpfinwgt</th>\n",
       "      <th>tage</th>\n",
       "      <th>ebornus</th>\n",
       "      <th>...</th>\n",
       "      <th>eadjust</th>\n",
       "      <th>tmoveus</th>\n",
       "      <th>tbrstate</th>\n",
       "      <th>tmovyryr</th>\n",
       "      <th>edis1</th>\n",
       "      <th>edis2</th>\n",
       "      <th>edis3</th>\n",
       "      <th>edis4</th>\n",
       "      <th>edis5</th>\n",
       "      <th>edis6</th>\n",
       "    </tr>\n",
       "  </thead>\n",
       "  <tbody>\n",
       "    <tr>\n",
       "      <th>0</th>\n",
       "      <td>3</td>\n",
       "      <td>019128000276</td>\n",
       "      <td>11</td>\n",
       "      <td>0101</td>\n",
       "      <td>4</td>\n",
       "      <td>4</td>\n",
       "      <td>-1</td>\n",
       "      <td>3973.9954</td>\n",
       "      <td>29</td>\n",
       "      <td>2</td>\n",
       "      <td>...</td>\n",
       "      <td>2</td>\n",
       "      <td>16</td>\n",
       "      <td>567</td>\n",
       "      <td>2004</td>\n",
       "      <td>No</td>\n",
       "      <td>No</td>\n",
       "      <td>No</td>\n",
       "      <td>No</td>\n",
       "      <td>No</td>\n",
       "      <td>No</td>\n",
       "    </tr>\n",
       "    <tr>\n",
       "      <th>1</th>\n",
       "      <td>7</td>\n",
       "      <td>019128000276</td>\n",
       "      <td>11</td>\n",
       "      <td>0102</td>\n",
       "      <td>4</td>\n",
       "      <td>4</td>\n",
       "      <td>-1</td>\n",
       "      <td>3973.9954</td>\n",
       "      <td>32</td>\n",
       "      <td>2</td>\n",
       "      <td>...</td>\n",
       "      <td>2</td>\n",
       "      <td>16</td>\n",
       "      <td>567</td>\n",
       "      <td>2004</td>\n",
       "      <td>No</td>\n",
       "      <td>No</td>\n",
       "      <td>No</td>\n",
       "      <td>No</td>\n",
       "      <td>No</td>\n",
       "      <td>No</td>\n",
       "    </tr>\n",
       "    <tr>\n",
       "      <th>2</th>\n",
       "      <td>11</td>\n",
       "      <td>019128000276</td>\n",
       "      <td>11</td>\n",
       "      <td>0103</td>\n",
       "      <td>4</td>\n",
       "      <td>4</td>\n",
       "      <td>-1</td>\n",
       "      <td>4638.2197</td>\n",
       "      <td>7</td>\n",
       "      <td>2</td>\n",
       "      <td>...</td>\n",
       "      <td>-1</td>\n",
       "      <td>-1</td>\n",
       "      <td>-1</td>\n",
       "      <td>-1</td>\n",
       "      <td>Not in Universe</td>\n",
       "      <td>Not in Universe</td>\n",
       "      <td>Not in Universe</td>\n",
       "      <td>Not in Universe</td>\n",
       "      <td>Not in Universe</td>\n",
       "      <td>Not in Universe</td>\n",
       "    </tr>\n",
       "    <tr>\n",
       "      <th>3</th>\n",
       "      <td>18</td>\n",
       "      <td>019128000334</td>\n",
       "      <td>11</td>\n",
       "      <td>0102</td>\n",
       "      <td>4</td>\n",
       "      <td>4</td>\n",
       "      <td>-1</td>\n",
       "      <td>4200.6714</td>\n",
       "      <td>23</td>\n",
       "      <td>1</td>\n",
       "      <td>...</td>\n",
       "      <td>-1</td>\n",
       "      <td>-1</td>\n",
       "      <td>48</td>\n",
       "      <td>2008</td>\n",
       "      <td>No</td>\n",
       "      <td>No</td>\n",
       "      <td>No</td>\n",
       "      <td>No</td>\n",
       "      <td>No</td>\n",
       "      <td>No</td>\n",
       "    </tr>\n",
       "    <tr>\n",
       "      <th>4</th>\n",
       "      <td>22</td>\n",
       "      <td>019128000932</td>\n",
       "      <td>11</td>\n",
       "      <td>0101</td>\n",
       "      <td>4</td>\n",
       "      <td>4</td>\n",
       "      <td>-1</td>\n",
       "      <td>3107.6404</td>\n",
       "      <td>51</td>\n",
       "      <td>2</td>\n",
       "      <td>...</td>\n",
       "      <td>-1</td>\n",
       "      <td>15</td>\n",
       "      <td>568</td>\n",
       "      <td>2004</td>\n",
       "      <td>No</td>\n",
       "      <td>No</td>\n",
       "      <td>No</td>\n",
       "      <td>No</td>\n",
       "      <td>No</td>\n",
       "      <td>No</td>\n",
       "    </tr>\n",
       "  </tbody>\n",
       "</table>\n",
       "<p>5 rows × 63 columns</p>\n",
       "</div>"
      ],
      "text/plain": [
       "   index         ssuid shhadid epppnum  rfid  rfid2  rsid   wpfinwgt  tage  \\\n",
       "0      3  019128000276      11    0101     4      4    -1  3973.9954    29   \n",
       "1      7  019128000276      11    0102     4      4    -1  3973.9954    32   \n",
       "2     11  019128000276      11    0103     4      4    -1  4638.2197     7   \n",
       "3     18  019128000334      11    0102     4      4    -1  4200.6714    23   \n",
       "4     22  019128000932      11    0101     4      4    -1  3107.6404    51   \n",
       "\n",
       "   ebornus  ...  eadjust  tmoveus  tbrstate  tmovyryr            edis1  \\\n",
       "0        2  ...        2       16       567      2004               No   \n",
       "1        2  ...        2       16       567      2004               No   \n",
       "2        2  ...       -1       -1        -1        -1  Not in Universe   \n",
       "3        1  ...       -1       -1        48      2008               No   \n",
       "4        2  ...       -1       15       568      2004               No   \n",
       "\n",
       "             edis2            edis3            edis4            edis5  \\\n",
       "0               No               No               No               No   \n",
       "1               No               No               No               No   \n",
       "2  Not in Universe  Not in Universe  Not in Universe  Not in Universe   \n",
       "3               No               No               No               No   \n",
       "4               No               No               No               No   \n",
       "\n",
       "             edis6  \n",
       "0               No  \n",
       "1               No  \n",
       "2  Not in Universe  \n",
       "3               No  \n",
       "4               No  \n",
       "\n",
       "[5 rows x 63 columns]"
      ]
     },
     "execution_count": 22,
     "metadata": {},
     "output_type": "execute_result"
    }
   ],
   "source": [
    "sipp2008w2_all.head()"
   ]
  },
  {
   "cell_type": "markdown",
   "metadata": {},
   "source": [
    "### Feature Engineering and Data Wranging\n",
    "\n",
    "Now that the files are merged together, let's begin wrangling the data to use in machine learning algorithms. "
   ]
  },
  {
   "cell_type": "markdown",
   "metadata": {},
   "source": [
    "### KFF Features\n",
    "\n",
    "- Year of US entry,\n",
    "- Job industry classification,\n",
    "- State of residence,\n",
    "- Family Poverty Level,\n",
    "- Ownership or rental of residence,\n",
    "- Presence of at least one citizen in household,\n",
    "- Number of occupants in the household (< or >= six occupants),\n",
    "- Whether all household occupants are related,\n",
    "- Number of workers in household,\n",
    "- Health insurance coverage status,\n",
    "- Gender\n",
    "- Ethnicity"
   ]
  },
  {
   "cell_type": "markdown",
   "metadata": {},
   "source": [
    "#### State of Residence\n",
    "The six states with the highest immigrant populations are:\n",
    "- 6: California\n",
    "- 12: Florida\n",
    "- 17: Illinois\n",
    "- 34: New Jersey\n",
    "- 36: New York\n",
    "- 48: Texas\n",
    "- Rest of the United States"
   ]
  },
  {
   "cell_type": "code",
   "execution_count": 23,
   "metadata": {},
   "outputs": [],
   "source": [
    "# State of Residence\n",
    "\n",
    "# United States\n",
    "sipp2008w2_all.loc[sipp2008w2_all['tfipsst'].notnull(), 'noncitizen_state'] = 0\n",
    "\n",
    "# California\n",
    "sipp2008w2_all.loc[sipp2008w2_all['tfipsst'] == 6, 'noncitizen_state'] = 6\n",
    "\n",
    "# Florida\n",
    "sipp2008w2_all.loc[sipp2008w2_all['tfipsst'] == 12, 'noncitizen_state'] = 12\n",
    "\n",
    "# Illinois\n",
    "\n",
    "sipp2008w2_all.loc[sipp2008w2_all['tfipsst'] == 17,'noncitizen_state'] = 17\n",
    "\n",
    "# New Jersey\n",
    "\n",
    "sipp2008w2_all.loc[sipp2008w2_all['tfipsst'] == 34, 'noncitizen_state'] = 34\n",
    "\n",
    "# New York\n",
    "\n",
    "sipp2008w2_all.loc[sipp2008w2_all['tfipsst'] == 36, 'noncitizen_state'] = 36\n",
    "\n",
    "# Texas\n",
    "\n",
    "sipp2008w2_all.loc[sipp2008w2_all['tfipsst'] == 48, 'noncitizen_state'] = 48"
   ]
  },
  {
   "cell_type": "code",
   "execution_count": 24,
   "metadata": {},
   "outputs": [
    {
     "data": {
      "text/html": [
       "<div>\n",
       "<style scoped>\n",
       "    .dataframe tbody tr th:only-of-type {\n",
       "        vertical-align: middle;\n",
       "    }\n",
       "\n",
       "    .dataframe tbody tr th {\n",
       "        vertical-align: top;\n",
       "    }\n",
       "\n",
       "    .dataframe thead th {\n",
       "        text-align: right;\n",
       "    }\n",
       "</style>\n",
       "<table border=\"1\" class=\"dataframe\">\n",
       "  <thead>\n",
       "    <tr style=\"text-align: right;\">\n",
       "      <th>noncitizen_state</th>\n",
       "      <th>0.0</th>\n",
       "      <th>6.0</th>\n",
       "      <th>12.0</th>\n",
       "      <th>17.0</th>\n",
       "      <th>34.0</th>\n",
       "      <th>36.0</th>\n",
       "      <th>48.0</th>\n",
       "    </tr>\n",
       "    <tr>\n",
       "      <th>tfipsst</th>\n",
       "      <th></th>\n",
       "      <th></th>\n",
       "      <th></th>\n",
       "      <th></th>\n",
       "      <th></th>\n",
       "      <th></th>\n",
       "      <th></th>\n",
       "    </tr>\n",
       "  </thead>\n",
       "  <tbody>\n",
       "    <tr>\n",
       "      <th>1</th>\n",
       "      <td>1363</td>\n",
       "      <td>0</td>\n",
       "      <td>0</td>\n",
       "      <td>0</td>\n",
       "      <td>0</td>\n",
       "      <td>0</td>\n",
       "      <td>0</td>\n",
       "    </tr>\n",
       "    <tr>\n",
       "      <th>2</th>\n",
       "      <td>233</td>\n",
       "      <td>0</td>\n",
       "      <td>0</td>\n",
       "      <td>0</td>\n",
       "      <td>0</td>\n",
       "      <td>0</td>\n",
       "      <td>0</td>\n",
       "    </tr>\n",
       "    <tr>\n",
       "      <th>4</th>\n",
       "      <td>2681</td>\n",
       "      <td>0</td>\n",
       "      <td>0</td>\n",
       "      <td>0</td>\n",
       "      <td>0</td>\n",
       "      <td>0</td>\n",
       "      <td>0</td>\n",
       "    </tr>\n",
       "    <tr>\n",
       "      <th>5</th>\n",
       "      <td>946</td>\n",
       "      <td>0</td>\n",
       "      <td>0</td>\n",
       "      <td>0</td>\n",
       "      <td>0</td>\n",
       "      <td>0</td>\n",
       "      <td>0</td>\n",
       "    </tr>\n",
       "    <tr>\n",
       "      <th>6</th>\n",
       "      <td>0</td>\n",
       "      <td>9862</td>\n",
       "      <td>0</td>\n",
       "      <td>0</td>\n",
       "      <td>0</td>\n",
       "      <td>0</td>\n",
       "      <td>0</td>\n",
       "    </tr>\n",
       "    <tr>\n",
       "      <th>8</th>\n",
       "      <td>1317</td>\n",
       "      <td>0</td>\n",
       "      <td>0</td>\n",
       "      <td>0</td>\n",
       "      <td>0</td>\n",
       "      <td>0</td>\n",
       "      <td>0</td>\n",
       "    </tr>\n",
       "    <tr>\n",
       "      <th>9</th>\n",
       "      <td>988</td>\n",
       "      <td>0</td>\n",
       "      <td>0</td>\n",
       "      <td>0</td>\n",
       "      <td>0</td>\n",
       "      <td>0</td>\n",
       "      <td>0</td>\n",
       "    </tr>\n",
       "    <tr>\n",
       "      <th>10</th>\n",
       "      <td>284</td>\n",
       "      <td>0</td>\n",
       "      <td>0</td>\n",
       "      <td>0</td>\n",
       "      <td>0</td>\n",
       "      <td>0</td>\n",
       "      <td>0</td>\n",
       "    </tr>\n",
       "    <tr>\n",
       "      <th>11</th>\n",
       "      <td>199</td>\n",
       "      <td>0</td>\n",
       "      <td>0</td>\n",
       "      <td>0</td>\n",
       "      <td>0</td>\n",
       "      <td>0</td>\n",
       "      <td>0</td>\n",
       "    </tr>\n",
       "    <tr>\n",
       "      <th>12</th>\n",
       "      <td>0</td>\n",
       "      <td>0</td>\n",
       "      <td>4876</td>\n",
       "      <td>0</td>\n",
       "      <td>0</td>\n",
       "      <td>0</td>\n",
       "      <td>0</td>\n",
       "    </tr>\n",
       "    <tr>\n",
       "      <th>13</th>\n",
       "      <td>2915</td>\n",
       "      <td>0</td>\n",
       "      <td>0</td>\n",
       "      <td>0</td>\n",
       "      <td>0</td>\n",
       "      <td>0</td>\n",
       "      <td>0</td>\n",
       "    </tr>\n",
       "    <tr>\n",
       "      <th>15</th>\n",
       "      <td>416</td>\n",
       "      <td>0</td>\n",
       "      <td>0</td>\n",
       "      <td>0</td>\n",
       "      <td>0</td>\n",
       "      <td>0</td>\n",
       "      <td>0</td>\n",
       "    </tr>\n",
       "    <tr>\n",
       "      <th>16</th>\n",
       "      <td>571</td>\n",
       "      <td>0</td>\n",
       "      <td>0</td>\n",
       "      <td>0</td>\n",
       "      <td>0</td>\n",
       "      <td>0</td>\n",
       "      <td>0</td>\n",
       "    </tr>\n",
       "    <tr>\n",
       "      <th>17</th>\n",
       "      <td>0</td>\n",
       "      <td>0</td>\n",
       "      <td>0</td>\n",
       "      <td>3738</td>\n",
       "      <td>0</td>\n",
       "      <td>0</td>\n",
       "      <td>0</td>\n",
       "    </tr>\n",
       "    <tr>\n",
       "      <th>18</th>\n",
       "      <td>3448</td>\n",
       "      <td>0</td>\n",
       "      <td>0</td>\n",
       "      <td>0</td>\n",
       "      <td>0</td>\n",
       "      <td>0</td>\n",
       "      <td>0</td>\n",
       "    </tr>\n",
       "    <tr>\n",
       "      <th>19</th>\n",
       "      <td>1012</td>\n",
       "      <td>0</td>\n",
       "      <td>0</td>\n",
       "      <td>0</td>\n",
       "      <td>0</td>\n",
       "      <td>0</td>\n",
       "      <td>0</td>\n",
       "    </tr>\n",
       "    <tr>\n",
       "      <th>20</th>\n",
       "      <td>796</td>\n",
       "      <td>0</td>\n",
       "      <td>0</td>\n",
       "      <td>0</td>\n",
       "      <td>0</td>\n",
       "      <td>0</td>\n",
       "      <td>0</td>\n",
       "    </tr>\n",
       "    <tr>\n",
       "      <th>21</th>\n",
       "      <td>1119</td>\n",
       "      <td>0</td>\n",
       "      <td>0</td>\n",
       "      <td>0</td>\n",
       "      <td>0</td>\n",
       "      <td>0</td>\n",
       "      <td>0</td>\n",
       "    </tr>\n",
       "    <tr>\n",
       "      <th>22</th>\n",
       "      <td>1198</td>\n",
       "      <td>0</td>\n",
       "      <td>0</td>\n",
       "      <td>0</td>\n",
       "      <td>0</td>\n",
       "      <td>0</td>\n",
       "      <td>0</td>\n",
       "    </tr>\n",
       "    <tr>\n",
       "      <th>23</th>\n",
       "      <td>452</td>\n",
       "      <td>0</td>\n",
       "      <td>0</td>\n",
       "      <td>0</td>\n",
       "      <td>0</td>\n",
       "      <td>0</td>\n",
       "      <td>0</td>\n",
       "    </tr>\n",
       "    <tr>\n",
       "      <th>24</th>\n",
       "      <td>2420</td>\n",
       "      <td>0</td>\n",
       "      <td>0</td>\n",
       "      <td>0</td>\n",
       "      <td>0</td>\n",
       "      <td>0</td>\n",
       "      <td>0</td>\n",
       "    </tr>\n",
       "    <tr>\n",
       "      <th>25</th>\n",
       "      <td>2970</td>\n",
       "      <td>0</td>\n",
       "      <td>0</td>\n",
       "      <td>0</td>\n",
       "      <td>0</td>\n",
       "      <td>0</td>\n",
       "      <td>0</td>\n",
       "    </tr>\n",
       "    <tr>\n",
       "      <th>26</th>\n",
       "      <td>2681</td>\n",
       "      <td>0</td>\n",
       "      <td>0</td>\n",
       "      <td>0</td>\n",
       "      <td>0</td>\n",
       "      <td>0</td>\n",
       "      <td>0</td>\n",
       "    </tr>\n",
       "    <tr>\n",
       "      <th>27</th>\n",
       "      <td>1643</td>\n",
       "      <td>0</td>\n",
       "      <td>0</td>\n",
       "      <td>0</td>\n",
       "      <td>0</td>\n",
       "      <td>0</td>\n",
       "      <td>0</td>\n",
       "    </tr>\n",
       "    <tr>\n",
       "      <th>28</th>\n",
       "      <td>883</td>\n",
       "      <td>0</td>\n",
       "      <td>0</td>\n",
       "      <td>0</td>\n",
       "      <td>0</td>\n",
       "      <td>0</td>\n",
       "      <td>0</td>\n",
       "    </tr>\n",
       "    <tr>\n",
       "      <th>29</th>\n",
       "      <td>2764</td>\n",
       "      <td>0</td>\n",
       "      <td>0</td>\n",
       "      <td>0</td>\n",
       "      <td>0</td>\n",
       "      <td>0</td>\n",
       "      <td>0</td>\n",
       "    </tr>\n",
       "    <tr>\n",
       "      <th>30</th>\n",
       "      <td>296</td>\n",
       "      <td>0</td>\n",
       "      <td>0</td>\n",
       "      <td>0</td>\n",
       "      <td>0</td>\n",
       "      <td>0</td>\n",
       "      <td>0</td>\n",
       "    </tr>\n",
       "    <tr>\n",
       "      <th>31</th>\n",
       "      <td>634</td>\n",
       "      <td>0</td>\n",
       "      <td>0</td>\n",
       "      <td>0</td>\n",
       "      <td>0</td>\n",
       "      <td>0</td>\n",
       "      <td>0</td>\n",
       "    </tr>\n",
       "    <tr>\n",
       "      <th>32</th>\n",
       "      <td>678</td>\n",
       "      <td>0</td>\n",
       "      <td>0</td>\n",
       "      <td>0</td>\n",
       "      <td>0</td>\n",
       "      <td>0</td>\n",
       "      <td>0</td>\n",
       "    </tr>\n",
       "    <tr>\n",
       "      <th>33</th>\n",
       "      <td>432</td>\n",
       "      <td>0</td>\n",
       "      <td>0</td>\n",
       "      <td>0</td>\n",
       "      <td>0</td>\n",
       "      <td>0</td>\n",
       "      <td>0</td>\n",
       "    </tr>\n",
       "    <tr>\n",
       "      <th>34</th>\n",
       "      <td>0</td>\n",
       "      <td>0</td>\n",
       "      <td>0</td>\n",
       "      <td>0</td>\n",
       "      <td>3769</td>\n",
       "      <td>0</td>\n",
       "      <td>0</td>\n",
       "    </tr>\n",
       "    <tr>\n",
       "      <th>35</th>\n",
       "      <td>689</td>\n",
       "      <td>0</td>\n",
       "      <td>0</td>\n",
       "      <td>0</td>\n",
       "      <td>0</td>\n",
       "      <td>0</td>\n",
       "      <td>0</td>\n",
       "    </tr>\n",
       "    <tr>\n",
       "      <th>36</th>\n",
       "      <td>0</td>\n",
       "      <td>0</td>\n",
       "      <td>0</td>\n",
       "      <td>0</td>\n",
       "      <td>0</td>\n",
       "      <td>4988</td>\n",
       "      <td>0</td>\n",
       "    </tr>\n",
       "    <tr>\n",
       "      <th>37</th>\n",
       "      <td>2575</td>\n",
       "      <td>0</td>\n",
       "      <td>0</td>\n",
       "      <td>0</td>\n",
       "      <td>0</td>\n",
       "      <td>0</td>\n",
       "      <td>0</td>\n",
       "    </tr>\n",
       "    <tr>\n",
       "      <th>38</th>\n",
       "      <td>236</td>\n",
       "      <td>0</td>\n",
       "      <td>0</td>\n",
       "      <td>0</td>\n",
       "      <td>0</td>\n",
       "      <td>0</td>\n",
       "      <td>0</td>\n",
       "    </tr>\n",
       "    <tr>\n",
       "      <th>39</th>\n",
       "      <td>3524</td>\n",
       "      <td>0</td>\n",
       "      <td>0</td>\n",
       "      <td>0</td>\n",
       "      <td>0</td>\n",
       "      <td>0</td>\n",
       "      <td>0</td>\n",
       "    </tr>\n",
       "    <tr>\n",
       "      <th>40</th>\n",
       "      <td>1132</td>\n",
       "      <td>0</td>\n",
       "      <td>0</td>\n",
       "      <td>0</td>\n",
       "      <td>0</td>\n",
       "      <td>0</td>\n",
       "      <td>0</td>\n",
       "    </tr>\n",
       "    <tr>\n",
       "      <th>41</th>\n",
       "      <td>1133</td>\n",
       "      <td>0</td>\n",
       "      <td>0</td>\n",
       "      <td>0</td>\n",
       "      <td>0</td>\n",
       "      <td>0</td>\n",
       "      <td>0</td>\n",
       "    </tr>\n",
       "    <tr>\n",
       "      <th>42</th>\n",
       "      <td>3598</td>\n",
       "      <td>0</td>\n",
       "      <td>0</td>\n",
       "      <td>0</td>\n",
       "      <td>0</td>\n",
       "      <td>0</td>\n",
       "      <td>0</td>\n",
       "    </tr>\n",
       "    <tr>\n",
       "      <th>44</th>\n",
       "      <td>301</td>\n",
       "      <td>0</td>\n",
       "      <td>0</td>\n",
       "      <td>0</td>\n",
       "      <td>0</td>\n",
       "      <td>0</td>\n",
       "      <td>0</td>\n",
       "    </tr>\n",
       "    <tr>\n",
       "      <th>45</th>\n",
       "      <td>1308</td>\n",
       "      <td>0</td>\n",
       "      <td>0</td>\n",
       "      <td>0</td>\n",
       "      <td>0</td>\n",
       "      <td>0</td>\n",
       "      <td>0</td>\n",
       "    </tr>\n",
       "    <tr>\n",
       "      <th>46</th>\n",
       "      <td>225</td>\n",
       "      <td>0</td>\n",
       "      <td>0</td>\n",
       "      <td>0</td>\n",
       "      <td>0</td>\n",
       "      <td>0</td>\n",
       "      <td>0</td>\n",
       "    </tr>\n",
       "    <tr>\n",
       "      <th>47</th>\n",
       "      <td>2603</td>\n",
       "      <td>0</td>\n",
       "      <td>0</td>\n",
       "      <td>0</td>\n",
       "      <td>0</td>\n",
       "      <td>0</td>\n",
       "      <td>0</td>\n",
       "    </tr>\n",
       "    <tr>\n",
       "      <th>48</th>\n",
       "      <td>0</td>\n",
       "      <td>0</td>\n",
       "      <td>0</td>\n",
       "      <td>0</td>\n",
       "      <td>0</td>\n",
       "      <td>0</td>\n",
       "      <td>6128</td>\n",
       "    </tr>\n",
       "    <tr>\n",
       "      <th>49</th>\n",
       "      <td>803</td>\n",
       "      <td>0</td>\n",
       "      <td>0</td>\n",
       "      <td>0</td>\n",
       "      <td>0</td>\n",
       "      <td>0</td>\n",
       "      <td>0</td>\n",
       "    </tr>\n",
       "    <tr>\n",
       "      <th>50</th>\n",
       "      <td>200</td>\n",
       "      <td>0</td>\n",
       "      <td>0</td>\n",
       "      <td>0</td>\n",
       "      <td>0</td>\n",
       "      <td>0</td>\n",
       "      <td>0</td>\n",
       "    </tr>\n",
       "    <tr>\n",
       "      <th>51</th>\n",
       "      <td>4106</td>\n",
       "      <td>0</td>\n",
       "      <td>0</td>\n",
       "      <td>0</td>\n",
       "      <td>0</td>\n",
       "      <td>0</td>\n",
       "      <td>0</td>\n",
       "    </tr>\n",
       "    <tr>\n",
       "      <th>53</th>\n",
       "      <td>3545</td>\n",
       "      <td>0</td>\n",
       "      <td>0</td>\n",
       "      <td>0</td>\n",
       "      <td>0</td>\n",
       "      <td>0</td>\n",
       "      <td>0</td>\n",
       "    </tr>\n",
       "    <tr>\n",
       "      <th>54</th>\n",
       "      <td>606</td>\n",
       "      <td>0</td>\n",
       "      <td>0</td>\n",
       "      <td>0</td>\n",
       "      <td>0</td>\n",
       "      <td>0</td>\n",
       "      <td>0</td>\n",
       "    </tr>\n",
       "    <tr>\n",
       "      <th>55</th>\n",
       "      <td>3039</td>\n",
       "      <td>0</td>\n",
       "      <td>0</td>\n",
       "      <td>0</td>\n",
       "      <td>0</td>\n",
       "      <td>0</td>\n",
       "      <td>0</td>\n",
       "    </tr>\n",
       "    <tr>\n",
       "      <th>56</th>\n",
       "      <td>181</td>\n",
       "      <td>0</td>\n",
       "      <td>0</td>\n",
       "      <td>0</td>\n",
       "      <td>0</td>\n",
       "      <td>0</td>\n",
       "      <td>0</td>\n",
       "    </tr>\n",
       "  </tbody>\n",
       "</table>\n",
       "</div>"
      ],
      "text/plain": [
       "noncitizen_state  0.0   6.0   12.0  17.0  34.0  36.0  48.0\n",
       "tfipsst                                                   \n",
       "1                 1363     0     0     0     0     0     0\n",
       "2                  233     0     0     0     0     0     0\n",
       "4                 2681     0     0     0     0     0     0\n",
       "5                  946     0     0     0     0     0     0\n",
       "6                    0  9862     0     0     0     0     0\n",
       "8                 1317     0     0     0     0     0     0\n",
       "9                  988     0     0     0     0     0     0\n",
       "10                 284     0     0     0     0     0     0\n",
       "11                 199     0     0     0     0     0     0\n",
       "12                   0     0  4876     0     0     0     0\n",
       "13                2915     0     0     0     0     0     0\n",
       "15                 416     0     0     0     0     0     0\n",
       "16                 571     0     0     0     0     0     0\n",
       "17                   0     0     0  3738     0     0     0\n",
       "18                3448     0     0     0     0     0     0\n",
       "19                1012     0     0     0     0     0     0\n",
       "20                 796     0     0     0     0     0     0\n",
       "21                1119     0     0     0     0     0     0\n",
       "22                1198     0     0     0     0     0     0\n",
       "23                 452     0     0     0     0     0     0\n",
       "24                2420     0     0     0     0     0     0\n",
       "25                2970     0     0     0     0     0     0\n",
       "26                2681     0     0     0     0     0     0\n",
       "27                1643     0     0     0     0     0     0\n",
       "28                 883     0     0     0     0     0     0\n",
       "29                2764     0     0     0     0     0     0\n",
       "30                 296     0     0     0     0     0     0\n",
       "31                 634     0     0     0     0     0     0\n",
       "32                 678     0     0     0     0     0     0\n",
       "33                 432     0     0     0     0     0     0\n",
       "34                   0     0     0     0  3769     0     0\n",
       "35                 689     0     0     0     0     0     0\n",
       "36                   0     0     0     0     0  4988     0\n",
       "37                2575     0     0     0     0     0     0\n",
       "38                 236     0     0     0     0     0     0\n",
       "39                3524     0     0     0     0     0     0\n",
       "40                1132     0     0     0     0     0     0\n",
       "41                1133     0     0     0     0     0     0\n",
       "42                3598     0     0     0     0     0     0\n",
       "44                 301     0     0     0     0     0     0\n",
       "45                1308     0     0     0     0     0     0\n",
       "46                 225     0     0     0     0     0     0\n",
       "47                2603     0     0     0     0     0     0\n",
       "48                   0     0     0     0     0     0  6128\n",
       "49                 803     0     0     0     0     0     0\n",
       "50                 200     0     0     0     0     0     0\n",
       "51                4106     0     0     0     0     0     0\n",
       "53                3545     0     0     0     0     0     0\n",
       "54                 606     0     0     0     0     0     0\n",
       "55                3039     0     0     0     0     0     0\n",
       "56                 181     0     0     0     0     0     0"
      ]
     },
     "execution_count": 24,
     "metadata": {},
     "output_type": "execute_result"
    }
   ],
   "source": [
    "pd.crosstab(sipp2008w2_all['tfipsst'],sipp2008w2_all['noncitizen_state'])"
   ]
  },
  {
   "cell_type": "markdown",
   "metadata": {},
   "source": [
    "####  Household size"
   ]
  },
  {
   "cell_type": "code",
   "execution_count": 25,
   "metadata": {},
   "outputs": [],
   "source": [
    "# Counting Number of People in Household\n",
    "\n",
    "sipp2008w2_all['num_hh'] = sipp2008w2_all.groupby('hhid')['hhid'].transform(\"count\")"
   ]
  },
  {
   "cell_type": "markdown",
   "metadata": {},
   "source": [
    "#### Family Size"
   ]
  },
  {
   "cell_type": "code",
   "execution_count": 26,
   "metadata": {},
   "outputs": [],
   "source": [
    "# Counting number of people in family\n",
    "\n",
    "sipp2008w2_all['family_size'] = sipp2008w2_all.groupby(['hhid', 'family'])['family'].transform(\"count\")"
   ]
  },
  {
   "cell_type": "markdown",
   "metadata": {},
   "source": [
    "#### Is everyone in the household related?"
   ]
  },
  {
   "cell_type": "code",
   "execution_count": 27,
   "metadata": {},
   "outputs": [],
   "source": [
    "# Dummy measuring whether everyone in HH is related or not\n",
    "\n",
    "sipp2008w2_all['hh_related'] = np.where(sipp2008w2_all['num_hh'] == sipp2008w2_all['family_size'], 1, 0)"
   ]
  },
  {
   "cell_type": "markdown",
   "metadata": {},
   "source": [
    "#### Measuring Employment"
   ]
  },
  {
   "cell_type": "code",
   "execution_count": 28,
   "metadata": {},
   "outputs": [],
   "source": [
    "# Creating a column equaling 1 if person has a job, 0 if not\n",
    "\n",
    "sipp2008w2_all.loc[sipp2008w2_all['epdjbthn'] == 1, 'has_job'] = 1\n",
    "sipp2008w2_all.loc[sipp2008w2_all['epdjbthn'] == 2, 'has_job'] = 0\n",
    "sipp2008w2_all.loc[sipp2008w2_all['epdjbthn'] == -1, 'has_job'] = np.nan\n",
    "\n",
    "# Creating column with number of workers in HH\n",
    "\n",
    "sipp2008w2_all['hh_workers'] = sipp2008w2_all.groupby('hhid')['has_job'].transform('sum')\n",
    "\n",
    "# Replacing missing values on \"has_job\" with -1\n",
    "\n",
    "sipp2008w2_all.loc[sipp2008w2_all['epdjbthn'] == -1, 'has_job'] = -1"
   ]
  },
  {
   "cell_type": "code",
   "execution_count": 29,
   "metadata": {},
   "outputs": [],
   "source": [
    "# Creating a job variable with a helper function, has categories\n",
    "\n",
    "def job(x):\n",
    "    \n",
    "    # Has no job\n",
    "    if x['epdjbthn'] == 2:\n",
    "        return 0\n",
    "    \n",
    "    # Not in universe\n",
    "    elif x['epdjbthn'] == -1:\n",
    "        return -1\n",
    "    \n",
    "    # Works in all other industries\n",
    "    elif x['epdjbthn'] == 1:\n",
    "        return 4\n",
    "    \n",
    "    # Works in construction\n",
    "    elif x['ejbind1'] == 770 and x['epdjbthn'] == 1:\n",
    "        return 1\n",
    "    \n",
    "    # Works in wholesale\n",
    "    elif (x['ejbind1'] >= 4070 and x['ejbind1'] <= 4590) and x['epdjbthn'] == 1:\n",
    "        return 2\n",
    "    \n",
    "    # Works in professional services\n",
    "    elif (x['ejbind1'] >= 7270 and x['ejbind1'] <= 7490) and x['epdjbthn'] == 1:\n",
    "        return 3\n",
    "    \n",
    "sipp2008w2_all['job'] = sipp2008w2_all.apply(job, axis=1)"
   ]
  },
  {
   "cell_type": "code",
   "execution_count": 30,
   "metadata": {},
   "outputs": [],
   "source": [
    "job_labels = {0: 'Unemployed', 1: 'Construction', 2: 'Wholesale', 3: 'Professional services',\n",
    "              4: 'Other industries'}\n",
    "\n",
    "sipp2008w2_all['job_labels'] = sipp2008w2_all['job'].map(job_labels)"
   ]
  },
  {
   "cell_type": "markdown",
   "metadata": {},
   "source": [
    "#### Health Insurance Coverage"
   ]
  },
  {
   "cell_type": "code",
   "execution_count": 31,
   "metadata": {},
   "outputs": [],
   "source": [
    "# Creating an insurance summary variable\n",
    "\n",
    "# Uninsured\n",
    "sipp2008w2_all.loc[(sipp2008w2_all['ehiowner'] == 4), 'insurance'] = 1\n",
    "\n",
    "# 'Other'\n",
    "\n",
    "sipp2008w2_all.loc[(sipp2008w2_all['rprvhi'] == 4) |\n",
    "                   (sipp2008w2_all['rprvhi'] == 4), 'insurance'] = 2\n",
    "\n",
    "# Privately-purchased insurance\n",
    "sipp2008w2_all.loc[(sipp2008w2_all['rprvhi'] == 2) | \n",
    "                  (sipp2008w2_all['rprvhi2'] == 2), 'insurance'] = 3\n",
    "\n",
    "# Employer-sponsored insurance | Union insurance\n",
    "sipp2008w2_all.loc[(sipp2008w2_all['rprvhi'] == 1) |\n",
    "                   (sipp2008w2_all['rprvhi2'] ==1), 'insurance'] = 4\n",
    "\n",
    "# Military insurance (including veterans insurance)\n",
    "\n",
    "sipp2008w2_all.loc[(sipp2008w2_all['rprvhi'] == 3) | \n",
    "                   (sipp2008w2_all['rprvhi2'] == 3) |\n",
    "                   (sipp2008w2_all['rchampm'] ==  1), 'insurance'] = 5\n",
    "                    \n",
    "\n",
    "# Medicaid/CHIP/Medicare\n",
    "sipp2008w2_all.loc[(sipp2008w2_all['ecrmth'] == 1) | \n",
    "                   (sipp2008w2_all['ecdmth'] == 1) |\n",
    "                   ((sipp2008w2_all['emcocov'] >= 1) & \n",
    "                   (sipp2008w2_all['emcocov'] <= 3)), 'insurance'] = 6\n"
   ]
  },
  {
   "cell_type": "code",
   "execution_count": 32,
   "metadata": {},
   "outputs": [],
   "source": [
    "# Creating insurance labels column\n",
    "\n",
    "insurance_labels = {1: 'Uninsured', 2: 'Other', 3: 'Privately purchased insurance',\n",
    "                    4: 'Employer-sponsored/Union Insurance', 5: 'Military/Veterans insurance',\n",
    "                    6: 'Medicaid/CHIP/Medicare'}\n",
    "\n",
    "sipp2008w2_all['insurance_labels'] = sipp2008w2_all['insurance'].map(insurance_labels)"
   ]
  },
  {
   "cell_type": "code",
   "execution_count": 33,
   "metadata": {},
   "outputs": [
    {
     "data": {
      "text/html": [
       "<div>\n",
       "<style scoped>\n",
       "    .dataframe tbody tr th:only-of-type {\n",
       "        vertical-align: middle;\n",
       "    }\n",
       "\n",
       "    .dataframe tbody tr th {\n",
       "        vertical-align: top;\n",
       "    }\n",
       "\n",
       "    .dataframe thead th {\n",
       "        text-align: right;\n",
       "    }\n",
       "</style>\n",
       "<table border=\"1\" class=\"dataframe\">\n",
       "  <thead>\n",
       "    <tr style=\"text-align: right;\">\n",
       "      <th></th>\n",
       "      <th>insurance</th>\n",
       "      <th>insurance_labels</th>\n",
       "    </tr>\n",
       "  </thead>\n",
       "  <tbody>\n",
       "    <tr>\n",
       "      <th>0</th>\n",
       "      <td>3.0</td>\n",
       "      <td>Privately purchased insurance</td>\n",
       "    </tr>\n",
       "    <tr>\n",
       "      <th>1</th>\n",
       "      <td>3.0</td>\n",
       "      <td>Privately purchased insurance</td>\n",
       "    </tr>\n",
       "    <tr>\n",
       "      <th>2</th>\n",
       "      <td>3.0</td>\n",
       "      <td>Privately purchased insurance</td>\n",
       "    </tr>\n",
       "    <tr>\n",
       "      <th>3</th>\n",
       "      <td>4.0</td>\n",
       "      <td>Employer-sponsored/Union Insurance</td>\n",
       "    </tr>\n",
       "    <tr>\n",
       "      <th>4</th>\n",
       "      <td>4.0</td>\n",
       "      <td>Employer-sponsored/Union Insurance</td>\n",
       "    </tr>\n",
       "  </tbody>\n",
       "</table>\n",
       "</div>"
      ],
      "text/plain": [
       "   insurance                    insurance_labels\n",
       "0        3.0       Privately purchased insurance\n",
       "1        3.0       Privately purchased insurance\n",
       "2        3.0       Privately purchased insurance\n",
       "3        4.0  Employer-sponsored/Union Insurance\n",
       "4        4.0  Employer-sponsored/Union Insurance"
      ]
     },
     "execution_count": 33,
     "metadata": {},
     "output_type": "execute_result"
    }
   ],
   "source": [
    "sipp2008w2_all[['insurance', 'insurance_labels']].head()"
   ]
  },
  {
   "cell_type": "code",
   "execution_count": 34,
   "metadata": {},
   "outputs": [
    {
     "data": {
      "text/html": [
       "<div>\n",
       "<style scoped>\n",
       "    .dataframe tbody tr th:only-of-type {\n",
       "        vertical-align: middle;\n",
       "    }\n",
       "\n",
       "    .dataframe tbody tr th {\n",
       "        vertical-align: top;\n",
       "    }\n",
       "\n",
       "    .dataframe thead th {\n",
       "        text-align: right;\n",
       "    }\n",
       "</style>\n",
       "<table border=\"1\" class=\"dataframe\">\n",
       "  <thead>\n",
       "    <tr style=\"text-align: right;\">\n",
       "      <th>insurance</th>\n",
       "      <th>1.0</th>\n",
       "      <th>2.0</th>\n",
       "      <th>3.0</th>\n",
       "      <th>4.0</th>\n",
       "      <th>5.0</th>\n",
       "      <th>6.0</th>\n",
       "    </tr>\n",
       "    <tr>\n",
       "      <th>ehiowner</th>\n",
       "      <th></th>\n",
       "      <th></th>\n",
       "      <th></th>\n",
       "      <th></th>\n",
       "      <th></th>\n",
       "      <th></th>\n",
       "    </tr>\n",
       "  </thead>\n",
       "  <tbody>\n",
       "    <tr>\n",
       "      <th>1</th>\n",
       "      <td>0</td>\n",
       "      <td>332</td>\n",
       "      <td>2186</td>\n",
       "      <td>23346</td>\n",
       "      <td>866</td>\n",
       "      <td>7905</td>\n",
       "    </tr>\n",
       "    <tr>\n",
       "      <th>2</th>\n",
       "      <td>0</td>\n",
       "      <td>554</td>\n",
       "      <td>1525</td>\n",
       "      <td>24096</td>\n",
       "      <td>1161</td>\n",
       "      <td>3027</td>\n",
       "    </tr>\n",
       "    <tr>\n",
       "      <th>3</th>\n",
       "      <td>0</td>\n",
       "      <td>19</td>\n",
       "      <td>107</td>\n",
       "      <td>822</td>\n",
       "      <td>99</td>\n",
       "      <td>313</td>\n",
       "    </tr>\n",
       "    <tr>\n",
       "      <th>4</th>\n",
       "      <td>15665</td>\n",
       "      <td>0</td>\n",
       "      <td>0</td>\n",
       "      <td>0</td>\n",
       "      <td>0</td>\n",
       "      <td>16481</td>\n",
       "    </tr>\n",
       "  </tbody>\n",
       "</table>\n",
       "</div>"
      ],
      "text/plain": [
       "insurance    1.0  2.0   3.0    4.0   5.0    6.0\n",
       "ehiowner                                       \n",
       "1              0  332  2186  23346   866   7905\n",
       "2              0  554  1525  24096  1161   3027\n",
       "3              0   19   107    822    99    313\n",
       "4          15665    0     0      0     0  16481"
      ]
     },
     "execution_count": 34,
     "metadata": {},
     "output_type": "execute_result"
    }
   ],
   "source": [
    "# Checking if insurance column was created correctly.\n",
    "\n",
    "pd.crosstab(sipp2008w2_all['ehiowner'], sipp2008w2_all['insurance'])"
   ]
  },
  {
   "cell_type": "markdown",
   "metadata": {},
   "source": [
    "#### Gender"
   ]
  },
  {
   "cell_type": "code",
   "execution_count": 35,
   "metadata": {},
   "outputs": [],
   "source": [
    "# Creating gender\n",
    "\n",
    "sipp2008w2_all = pd.concat([sipp2008w2_all, pd.get_dummies(sipp2008w2_all['esex'], prefix = 'esex', drop_first = True)], axis=1)"
   ]
  },
  {
   "cell_type": "markdown",
   "metadata": {},
   "source": [
    "#### Latino or Hispanic Origin\n",
    "\n",
    "The 'eorigin' variable measures whether someone is of Latino or Hispanic origin. I am going to covert it to a dummy variable."
   ]
  },
  {
   "cell_type": "code",
   "execution_count": 36,
   "metadata": {},
   "outputs": [],
   "source": [
    "sipp2008w2_all = pd.concat([sipp2008w2_all, pd.get_dummies(sipp2008w2_all['eorigin'], prefix = 'eorigin')], axis=1)"
   ]
  },
  {
   "cell_type": "code",
   "execution_count": 37,
   "metadata": {},
   "outputs": [
    {
     "data": {
      "text/html": [
       "<div>\n",
       "<style scoped>\n",
       "    .dataframe tbody tr th:only-of-type {\n",
       "        vertical-align: middle;\n",
       "    }\n",
       "\n",
       "    .dataframe tbody tr th {\n",
       "        vertical-align: top;\n",
       "    }\n",
       "\n",
       "    .dataframe thead th {\n",
       "        text-align: right;\n",
       "    }\n",
       "</style>\n",
       "<table border=\"1\" class=\"dataframe\">\n",
       "  <thead>\n",
       "    <tr style=\"text-align: right;\">\n",
       "      <th></th>\n",
       "      <th>index</th>\n",
       "      <th>ssuid</th>\n",
       "      <th>shhadid</th>\n",
       "      <th>epppnum</th>\n",
       "      <th>rfid</th>\n",
       "      <th>rfid2</th>\n",
       "      <th>rsid</th>\n",
       "      <th>wpfinwgt</th>\n",
       "      <th>tage</th>\n",
       "      <th>ebornus</th>\n",
       "      <th>...</th>\n",
       "      <th>hh_related</th>\n",
       "      <th>has_job</th>\n",
       "      <th>hh_workers</th>\n",
       "      <th>job</th>\n",
       "      <th>job_labels</th>\n",
       "      <th>insurance</th>\n",
       "      <th>insurance_labels</th>\n",
       "      <th>esex_2</th>\n",
       "      <th>eorigin_1</th>\n",
       "      <th>eorigin_2</th>\n",
       "    </tr>\n",
       "  </thead>\n",
       "  <tbody>\n",
       "    <tr>\n",
       "      <th>0</th>\n",
       "      <td>3</td>\n",
       "      <td>019128000276</td>\n",
       "      <td>11</td>\n",
       "      <td>0101</td>\n",
       "      <td>4</td>\n",
       "      <td>4</td>\n",
       "      <td>-1</td>\n",
       "      <td>3973.9954</td>\n",
       "      <td>29</td>\n",
       "      <td>2</td>\n",
       "      <td>...</td>\n",
       "      <td>1</td>\n",
       "      <td>0.0</td>\n",
       "      <td>0.0</td>\n",
       "      <td>0</td>\n",
       "      <td>Unemployed</td>\n",
       "      <td>3.0</td>\n",
       "      <td>Privately purchased insurance</td>\n",
       "      <td>0</td>\n",
       "      <td>0</td>\n",
       "      <td>1</td>\n",
       "    </tr>\n",
       "    <tr>\n",
       "      <th>1</th>\n",
       "      <td>7</td>\n",
       "      <td>019128000276</td>\n",
       "      <td>11</td>\n",
       "      <td>0102</td>\n",
       "      <td>4</td>\n",
       "      <td>4</td>\n",
       "      <td>-1</td>\n",
       "      <td>3973.9954</td>\n",
       "      <td>32</td>\n",
       "      <td>2</td>\n",
       "      <td>...</td>\n",
       "      <td>1</td>\n",
       "      <td>0.0</td>\n",
       "      <td>0.0</td>\n",
       "      <td>0</td>\n",
       "      <td>Unemployed</td>\n",
       "      <td>3.0</td>\n",
       "      <td>Privately purchased insurance</td>\n",
       "      <td>1</td>\n",
       "      <td>0</td>\n",
       "      <td>1</td>\n",
       "    </tr>\n",
       "    <tr>\n",
       "      <th>2</th>\n",
       "      <td>11</td>\n",
       "      <td>019128000276</td>\n",
       "      <td>11</td>\n",
       "      <td>0103</td>\n",
       "      <td>4</td>\n",
       "      <td>4</td>\n",
       "      <td>-1</td>\n",
       "      <td>4638.2197</td>\n",
       "      <td>7</td>\n",
       "      <td>2</td>\n",
       "      <td>...</td>\n",
       "      <td>1</td>\n",
       "      <td>-1.0</td>\n",
       "      <td>0.0</td>\n",
       "      <td>-1</td>\n",
       "      <td>NaN</td>\n",
       "      <td>3.0</td>\n",
       "      <td>Privately purchased insurance</td>\n",
       "      <td>0</td>\n",
       "      <td>0</td>\n",
       "      <td>1</td>\n",
       "    </tr>\n",
       "    <tr>\n",
       "      <th>3</th>\n",
       "      <td>18</td>\n",
       "      <td>019128000334</td>\n",
       "      <td>11</td>\n",
       "      <td>0102</td>\n",
       "      <td>4</td>\n",
       "      <td>4</td>\n",
       "      <td>-1</td>\n",
       "      <td>4200.6714</td>\n",
       "      <td>23</td>\n",
       "      <td>1</td>\n",
       "      <td>...</td>\n",
       "      <td>1</td>\n",
       "      <td>1.0</td>\n",
       "      <td>1.0</td>\n",
       "      <td>4</td>\n",
       "      <td>Other industries</td>\n",
       "      <td>4.0</td>\n",
       "      <td>Employer-sponsored/Union Insurance</td>\n",
       "      <td>1</td>\n",
       "      <td>0</td>\n",
       "      <td>1</td>\n",
       "    </tr>\n",
       "    <tr>\n",
       "      <th>4</th>\n",
       "      <td>22</td>\n",
       "      <td>019128000932</td>\n",
       "      <td>11</td>\n",
       "      <td>0101</td>\n",
       "      <td>4</td>\n",
       "      <td>4</td>\n",
       "      <td>-1</td>\n",
       "      <td>3107.6404</td>\n",
       "      <td>51</td>\n",
       "      <td>2</td>\n",
       "      <td>...</td>\n",
       "      <td>1</td>\n",
       "      <td>1.0</td>\n",
       "      <td>3.0</td>\n",
       "      <td>4</td>\n",
       "      <td>Other industries</td>\n",
       "      <td>4.0</td>\n",
       "      <td>Employer-sponsored/Union Insurance</td>\n",
       "      <td>1</td>\n",
       "      <td>0</td>\n",
       "      <td>1</td>\n",
       "    </tr>\n",
       "  </tbody>\n",
       "</table>\n",
       "<p>5 rows × 76 columns</p>\n",
       "</div>"
      ],
      "text/plain": [
       "   index         ssuid shhadid epppnum  rfid  rfid2  rsid   wpfinwgt  tage  \\\n",
       "0      3  019128000276      11    0101     4      4    -1  3973.9954    29   \n",
       "1      7  019128000276      11    0102     4      4    -1  3973.9954    32   \n",
       "2     11  019128000276      11    0103     4      4    -1  4638.2197     7   \n",
       "3     18  019128000334      11    0102     4      4    -1  4200.6714    23   \n",
       "4     22  019128000932      11    0101     4      4    -1  3107.6404    51   \n",
       "\n",
       "   ebornus  ...  hh_related  has_job  hh_workers  job        job_labels  \\\n",
       "0        2  ...           1      0.0         0.0    0        Unemployed   \n",
       "1        2  ...           1      0.0         0.0    0        Unemployed   \n",
       "2        2  ...           1     -1.0         0.0   -1               NaN   \n",
       "3        1  ...           1      1.0         1.0    4  Other industries   \n",
       "4        2  ...           1      1.0         3.0    4  Other industries   \n",
       "\n",
       "   insurance                    insurance_labels  esex_2  eorigin_1  eorigin_2  \n",
       "0        3.0       Privately purchased insurance       0          0          1  \n",
       "1        3.0       Privately purchased insurance       1          0          1  \n",
       "2        3.0       Privately purchased insurance       0          0          1  \n",
       "3        4.0  Employer-sponsored/Union Insurance       1          0          1  \n",
       "4        4.0  Employer-sponsored/Union Insurance       1          0          1  \n",
       "\n",
       "[5 rows x 76 columns]"
      ]
     },
     "execution_count": 37,
     "metadata": {},
     "output_type": "execute_result"
    }
   ],
   "source": [
    "sipp2008w2_all.head()"
   ]
  },
  {
   "cell_type": "code",
   "execution_count": 38,
   "metadata": {},
   "outputs": [],
   "source": [
    "sipp2008w2_all.rename(columns = {'esex_2': 'female', 'eorigin_1': 'hispanic_latino', 'eorigin_2': 'nothisplatino'}, inplace = True)"
   ]
  },
  {
   "cell_type": "code",
   "execution_count": 39,
   "metadata": {},
   "outputs": [
    {
     "data": {
      "text/html": [
       "<div>\n",
       "<style scoped>\n",
       "    .dataframe tbody tr th:only-of-type {\n",
       "        vertical-align: middle;\n",
       "    }\n",
       "\n",
       "    .dataframe tbody tr th {\n",
       "        vertical-align: top;\n",
       "    }\n",
       "\n",
       "    .dataframe thead th {\n",
       "        text-align: right;\n",
       "    }\n",
       "</style>\n",
       "<table border=\"1\" class=\"dataframe\">\n",
       "  <thead>\n",
       "    <tr style=\"text-align: right;\">\n",
       "      <th></th>\n",
       "      <th>nothisplatino</th>\n",
       "      <th>hispanic_latino</th>\n",
       "      <th>eorigin</th>\n",
       "    </tr>\n",
       "  </thead>\n",
       "  <tbody>\n",
       "    <tr>\n",
       "      <th>count</th>\n",
       "      <td>98504.000000</td>\n",
       "      <td>98504.000000</td>\n",
       "      <td>98504.000000</td>\n",
       "    </tr>\n",
       "    <tr>\n",
       "      <th>mean</th>\n",
       "      <td>0.868564</td>\n",
       "      <td>0.131436</td>\n",
       "      <td>1.868564</td>\n",
       "    </tr>\n",
       "    <tr>\n",
       "      <th>std</th>\n",
       "      <td>0.337879</td>\n",
       "      <td>0.337879</td>\n",
       "      <td>0.337879</td>\n",
       "    </tr>\n",
       "    <tr>\n",
       "      <th>min</th>\n",
       "      <td>0.000000</td>\n",
       "      <td>0.000000</td>\n",
       "      <td>1.000000</td>\n",
       "    </tr>\n",
       "    <tr>\n",
       "      <th>25%</th>\n",
       "      <td>1.000000</td>\n",
       "      <td>0.000000</td>\n",
       "      <td>2.000000</td>\n",
       "    </tr>\n",
       "    <tr>\n",
       "      <th>50%</th>\n",
       "      <td>1.000000</td>\n",
       "      <td>0.000000</td>\n",
       "      <td>2.000000</td>\n",
       "    </tr>\n",
       "    <tr>\n",
       "      <th>75%</th>\n",
       "      <td>1.000000</td>\n",
       "      <td>0.000000</td>\n",
       "      <td>2.000000</td>\n",
       "    </tr>\n",
       "    <tr>\n",
       "      <th>max</th>\n",
       "      <td>1.000000</td>\n",
       "      <td>1.000000</td>\n",
       "      <td>2.000000</td>\n",
       "    </tr>\n",
       "  </tbody>\n",
       "</table>\n",
       "</div>"
      ],
      "text/plain": [
       "       nothisplatino  hispanic_latino       eorigin\n",
       "count   98504.000000     98504.000000  98504.000000\n",
       "mean        0.868564         0.131436      1.868564\n",
       "std         0.337879         0.337879      0.337879\n",
       "min         0.000000         0.000000      1.000000\n",
       "25%         1.000000         0.000000      2.000000\n",
       "50%         1.000000         0.000000      2.000000\n",
       "75%         1.000000         0.000000      2.000000\n",
       "max         1.000000         1.000000      2.000000"
      ]
     },
     "execution_count": 39,
     "metadata": {},
     "output_type": "execute_result"
    }
   ],
   "source": [
    "sipp2008w2_all[['nothisplatino', 'hispanic_latino', 'eorigin']].describe()"
   ]
  },
  {
   "cell_type": "markdown",
   "metadata": {},
   "source": [
    "#### Is there a citizen in the household?"
   ]
  },
  {
   "cell_type": "code",
   "execution_count": 40,
   "metadata": {},
   "outputs": [],
   "source": [
    "# Creating citizen dummy\n",
    "\n",
    "sipp2008w2_all.loc[sipp2008w2_all['ecitizen'] == 2, 'citizen'] = 0\n",
    "sipp2008w2_all.loc[sipp2008w2_all['ecitizen'] == 1, 'citizen'] = 1"
   ]
  },
  {
   "cell_type": "code",
   "execution_count": 41,
   "metadata": {},
   "outputs": [],
   "source": [
    "sipp2008w2_all['hhcitizen'] = sipp2008w2_all.groupby('hhid')['citizen'].transform('max')"
   ]
  },
  {
   "cell_type": "markdown",
   "metadata": {},
   "source": [
    "We should examine one of the dataset's larger households to see if we created the feature correctly."
   ]
  },
  {
   "cell_type": "code",
   "execution_count": 42,
   "metadata": {},
   "outputs": [
    {
     "data": {
      "text/plain": [
       "68592537070511    15\n",
       "36541839888011    15\n",
       "81192545148911    14\n",
       "06645498646611    13\n",
       "62486029229411    13\n",
       "                  ..\n",
       "31592558760211     1\n",
       "20368446767611     1\n",
       "51492518084911     1\n",
       "31592526660211     1\n",
       "40434412326711     1\n",
       "Name: hhid, Length: 38930, dtype: int64"
      ]
     },
     "execution_count": 42,
     "metadata": {},
     "output_type": "execute_result"
    }
   ],
   "source": [
    "sipp2008w2_all.hhid.value_counts()"
   ]
  },
  {
   "cell_type": "code",
   "execution_count": 43,
   "metadata": {},
   "outputs": [
    {
     "data": {
      "text/html": [
       "<div>\n",
       "<style scoped>\n",
       "    .dataframe tbody tr th:only-of-type {\n",
       "        vertical-align: middle;\n",
       "    }\n",
       "\n",
       "    .dataframe tbody tr th {\n",
       "        vertical-align: top;\n",
       "    }\n",
       "\n",
       "    .dataframe thead th {\n",
       "        text-align: right;\n",
       "    }\n",
       "</style>\n",
       "<table border=\"1\" class=\"dataframe\">\n",
       "  <thead>\n",
       "    <tr style=\"text-align: right;\">\n",
       "      <th></th>\n",
       "      <th>hhid</th>\n",
       "      <th>epppnum</th>\n",
       "      <th>pid</th>\n",
       "      <th>ecitizen</th>\n",
       "      <th>citizen</th>\n",
       "      <th>hhcitizen</th>\n",
       "    </tr>\n",
       "  </thead>\n",
       "  <tbody>\n",
       "    <tr>\n",
       "      <th>22617</th>\n",
       "      <td>36541839888011</td>\n",
       "      <td>0101</td>\n",
       "      <td>3654183988800101</td>\n",
       "      <td>1</td>\n",
       "      <td>1.0</td>\n",
       "      <td>1.0</td>\n",
       "    </tr>\n",
       "    <tr>\n",
       "      <th>22618</th>\n",
       "      <td>36541839888011</td>\n",
       "      <td>0102</td>\n",
       "      <td>3654183988800102</td>\n",
       "      <td>1</td>\n",
       "      <td>1.0</td>\n",
       "      <td>1.0</td>\n",
       "    </tr>\n",
       "    <tr>\n",
       "      <th>22619</th>\n",
       "      <td>36541839888011</td>\n",
       "      <td>0103</td>\n",
       "      <td>3654183988800103</td>\n",
       "      <td>1</td>\n",
       "      <td>1.0</td>\n",
       "      <td>1.0</td>\n",
       "    </tr>\n",
       "    <tr>\n",
       "      <th>22620</th>\n",
       "      <td>36541839888011</td>\n",
       "      <td>0104</td>\n",
       "      <td>3654183988800104</td>\n",
       "      <td>1</td>\n",
       "      <td>1.0</td>\n",
       "      <td>1.0</td>\n",
       "    </tr>\n",
       "    <tr>\n",
       "      <th>22621</th>\n",
       "      <td>36541839888011</td>\n",
       "      <td>0105</td>\n",
       "      <td>3654183988800105</td>\n",
       "      <td>1</td>\n",
       "      <td>1.0</td>\n",
       "      <td>1.0</td>\n",
       "    </tr>\n",
       "    <tr>\n",
       "      <th>22622</th>\n",
       "      <td>36541839888011</td>\n",
       "      <td>0106</td>\n",
       "      <td>3654183988800106</td>\n",
       "      <td>1</td>\n",
       "      <td>1.0</td>\n",
       "      <td>1.0</td>\n",
       "    </tr>\n",
       "    <tr>\n",
       "      <th>22623</th>\n",
       "      <td>36541839888011</td>\n",
       "      <td>0107</td>\n",
       "      <td>3654183988800107</td>\n",
       "      <td>1</td>\n",
       "      <td>1.0</td>\n",
       "      <td>1.0</td>\n",
       "    </tr>\n",
       "    <tr>\n",
       "      <th>22624</th>\n",
       "      <td>36541839888011</td>\n",
       "      <td>0108</td>\n",
       "      <td>3654183988800108</td>\n",
       "      <td>1</td>\n",
       "      <td>1.0</td>\n",
       "      <td>1.0</td>\n",
       "    </tr>\n",
       "    <tr>\n",
       "      <th>22625</th>\n",
       "      <td>36541839888011</td>\n",
       "      <td>0109</td>\n",
       "      <td>3654183988800109</td>\n",
       "      <td>1</td>\n",
       "      <td>1.0</td>\n",
       "      <td>1.0</td>\n",
       "    </tr>\n",
       "    <tr>\n",
       "      <th>22626</th>\n",
       "      <td>36541839888011</td>\n",
       "      <td>0110</td>\n",
       "      <td>3654183988800110</td>\n",
       "      <td>1</td>\n",
       "      <td>1.0</td>\n",
       "      <td>1.0</td>\n",
       "    </tr>\n",
       "    <tr>\n",
       "      <th>22627</th>\n",
       "      <td>36541839888011</td>\n",
       "      <td>0111</td>\n",
       "      <td>3654183988800111</td>\n",
       "      <td>1</td>\n",
       "      <td>1.0</td>\n",
       "      <td>1.0</td>\n",
       "    </tr>\n",
       "    <tr>\n",
       "      <th>22628</th>\n",
       "      <td>36541839888011</td>\n",
       "      <td>0112</td>\n",
       "      <td>3654183988800112</td>\n",
       "      <td>1</td>\n",
       "      <td>1.0</td>\n",
       "      <td>1.0</td>\n",
       "    </tr>\n",
       "    <tr>\n",
       "      <th>22629</th>\n",
       "      <td>36541839888011</td>\n",
       "      <td>0113</td>\n",
       "      <td>3654183988800113</td>\n",
       "      <td>1</td>\n",
       "      <td>1.0</td>\n",
       "      <td>1.0</td>\n",
       "    </tr>\n",
       "    <tr>\n",
       "      <th>22630</th>\n",
       "      <td>36541839888011</td>\n",
       "      <td>0114</td>\n",
       "      <td>3654183988800114</td>\n",
       "      <td>1</td>\n",
       "      <td>1.0</td>\n",
       "      <td>1.0</td>\n",
       "    </tr>\n",
       "    <tr>\n",
       "      <th>22631</th>\n",
       "      <td>36541839888011</td>\n",
       "      <td>0115</td>\n",
       "      <td>3654183988800115</td>\n",
       "      <td>1</td>\n",
       "      <td>1.0</td>\n",
       "      <td>1.0</td>\n",
       "    </tr>\n",
       "  </tbody>\n",
       "</table>\n",
       "</div>"
      ],
      "text/plain": [
       "                 hhid epppnum               pid  ecitizen  citizen  hhcitizen\n",
       "22617  36541839888011    0101  3654183988800101         1      1.0        1.0\n",
       "22618  36541839888011    0102  3654183988800102         1      1.0        1.0\n",
       "22619  36541839888011    0103  3654183988800103         1      1.0        1.0\n",
       "22620  36541839888011    0104  3654183988800104         1      1.0        1.0\n",
       "22621  36541839888011    0105  3654183988800105         1      1.0        1.0\n",
       "22622  36541839888011    0106  3654183988800106         1      1.0        1.0\n",
       "22623  36541839888011    0107  3654183988800107         1      1.0        1.0\n",
       "22624  36541839888011    0108  3654183988800108         1      1.0        1.0\n",
       "22625  36541839888011    0109  3654183988800109         1      1.0        1.0\n",
       "22626  36541839888011    0110  3654183988800110         1      1.0        1.0\n",
       "22627  36541839888011    0111  3654183988800111         1      1.0        1.0\n",
       "22628  36541839888011    0112  3654183988800112         1      1.0        1.0\n",
       "22629  36541839888011    0113  3654183988800113         1      1.0        1.0\n",
       "22630  36541839888011    0114  3654183988800114         1      1.0        1.0\n",
       "22631  36541839888011    0115  3654183988800115         1      1.0        1.0"
      ]
     },
     "execution_count": 43,
     "metadata": {},
     "output_type": "execute_result"
    }
   ],
   "source": [
    "sipp2008w2_all[sipp2008w2_all['hhid'] == '36541839888011'][['hhid', 'epppnum', 'pid', 'ecitizen', 'citizen', 'hhcitizen']].head(20)"
   ]
  },
  {
   "cell_type": "markdown",
   "metadata": {},
   "source": [
    "It looks like it worked correctly. "
   ]
  },
  {
   "cell_type": "markdown",
   "metadata": {},
   "source": [
    "#### Family Poverty Level\n",
    "\n",
    "In the SIPP, to calculate a family's poverty level, you divide the family's total income level ('tftotic') by the poverty threshold for their family size ('rfpov'). The income and poverty threshold variables are monthly values, rather than annual. The threshold variable has individuals with a zero for the poverty threshold because they are not in the universe of people for this feature (those who are younger than 15 years-old). So, they will have missing values for the poverty level feature."
   ]
  },
  {
   "cell_type": "code",
   "execution_count": 44,
   "metadata": {},
   "outputs": [],
   "source": [
    "# Total family income (tftotinc) divided by the poverty threshold (rfpov)\n",
    "\n",
    "sipp2008w2_all['poverty'] = sipp2008w2_all['tftotinc'] / sipp2008w2_all['rfpov']*100"
   ]
  },
  {
   "cell_type": "code",
   "execution_count": 45,
   "metadata": {},
   "outputs": [
    {
     "data": {
      "text/html": [
       "<div>\n",
       "<style scoped>\n",
       "    .dataframe tbody tr th:only-of-type {\n",
       "        vertical-align: middle;\n",
       "    }\n",
       "\n",
       "    .dataframe tbody tr th {\n",
       "        vertical-align: top;\n",
       "    }\n",
       "\n",
       "    .dataframe thead th {\n",
       "        text-align: right;\n",
       "    }\n",
       "</style>\n",
       "<table border=\"1\" class=\"dataframe\">\n",
       "  <thead>\n",
       "    <tr style=\"text-align: right;\">\n",
       "      <th></th>\n",
       "      <th>tftotinc</th>\n",
       "      <th>rfpov</th>\n",
       "      <th>poverty</th>\n",
       "      <th>pid</th>\n",
       "    </tr>\n",
       "  </thead>\n",
       "  <tbody>\n",
       "    <tr>\n",
       "      <th>0</th>\n",
       "      <td>381</td>\n",
       "      <td>1416</td>\n",
       "      <td>26.906780</td>\n",
       "      <td>191280002760101</td>\n",
       "    </tr>\n",
       "    <tr>\n",
       "      <th>1</th>\n",
       "      <td>381</td>\n",
       "      <td>1416</td>\n",
       "      <td>26.906780</td>\n",
       "      <td>191280002760102</td>\n",
       "    </tr>\n",
       "    <tr>\n",
       "      <th>2</th>\n",
       "      <td>381</td>\n",
       "      <td>1416</td>\n",
       "      <td>26.906780</td>\n",
       "      <td>191280002760103</td>\n",
       "    </tr>\n",
       "    <tr>\n",
       "      <th>3</th>\n",
       "      <td>6009</td>\n",
       "      <td>915</td>\n",
       "      <td>656.721311</td>\n",
       "      <td>191280003340102</td>\n",
       "    </tr>\n",
       "    <tr>\n",
       "      <th>4</th>\n",
       "      <td>8272</td>\n",
       "      <td>1784</td>\n",
       "      <td>463.677130</td>\n",
       "      <td>191280009320101</td>\n",
       "    </tr>\n",
       "  </tbody>\n",
       "</table>\n",
       "</div>"
      ],
      "text/plain": [
       "   tftotinc  rfpov     poverty              pid\n",
       "0       381   1416   26.906780  191280002760101\n",
       "1       381   1416   26.906780  191280002760102\n",
       "2       381   1416   26.906780  191280002760103\n",
       "3      6009    915  656.721311  191280003340102\n",
       "4      8272   1784  463.677130  191280009320101"
      ]
     },
     "execution_count": 45,
     "metadata": {},
     "output_type": "execute_result"
    }
   ],
   "source": [
    "sipp2008w2_all[['tftotinc', 'rfpov', 'poverty', 'pid']].head()"
   ]
  },
  {
   "cell_type": "markdown",
   "metadata": {},
   "source": [
    "### Capps et al Features\n",
    "- world region of birth \n",
    "- duration of US residence \n",
    "- English language proficiency\n",
    "- age\n",
    "- sex \n",
    "- household size\n",
    "- educational attainment\n",
    "- homeownership\n",
    "- marital status\n",
    "- parental status\n",
    "- insurance coverage\n",
    "- labor force status\n",
    "- income-to-poverty ratio\n",
    "- US state/region of residence"
   ]
  },
  {
   "cell_type": "code",
   "execution_count": 46,
   "metadata": {},
   "outputs": [],
   "source": [
    "# Creating a country or region of birth from 'tbrstate'\n",
    "\n",
    "def region_birth(x):\n",
    "    \n",
    "    # United States\n",
    "    if (x['tbrstate'] > -1 and x['tbrstate'] <=56):\n",
    "        return 1\n",
    "    \n",
    "    # North America\n",
    "    elif x['tbrstate'] == 562:\n",
    "        return 2\n",
    "    \n",
    "    # Northern Europe and Western Europe\n",
    "    elif x['tbrstate'] == 563:\n",
    "        return 3\n",
    "    \n",
    "    # Southern Europe and Eastern Europe\n",
    "    elif x['tbrstate'] == 564:\n",
    "        return 4\n",
    "    \n",
    "    # Eastern Asia\n",
    "    elif x['tbrstate'] == 565:\n",
    "        return 5\n",
    "    \n",
    "    # South Central Asia\n",
    "    elif x['tbrstate'] == 566:\n",
    "        return 6\n",
    "    \n",
    "    # Southeast Asia, West Asia, Australia, New Zealand\n",
    "    elif x['tbrstate'] == 567:\n",
    "        return 7\n",
    "    \n",
    "    # Africa\n",
    "    elif x['tbrstate'] == 568:\n",
    "        return 8\n",
    "    \n",
    "    # Caribbean\n",
    "    elif x['tbrstate'] == 569:\n",
    "        return 9\n",
    "    \n",
    "    # Central America\n",
    "    elif x['tbrstate'] == 570:\n",
    "        return 10\n",
    "    \n",
    "    # South America\n",
    "    elif x['tbrstate'] == 571:\n",
    "        return 11\n",
    "    \n",
    "    # Not in Universe\n",
    "    elif x['tbrstate'] == -1:\n",
    "        return -1\n",
    "    \n",
    "    # Elsewhere\n",
    "    else:\n",
    "        return 12\n",
    "    \n",
    "sipp2008w2_all['region_birth'] = sipp2008w2_all.apply(region_birth, axis=1)"
   ]
  },
  {
   "cell_type": "code",
   "execution_count": 47,
   "metadata": {},
   "outputs": [],
   "source": [
    "regionbirth_labels = {1: 'United States', 2: 'North America', 3: 'Northern and Western Europe', \n",
    "                       4: 'Southern and Eastern Europe', 5: 'Eastern Asia', 6: 'South Central Asia',\n",
    "                      7: 'Southeast and West Asia, Australia, New Zealand', 8: 'Africa', 9: 'Caribbean',\n",
    "                      10: 'Central America', 11: 'South America', 12: 'Everywhere Else'}\n",
    "\n",
    "sipp2008w2_all['regionbirth_labels'] = sipp2008w2_all['region_birth'].map(regionbirth_labels)"
   ]
  },
  {
   "cell_type": "code",
   "execution_count": 48,
   "metadata": {},
   "outputs": [
    {
     "data": {
      "text/html": [
       "<div>\n",
       "<style scoped>\n",
       "    .dataframe tbody tr th:only-of-type {\n",
       "        vertical-align: middle;\n",
       "    }\n",
       "\n",
       "    .dataframe tbody tr th {\n",
       "        vertical-align: top;\n",
       "    }\n",
       "\n",
       "    .dataframe thead th {\n",
       "        text-align: right;\n",
       "    }\n",
       "</style>\n",
       "<table border=\"1\" class=\"dataframe\">\n",
       "  <thead>\n",
       "    <tr style=\"text-align: right;\">\n",
       "      <th></th>\n",
       "      <th>index</th>\n",
       "      <th>ssuid</th>\n",
       "      <th>shhadid</th>\n",
       "      <th>epppnum</th>\n",
       "      <th>rfid</th>\n",
       "      <th>rfid2</th>\n",
       "      <th>rsid</th>\n",
       "      <th>wpfinwgt</th>\n",
       "      <th>tage</th>\n",
       "      <th>ebornus</th>\n",
       "      <th>...</th>\n",
       "      <th>insurance</th>\n",
       "      <th>insurance_labels</th>\n",
       "      <th>female</th>\n",
       "      <th>hispanic_latino</th>\n",
       "      <th>nothisplatino</th>\n",
       "      <th>citizen</th>\n",
       "      <th>hhcitizen</th>\n",
       "      <th>poverty</th>\n",
       "      <th>region_birth</th>\n",
       "      <th>regionbirth_labels</th>\n",
       "    </tr>\n",
       "  </thead>\n",
       "  <tbody>\n",
       "    <tr>\n",
       "      <th>0</th>\n",
       "      <td>3</td>\n",
       "      <td>019128000276</td>\n",
       "      <td>11</td>\n",
       "      <td>0101</td>\n",
       "      <td>4</td>\n",
       "      <td>4</td>\n",
       "      <td>-1</td>\n",
       "      <td>3973.9954</td>\n",
       "      <td>29</td>\n",
       "      <td>2</td>\n",
       "      <td>...</td>\n",
       "      <td>3.0</td>\n",
       "      <td>Privately purchased insurance</td>\n",
       "      <td>0</td>\n",
       "      <td>0</td>\n",
       "      <td>1</td>\n",
       "      <td>0.0</td>\n",
       "      <td>0.0</td>\n",
       "      <td>26.906780</td>\n",
       "      <td>7</td>\n",
       "      <td>Southeast and West Asia, Australia, New Zealand</td>\n",
       "    </tr>\n",
       "    <tr>\n",
       "      <th>1</th>\n",
       "      <td>7</td>\n",
       "      <td>019128000276</td>\n",
       "      <td>11</td>\n",
       "      <td>0102</td>\n",
       "      <td>4</td>\n",
       "      <td>4</td>\n",
       "      <td>-1</td>\n",
       "      <td>3973.9954</td>\n",
       "      <td>32</td>\n",
       "      <td>2</td>\n",
       "      <td>...</td>\n",
       "      <td>3.0</td>\n",
       "      <td>Privately purchased insurance</td>\n",
       "      <td>1</td>\n",
       "      <td>0</td>\n",
       "      <td>1</td>\n",
       "      <td>0.0</td>\n",
       "      <td>0.0</td>\n",
       "      <td>26.906780</td>\n",
       "      <td>7</td>\n",
       "      <td>Southeast and West Asia, Australia, New Zealand</td>\n",
       "    </tr>\n",
       "    <tr>\n",
       "      <th>2</th>\n",
       "      <td>11</td>\n",
       "      <td>019128000276</td>\n",
       "      <td>11</td>\n",
       "      <td>0103</td>\n",
       "      <td>4</td>\n",
       "      <td>4</td>\n",
       "      <td>-1</td>\n",
       "      <td>4638.2197</td>\n",
       "      <td>7</td>\n",
       "      <td>2</td>\n",
       "      <td>...</td>\n",
       "      <td>3.0</td>\n",
       "      <td>Privately purchased insurance</td>\n",
       "      <td>0</td>\n",
       "      <td>0</td>\n",
       "      <td>1</td>\n",
       "      <td>0.0</td>\n",
       "      <td>0.0</td>\n",
       "      <td>26.906780</td>\n",
       "      <td>-1</td>\n",
       "      <td>NaN</td>\n",
       "    </tr>\n",
       "    <tr>\n",
       "      <th>3</th>\n",
       "      <td>18</td>\n",
       "      <td>019128000334</td>\n",
       "      <td>11</td>\n",
       "      <td>0102</td>\n",
       "      <td>4</td>\n",
       "      <td>4</td>\n",
       "      <td>-1</td>\n",
       "      <td>4200.6714</td>\n",
       "      <td>23</td>\n",
       "      <td>1</td>\n",
       "      <td>...</td>\n",
       "      <td>4.0</td>\n",
       "      <td>Employer-sponsored/Union Insurance</td>\n",
       "      <td>1</td>\n",
       "      <td>0</td>\n",
       "      <td>1</td>\n",
       "      <td>1.0</td>\n",
       "      <td>1.0</td>\n",
       "      <td>656.721311</td>\n",
       "      <td>1</td>\n",
       "      <td>United States</td>\n",
       "    </tr>\n",
       "    <tr>\n",
       "      <th>4</th>\n",
       "      <td>22</td>\n",
       "      <td>019128000932</td>\n",
       "      <td>11</td>\n",
       "      <td>0101</td>\n",
       "      <td>4</td>\n",
       "      <td>4</td>\n",
       "      <td>-1</td>\n",
       "      <td>3107.6404</td>\n",
       "      <td>51</td>\n",
       "      <td>2</td>\n",
       "      <td>...</td>\n",
       "      <td>4.0</td>\n",
       "      <td>Employer-sponsored/Union Insurance</td>\n",
       "      <td>1</td>\n",
       "      <td>0</td>\n",
       "      <td>1</td>\n",
       "      <td>1.0</td>\n",
       "      <td>1.0</td>\n",
       "      <td>463.677130</td>\n",
       "      <td>8</td>\n",
       "      <td>Africa</td>\n",
       "    </tr>\n",
       "  </tbody>\n",
       "</table>\n",
       "<p>5 rows × 81 columns</p>\n",
       "</div>"
      ],
      "text/plain": [
       "   index         ssuid shhadid epppnum  rfid  rfid2  rsid   wpfinwgt  tage  \\\n",
       "0      3  019128000276      11    0101     4      4    -1  3973.9954    29   \n",
       "1      7  019128000276      11    0102     4      4    -1  3973.9954    32   \n",
       "2     11  019128000276      11    0103     4      4    -1  4638.2197     7   \n",
       "3     18  019128000334      11    0102     4      4    -1  4200.6714    23   \n",
       "4     22  019128000932      11    0101     4      4    -1  3107.6404    51   \n",
       "\n",
       "   ebornus  ...  insurance                    insurance_labels  female  \\\n",
       "0        2  ...        3.0       Privately purchased insurance       0   \n",
       "1        2  ...        3.0       Privately purchased insurance       1   \n",
       "2        2  ...        3.0       Privately purchased insurance       0   \n",
       "3        1  ...        4.0  Employer-sponsored/Union Insurance       1   \n",
       "4        2  ...        4.0  Employer-sponsored/Union Insurance       1   \n",
       "\n",
       "   hispanic_latino  nothisplatino  citizen  hhcitizen     poverty  \\\n",
       "0                0              1      0.0        0.0   26.906780   \n",
       "1                0              1      0.0        0.0   26.906780   \n",
       "2                0              1      0.0        0.0   26.906780   \n",
       "3                0              1      1.0        1.0  656.721311   \n",
       "4                0              1      1.0        1.0  463.677130   \n",
       "\n",
       "   region_birth                               regionbirth_labels  \n",
       "0             7  Southeast and West Asia, Australia, New Zealand  \n",
       "1             7  Southeast and West Asia, Australia, New Zealand  \n",
       "2            -1                                              NaN  \n",
       "3             1                                    United States  \n",
       "4             8                                           Africa  \n",
       "\n",
       "[5 rows x 81 columns]"
      ]
     },
     "execution_count": 48,
     "metadata": {},
     "output_type": "execute_result"
    }
   ],
   "source": [
    "sipp2008w2_all.head()"
   ]
  },
  {
   "cell_type": "code",
   "execution_count": 49,
   "metadata": {},
   "outputs": [],
   "source": [
    "# English proficiency. The feature is conceptually ordinal, but it's coded backwards in its original form.\n",
    "# Let's create a new version that's in a logical order.\n",
    "\n",
    "\n",
    "def english(x):\n",
    "    \n",
    "    # Not at all\n",
    "    if x['ehowwell'] == 4:\n",
    "        return 0\n",
    "    \n",
    "    # Not well\n",
    "    elif x['ehowwell'] == 3:\n",
    "        return 1\n",
    "    \n",
    "    # Well\n",
    "    elif x['ehowwell'] == 2:\n",
    "        return 2\n",
    "    \n",
    "    # Very well\n",
    "    elif (x['ehowwell'] ==1):\n",
    "        return 3\n",
    "    \n",
    "    else:\n",
    "        return -1\n",
    "\n",
    "sipp2008w2_all['english'] = sipp2008w2_all.apply(english, axis=1)\n",
    "\n",
    "english_labels = {-1: \"Not in Universe\", 0: 'Not at all', 1: 'Not well', 2: 'Well', 3: 'Very well'}\n",
    "\n",
    "sipp2008w2_all['english_labels'] = sipp2008w2_all['english'].map(english_labels)"
   ]
  },
  {
   "cell_type": "code",
   "execution_count": 50,
   "metadata": {},
   "outputs": [
    {
     "data": {
      "text/html": [
       "<div>\n",
       "<style scoped>\n",
       "    .dataframe tbody tr th:only-of-type {\n",
       "        vertical-align: middle;\n",
       "    }\n",
       "\n",
       "    .dataframe tbody tr th {\n",
       "        vertical-align: top;\n",
       "    }\n",
       "\n",
       "    .dataframe thead th {\n",
       "        text-align: right;\n",
       "    }\n",
       "</style>\n",
       "<table border=\"1\" class=\"dataframe\">\n",
       "  <thead>\n",
       "    <tr style=\"text-align: right;\">\n",
       "      <th></th>\n",
       "      <th>espeak</th>\n",
       "      <th>ehowwell</th>\n",
       "      <th>english</th>\n",
       "      <th>english_labels</th>\n",
       "    </tr>\n",
       "  </thead>\n",
       "  <tbody>\n",
       "    <tr>\n",
       "      <th>0</th>\n",
       "      <td>2</td>\n",
       "      <td>-1</td>\n",
       "      <td>-1</td>\n",
       "      <td>Not in Universe</td>\n",
       "    </tr>\n",
       "    <tr>\n",
       "      <th>1</th>\n",
       "      <td>2</td>\n",
       "      <td>-1</td>\n",
       "      <td>-1</td>\n",
       "      <td>Not in Universe</td>\n",
       "    </tr>\n",
       "    <tr>\n",
       "      <th>2</th>\n",
       "      <td>2</td>\n",
       "      <td>-1</td>\n",
       "      <td>-1</td>\n",
       "      <td>Not in Universe</td>\n",
       "    </tr>\n",
       "    <tr>\n",
       "      <th>3</th>\n",
       "      <td>2</td>\n",
       "      <td>-1</td>\n",
       "      <td>-1</td>\n",
       "      <td>Not in Universe</td>\n",
       "    </tr>\n",
       "    <tr>\n",
       "      <th>4</th>\n",
       "      <td>1</td>\n",
       "      <td>1</td>\n",
       "      <td>3</td>\n",
       "      <td>Very well</td>\n",
       "    </tr>\n",
       "    <tr>\n",
       "      <th>5</th>\n",
       "      <td>1</td>\n",
       "      <td>1</td>\n",
       "      <td>3</td>\n",
       "      <td>Very well</td>\n",
       "    </tr>\n",
       "    <tr>\n",
       "      <th>6</th>\n",
       "      <td>1</td>\n",
       "      <td>1</td>\n",
       "      <td>3</td>\n",
       "      <td>Very well</td>\n",
       "    </tr>\n",
       "    <tr>\n",
       "      <th>7</th>\n",
       "      <td>1</td>\n",
       "      <td>1</td>\n",
       "      <td>3</td>\n",
       "      <td>Very well</td>\n",
       "    </tr>\n",
       "    <tr>\n",
       "      <th>8</th>\n",
       "      <td>2</td>\n",
       "      <td>-1</td>\n",
       "      <td>-1</td>\n",
       "      <td>Not in Universe</td>\n",
       "    </tr>\n",
       "    <tr>\n",
       "      <th>9</th>\n",
       "      <td>2</td>\n",
       "      <td>-1</td>\n",
       "      <td>-1</td>\n",
       "      <td>Not in Universe</td>\n",
       "    </tr>\n",
       "    <tr>\n",
       "      <th>10</th>\n",
       "      <td>2</td>\n",
       "      <td>-1</td>\n",
       "      <td>-1</td>\n",
       "      <td>Not in Universe</td>\n",
       "    </tr>\n",
       "    <tr>\n",
       "      <th>11</th>\n",
       "      <td>2</td>\n",
       "      <td>-1</td>\n",
       "      <td>-1</td>\n",
       "      <td>Not in Universe</td>\n",
       "    </tr>\n",
       "    <tr>\n",
       "      <th>12</th>\n",
       "      <td>2</td>\n",
       "      <td>-1</td>\n",
       "      <td>-1</td>\n",
       "      <td>Not in Universe</td>\n",
       "    </tr>\n",
       "    <tr>\n",
       "      <th>13</th>\n",
       "      <td>1</td>\n",
       "      <td>1</td>\n",
       "      <td>3</td>\n",
       "      <td>Very well</td>\n",
       "    </tr>\n",
       "    <tr>\n",
       "      <th>14</th>\n",
       "      <td>2</td>\n",
       "      <td>-1</td>\n",
       "      <td>-1</td>\n",
       "      <td>Not in Universe</td>\n",
       "    </tr>\n",
       "    <tr>\n",
       "      <th>15</th>\n",
       "      <td>2</td>\n",
       "      <td>-1</td>\n",
       "      <td>-1</td>\n",
       "      <td>Not in Universe</td>\n",
       "    </tr>\n",
       "    <tr>\n",
       "      <th>16</th>\n",
       "      <td>2</td>\n",
       "      <td>-1</td>\n",
       "      <td>-1</td>\n",
       "      <td>Not in Universe</td>\n",
       "    </tr>\n",
       "    <tr>\n",
       "      <th>17</th>\n",
       "      <td>2</td>\n",
       "      <td>-1</td>\n",
       "      <td>-1</td>\n",
       "      <td>Not in Universe</td>\n",
       "    </tr>\n",
       "    <tr>\n",
       "      <th>18</th>\n",
       "      <td>2</td>\n",
       "      <td>-1</td>\n",
       "      <td>-1</td>\n",
       "      <td>Not in Universe</td>\n",
       "    </tr>\n",
       "    <tr>\n",
       "      <th>19</th>\n",
       "      <td>2</td>\n",
       "      <td>-1</td>\n",
       "      <td>-1</td>\n",
       "      <td>Not in Universe</td>\n",
       "    </tr>\n",
       "  </tbody>\n",
       "</table>\n",
       "</div>"
      ],
      "text/plain": [
       "    espeak  ehowwell  english   english_labels\n",
       "0        2        -1       -1  Not in Universe\n",
       "1        2        -1       -1  Not in Universe\n",
       "2        2        -1       -1  Not in Universe\n",
       "3        2        -1       -1  Not in Universe\n",
       "4        1         1        3        Very well\n",
       "5        1         1        3        Very well\n",
       "6        1         1        3        Very well\n",
       "7        1         1        3        Very well\n",
       "8        2        -1       -1  Not in Universe\n",
       "9        2        -1       -1  Not in Universe\n",
       "10       2        -1       -1  Not in Universe\n",
       "11       2        -1       -1  Not in Universe\n",
       "12       2        -1       -1  Not in Universe\n",
       "13       1         1        3        Very well\n",
       "14       2        -1       -1  Not in Universe\n",
       "15       2        -1       -1  Not in Universe\n",
       "16       2        -1       -1  Not in Universe\n",
       "17       2        -1       -1  Not in Universe\n",
       "18       2        -1       -1  Not in Universe\n",
       "19       2        -1       -1  Not in Universe"
      ]
     },
     "execution_count": 50,
     "metadata": {},
     "output_type": "execute_result"
    }
   ],
   "source": [
    "# Checking to see if the labels column matches up with the english proficiency column.\n",
    "\n",
    "sipp2008w2_all[['espeak','ehowwell','english', 'english_labels']].head(20)"
   ]
  },
  {
   "cell_type": "markdown",
   "metadata": {},
   "source": [
    "#### Education"
   ]
  },
  {
   "cell_type": "markdown",
   "metadata": {},
   "source": [
    "ACS\n",
    "\n",
    "00: N/A or no schooliing\n",
    "1: Nursery school\n",
    "2: Grade 5, 6, 7, 8\n",
    "3: Grade 9\n",
    "4: Grade 10\n",
    "5: Grade 11\n",
    "6: Grade 12\n",
    "7: 1 year college\n",
    "8: 2 years college\n",
    "9: 3 years college\n",
    "10: 4 years college\n",
    "11: 5+ years of college"
   ]
  },
  {
   "cell_type": "code",
   "execution_count": 51,
   "metadata": {},
   "outputs": [],
   "source": [
    "# Creating an education variable from 'eeducate', which needs to be recoded.\n",
    "\n",
    "def educ(x):\n",
    "    \n",
    "    # Less than 1st Grade\n",
    "    if x['eeducate'] == 31:\n",
    "        return 0\n",
    "    \n",
    "    # 1st, 2nd, 3rd, or 4th grade\n",
    "    elif x['eeducate'] == 32:\n",
    "        return 1\n",
    "    \n",
    "    # 5th - 6th grade\n",
    "    elif x['eeducate'] == 33:\n",
    "        return 2\n",
    "    \n",
    "    # 7th or 8th grade\n",
    "    elif x['eeducate'] == 34:\n",
    "        return 3\n",
    "    \n",
    "    # 9th grade\n",
    "    elif x['eeducate'] == 35:\n",
    "        return 4\n",
    "    \n",
    "    # 10th grade\n",
    "    elif x['eeducate'] == 36:\n",
    "        return 5\n",
    "    \n",
    "    # 11th grade\n",
    "    elif x['eeducate'] == 37:\n",
    "        return 6\n",
    "    \n",
    "    # 12th grade, no diploma\n",
    "    elif x['eeducate'] == 38:\n",
    "        return 7\n",
    "    \n",
    "    # High school graduate\n",
    "    elif x['eeducate'] == 39:\n",
    "        return 8\n",
    "    \n",
    "    # Some college, but no degree\n",
    "    elif x['eeducate'] == 40:\n",
    "        return 9\n",
    "    \n",
    "    # Diploma or certificate from a vocational, technical, trade, \n",
    "    # or business school beyond high school\n",
    "    # Associate college degreee\n",
    "    elif x['eeducate'] == 41:\n",
    "        return 10\n",
    "    \n",
    "    # Associate college degree\n",
    "    elif x['eeducate'] == 43:\n",
    "        return 10\n",
    "    \n",
    "    # Bachelor's degree\n",
    "    elif x['eeducate'] == 44:\n",
    "        return 11\n",
    "    \n",
    "    # Master's degree\n",
    "    elif x['eeducate'] == 45:\n",
    "        return 12\n",
    "    \n",
    "    # Doctorate Degree\n",
    "    elif (x['eeducate'] == 46) or (x['eeducate'] == 47): \n",
    "        return 13\n",
    "    \n",
    "    else:\n",
    "        return -1\n",
    "    \n",
    "sipp2008w2_all['educ'] = sipp2008w2_all.apply(educ, axis = 1)"
   ]
  },
  {
   "cell_type": "code",
   "execution_count": 52,
   "metadata": {},
   "outputs": [
    {
     "data": {
      "text/html": [
       "<div>\n",
       "<style scoped>\n",
       "    .dataframe tbody tr th:only-of-type {\n",
       "        vertical-align: middle;\n",
       "    }\n",
       "\n",
       "    .dataframe tbody tr th {\n",
       "        vertical-align: top;\n",
       "    }\n",
       "\n",
       "    .dataframe thead th {\n",
       "        text-align: right;\n",
       "    }\n",
       "</style>\n",
       "<table border=\"1\" class=\"dataframe\">\n",
       "  <thead>\n",
       "    <tr style=\"text-align: right;\">\n",
       "      <th>col_0</th>\n",
       "      <th>counts</th>\n",
       "    </tr>\n",
       "    <tr>\n",
       "      <th>educ</th>\n",
       "      <th></th>\n",
       "    </tr>\n",
       "  </thead>\n",
       "  <tbody>\n",
       "    <tr>\n",
       "      <th>-1</th>\n",
       "      <td>20757</td>\n",
       "    </tr>\n",
       "    <tr>\n",
       "      <th>0</th>\n",
       "      <td>283</td>\n",
       "    </tr>\n",
       "    <tr>\n",
       "      <th>1</th>\n",
       "      <td>623</td>\n",
       "    </tr>\n",
       "    <tr>\n",
       "      <th>2</th>\n",
       "      <td>1253</td>\n",
       "    </tr>\n",
       "    <tr>\n",
       "      <th>3</th>\n",
       "      <td>2430</td>\n",
       "    </tr>\n",
       "    <tr>\n",
       "      <th>4</th>\n",
       "      <td>2518</td>\n",
       "    </tr>\n",
       "    <tr>\n",
       "      <th>5</th>\n",
       "      <td>2836</td>\n",
       "    </tr>\n",
       "    <tr>\n",
       "      <th>6</th>\n",
       "      <td>3009</td>\n",
       "    </tr>\n",
       "    <tr>\n",
       "      <th>7</th>\n",
       "      <td>1487</td>\n",
       "    </tr>\n",
       "    <tr>\n",
       "      <th>8</th>\n",
       "      <td>19223</td>\n",
       "    </tr>\n",
       "    <tr>\n",
       "      <th>9</th>\n",
       "      <td>11063</td>\n",
       "    </tr>\n",
       "    <tr>\n",
       "      <th>10</th>\n",
       "      <td>14099</td>\n",
       "    </tr>\n",
       "    <tr>\n",
       "      <th>11</th>\n",
       "      <td>12242</td>\n",
       "    </tr>\n",
       "    <tr>\n",
       "      <th>12</th>\n",
       "      <td>4846</td>\n",
       "    </tr>\n",
       "    <tr>\n",
       "      <th>13</th>\n",
       "      <td>1835</td>\n",
       "    </tr>\n",
       "  </tbody>\n",
       "</table>\n",
       "</div>"
      ],
      "text/plain": [
       "col_0  counts\n",
       "educ         \n",
       "-1      20757\n",
       " 0        283\n",
       " 1        623\n",
       " 2       1253\n",
       " 3       2430\n",
       " 4       2518\n",
       " 5       2836\n",
       " 6       3009\n",
       " 7       1487\n",
       " 8      19223\n",
       " 9      11063\n",
       " 10     14099\n",
       " 11     12242\n",
       " 12      4846\n",
       " 13      1835"
      ]
     },
     "execution_count": 52,
     "metadata": {},
     "output_type": "execute_result"
    }
   ],
   "source": [
    "pd.crosstab(sipp2008w2_all['educ'], columns = \"counts\")"
   ]
  },
  {
   "cell_type": "markdown",
   "metadata": {},
   "source": [
    "#### Years of U.S. Residence"
   ]
  },
  {
   "cell_type": "code",
   "execution_count": 53,
   "metadata": {},
   "outputs": [],
   "source": [
    "# First let's recode tmoveus to the year they enter and then subtract that from the year\n",
    "# of the survey.\n",
    "# The SIPP encodes this as a categorical variable and half of the values measure ranges \n",
    "# of years. For example, 1 = Before 1961 and 2 equals 1961-1968. For ranges that are longer\n",
    "# than two years, I will assign the midpoint. For two-year ranges, I will assign the most\n",
    "# recent year. For the first values (before 1961), I will assign 1960. \n",
    "\n",
    "\n",
    "def move_us(x):\n",
    "    # Before 1961 (let's just make this 1960)\n",
    "    if x['tmoveus'] == 1:\n",
    "        return 1960\n",
    "    \n",
    "    # 1961-1968\n",
    "    elif x['tmoveus'] == 2:\n",
    "        return 1965\n",
    "    \n",
    "    # 1969-1973\n",
    "    elif x['tmoveus'] == 3:\n",
    "        return 1971\n",
    "    \n",
    "    # 1974-1978\n",
    "    elif x['tmoveus'] == 4:\n",
    "        return 1976\n",
    "    \n",
    "    # 1979-1980\n",
    "    elif x['tmoveus'] == 5:\n",
    "        return 1980\n",
    "    \n",
    "    # 1981-1983\n",
    "    elif x['tmoveus'] == 6:\n",
    "        return 1982\n",
    "    \n",
    "    # 1984-1985\n",
    "    elif x['tmoveus'] == 7:\n",
    "        return 1985\n",
    "    \n",
    "    # 1986-1988\n",
    "    elif x['tmoveus'] == 8:\n",
    "        return 1987\n",
    "    \n",
    "    # 1989-1990\n",
    "    elif x['tmoveus'] == 9:\n",
    "        return 1990\n",
    "    \n",
    "    # 1991-1992\n",
    "    elif x['tmoveus'] == 10:\n",
    "        return 1992\n",
    "    \n",
    "    # 1993-1994\n",
    "    elif x['tmoveus'] == 11:\n",
    "        return 1994\n",
    "    \n",
    "    # 1995-1996\n",
    "    elif x['tmoveus'] == 12:\n",
    "        return 1996\n",
    "    \n",
    "    # 1997-1998\n",
    "    elif x['tmoveus'] == 13:\n",
    "        return 1998\n",
    "    \n",
    "    # 1999\n",
    "    elif x['tmoveus'] == 14:\n",
    "        return 1999\n",
    "    \n",
    "    # 2000\n",
    "    elif x['tmoveus'] == 15:\n",
    "        return 2000\n",
    "    \n",
    "    # 2001 \n",
    "    elif x['tmoveus'] == 16:\n",
    "        return 2001\n",
    "    \n",
    "    # 2002-2003\n",
    "    elif x['tmoveus'] == 17:\n",
    "        return 2003\n",
    "    \n",
    "    # 2004\n",
    "    elif x['tmoveus'] == 18:\n",
    "        return 2004\n",
    "    \n",
    "    # 2005\n",
    "    elif x['tmoveus'] == 19:\n",
    "        return 2005\n",
    "    \n",
    "    # 2006\n",
    "    elif x['tmoveus'] == 20:\n",
    "        return 2006\n",
    "    \n",
    "    # 2007\n",
    "    elif x['tmoveus'] == 21:\n",
    "        return 2007\n",
    "    \n",
    "    # 2008 - 2009, but survey is conducted in 2008\n",
    "    elif x['tmoveus'] == 22:\n",
    "        return 2008\n",
    "    \n",
    "    else:\n",
    "        return -1\n",
    "\n",
    "sipp2008w2_all['move_us'] = sipp2008w2_all.apply(move_us, axis = 1)"
   ]
  },
  {
   "cell_type": "code",
   "execution_count": 54,
   "metadata": {},
   "outputs": [],
   "source": [
    "# Wave 2 was conducted between January and April 2009\n",
    "\n",
    "sipp2008w2_all['years_us'] = 2009 - sipp2008w2_all['move_us']\n",
    "sipp2008w2_all.loc[sipp2008w2_all['tmoveus'] == -1, 'years_us'] = -1"
   ]
  },
  {
   "cell_type": "code",
   "execution_count": 55,
   "metadata": {},
   "outputs": [],
   "source": [
    "# Creating a \"tmoveus\" column with labels\n",
    "sipp2008w2_all.loc[sipp2008w2_all['tmoveus'] == -1, \"tmoveus_labels\"] = \"Not in Universe\"\n",
    "sipp2008w2_all.loc[sipp2008w2_all['tmoveus'] == 1, \"tmoveus_labels\"] = \"Before 1961\"\n",
    "sipp2008w2_all.loc[sipp2008w2_all['tmoveus'] == 2, \"tmoveus_labels\"] = \"1961-1968\"\n",
    "sipp2008w2_all.loc[sipp2008w2_all['tmoveus'] == 3, \"tmoveus_labels\"] = \"1969-1973\"\n",
    "sipp2008w2_all.loc[sipp2008w2_all['tmoveus'] == 4, \"tmoveus_labels\"] = \"1974-1978\"\n",
    "sipp2008w2_all.loc[sipp2008w2_all['tmoveus'] == 5, \"tmoveus_labels\"] = \"1979-1980\"\n",
    "sipp2008w2_all.loc[sipp2008w2_all['tmoveus'] == 6, \"tmoveus_labels\"] = \"1981-1983\"\n",
    "sipp2008w2_all.loc[sipp2008w2_all['tmoveus'] == 7, \"tmoveus_labels\"] = \"1984-1985\"\n",
    "sipp2008w2_all.loc[sipp2008w2_all['tmoveus'] == 8, \"tmoveus_labels\"] = \"1986-1988\"\n",
    "sipp2008w2_all.loc[sipp2008w2_all['tmoveus'] == 9, \"tmoveus_labels\"] = \"1989-1990\"\n",
    "sipp2008w2_all.loc[sipp2008w2_all['tmoveus'] == 10, \"tmoveus_labels\"] = \"1991-1992\"\n",
    "sipp2008w2_all.loc[sipp2008w2_all['tmoveus'] == 11, \"tmoveus_labels\"] = \"1993-1994\"\n",
    "sipp2008w2_all.loc[sipp2008w2_all['tmoveus'] == 12, \"tmoveus_labels\"] = \"1995-1996\"\n",
    "sipp2008w2_all.loc[sipp2008w2_all['tmoveus'] == 13, \"tmoveus_labels\"] = \"1997-1998\"\n",
    "sipp2008w2_all.loc[sipp2008w2_all['tmoveus'] == 14, \"tmoveus_labels\"] = \"1999\"\n",
    "sipp2008w2_all.loc[sipp2008w2_all['tmoveus'] == 15, \"tmoveus_labels\"] = \"2000\"\n",
    "sipp2008w2_all.loc[sipp2008w2_all['tmoveus'] == 16, \"tmoveus_labels\"] = \"2001\"\n",
    "sipp2008w2_all.loc[sipp2008w2_all['tmoveus'] == 17, \"tmoveus_labels\"] = \"2002-2003\"\n",
    "sipp2008w2_all.loc[sipp2008w2_all['tmoveus'] == 18, \"tmoveus_labels\"] = \"2004\"\n",
    "sipp2008w2_all.loc[sipp2008w2_all['tmoveus'] == 19, \"tmoveus_labels\"] = \"2005\"\n",
    "sipp2008w2_all.loc[sipp2008w2_all['tmoveus'] == 20, \"tmoveus_labels\"] = \"2006\"\n",
    "sipp2008w2_all.loc[sipp2008w2_all['tmoveus'] == 21, \"tmoveus_labels\"] = \"2007\"\n",
    "sipp2008w2_all.loc[sipp2008w2_all['tmoveus'] == 22, \"tmoveus_labels\"] = \"2008-2009\""
   ]
  },
  {
   "cell_type": "code",
   "execution_count": 56,
   "metadata": {},
   "outputs": [
    {
     "data": {
      "text/plain": [
       "count    98504.000000\n",
       "mean         0.799907\n",
       "std          6.570258\n",
       "min         -1.000000\n",
       "25%         -1.000000\n",
       "50%         -1.000000\n",
       "75%         -1.000000\n",
       "max         49.000000\n",
       "Name: years_us, dtype: float64"
      ]
     },
     "execution_count": 56,
     "metadata": {},
     "output_type": "execute_result"
    }
   ],
   "source": [
    "# Getting an idea of how this feature is distributed.\n",
    "\n",
    "sipp2008w2_all.years_us.describe()"
   ]
  },
  {
   "cell_type": "code",
   "execution_count": 57,
   "metadata": {},
   "outputs": [
    {
     "data": {
      "text/html": [
       "<div>\n",
       "<style scoped>\n",
       "    .dataframe tbody tr th:only-of-type {\n",
       "        vertical-align: middle;\n",
       "    }\n",
       "\n",
       "    .dataframe tbody tr th {\n",
       "        vertical-align: top;\n",
       "    }\n",
       "\n",
       "    .dataframe thead th {\n",
       "        text-align: right;\n",
       "    }\n",
       "</style>\n",
       "<table border=\"1\" class=\"dataframe\">\n",
       "  <thead>\n",
       "    <tr style=\"text-align: right;\">\n",
       "      <th>col_0</th>\n",
       "      <th>counts</th>\n",
       "    </tr>\n",
       "    <tr>\n",
       "      <th>tmoveus</th>\n",
       "      <th></th>\n",
       "    </tr>\n",
       "  </thead>\n",
       "  <tbody>\n",
       "    <tr>\n",
       "      <th>-1</th>\n",
       "      <td>87359</td>\n",
       "    </tr>\n",
       "    <tr>\n",
       "      <th>1</th>\n",
       "      <td>351</td>\n",
       "    </tr>\n",
       "    <tr>\n",
       "      <th>2</th>\n",
       "      <td>325</td>\n",
       "    </tr>\n",
       "    <tr>\n",
       "      <th>3</th>\n",
       "      <td>356</td>\n",
       "    </tr>\n",
       "    <tr>\n",
       "      <th>4</th>\n",
       "      <td>405</td>\n",
       "    </tr>\n",
       "    <tr>\n",
       "      <th>5</th>\n",
       "      <td>357</td>\n",
       "    </tr>\n",
       "    <tr>\n",
       "      <th>6</th>\n",
       "      <td>357</td>\n",
       "    </tr>\n",
       "    <tr>\n",
       "      <th>7</th>\n",
       "      <td>310</td>\n",
       "    </tr>\n",
       "    <tr>\n",
       "      <th>8</th>\n",
       "      <td>498</td>\n",
       "    </tr>\n",
       "    <tr>\n",
       "      <th>9</th>\n",
       "      <td>588</td>\n",
       "    </tr>\n",
       "    <tr>\n",
       "      <th>10</th>\n",
       "      <td>455</td>\n",
       "    </tr>\n",
       "    <tr>\n",
       "      <th>11</th>\n",
       "      <td>471</td>\n",
       "    </tr>\n",
       "    <tr>\n",
       "      <th>12</th>\n",
       "      <td>567</td>\n",
       "    </tr>\n",
       "    <tr>\n",
       "      <th>13</th>\n",
       "      <td>607</td>\n",
       "    </tr>\n",
       "    <tr>\n",
       "      <th>14</th>\n",
       "      <td>439</td>\n",
       "    </tr>\n",
       "    <tr>\n",
       "      <th>15</th>\n",
       "      <td>661</td>\n",
       "    </tr>\n",
       "    <tr>\n",
       "      <th>16</th>\n",
       "      <td>590</td>\n",
       "    </tr>\n",
       "    <tr>\n",
       "      <th>17</th>\n",
       "      <td>1031</td>\n",
       "    </tr>\n",
       "    <tr>\n",
       "      <th>18</th>\n",
       "      <td>524</td>\n",
       "    </tr>\n",
       "    <tr>\n",
       "      <th>19</th>\n",
       "      <td>554</td>\n",
       "    </tr>\n",
       "    <tr>\n",
       "      <th>20</th>\n",
       "      <td>513</td>\n",
       "    </tr>\n",
       "    <tr>\n",
       "      <th>21</th>\n",
       "      <td>547</td>\n",
       "    </tr>\n",
       "    <tr>\n",
       "      <th>22</th>\n",
       "      <td>639</td>\n",
       "    </tr>\n",
       "  </tbody>\n",
       "</table>\n",
       "</div>"
      ],
      "text/plain": [
       "col_0    counts\n",
       "tmoveus        \n",
       "-1        87359\n",
       " 1          351\n",
       " 2          325\n",
       " 3          356\n",
       " 4          405\n",
       " 5          357\n",
       " 6          357\n",
       " 7          310\n",
       " 8          498\n",
       " 9          588\n",
       " 10         455\n",
       " 11         471\n",
       " 12         567\n",
       " 13         607\n",
       " 14         439\n",
       " 15         661\n",
       " 16         590\n",
       " 17        1031\n",
       " 18         524\n",
       " 19         554\n",
       " 20         513\n",
       " 21         547\n",
       " 22         639"
      ]
     },
     "execution_count": 57,
     "metadata": {},
     "output_type": "execute_result"
    }
   ],
   "source": [
    "pd.crosstab(sipp2008w2_all['tmoveus'], columns = \"counts\")"
   ]
  },
  {
   "cell_type": "markdown",
   "metadata": {},
   "source": [
    "#### Parental Status"
   ]
  },
  {
   "cell_type": "markdown",
   "metadata": {},
   "source": [
    "\"rdesgpnt\" measures whether respondent is a parent of people younger than 18 in the household."
   ]
  },
  {
   "cell_type": "markdown",
   "metadata": {},
   "source": [
    "#### Marital Status"
   ]
  },
  {
   "cell_type": "code",
   "execution_count": 58,
   "metadata": {},
   "outputs": [],
   "source": [
    "sipp2008w2_all['married'] = np.where(sipp2008w2_all['ems'] < 3, 1, 0)"
   ]
  },
  {
   "cell_type": "code",
   "execution_count": 59,
   "metadata": {},
   "outputs": [
    {
     "data": {
      "text/plain": [
       "0    57438\n",
       "1    41066\n",
       "Name: married, dtype: int64"
      ]
     },
     "execution_count": 59,
     "metadata": {},
     "output_type": "execute_result"
    }
   ],
   "source": [
    "sipp2008w2_all['married'].value_counts()"
   ]
  },
  {
   "cell_type": "markdown",
   "metadata": {},
   "source": [
    "### Van Hook et al \n",
    "\n",
    "- Family poverty level \n",
    "- education level\n",
    "- Born in Mexico\n",
    "- Years of U.S. residence\n",
    "- age\n",
    "- gender\n",
    "- Number of functional limitations (disabilities)\n",
    "- Poor health\n",
    "\n",
    "Most of the Van Hook et al model's features overlap with the KFF and Capps et al models, but we have to work with the functional limitation variables from wave 4 to create one measuring the number of functional limitations. Poor health is not a feature in the ACS, so we will leave it out. After we do that, we can create our target. "
   ]
  },
  {
   "cell_type": "code",
   "execution_count": 60,
   "metadata": {},
   "outputs": [],
   "source": [
    "# Number of functional limitations\n",
    "\n",
    "sipp2008w2_all['hearing'] = np.where(sipp2008w2_all['edis1'] == \"Yes\", 1, 0)\n",
    "sipp2008w2_all['vision'] = np.where(sipp2008w2_all['edis2'] == \"Yes\", 1, 0)\n",
    "sipp2008w2_all['cognitive'] = np.where(sipp2008w2_all['edis3'] == \"Yes\", 1, 0)\n",
    "sipp2008w2_all['ambulatory'] = np.where(sipp2008w2_all['edis4'] == \"Yes\", 1, 0)\n",
    "sipp2008w2_all['selfcare'] = np.where(sipp2008w2_all['edis5'] == \"Yes\", 1, 0)\n",
    "sipp2008w2_all['indliving'] = np.where(sipp2008w2_all['edis6'] == \"Yes\", 1, 0)"
   ]
  },
  {
   "cell_type": "code",
   "execution_count": 61,
   "metadata": {},
   "outputs": [],
   "source": [
    "sipp2008w2_all['limitations'] = sipp2008w2_all[['hearing', 'vision', 'cognitive', 'ambulatory', 'selfcare', 'indliving']].sum(axis = 1)\n",
    "sipp2008w2_all.loc[sipp2008w2_all['tage'] < 15, 'limitations'] = -1"
   ]
  },
  {
   "cell_type": "markdown",
   "metadata": {},
   "source": [
    "### Creating target variable: unauthorized noncitizens\n",
    "\n",
    "I will filter the dataset to noncitizens and create a binary indicator equalling 1 if they are likely an unauthorized noncitizen and zero if they are likely a legal one.  Noncitizens will be considered unauthorized if they: reported not having a green card when they entered the United States, they have not adjusted to permanent resident status since entering the country (applied for and obtained a green card), nor do they show signs of having legal status. "
   ]
  },
  {
   "cell_type": "markdown",
   "metadata": {},
   "source": [
    "### Capturing indicators of legal status\n",
    "\n",
    "Surveys are imperfect measures of behaviors and attributes because people often make mistakes when self-reporting certain attributes, which can vary by person. For noncitizens, one of these things can be legal status, especially in government surveys. To partially mitigate that problem, we can create a dummy indicator measuring whether a noncitizen has one of a number of attributes that signals that they are legally in the country. These can include:\n",
    "- They entered the U.S. before 1982 (The Immigration Reform and Control Act of 1986 legalized all unauthorized immigrants who entered the U.S. before 1982).\n",
    "- They are enrolled in Medicare or Medicaid\n",
    "- They are enrolled in military heath insurance\n",
    "- They receive public assistance payments like Temporary Assistance for Needy Families (TANF) and Aid to Families with Dependent Children (AFDC)\n",
    "- They receive Supplemental Security Income\n",
    "- They receive Social Security Income\n",
    "- They are veterans ('eafever', ever on active duty in armed forces and rprvhi (type of health insurance-military)\n",
    "- They are active-duty military (SIPP ejbind1)\n",
    "- They are public sector workers (SIPP ejbind1)\n",
    "- They work in specialty professions requiring licenses (SIPP ejbind1):\n",
    "    - judges, lawyers, police offers, veterinarians, doctors, barbers, etc."
   ]
  },
  {
   "cell_type": "code",
   "execution_count": 62,
   "metadata": {},
   "outputs": [],
   "source": [
    "# I'm creating a dummy capturing things that imply legal status\n",
    "\n",
    "sipp2008w2_all['legalsign'] = 0\n",
    "\n",
    "# Entered the country before 1982\n",
    "sipp2008w2_all.loc[sipp2008w2_all['tmovyryr'] < 1982, 'legalsign'] = 1\n",
    "\n",
    "# Enrolled in Medicare\n",
    "sipp2008w2_all.loc[sipp2008w2_all['ecrmth'] == 1, 'legalsign'] = 1\n",
    "\n",
    "# Enrolled in Medicaid\n",
    "sipp2008w2_all.loc[sipp2008w2_all['ecdmth'] == 1, 'legalsign'] = 1\n",
    "\n",
    "# Enrolled in Military or Veterans Insurance, This also indicates that they are active duty military or a veteran\n",
    "sipp2008w2_all.loc[sipp2008w2_all['rchampm'] == 1, 'legalsign'] = 1\n",
    "\n",
    "# Veteran-Did ... ever serve on active duty in the U.S. Armed Forces?\n",
    "\n",
    "sipp2008w2_all.loc[sipp2008w2_all['eafever'] == 1, 'legalsign'] = 1\n",
    "\n",
    "# Receives TANF or AFDC\n",
    "sipp2008w2_all.loc[sipp2008w2_all['er20'] == 1, 'legalsign'] = 1 \n",
    "\n",
    "# Receives SSI\n",
    "sipp2008w2_all.loc[sipp2008w2_all['er03a'] == 1, 'legalsign'] = 1 \n",
    "\n",
    "# Receives Social Security income\n",
    "sipp2008w2_all.loc[sipp2008w2_all['er01a'] == 1, 'legalsign'] = 1 \n",
    "\n",
    "# Respondent is an education administrator\n",
    "sipp2008w2_all.loc[sipp2008w2_all['tjbocc1'] == 230, 'legalsign'] = 1 \n",
    "\n",
    "# Respondent is a funeral director\n",
    "sipp2008w2_all.loc[sipp2008w2_all['tjbocc1'] == 320, 'legalsign'] = 1 \n",
    "\n",
    "# Respondent is an insurance adjuster\n",
    "sipp2008w2_all.loc[sipp2008w2_all['tjbocc1'] == 540, 'legalsign'] = 1 \n",
    "\n",
    "# Respondent is a tax examiner, collector, revenue agent\n",
    "\n",
    "sipp2008w2_all.loc[sipp2008w2_all['tjbocc1'] == 930, 'legalsign'] = 1 \n",
    "\n",
    "# Respondent is a tax preparer\n",
    "\n",
    "sipp2008w2_all.loc[sipp2008w2_all['tjbocc1'] == 940, 'legalsign'] = 1 \n",
    "\n",
    "# Respondent is an actuary\n",
    "\n",
    "sipp2008w2_all.loc[sipp2008w2_all['tjbocc1'] == 1200, 'legalsign'] = 1 \n",
    "\n",
    "# Respondent is an architect\n",
    "\n",
    "sipp2008w2_all.loc[sipp2008w2_all['tjbocc1'] == 1300, 'legalsign'] = 1 \n",
    "\n",
    "# Respondent is a lawyer or a paralegal\n",
    "\n",
    "sipp2008w2_all.loc[sipp2008w2_all['tjbocc1'] == 2100, 'legalsign'] = 1 \n",
    "sipp2008w2_all.loc[sipp2008w2_all['tjbocc1'] == 2140, 'legalsign'] = 1 \n",
    "\n",
    "# Respondent is a teacher\n",
    "\n",
    "sipp2008w2_all.loc[(sipp2008w2_all['tjbocc1'] >= 2200) & (sipp2008w2_all['tjbocc1'] <=2340), 'legalsign'] = 1 \n",
    "\n",
    "# Respondent is a teacher assistant\n",
    "\n",
    "sipp2008w2_all.loc[sipp2008w2_all['tjbocc1'] == 2430, 'legalsign'] = 1 \n",
    "\n",
    "# Respondent is a chiropractor\n",
    "\n",
    "sipp2008w2_all.loc[sipp2008w2_all['tjbocc1'] == 3000, 'legalsign'] = 1 \n",
    "\n",
    "# Respondent is a dentist\n",
    "\n",
    "sipp2008w2_all.loc[sipp2008w2_all['tjbocc1'] == 3010, 'legalsign'] = 1 \n",
    "\n",
    "# Respondent works in medicine in a licensed position\n",
    "\n",
    "sipp2008w2_all.loc[(sipp2008w2_all['tjbocc1'] >= 3040) & (sipp2008w2_all['tjbocc1'] <= 3650), 'legalsign'] = 1 \n",
    "\n",
    "# Respondent is a correctional officer, works in corrections, police officer, first responder, law enforcement\n",
    "\n",
    "sipp2008w2_all.loc[(sipp2008w2_all['tjbocc1'] >= 3700) & (sipp2008w2_all['tjbocc1'] <= 3920), 'legalsign'] = 1 \n",
    "\n",
    "# Respondent is a court clerk\n",
    "\n",
    "sipp2008w2_all.loc[sipp2008w2_all['tjbocc1'] == 5220, 'legalsign'] = 1 \n",
    "\n",
    "# Respondent is a postal officer, clerk, or mail sorter\n",
    "\n",
    "sipp2008w2_all.loc[(sipp2008w2_all['tjbocc1'] >= 5540) & (sipp2008w2_all['tjbocc1'] <= 5560), 'legalsign'] = 1 \n",
    "\n",
    "# Respondent is a mail clerk\n",
    "\n",
    "sipp2008w2_all.loc[sipp2008w2_all['tjbocc1'] == 5850, 'legalsign'] = 1 \n",
    "\n",
    "# Respondent is an agricultural inspector\n",
    "\n",
    "sipp2008w2_all.loc[sipp2008w2_all['tjbocc1'] == 6010, 'legalsign'] = 1 \n",
    "\n",
    "# Respondent is a construction or building inspector\n",
    "\n",
    "sipp2008w2_all.loc[sipp2008w2_all['tjbocc1'] == 6660, 'legalsign'] = 1 \n",
    "\n",
    "# Respondent is a pilot, air traffic controller, ambulance driver, bus driver, other transportation workers that \n",
    "# require licenses\n",
    "\n",
    "sipp2008w2_all.loc[(sipp2008w2_all['tjbocc1'] >= 9030) & (sipp2008w2_all['tjbocc1'] <= 9330), 'legalsign'] = 1 \n",
    "\n",
    "# Respondent is in the military\n",
    "\n",
    "sipp2008w2_all.loc[(sipp2008w2_all['tjbocc1'] >= 9800) & (sipp2008w2_all['tjbocc1'] <= 9830), 'legalsign'] = 1 \n",
    "\n",
    "# Respondent is unemployed, but last job was in the military\n",
    "\n",
    "sipp2008w2_all.loc[sipp2008w2_all['tjbocc1'] == 9840, 'legalsign'] = 1 \n",
    "\n",
    "# Make this only for noncitizens\n",
    "\n",
    "sipp2008w2_all.loc[sipp2008w2_all['ecitizen'] == 1, 'legalsign'] = np.nan"
   ]
  },
  {
   "cell_type": "code",
   "execution_count": 63,
   "metadata": {},
   "outputs": [],
   "source": [
    "#not a citizen\n",
    "#did not enter as a LPR & status has since not changed to LPR\n",
    "#adjusting for those whose circumstances imply legal status\n",
    "# unauthorized: 1 equals yes, 0 equals lawfully present\n",
    "\n",
    "sipp2008w2_all['unauthorized'] = np.where(((sipp2008w2_all['ecitizen'] == 2) &\n",
    "                                           (sipp2008w2_all['timstat'] == 2) &\n",
    "                                           (sipp2008w2_all['eadjust'] == 2) & \n",
    "                                           (sipp2008w2_all['legalsign'] == 0)), 1, 0)\n",
    "\n",
    "sipp2008w2_all.loc[sipp2008w2_all['ecitizen'] == 1, 'unauthorized'] = np.nan\n",
    "\n",
    "# Respondents younger than 15 were not asked the immigration questions that \n",
    "# help create the unauthorized measure. But, we do know that they were not born in the U.S.\n",
    "# because they receive a 2 for \"ebornus\" (a \"no\" in response to the question askign whether they were born\n",
    "# in the U.S. I've got to investigate their status closely and \"manually\" assign them their legal status. \n",
    "sipp2008w2_all.loc[(sipp2008w2_all['tage'] < 15) & (sipp2008w2_all['ecitizen'] == 2), 'unauthorized'] = -1\n",
    "    "
   ]
  },
  {
   "cell_type": "code",
   "execution_count": 64,
   "metadata": {},
   "outputs": [],
   "source": [
    "# Let's create a legal status variable for everyone in the dataframe in case we want to incorporate citizens\n",
    "# later\n",
    "\n",
    "# Citizens\n",
    "sipp2008w2_all.loc[sipp2008w2_all['ecitizen'] == 1, 'legal'] = 2\n",
    "\n",
    "# Legal Noncitizens\n",
    "sipp2008w2_all.loc[sipp2008w2_all['unauthorized'] == 0, 'legal'] = 1\n",
    "\n",
    "# Unauthorized Noncitizens\n",
    "sipp2008w2_all.loc[sipp2008w2_all['unauthorized'] == 1, 'legal'] = 0"
   ]
  },
  {
   "cell_type": "code",
   "execution_count": 65,
   "metadata": {},
   "outputs": [
    {
     "data": {
      "text/plain": [
       "500"
      ]
     },
     "execution_count": 65,
     "metadata": {},
     "output_type": "execute_result"
    }
   ],
   "source": [
    "sipp2008w2_all.legal.isnull().sum()"
   ]
  },
  {
   "cell_type": "code",
   "execution_count": 66,
   "metadata": {},
   "outputs": [
    {
     "data": {
      "text/html": [
       "<div>\n",
       "<style scoped>\n",
       "    .dataframe tbody tr th:only-of-type {\n",
       "        vertical-align: middle;\n",
       "    }\n",
       "\n",
       "    .dataframe tbody tr th {\n",
       "        vertical-align: top;\n",
       "    }\n",
       "\n",
       "    .dataframe thead th {\n",
       "        text-align: right;\n",
       "    }\n",
       "</style>\n",
       "<table border=\"1\" class=\"dataframe\">\n",
       "  <thead>\n",
       "    <tr style=\"text-align: right;\">\n",
       "      <th>unauthorized</th>\n",
       "      <th>-1.0</th>\n",
       "      <th>0.0</th>\n",
       "      <th>1.0</th>\n",
       "    </tr>\n",
       "    <tr>\n",
       "      <th>legal</th>\n",
       "      <th></th>\n",
       "      <th></th>\n",
       "      <th></th>\n",
       "    </tr>\n",
       "  </thead>\n",
       "  <tbody>\n",
       "    <tr>\n",
       "      <th>False</th>\n",
       "      <td>0</td>\n",
       "      <td>4114</td>\n",
       "      <td>1543</td>\n",
       "    </tr>\n",
       "    <tr>\n",
       "      <th>True</th>\n",
       "      <td>500</td>\n",
       "      <td>0</td>\n",
       "      <td>0</td>\n",
       "    </tr>\n",
       "  </tbody>\n",
       "</table>\n",
       "</div>"
      ],
      "text/plain": [
       "unauthorized  -1.0   0.0   1.0\n",
       "legal                         \n",
       "False            0  4114  1543\n",
       "True           500     0     0"
      ]
     },
     "execution_count": 66,
     "metadata": {},
     "output_type": "execute_result"
    }
   ],
   "source": [
    "pd.crosstab(sipp2008w2_all['legal'].isnull(), sipp2008w2_all['unauthorized'])"
   ]
  },
  {
   "cell_type": "code",
   "execution_count": 67,
   "metadata": {},
   "outputs": [
    {
     "data": {
      "text/plain": [
       "count    500.000000\n",
       "mean       9.256000\n",
       "std        3.638811\n",
       "min        0.000000\n",
       "25%        7.000000\n",
       "50%       10.000000\n",
       "75%       12.000000\n",
       "max       14.000000\n",
       "Name: tage, dtype: float64"
      ]
     },
     "execution_count": 67,
     "metadata": {},
     "output_type": "execute_result"
    }
   ],
   "source": [
    "sipp2008w2_all[sipp2008w2_all['legal'].isnull()].tage.describe()"
   ]
  },
  {
   "cell_type": "code",
   "execution_count": 68,
   "metadata": {},
   "outputs": [
    {
     "data": {
      "text/plain": [
       "2.0    92347\n",
       "1.0     4114\n",
       "0.0     1543\n",
       "Name: legal, dtype: int64"
      ]
     },
     "execution_count": 68,
     "metadata": {},
     "output_type": "execute_result"
    }
   ],
   "source": [
    "sipp2008w2_all.legal.value_counts()"
   ]
  },
  {
   "cell_type": "markdown",
   "metadata": {},
   "source": [
    "There are 500 noncitizen respondents who are younger than 15. If their parents are legal, we should assign them the same status. Let's do some additional investigating to get a better picture of the family relationships in the data. For one, let's see if it is easy to identify the 500 childrens' parents and if we can assign them their parents' legal status. \n",
    "\n",
    "The SIPP tracks household relationships and \"subfamily\" relationships, but *not* family relationships. The Census has a household reference person (the person who is considered the primary resident responsible for renting or owning the home) and records every other household member's relationship to the reference person via \"errp.\" Via the Census (see [reference person's definition](https://www.census.gov/programs-surveys/cps/technical-documentation/subject-definitions.html#referenceperson), the \"reference person is the person to whom the relationship of other people in the household is recorded. The household reference person is the person listed as the householder (see definition of [\"Householder\"](https://www.census.gov/programs-surveys/cps/technical-documentation/subject-definitions.html#householder). The subfamily reference person is either the single parent or the husband/wife in a married-couple situation.\"\n",
    "\n",
    "Unfortunately, the Census does not provide variables measuring *in-family* relationships in the same way. So, tracking that will be more difficult. Let's first see how the \"unauthorized\" missing respondents are distributed by \"errp.\""
   ]
  },
  {
   "cell_type": "code",
   "execution_count": 69,
   "metadata": {},
   "outputs": [],
   "source": [
    "# Let's create an object version of 'errp' so we can see a contingency table with labels\n",
    "\n",
    "sipp2008w2_all.loc[sipp2008w2_all['errp'] == 1, 'errp_labels'] = 'Reference Person With Relatives in HH'\n",
    "\n",
    "sipp2008w2_all.loc[sipp2008w2_all['errp'] == 2, 'errp_labels'] = 'Reference Person Without Relatives in HH'\n",
    "\n",
    "sipp2008w2_all.loc[sipp2008w2_all['errp'] == 3, 'errp_labels'] = 'Spouse of Reference Person'\n",
    "\n",
    "sipp2008w2_all.loc[sipp2008w2_all['errp'] == 4, 'errp_labels'] = 'Child of Reference Person'\n",
    "\n",
    "sipp2008w2_all.loc[sipp2008w2_all['errp'] == 5, 'errp_labels'] = 'Grandchild of Reference Person'\n",
    "\n",
    "sipp2008w2_all.loc[sipp2008w2_all['errp'] == 6, 'errp_labels'] = 'Parent of Reference Person'\n",
    "\n",
    "sipp2008w2_all.loc[sipp2008w2_all['errp'] == 7, 'errp_labels'] = 'Sibling of Reference Person'\n",
    "\n",
    "sipp2008w2_all.loc[sipp2008w2_all['errp'] == 8, 'errp_labels'] = 'Other Relative of Reference Person'\n",
    "\n",
    "sipp2008w2_all.loc[sipp2008w2_all['errp'] == 9, 'errp_labels'] = 'Foster Child of Reference Person'\n",
    "\n",
    "sipp2008w2_all.loc[sipp2008w2_all['errp'] == 10, 'errp_labels'] = 'Unmarried Partner of Reference Person'\n",
    "\n",
    "sipp2008w2_all.loc[sipp2008w2_all['errp'] == 11, 'errp_labels'] = 'Roommate'\n",
    "\n",
    "sipp2008w2_all.loc[sipp2008w2_all['errp'] == 12, 'errp_labels'] = 'Roomer/Boarder'\n",
    "\n",
    "sipp2008w2_all.loc[sipp2008w2_all['errp'] == 13, 'errp_labels'] = 'Other Nonrelative of Reference Person '"
   ]
  },
  {
   "cell_type": "code",
   "execution_count": 70,
   "metadata": {},
   "outputs": [
    {
     "data": {
      "text/html": [
       "<div>\n",
       "<style scoped>\n",
       "    .dataframe tbody tr th:only-of-type {\n",
       "        vertical-align: middle;\n",
       "    }\n",
       "\n",
       "    .dataframe tbody tr th {\n",
       "        vertical-align: top;\n",
       "    }\n",
       "\n",
       "    .dataframe thead th {\n",
       "        text-align: right;\n",
       "    }\n",
       "</style>\n",
       "<table border=\"1\" class=\"dataframe\">\n",
       "  <thead>\n",
       "    <tr style=\"text-align: right;\">\n",
       "      <th>col_0</th>\n",
       "      <th>counts</th>\n",
       "    </tr>\n",
       "    <tr>\n",
       "      <th>Relationship to Household Reference Person</th>\n",
       "      <th></th>\n",
       "    </tr>\n",
       "  </thead>\n",
       "  <tbody>\n",
       "    <tr>\n",
       "      <th>Child of Reference Person</th>\n",
       "      <td>416</td>\n",
       "    </tr>\n",
       "    <tr>\n",
       "      <th>Foster Child of Reference Person</th>\n",
       "      <td>4</td>\n",
       "    </tr>\n",
       "    <tr>\n",
       "      <th>Grandchild of Reference Person</th>\n",
       "      <td>23</td>\n",
       "    </tr>\n",
       "    <tr>\n",
       "      <th>Other Nonrelative of Reference Person</th>\n",
       "      <td>8</td>\n",
       "    </tr>\n",
       "    <tr>\n",
       "      <th>Other Relative of Reference Person</th>\n",
       "      <td>34</td>\n",
       "    </tr>\n",
       "    <tr>\n",
       "      <th>Roomer/Boarder</th>\n",
       "      <td>2</td>\n",
       "    </tr>\n",
       "    <tr>\n",
       "      <th>Roommate</th>\n",
       "      <td>2</td>\n",
       "    </tr>\n",
       "    <tr>\n",
       "      <th>Sibling of Reference Person</th>\n",
       "      <td>11</td>\n",
       "    </tr>\n",
       "  </tbody>\n",
       "</table>\n",
       "</div>"
      ],
      "text/plain": [
       "col_0                                       counts\n",
       "Relationship to Household Reference Person        \n",
       "Child of Reference Person                      416\n",
       "Foster Child of Reference Person                 4\n",
       "Grandchild of Reference Person                  23\n",
       "Other Nonrelative of Reference Person            8\n",
       "Other Relative of Reference Person              34\n",
       "Roomer/Boarder                                   2\n",
       "Roommate                                         2\n",
       "Sibling of Reference Person                     11"
      ]
     },
     "execution_count": 70,
     "metadata": {},
     "output_type": "execute_result"
    }
   ],
   "source": [
    "pd.crosstab(sipp2008w2_all[sipp2008w2_all['legal'].isnull()]['errp_labels'], columns = 'counts',\n",
    "           rownames = ['Relationship to Household Reference Person'])"
   ]
  },
  {
   "cell_type": "markdown",
   "metadata": {},
   "source": [
    "Most of the kids are children of the household reference person, so we can easily assign them their parent's legal status. Siblings may sponsor each other for legal status if the sponsor is 21 or older, so there is a possiiblity that some of the 11 may be legally authorized or citizens. The remaining 73 are probably unauthorized. Let's see a crosstab  *errp* and whether the person was born in the U.S. *ebornus*."
   ]
  },
  {
   "cell_type": "code",
   "execution_count": 71,
   "metadata": {},
   "outputs": [
    {
     "data": {
      "text/html": [
       "<div>\n",
       "<style scoped>\n",
       "    .dataframe tbody tr th:only-of-type {\n",
       "        vertical-align: middle;\n",
       "    }\n",
       "\n",
       "    .dataframe tbody tr th {\n",
       "        vertical-align: top;\n",
       "    }\n",
       "\n",
       "    .dataframe thead th {\n",
       "        text-align: right;\n",
       "    }\n",
       "</style>\n",
       "<table border=\"1\" class=\"dataframe\">\n",
       "  <thead>\n",
       "    <tr style=\"text-align: right;\">\n",
       "      <th>col_0</th>\n",
       "      <th>counts</th>\n",
       "    </tr>\n",
       "    <tr>\n",
       "      <th>Relationship to Household Reference Person</th>\n",
       "      <th></th>\n",
       "    </tr>\n",
       "  </thead>\n",
       "  <tbody>\n",
       "    <tr>\n",
       "      <th>Child of Reference Person</th>\n",
       "      <td>416</td>\n",
       "    </tr>\n",
       "    <tr>\n",
       "      <th>Foster Child of Reference Person</th>\n",
       "      <td>4</td>\n",
       "    </tr>\n",
       "    <tr>\n",
       "      <th>Grandchild of Reference Person</th>\n",
       "      <td>23</td>\n",
       "    </tr>\n",
       "    <tr>\n",
       "      <th>Other Nonrelative of Reference Person</th>\n",
       "      <td>8</td>\n",
       "    </tr>\n",
       "    <tr>\n",
       "      <th>Other Relative of Reference Person</th>\n",
       "      <td>34</td>\n",
       "    </tr>\n",
       "    <tr>\n",
       "      <th>Roomer/Boarder</th>\n",
       "      <td>2</td>\n",
       "    </tr>\n",
       "    <tr>\n",
       "      <th>Roommate</th>\n",
       "      <td>2</td>\n",
       "    </tr>\n",
       "    <tr>\n",
       "      <th>Sibling of Reference Person</th>\n",
       "      <td>11</td>\n",
       "    </tr>\n",
       "  </tbody>\n",
       "</table>\n",
       "</div>"
      ],
      "text/plain": [
       "col_0                                       counts\n",
       "Relationship to Household Reference Person        \n",
       "Child of Reference Person                      416\n",
       "Foster Child of Reference Person                 4\n",
       "Grandchild of Reference Person                  23\n",
       "Other Nonrelative of Reference Person            8\n",
       "Other Relative of Reference Person              34\n",
       "Roomer/Boarder                                   2\n",
       "Roommate                                         2\n",
       "Sibling of Reference Person                     11"
      ]
     },
     "execution_count": 71,
     "metadata": {},
     "output_type": "execute_result"
    }
   ],
   "source": [
    "pd.crosstab(sipp2008w2_all[sipp2008w2_all['legal'].isnull()]['errp_labels'], columns = \"counts\",\n",
    "           rownames = ['Relationship to Household Reference Person'])"
   ]
  },
  {
   "cell_type": "code",
   "execution_count": 72,
   "metadata": {},
   "outputs": [],
   "source": [
    "# Creating a column measuring the parent's legal status (if the respondent is a parent)\n",
    "sipp2008w2_all['parent_legal'] = sipp2008w2_all[sipp2008w2_all['rdesgpnt'] == 1]['legal']\n",
    "\n",
    "# Creating a column assigning the parent's legal status to the household. \n",
    "# If there are two parents in the household, this column will assign the \n",
    "# greater value of the two\n",
    "\n",
    "sipp2008w2_all['hhparent_legal'] = sipp2008w2_all.groupby('hhid')['parent_legal'].transform('max')"
   ]
  },
  {
   "cell_type": "code",
   "execution_count": 73,
   "metadata": {},
   "outputs": [],
   "source": [
    "# Assigning \"legal\" missing values respondents their parent's legal status \n",
    "# (for whom it applies)\n",
    "\n",
    "sipp2008w2_all.loc[(sipp2008w2_all['legal'].isnull()) & (sipp2008w2_all['errp'] == 4), 'legal'] = sipp2008w2_all['hhparent_legal']"
   ]
  },
  {
   "cell_type": "code",
   "execution_count": 74,
   "metadata": {},
   "outputs": [
    {
     "data": {
      "text/plain": [
       "84"
      ]
     },
     "execution_count": 74,
     "metadata": {},
     "output_type": "execute_result"
    }
   ],
   "source": [
    "sipp2008w2_all['legal'].isnull().sum()"
   ]
  },
  {
   "cell_type": "markdown",
   "metadata": {},
   "source": [
    "As expected, there are 84 respondents left with missing values. Let's check out the respondents who are siblings of the household reference person. "
   ]
  },
  {
   "cell_type": "code",
   "execution_count": 75,
   "metadata": {},
   "outputs": [
    {
     "data": {
      "text/html": [
       "<div>\n",
       "<style scoped>\n",
       "    .dataframe tbody tr th:only-of-type {\n",
       "        vertical-align: middle;\n",
       "    }\n",
       "\n",
       "    .dataframe tbody tr th {\n",
       "        vertical-align: top;\n",
       "    }\n",
       "\n",
       "    .dataframe thead th {\n",
       "        text-align: right;\n",
       "    }\n",
       "</style>\n",
       "<table border=\"1\" class=\"dataframe\">\n",
       "  <thead>\n",
       "    <tr style=\"text-align: right;\">\n",
       "      <th></th>\n",
       "      <th>index</th>\n",
       "      <th>ssuid</th>\n",
       "      <th>shhadid</th>\n",
       "      <th>epppnum</th>\n",
       "      <th>rfid</th>\n",
       "      <th>rfid2</th>\n",
       "      <th>rsid</th>\n",
       "      <th>wpfinwgt</th>\n",
       "      <th>tage</th>\n",
       "      <th>ebornus</th>\n",
       "      <th>...</th>\n",
       "      <th>ambulatory</th>\n",
       "      <th>selfcare</th>\n",
       "      <th>indliving</th>\n",
       "      <th>limitations</th>\n",
       "      <th>legalsign</th>\n",
       "      <th>unauthorized</th>\n",
       "      <th>legal</th>\n",
       "      <th>errp_labels</th>\n",
       "      <th>parent_legal</th>\n",
       "      <th>hhparent_legal</th>\n",
       "    </tr>\n",
       "  </thead>\n",
       "  <tbody>\n",
       "    <tr>\n",
       "      <th>11525</th>\n",
       "      <td>45979</td>\n",
       "      <td>146925471343</td>\n",
       "      <td>11</td>\n",
       "      <td>0105</td>\n",
       "      <td>7</td>\n",
       "      <td>7</td>\n",
       "      <td>-1</td>\n",
       "      <td>1215.6653</td>\n",
       "      <td>13</td>\n",
       "      <td>2</td>\n",
       "      <td>...</td>\n",
       "      <td>0</td>\n",
       "      <td>0</td>\n",
       "      <td>0</td>\n",
       "      <td>-1</td>\n",
       "      <td>1.0</td>\n",
       "      <td>-1.0</td>\n",
       "      <td>NaN</td>\n",
       "      <td>Sibling of Reference Person</td>\n",
       "      <td>NaN</td>\n",
       "      <td>2.0</td>\n",
       "    </tr>\n",
       "    <tr>\n",
       "      <th>33326</th>\n",
       "      <td>132875</td>\n",
       "      <td>458925808486</td>\n",
       "      <td>11</td>\n",
       "      <td>0104</td>\n",
       "      <td>4</td>\n",
       "      <td>4</td>\n",
       "      <td>-1</td>\n",
       "      <td>3650.3000</td>\n",
       "      <td>3</td>\n",
       "      <td>2</td>\n",
       "      <td>...</td>\n",
       "      <td>0</td>\n",
       "      <td>0</td>\n",
       "      <td>0</td>\n",
       "      <td>-1</td>\n",
       "      <td>1.0</td>\n",
       "      <td>-1.0</td>\n",
       "      <td>NaN</td>\n",
       "      <td>Sibling of Reference Person</td>\n",
       "      <td>NaN</td>\n",
       "      <td>0.0</td>\n",
       "    </tr>\n",
       "    <tr>\n",
       "      <th>40633</th>\n",
       "      <td>161973</td>\n",
       "      <td>495684738086</td>\n",
       "      <td>11</td>\n",
       "      <td>0104</td>\n",
       "      <td>7</td>\n",
       "      <td>-1</td>\n",
       "      <td>8</td>\n",
       "      <td>3275.7615</td>\n",
       "      <td>14</td>\n",
       "      <td>2</td>\n",
       "      <td>...</td>\n",
       "      <td>0</td>\n",
       "      <td>0</td>\n",
       "      <td>0</td>\n",
       "      <td>-1</td>\n",
       "      <td>1.0</td>\n",
       "      <td>-1.0</td>\n",
       "      <td>NaN</td>\n",
       "      <td>Sibling of Reference Person</td>\n",
       "      <td>NaN</td>\n",
       "      <td>0.0</td>\n",
       "    </tr>\n",
       "    <tr>\n",
       "      <th>44595</th>\n",
       "      <td>177750</td>\n",
       "      <td>557228811451</td>\n",
       "      <td>11</td>\n",
       "      <td>0104</td>\n",
       "      <td>7</td>\n",
       "      <td>-1</td>\n",
       "      <td>8</td>\n",
       "      <td>2442.6135</td>\n",
       "      <td>12</td>\n",
       "      <td>2</td>\n",
       "      <td>...</td>\n",
       "      <td>0</td>\n",
       "      <td>0</td>\n",
       "      <td>0</td>\n",
       "      <td>-1</td>\n",
       "      <td>1.0</td>\n",
       "      <td>-1.0</td>\n",
       "      <td>NaN</td>\n",
       "      <td>Sibling of Reference Person</td>\n",
       "      <td>NaN</td>\n",
       "      <td>1.0</td>\n",
       "    </tr>\n",
       "    <tr>\n",
       "      <th>44992</th>\n",
       "      <td>179324</td>\n",
       "      <td>557344437369</td>\n",
       "      <td>11</td>\n",
       "      <td>0104</td>\n",
       "      <td>5</td>\n",
       "      <td>5</td>\n",
       "      <td>-1</td>\n",
       "      <td>3252.7012</td>\n",
       "      <td>14</td>\n",
       "      <td>2</td>\n",
       "      <td>...</td>\n",
       "      <td>0</td>\n",
       "      <td>0</td>\n",
       "      <td>0</td>\n",
       "      <td>-1</td>\n",
       "      <td>1.0</td>\n",
       "      <td>-1.0</td>\n",
       "      <td>NaN</td>\n",
       "      <td>Sibling of Reference Person</td>\n",
       "      <td>NaN</td>\n",
       "      <td>1.0</td>\n",
       "    </tr>\n",
       "    <tr>\n",
       "      <th>44993</th>\n",
       "      <td>179328</td>\n",
       "      <td>557344437369</td>\n",
       "      <td>11</td>\n",
       "      <td>0105</td>\n",
       "      <td>5</td>\n",
       "      <td>5</td>\n",
       "      <td>-1</td>\n",
       "      <td>2852.5337</td>\n",
       "      <td>12</td>\n",
       "      <td>2</td>\n",
       "      <td>...</td>\n",
       "      <td>0</td>\n",
       "      <td>0</td>\n",
       "      <td>0</td>\n",
       "      <td>-1</td>\n",
       "      <td>1.0</td>\n",
       "      <td>-1.0</td>\n",
       "      <td>NaN</td>\n",
       "      <td>Sibling of Reference Person</td>\n",
       "      <td>NaN</td>\n",
       "      <td>1.0</td>\n",
       "    </tr>\n",
       "    <tr>\n",
       "      <th>44996</th>\n",
       "      <td>179334</td>\n",
       "      <td>557344437369</td>\n",
       "      <td>11</td>\n",
       "      <td>0203</td>\n",
       "      <td>5</td>\n",
       "      <td>5</td>\n",
       "      <td>-1</td>\n",
       "      <td>2750.9380</td>\n",
       "      <td>9</td>\n",
       "      <td>2</td>\n",
       "      <td>...</td>\n",
       "      <td>0</td>\n",
       "      <td>0</td>\n",
       "      <td>0</td>\n",
       "      <td>-1</td>\n",
       "      <td>1.0</td>\n",
       "      <td>-1.0</td>\n",
       "      <td>NaN</td>\n",
       "      <td>Sibling of Reference Person</td>\n",
       "      <td>NaN</td>\n",
       "      <td>1.0</td>\n",
       "    </tr>\n",
       "    <tr>\n",
       "      <th>56781</th>\n",
       "      <td>226325</td>\n",
       "      <td>644925011738</td>\n",
       "      <td>11</td>\n",
       "      <td>0107</td>\n",
       "      <td>7</td>\n",
       "      <td>-1</td>\n",
       "      <td>8</td>\n",
       "      <td>2114.1836</td>\n",
       "      <td>13</td>\n",
       "      <td>2</td>\n",
       "      <td>...</td>\n",
       "      <td>0</td>\n",
       "      <td>0</td>\n",
       "      <td>0</td>\n",
       "      <td>-1</td>\n",
       "      <td>1.0</td>\n",
       "      <td>-1.0</td>\n",
       "      <td>NaN</td>\n",
       "      <td>Sibling of Reference Person</td>\n",
       "      <td>NaN</td>\n",
       "      <td>1.0</td>\n",
       "    </tr>\n",
       "    <tr>\n",
       "      <th>62388</th>\n",
       "      <td>248687</td>\n",
       "      <td>685552651565</td>\n",
       "      <td>11</td>\n",
       "      <td>0106</td>\n",
       "      <td>7</td>\n",
       "      <td>-1</td>\n",
       "      <td>8</td>\n",
       "      <td>2802.1611</td>\n",
       "      <td>12</td>\n",
       "      <td>2</td>\n",
       "      <td>...</td>\n",
       "      <td>0</td>\n",
       "      <td>0</td>\n",
       "      <td>0</td>\n",
       "      <td>-1</td>\n",
       "      <td>1.0</td>\n",
       "      <td>-1.0</td>\n",
       "      <td>NaN</td>\n",
       "      <td>Sibling of Reference Person</td>\n",
       "      <td>NaN</td>\n",
       "      <td>0.0</td>\n",
       "    </tr>\n",
       "    <tr>\n",
       "      <th>75341</th>\n",
       "      <td>300353</td>\n",
       "      <td>794133358720</td>\n",
       "      <td>11</td>\n",
       "      <td>0104</td>\n",
       "      <td>7</td>\n",
       "      <td>-1</td>\n",
       "      <td>8</td>\n",
       "      <td>4460.6523</td>\n",
       "      <td>4</td>\n",
       "      <td>2</td>\n",
       "      <td>...</td>\n",
       "      <td>0</td>\n",
       "      <td>0</td>\n",
       "      <td>0</td>\n",
       "      <td>-1</td>\n",
       "      <td>1.0</td>\n",
       "      <td>-1.0</td>\n",
       "      <td>NaN</td>\n",
       "      <td>Sibling of Reference Person</td>\n",
       "      <td>NaN</td>\n",
       "      <td>0.0</td>\n",
       "    </tr>\n",
       "    <tr>\n",
       "      <th>97360</th>\n",
       "      <td>388128</td>\n",
       "      <td>955925685003</td>\n",
       "      <td>11</td>\n",
       "      <td>0105</td>\n",
       "      <td>4</td>\n",
       "      <td>4</td>\n",
       "      <td>-1</td>\n",
       "      <td>2724.0078</td>\n",
       "      <td>11</td>\n",
       "      <td>2</td>\n",
       "      <td>...</td>\n",
       "      <td>0</td>\n",
       "      <td>0</td>\n",
       "      <td>0</td>\n",
       "      <td>-1</td>\n",
       "      <td>1.0</td>\n",
       "      <td>-1.0</td>\n",
       "      <td>NaN</td>\n",
       "      <td>Sibling of Reference Person</td>\n",
       "      <td>NaN</td>\n",
       "      <td>1.0</td>\n",
       "    </tr>\n",
       "  </tbody>\n",
       "</table>\n",
       "<p>11 rows × 101 columns</p>\n",
       "</div>"
      ],
      "text/plain": [
       "        index         ssuid shhadid epppnum  rfid  rfid2  rsid   wpfinwgt  \\\n",
       "11525   45979  146925471343      11    0105     7      7    -1  1215.6653   \n",
       "33326  132875  458925808486      11    0104     4      4    -1  3650.3000   \n",
       "40633  161973  495684738086      11    0104     7     -1     8  3275.7615   \n",
       "44595  177750  557228811451      11    0104     7     -1     8  2442.6135   \n",
       "44992  179324  557344437369      11    0104     5      5    -1  3252.7012   \n",
       "44993  179328  557344437369      11    0105     5      5    -1  2852.5337   \n",
       "44996  179334  557344437369      11    0203     5      5    -1  2750.9380   \n",
       "56781  226325  644925011738      11    0107     7     -1     8  2114.1836   \n",
       "62388  248687  685552651565      11    0106     7     -1     8  2802.1611   \n",
       "75341  300353  794133358720      11    0104     7     -1     8  4460.6523   \n",
       "97360  388128  955925685003      11    0105     4      4    -1  2724.0078   \n",
       "\n",
       "       tage  ebornus  ...  ambulatory  selfcare  indliving  limitations  \\\n",
       "11525    13        2  ...           0         0          0           -1   \n",
       "33326     3        2  ...           0         0          0           -1   \n",
       "40633    14        2  ...           0         0          0           -1   \n",
       "44595    12        2  ...           0         0          0           -1   \n",
       "44992    14        2  ...           0         0          0           -1   \n",
       "44993    12        2  ...           0         0          0           -1   \n",
       "44996     9        2  ...           0         0          0           -1   \n",
       "56781    13        2  ...           0         0          0           -1   \n",
       "62388    12        2  ...           0         0          0           -1   \n",
       "75341     4        2  ...           0         0          0           -1   \n",
       "97360    11        2  ...           0         0          0           -1   \n",
       "\n",
       "       legalsign  unauthorized  legal                  errp_labels  \\\n",
       "11525        1.0          -1.0    NaN  Sibling of Reference Person   \n",
       "33326        1.0          -1.0    NaN  Sibling of Reference Person   \n",
       "40633        1.0          -1.0    NaN  Sibling of Reference Person   \n",
       "44595        1.0          -1.0    NaN  Sibling of Reference Person   \n",
       "44992        1.0          -1.0    NaN  Sibling of Reference Person   \n",
       "44993        1.0          -1.0    NaN  Sibling of Reference Person   \n",
       "44996        1.0          -1.0    NaN  Sibling of Reference Person   \n",
       "56781        1.0          -1.0    NaN  Sibling of Reference Person   \n",
       "62388        1.0          -1.0    NaN  Sibling of Reference Person   \n",
       "75341        1.0          -1.0    NaN  Sibling of Reference Person   \n",
       "97360        1.0          -1.0    NaN  Sibling of Reference Person   \n",
       "\n",
       "       parent_legal  hhparent_legal  \n",
       "11525           NaN             2.0  \n",
       "33326           NaN             0.0  \n",
       "40633           NaN             0.0  \n",
       "44595           NaN             1.0  \n",
       "44992           NaN             1.0  \n",
       "44993           NaN             1.0  \n",
       "44996           NaN             1.0  \n",
       "56781           NaN             1.0  \n",
       "62388           NaN             0.0  \n",
       "75341           NaN             0.0  \n",
       "97360           NaN             1.0  \n",
       "\n",
       "[11 rows x 101 columns]"
      ]
     },
     "execution_count": 75,
     "metadata": {},
     "output_type": "execute_result"
    }
   ],
   "source": [
    "sipp2008w2_all[(sipp2008w2_all['legal'].isnull()) & (sipp2008w2_all['errp'] == 7)]"
   ]
  },
  {
   "cell_type": "code",
   "execution_count": 76,
   "metadata": {},
   "outputs": [],
   "source": [
    "# Passing the HH ID's of the \"siblings\" of the HH reference person to a list.\n",
    "\n",
    "sibling_missing = sipp2008w2_all[(sipp2008w2_all['legal'].isnull()) & (sipp2008w2_all['errp'] == 7)].hhid.tolist()"
   ]
  },
  {
   "cell_type": "code",
   "execution_count": 77,
   "metadata": {},
   "outputs": [],
   "source": [
    "sipp2008w2_all.loc[sipp2008w2_all['efrefper'] == sipp2008w2_all['epppnum'], 'refperson_age'] = sipp2008w2_all['tage']"
   ]
  },
  {
   "cell_type": "code",
   "execution_count": 78,
   "metadata": {},
   "outputs": [],
   "source": [
    "# For the 11 respondent who are siblings of the HH reference person, we can assign them the ref person's legal\n",
    "# status by creating a column assigning the reference person age to the household and then assigning legal status. \n",
    "# First, we need to add a 0 to the family reference person column, 'efrefper', and make it a string. \n",
    "\n",
    "sipp2008w2_all['efrefper'] = '0' + sipp2008w2_all['efrefper'].astype('str')"
   ]
  },
  {
   "cell_type": "code",
   "execution_count": 79,
   "metadata": {},
   "outputs": [],
   "source": [
    "sipp2008w2_all.loc[sipp2008w2_all['efrefper'] == sipp2008w2_all['epppnum'], 'refperson_age'] = sipp2008w2_all['tage']"
   ]
  },
  {
   "cell_type": "code",
   "execution_count": 80,
   "metadata": {},
   "outputs": [],
   "source": [
    "# Assigning the \"errp\" 7s their siblings' legal status\n",
    "sipp2008w2_all['hhrefperson_age'] = sipp2008w2_all.groupby('hhid')['refperson_age'].transform('max')\n",
    "sipp2008w2_all['hhrefperson_legal'] = sipp2008w2_all[sipp2008w2_all['tage'] >= 21].groupby('hhid')['legal'].transform('max')\n",
    "sipp2008w2_all['hhrefperson_legalmax'] = sipp2008w2_all.groupby('hhid')['hhrefperson_legal'].transform('max')\n",
    "\n",
    "sipp2008w2_all.loc[(sipp2008w2_all['errp'] == 7) & (sipp2008w2_all['legal'].isnull()), 'legal'] = sipp2008w2_all['hhrefperson_legalmax']"
   ]
  },
  {
   "cell_type": "code",
   "execution_count": 81,
   "metadata": {},
   "outputs": [
    {
     "data": {
      "text/plain": [
       "74"
      ]
     },
     "execution_count": 81,
     "metadata": {},
     "output_type": "execute_result"
    }
   ],
   "source": [
    "sipp2008w2_all['legal'].isnull().sum()"
   ]
  },
  {
   "cell_type": "markdown",
   "metadata": {},
   "source": [
    "It only worked for 10 of the 11. We should investigate the remaining 74 to see if there is enough information to glean legal status."
   ]
  },
  {
   "cell_type": "markdown",
   "metadata": {},
   "source": [
    "We need to investigate the remaining 74 to see if we have enough information about their family relationships to glean legal status. "
   ]
  },
  {
   "cell_type": "code",
   "execution_count": 82,
   "metadata": {},
   "outputs": [
    {
     "data": {
      "text/plain": [
       "55"
      ]
     },
     "execution_count": 82,
     "metadata": {},
     "output_type": "execute_result"
    }
   ],
   "source": [
    "# Let's count the number of households and families among the remaining missing values\n",
    "# to identify the multi-family households \n",
    "\n",
    "# Here are the number of households\n",
    "\n",
    "sipp2008w2_all[sipp2008w2_all['legal'].isnull()]['hhid'].nunique()"
   ]
  },
  {
   "cell_type": "code",
   "execution_count": 83,
   "metadata": {},
   "outputs": [
    {
     "data": {
      "text/plain": [
       "58"
      ]
     },
     "execution_count": 83,
     "metadata": {},
     "output_type": "execute_result"
    }
   ],
   "source": [
    "# Counting multifamily households among the remaining 74 missing...\n",
    "\n",
    "sipp2008w2_all[sipp2008w2_all['legal'].isnull()]['family'].nunique()"
   ]
  },
  {
   "cell_type": "markdown",
   "metadata": {},
   "source": [
    "There are 55 households, but 58 families, meaning that there are a few multifamily households. "
   ]
  },
  {
   "cell_type": "code",
   "execution_count": 84,
   "metadata": {},
   "outputs": [],
   "source": [
    "# Number of families per household, via groupby. \n",
    "\n",
    "families_perhh = sipp2008w2_all[sipp2008w2_all['legal'].isnull()].groupby('hhid')['family'].nunique('')"
   ]
  },
  {
   "cell_type": "code",
   "execution_count": 85,
   "metadata": {},
   "outputs": [
    {
     "data": {
      "text/plain": [
       "1    52\n",
       "2     3\n",
       "Name: family, dtype: int64"
      ]
     },
     "execution_count": 85,
     "metadata": {},
     "output_type": "execute_result"
    }
   ],
   "source": [
    "families_perhh.value_counts()"
   ]
  },
  {
   "cell_type": "markdown",
   "metadata": {},
   "source": [
    "There are three multifamily households. Let's investigate each one. "
   ]
  },
  {
   "cell_type": "code",
   "execution_count": 86,
   "metadata": {},
   "outputs": [
    {
     "data": {
      "text/plain": [
       "hhid\n",
       "51422874352211    2\n",
       "51434465139211    2\n",
       "55722894441411    2\n",
       "Name: family, dtype: int64"
      ]
     },
     "execution_count": 86,
     "metadata": {},
     "output_type": "execute_result"
    }
   ],
   "source": [
    "families_perhh.nlargest(3)"
   ]
  },
  {
   "cell_type": "code",
   "execution_count": 87,
   "metadata": {},
   "outputs": [
    {
     "data": {
      "text/html": [
       "<div>\n",
       "<style scoped>\n",
       "    .dataframe tbody tr th:only-of-type {\n",
       "        vertical-align: middle;\n",
       "    }\n",
       "\n",
       "    .dataframe tbody tr th {\n",
       "        vertical-align: top;\n",
       "    }\n",
       "\n",
       "    .dataframe thead th {\n",
       "        text-align: right;\n",
       "    }\n",
       "</style>\n",
       "<table border=\"1\" class=\"dataframe\">\n",
       "  <thead>\n",
       "    <tr style=\"text-align: right;\">\n",
       "      <th></th>\n",
       "      <th>hhid</th>\n",
       "      <th>pid</th>\n",
       "      <th>epppnum</th>\n",
       "      <th>refperson_age</th>\n",
       "      <th>tage</th>\n",
       "      <th>family</th>\n",
       "      <th>errp</th>\n",
       "      <th>legal</th>\n",
       "      <th>rdesgpnt</th>\n",
       "      <th>parent_legal</th>\n",
       "      <th>hhparent_legal</th>\n",
       "      <th>efrefper</th>\n",
       "    </tr>\n",
       "  </thead>\n",
       "  <tbody>\n",
       "    <tr>\n",
       "      <th>42306</th>\n",
       "      <td>51422874352211</td>\n",
       "      <td>5142287435220104</td>\n",
       "      <td>0104</td>\n",
       "      <td>24.0</td>\n",
       "      <td>24</td>\n",
       "      <td>5142287435221110</td>\n",
       "      <td>2</td>\n",
       "      <td>1.0</td>\n",
       "      <td>1</td>\n",
       "      <td>1.0</td>\n",
       "      <td>1.0</td>\n",
       "      <td>0104</td>\n",
       "    </tr>\n",
       "    <tr>\n",
       "      <th>42307</th>\n",
       "      <td>51422874352211</td>\n",
       "      <td>5142287435220105</td>\n",
       "      <td>0105</td>\n",
       "      <td>9.0</td>\n",
       "      <td>9</td>\n",
       "      <td>5142287435221111</td>\n",
       "      <td>12</td>\n",
       "      <td>NaN</td>\n",
       "      <td>-1</td>\n",
       "      <td>NaN</td>\n",
       "      <td>1.0</td>\n",
       "      <td>0105</td>\n",
       "    </tr>\n",
       "    <tr>\n",
       "      <th>42308</th>\n",
       "      <td>51422874352211</td>\n",
       "      <td>5142287435220106</td>\n",
       "      <td>0106</td>\n",
       "      <td>7.0</td>\n",
       "      <td>7</td>\n",
       "      <td>5142287435221112</td>\n",
       "      <td>12</td>\n",
       "      <td>NaN</td>\n",
       "      <td>-1</td>\n",
       "      <td>NaN</td>\n",
       "      <td>1.0</td>\n",
       "      <td>0106</td>\n",
       "    </tr>\n",
       "    <tr>\n",
       "      <th>42309</th>\n",
       "      <td>51422874352211</td>\n",
       "      <td>5142287435220107</td>\n",
       "      <td>0107</td>\n",
       "      <td>2.0</td>\n",
       "      <td>2</td>\n",
       "      <td>5142287435221113</td>\n",
       "      <td>12</td>\n",
       "      <td>2.0</td>\n",
       "      <td>-1</td>\n",
       "      <td>NaN</td>\n",
       "      <td>1.0</td>\n",
       "      <td>0107</td>\n",
       "    </tr>\n",
       "  </tbody>\n",
       "</table>\n",
       "</div>"
      ],
      "text/plain": [
       "                 hhid               pid epppnum  refperson_age  tage  \\\n",
       "42306  51422874352211  5142287435220104    0104           24.0    24   \n",
       "42307  51422874352211  5142287435220105    0105            9.0     9   \n",
       "42308  51422874352211  5142287435220106    0106            7.0     7   \n",
       "42309  51422874352211  5142287435220107    0107            2.0     2   \n",
       "\n",
       "                 family  errp  legal  rdesgpnt  parent_legal  hhparent_legal  \\\n",
       "42306  5142287435221110     2    1.0         1           1.0             1.0   \n",
       "42307  5142287435221111    12    NaN        -1           NaN             1.0   \n",
       "42308  5142287435221112    12    NaN        -1           NaN             1.0   \n",
       "42309  5142287435221113    12    2.0        -1           NaN             1.0   \n",
       "\n",
       "      efrefper  \n",
       "42306     0104  \n",
       "42307     0105  \n",
       "42308     0106  \n",
       "42309     0107  "
      ]
     },
     "execution_count": 87,
     "metadata": {},
     "output_type": "execute_result"
    }
   ],
   "source": [
    "sipp2008w2_all[sipp2008w2_all['hhid'] == '51422874352211'][['hhid', 'pid', 'epppnum','refperson_age', 'tage', 'family', 'errp', 'legal', 'rdesgpnt', 'parent_legal', 'hhparent_legal', 'efrefper']]"
   ]
  },
  {
   "cell_type": "code",
   "execution_count": 88,
   "metadata": {},
   "outputs": [
    {
     "data": {
      "text/html": [
       "<div>\n",
       "<style scoped>\n",
       "    .dataframe tbody tr th:only-of-type {\n",
       "        vertical-align: middle;\n",
       "    }\n",
       "\n",
       "    .dataframe tbody tr th {\n",
       "        vertical-align: top;\n",
       "    }\n",
       "\n",
       "    .dataframe thead th {\n",
       "        text-align: right;\n",
       "    }\n",
       "</style>\n",
       "<table border=\"1\" class=\"dataframe\">\n",
       "  <thead>\n",
       "    <tr style=\"text-align: right;\">\n",
       "      <th></th>\n",
       "      <th>hhid</th>\n",
       "      <th>pid</th>\n",
       "      <th>epppnum</th>\n",
       "      <th>refperson_age</th>\n",
       "      <th>tage</th>\n",
       "      <th>family</th>\n",
       "      <th>errp</th>\n",
       "      <th>legal</th>\n",
       "      <th>rdesgpnt</th>\n",
       "      <th>parent_legal</th>\n",
       "      <th>hhparent_legal</th>\n",
       "      <th>efrefper</th>\n",
       "    </tr>\n",
       "  </thead>\n",
       "  <tbody>\n",
       "    <tr>\n",
       "      <th>42477</th>\n",
       "      <td>51434465139211</td>\n",
       "      <td>5143446513920101</td>\n",
       "      <td>0101</td>\n",
       "      <td>43.0</td>\n",
       "      <td>43</td>\n",
       "      <td>5143446513921110</td>\n",
       "      <td>1</td>\n",
       "      <td>0.0</td>\n",
       "      <td>1</td>\n",
       "      <td>0.0</td>\n",
       "      <td>0.0</td>\n",
       "      <td>0101</td>\n",
       "    </tr>\n",
       "    <tr>\n",
       "      <th>42478</th>\n",
       "      <td>51434465139211</td>\n",
       "      <td>5143446513920102</td>\n",
       "      <td>0102</td>\n",
       "      <td>NaN</td>\n",
       "      <td>42</td>\n",
       "      <td>5143446513921110</td>\n",
       "      <td>3</td>\n",
       "      <td>0.0</td>\n",
       "      <td>1</td>\n",
       "      <td>0.0</td>\n",
       "      <td>0.0</td>\n",
       "      <td>0101</td>\n",
       "    </tr>\n",
       "    <tr>\n",
       "      <th>42479</th>\n",
       "      <td>51434465139211</td>\n",
       "      <td>5143446513920103</td>\n",
       "      <td>0103</td>\n",
       "      <td>5.0</td>\n",
       "      <td>5</td>\n",
       "      <td>5143446513921111</td>\n",
       "      <td>9</td>\n",
       "      <td>NaN</td>\n",
       "      <td>-1</td>\n",
       "      <td>NaN</td>\n",
       "      <td>0.0</td>\n",
       "      <td>0103</td>\n",
       "    </tr>\n",
       "    <tr>\n",
       "      <th>42480</th>\n",
       "      <td>51434465139211</td>\n",
       "      <td>5143446513920104</td>\n",
       "      <td>0104</td>\n",
       "      <td>5.0</td>\n",
       "      <td>5</td>\n",
       "      <td>5143446513921112</td>\n",
       "      <td>9</td>\n",
       "      <td>NaN</td>\n",
       "      <td>-1</td>\n",
       "      <td>NaN</td>\n",
       "      <td>0.0</td>\n",
       "      <td>0104</td>\n",
       "    </tr>\n",
       "    <tr>\n",
       "      <th>42481</th>\n",
       "      <td>51434465139211</td>\n",
       "      <td>5143446513920105</td>\n",
       "      <td>0105</td>\n",
       "      <td>NaN</td>\n",
       "      <td>4</td>\n",
       "      <td>5143446513921110</td>\n",
       "      <td>4</td>\n",
       "      <td>0.0</td>\n",
       "      <td>-1</td>\n",
       "      <td>NaN</td>\n",
       "      <td>0.0</td>\n",
       "      <td>0101</td>\n",
       "    </tr>\n",
       "  </tbody>\n",
       "</table>\n",
       "</div>"
      ],
      "text/plain": [
       "                 hhid               pid epppnum  refperson_age  tage  \\\n",
       "42477  51434465139211  5143446513920101    0101           43.0    43   \n",
       "42478  51434465139211  5143446513920102    0102            NaN    42   \n",
       "42479  51434465139211  5143446513920103    0103            5.0     5   \n",
       "42480  51434465139211  5143446513920104    0104            5.0     5   \n",
       "42481  51434465139211  5143446513920105    0105            NaN     4   \n",
       "\n",
       "                 family  errp  legal  rdesgpnt  parent_legal  hhparent_legal  \\\n",
       "42477  5143446513921110     1    0.0         1           0.0             0.0   \n",
       "42478  5143446513921110     3    0.0         1           0.0             0.0   \n",
       "42479  5143446513921111     9    NaN        -1           NaN             0.0   \n",
       "42480  5143446513921112     9    NaN        -1           NaN             0.0   \n",
       "42481  5143446513921110     4    0.0        -1           NaN             0.0   \n",
       "\n",
       "      efrefper  \n",
       "42477     0101  \n",
       "42478     0101  \n",
       "42479     0103  \n",
       "42480     0104  \n",
       "42481     0101  "
      ]
     },
     "execution_count": 88,
     "metadata": {},
     "output_type": "execute_result"
    }
   ],
   "source": [
    "sipp2008w2_all[sipp2008w2_all['hhid'] == '51434465139211'][['hhid', 'pid', 'epppnum','refperson_age', 'tage', 'family', 'errp', 'legal', 'rdesgpnt', 'parent_legal', 'hhparent_legal', 'efrefper']]"
   ]
  },
  {
   "cell_type": "code",
   "execution_count": 89,
   "metadata": {},
   "outputs": [
    {
     "data": {
      "text/html": [
       "<div>\n",
       "<style scoped>\n",
       "    .dataframe tbody tr th:only-of-type {\n",
       "        vertical-align: middle;\n",
       "    }\n",
       "\n",
       "    .dataframe tbody tr th {\n",
       "        vertical-align: top;\n",
       "    }\n",
       "\n",
       "    .dataframe thead th {\n",
       "        text-align: right;\n",
       "    }\n",
       "</style>\n",
       "<table border=\"1\" class=\"dataframe\">\n",
       "  <thead>\n",
       "    <tr style=\"text-align: right;\">\n",
       "      <th></th>\n",
       "      <th>hhid</th>\n",
       "      <th>pid</th>\n",
       "      <th>epppnum</th>\n",
       "      <th>refperson_age</th>\n",
       "      <th>tage</th>\n",
       "      <th>family</th>\n",
       "      <th>errp</th>\n",
       "      <th>legal</th>\n",
       "      <th>rdesgpnt</th>\n",
       "      <th>parent_legal</th>\n",
       "      <th>hhparent_legal</th>\n",
       "      <th>efrefper</th>\n",
       "    </tr>\n",
       "  </thead>\n",
       "  <tbody>\n",
       "    <tr>\n",
       "      <th>44658</th>\n",
       "      <td>55722894441411</td>\n",
       "      <td>5572289444140101</td>\n",
       "      <td>0101</td>\n",
       "      <td>27.0</td>\n",
       "      <td>27</td>\n",
       "      <td>5572289444141110</td>\n",
       "      <td>1</td>\n",
       "      <td>1.0</td>\n",
       "      <td>1</td>\n",
       "      <td>1.0</td>\n",
       "      <td>1.0</td>\n",
       "      <td>0101</td>\n",
       "    </tr>\n",
       "    <tr>\n",
       "      <th>44659</th>\n",
       "      <td>55722894441411</td>\n",
       "      <td>5572289444140102</td>\n",
       "      <td>0102</td>\n",
       "      <td>NaN</td>\n",
       "      <td>26</td>\n",
       "      <td>5572289444141110</td>\n",
       "      <td>8</td>\n",
       "      <td>1.0</td>\n",
       "      <td>1</td>\n",
       "      <td>1.0</td>\n",
       "      <td>1.0</td>\n",
       "      <td>0101</td>\n",
       "    </tr>\n",
       "    <tr>\n",
       "      <th>44660</th>\n",
       "      <td>55722894441411</td>\n",
       "      <td>5572289444140201</td>\n",
       "      <td>0201</td>\n",
       "      <td>0.0</td>\n",
       "      <td>0</td>\n",
       "      <td>5572289444141111</td>\n",
       "      <td>11</td>\n",
       "      <td>NaN</td>\n",
       "      <td>-1</td>\n",
       "      <td>NaN</td>\n",
       "      <td>1.0</td>\n",
       "      <td>0201</td>\n",
       "    </tr>\n",
       "    <tr>\n",
       "      <th>44661</th>\n",
       "      <td>55722894441411</td>\n",
       "      <td>5572289444140202</td>\n",
       "      <td>0202</td>\n",
       "      <td>0.0</td>\n",
       "      <td>0</td>\n",
       "      <td>5572289444141112</td>\n",
       "      <td>11</td>\n",
       "      <td>NaN</td>\n",
       "      <td>-1</td>\n",
       "      <td>NaN</td>\n",
       "      <td>1.0</td>\n",
       "      <td>0202</td>\n",
       "    </tr>\n",
       "  </tbody>\n",
       "</table>\n",
       "</div>"
      ],
      "text/plain": [
       "                 hhid               pid epppnum  refperson_age  tage  \\\n",
       "44658  55722894441411  5572289444140101    0101           27.0    27   \n",
       "44659  55722894441411  5572289444140102    0102            NaN    26   \n",
       "44660  55722894441411  5572289444140201    0201            0.0     0   \n",
       "44661  55722894441411  5572289444140202    0202            0.0     0   \n",
       "\n",
       "                 family  errp  legal  rdesgpnt  parent_legal  hhparent_legal  \\\n",
       "44658  5572289444141110     1    1.0         1           1.0             1.0   \n",
       "44659  5572289444141110     8    1.0         1           1.0             1.0   \n",
       "44660  5572289444141111    11    NaN        -1           NaN             1.0   \n",
       "44661  5572289444141112    11    NaN        -1           NaN             1.0   \n",
       "\n",
       "      efrefper  \n",
       "44658     0101  \n",
       "44659     0101  \n",
       "44660     0201  \n",
       "44661     0202  "
      ]
     },
     "execution_count": 89,
     "metadata": {},
     "output_type": "execute_result"
    }
   ],
   "source": [
    "sipp2008w2_all[sipp2008w2_all['hhid'] == '55722894441411'][['hhid', 'pid', 'epppnum','refperson_age', 'tage', 'family', 'errp', 'legal', 'rdesgpnt', 'parent_legal', 'hhparent_legal', 'efrefper']]"
   ]
  },
  {
   "cell_type": "markdown",
   "metadata": {},
   "source": [
    "In the multifamily households, every person with a missing value for \"legal\" is their own family reference person, which means that they are not eligible to be sponsored for a visa or lawful permanent residence by anyone else in the household. Thus, they are more than likely unauthorized noncitizens. \n",
    "\n",
    "Furthermore, the rest of the 74 respondents are also ineligible for sponsorship by anyone else in their housholds. Thus, they are also more than likely uanuthorized. See the contingency table below."
   ]
  },
  {
   "cell_type": "code",
   "execution_count": 90,
   "metadata": {},
   "outputs": [
    {
     "data": {
      "text/html": [
       "<div>\n",
       "<style scoped>\n",
       "    .dataframe tbody tr th:only-of-type {\n",
       "        vertical-align: middle;\n",
       "    }\n",
       "\n",
       "    .dataframe tbody tr th {\n",
       "        vertical-align: top;\n",
       "    }\n",
       "\n",
       "    .dataframe thead th {\n",
       "        text-align: right;\n",
       "    }\n",
       "</style>\n",
       "<table border=\"1\" class=\"dataframe\">\n",
       "  <thead>\n",
       "    <tr style=\"text-align: right;\">\n",
       "      <th>col_0</th>\n",
       "      <th>counts</th>\n",
       "    </tr>\n",
       "    <tr>\n",
       "      <th>errp_labels</th>\n",
       "      <th></th>\n",
       "    </tr>\n",
       "  </thead>\n",
       "  <tbody>\n",
       "    <tr>\n",
       "      <th>Foster Child of Reference Person</th>\n",
       "      <td>4</td>\n",
       "    </tr>\n",
       "    <tr>\n",
       "      <th>Grandchild of Reference Person</th>\n",
       "      <td>23</td>\n",
       "    </tr>\n",
       "    <tr>\n",
       "      <th>Other Nonrelative of Reference Person</th>\n",
       "      <td>8</td>\n",
       "    </tr>\n",
       "    <tr>\n",
       "      <th>Other Relative of Reference Person</th>\n",
       "      <td>34</td>\n",
       "    </tr>\n",
       "    <tr>\n",
       "      <th>Roomer/Boarder</th>\n",
       "      <td>2</td>\n",
       "    </tr>\n",
       "    <tr>\n",
       "      <th>Roommate</th>\n",
       "      <td>2</td>\n",
       "    </tr>\n",
       "    <tr>\n",
       "      <th>Sibling of Reference Person</th>\n",
       "      <td>1</td>\n",
       "    </tr>\n",
       "  </tbody>\n",
       "</table>\n",
       "</div>"
      ],
      "text/plain": [
       "col_0                                   counts\n",
       "errp_labels                                   \n",
       "Foster Child of Reference Person             4\n",
       "Grandchild of Reference Person              23\n",
       "Other Nonrelative of Reference Person        8\n",
       "Other Relative of Reference Person          34\n",
       "Roomer/Boarder                               2\n",
       "Roommate                                     2\n",
       "Sibling of Reference Person                  1"
      ]
     },
     "execution_count": 90,
     "metadata": {},
     "output_type": "execute_result"
    }
   ],
   "source": [
    "pd.crosstab(sipp2008w2_all[sipp2008w2_all['legal'].isnull()]['errp_labels'], columns = 'counts')"
   ]
  },
  {
   "cell_type": "code",
   "execution_count": 91,
   "metadata": {},
   "outputs": [],
   "source": [
    "# Let's assign unauthorized status to the remaining 74 missing values for legal. \n",
    "\n",
    "sipp2008w2_all.loc[sipp2008w2_all['legal'].isnull(), 'legal'] = 0"
   ]
  },
  {
   "cell_type": "code",
   "execution_count": 92,
   "metadata": {},
   "outputs": [
    {
     "data": {
      "text/plain": [
       "0"
      ]
     },
     "execution_count": 92,
     "metadata": {},
     "output_type": "execute_result"
    }
   ],
   "source": [
    "sipp2008w2_all.legal.isnull().sum()"
   ]
  },
  {
   "cell_type": "code",
   "execution_count": 93,
   "metadata": {},
   "outputs": [
    {
     "data": {
      "text/plain": [
       "1.0    272\n",
       "0.0    157\n",
       "2.0     71\n",
       "Name: legal, dtype: int64"
      ]
     },
     "execution_count": 93,
     "metadata": {},
     "output_type": "execute_result"
    }
   ],
   "source": [
    "sipp2008w2_all[sipp2008w2_all['unauthorized'] == -1]['legal'].value_counts()"
   ]
  },
  {
   "cell_type": "code",
   "execution_count": 94,
   "metadata": {},
   "outputs": [],
   "source": [
    "# Filling in the missing values on unauthorized with the values on 'legal'\n",
    "\n",
    "sipp2008w2_all.loc[(sipp2008w2_all['unauthorized'] == -1) & (sipp2008w2_all['legal'] == 0), 'unauthorized'] = 1\n",
    "sipp2008w2_all.loc[(sipp2008w2_all['unauthorized'] == -1) & (sipp2008w2_all['legal'] == 1), 'unauthorized'] = 0\n",
    "sipp2008w2_all.loc[(sipp2008w2_all['unauthorized'] == -1) & (sipp2008w2_all['legal'] == 2), 'unauthorized'] = np.nan"
   ]
  },
  {
   "cell_type": "code",
   "execution_count": 95,
   "metadata": {},
   "outputs": [
    {
     "data": {
      "text/plain": [
       "0.0    4386\n",
       "1.0    1700\n",
       "Name: unauthorized, dtype: int64"
      ]
     },
     "execution_count": 95,
     "metadata": {},
     "output_type": "execute_result"
    }
   ],
   "source": [
    "sipp2008w2_all.unauthorized.value_counts()"
   ]
  },
  {
   "cell_type": "code",
   "execution_count": 96,
   "metadata": {},
   "outputs": [
    {
     "data": {
      "text/plain": [
       "0.27932960893854747"
      ]
     },
     "execution_count": 96,
     "metadata": {},
     "output_type": "execute_result"
    }
   ],
   "source": [
    "1700/(1700+4386)"
   ]
  },
  {
   "cell_type": "markdown",
   "metadata": {},
   "source": [
    "The unauthorized measure will be our target variable in this analysis and we can see that it suffers from a major class imbalance. We will have to address that later. In the meantime, let's create a labelled categorical version of it and *legal* that we can use for plotting. "
   ]
  },
  {
   "cell_type": "code",
   "execution_count": 97,
   "metadata": {},
   "outputs": [],
   "source": [
    "# Creating labelled versions of 'unauthorized' and 'legal'\n",
    "\n",
    "# Unauthorized\n",
    "sipp2008w2_all.loc[sipp2008w2_all['unauthorized'] == 0, 'unauth_labels'] = 'Legal Noncitizen'\n",
    "sipp2008w2_all.loc[sipp2008w2_all['unauthorized'] == 1, 'unauth_labels'] = 'Unauthorized Noncitizen'\n",
    "\n",
    "# Legal\n",
    "sipp2008w2_all.loc[sipp2008w2_all['legal'] == 0, 'legal_labels'] = 'Unauthorized Noncitizen'\n",
    "sipp2008w2_all.loc[sipp2008w2_all['legal'] == 1, 'legal_labels'] = 'Lawfully Present Noncitizen'\n",
    "sipp2008w2_all.loc[sipp2008w2_all['legal'] == 2, 'legal_labels'] = 'Citizen'"
   ]
  },
  {
   "cell_type": "markdown",
   "metadata": {},
   "source": [
    "### MISSING DATA"
   ]
  },
  {
   "cell_type": "markdown",
   "metadata": {},
   "source": [
    "#### SIPP Imputation\n",
    "\n",
    "The U.S. Census Bureau staff have already imputed missing data due to nonresponse for specific questions, nonsensical responses, or clerical errors during the data entry process, using \"hot-deck\" and logical imputation methods. In its data editing process, SIPP researchers will fill in missing values with logically consistent values when appropriate. If logical imputation is not appropriate, they use \"hot-deck\" methods, which for each row with a missing value for a given feature, say *y*, they find the observation with the most similar values on other features and assign its *y* to fill in the missing value. \n",
    "\n",
    "\n",
    "#### Remaining Missing Data Issues"
   ]
  },
  {
   "cell_type": "code",
   "execution_count": 98,
   "metadata": {},
   "outputs": [],
   "source": [
    "# Let's create list of potential features and geographically important variables (like pid, ssuid, or hhid)\n",
    "# to make it easier to run commands on that set. \n",
    "\n",
    "analysis_features = ['pid', 'ssuid', 'family', 'hhid', 'unauthorized', 'legal', 'num_hh', 'family_size', \n",
    "                     'hh_related', 'hh_workers', 'job', 'insurance', 'female', 'hispanic_latino', 'hhcitizen',\n",
    "                     'poverty', 'region_birth', 'english', 'educ', 'years_us', 'tmoveus_labels', 'tfipsst', \n",
    "                     'tage', 'limitations', 'tmoveus', 'noncitizen_state', 'etenure', 'married',\n",
    "                     'rdesgpnt']"
   ]
  },
  {
   "cell_type": "code",
   "execution_count": 99,
   "metadata": {},
   "outputs": [
    {
     "data": {
      "text/plain": [
       "pid                     0\n",
       "ssuid                   0\n",
       "family                  0\n",
       "hhid                    0\n",
       "unauthorized        92418\n",
       "legal                   0\n",
       "num_hh                  0\n",
       "family_size             0\n",
       "hh_related              0\n",
       "hh_workers              0\n",
       "job                     0\n",
       "insurance               0\n",
       "female                  0\n",
       "hispanic_latino         0\n",
       "hhcitizen               0\n",
       "poverty               165\n",
       "region_birth            0\n",
       "english                 0\n",
       "educ                    0\n",
       "years_us                0\n",
       "tmoveus_labels          0\n",
       "tfipsst                 0\n",
       "tage                    0\n",
       "limitations             0\n",
       "tmoveus                 0\n",
       "noncitizen_state        0\n",
       "etenure                 0\n",
       "married                 0\n",
       "rdesgpnt                0\n",
       "dtype: int64"
      ]
     },
     "execution_count": 99,
     "metadata": {},
     "output_type": "execute_result"
    }
   ],
   "source": [
    "sipp2008w2_all[analysis_features].isnull().sum()"
   ]
  },
  {
   "cell_type": "markdown",
   "metadata": {},
   "source": [
    "\"unauthorized\" has over 92,000 missing values for citizens, since they are not relevant to the classification analysis. "
   ]
  },
  {
   "cell_type": "markdown",
   "metadata": {},
   "source": [
    "*'poverty'*"
   ]
  },
  {
   "cell_type": "markdown",
   "metadata": {},
   "source": [
    "The poverty measure is missing values for 165 respondents who are probably younger than 15 because children younger than are \"not in the universe.\" If this is true, we can assign them their household's poverty value."
   ]
  },
  {
   "cell_type": "code",
   "execution_count": 100,
   "metadata": {},
   "outputs": [
    {
     "data": {
      "text/plain": [
       "count    165.000000\n",
       "mean       6.569697\n",
       "std        4.561536\n",
       "min        0.000000\n",
       "25%        2.000000\n",
       "50%        6.000000\n",
       "75%       11.000000\n",
       "max       14.000000\n",
       "Name: tage, dtype: float64"
      ]
     },
     "execution_count": 100,
     "metadata": {},
     "output_type": "execute_result"
    }
   ],
   "source": [
    "sipp2008w2_all[sipp2008w2_all['poverty'].isnull()].tage.describe()"
   ]
  },
  {
   "cell_type": "code",
   "execution_count": 101,
   "metadata": {},
   "outputs": [],
   "source": [
    "sipp2008w2_all['poverty'] = sipp2008w2_all['poverty'].fillna(sipp2008w2_all.groupby(['hhid'])['poverty'].transform('max'))"
   ]
  },
  {
   "cell_type": "code",
   "execution_count": 102,
   "metadata": {},
   "outputs": [
    {
     "data": {
      "text/plain": [
       "pid                     0\n",
       "ssuid                   0\n",
       "family                  0\n",
       "hhid                    0\n",
       "unauthorized        92418\n",
       "legal                   0\n",
       "num_hh                  0\n",
       "family_size             0\n",
       "hh_related              0\n",
       "hh_workers              0\n",
       "job                     0\n",
       "insurance               0\n",
       "female                  0\n",
       "hispanic_latino         0\n",
       "hhcitizen               0\n",
       "poverty                 0\n",
       "region_birth            0\n",
       "english                 0\n",
       "educ                    0\n",
       "years_us                0\n",
       "tmoveus_labels          0\n",
       "tfipsst                 0\n",
       "tage                    0\n",
       "limitations             0\n",
       "tmoveus                 0\n",
       "noncitizen_state        0\n",
       "etenure                 0\n",
       "married                 0\n",
       "rdesgpnt                0\n",
       "dtype: int64"
      ]
     },
     "execution_count": 102,
     "metadata": {},
     "output_type": "execute_result"
    }
   ],
   "source": [
    "sipp2008w2_all[analysis_features].isnull().sum()"
   ]
  },
  {
   "cell_type": "markdown",
   "metadata": {},
   "source": [
    "We have now filled all of the missing values. "
   ]
  },
  {
   "cell_type": "markdown",
   "metadata": {},
   "source": [
    "## Getting to Know the Prospective Features\n",
    "\n",
    "Let us investigate the features and examine their distributions and relationships with people's legal status. For many of these plots, I will use the \"legal\" variable (legal status) rather than the true target, \"unauthorized\" in order to provide richer context. "
   ]
  },
  {
   "cell_type": "code",
   "execution_count": 103,
   "metadata": {},
   "outputs": [
    {
     "data": {
      "text/html": [
       "<div>\n",
       "<style scoped>\n",
       "    .dataframe tbody tr th:only-of-type {\n",
       "        vertical-align: middle;\n",
       "    }\n",
       "\n",
       "    .dataframe tbody tr th {\n",
       "        vertical-align: top;\n",
       "    }\n",
       "\n",
       "    .dataframe thead th {\n",
       "        text-align: right;\n",
       "    }\n",
       "</style>\n",
       "<table border=\"1\" class=\"dataframe\">\n",
       "  <thead>\n",
       "    <tr style=\"text-align: right;\">\n",
       "      <th></th>\n",
       "      <th>pid</th>\n",
       "      <th>unauthorized</th>\n",
       "      <th>legal</th>\n",
       "      <th>num_hh</th>\n",
       "      <th>family_size</th>\n",
       "      <th>hh_related</th>\n",
       "      <th>hh_workers</th>\n",
       "      <th>job</th>\n",
       "      <th>insurance</th>\n",
       "      <th>female</th>\n",
       "      <th>...</th>\n",
       "      <th>educ</th>\n",
       "      <th>years_us</th>\n",
       "      <th>tfipsst</th>\n",
       "      <th>tage</th>\n",
       "      <th>limitations</th>\n",
       "      <th>tmoveus</th>\n",
       "      <th>noncitizen_state</th>\n",
       "      <th>etenure</th>\n",
       "      <th>married</th>\n",
       "      <th>rdesgpnt</th>\n",
       "    </tr>\n",
       "  </thead>\n",
       "  <tbody>\n",
       "    <tr>\n",
       "      <th>count</th>\n",
       "      <td>9.850400e+04</td>\n",
       "      <td>6086.000000</td>\n",
       "      <td>98504.000000</td>\n",
       "      <td>98504.000000</td>\n",
       "      <td>98504.000000</td>\n",
       "      <td>98504.000000</td>\n",
       "      <td>98504.000000</td>\n",
       "      <td>98504.000000</td>\n",
       "      <td>98504.000000</td>\n",
       "      <td>98504.000000</td>\n",
       "      <td>...</td>\n",
       "      <td>98504.000000</td>\n",
       "      <td>98504.000000</td>\n",
       "      <td>98504.000000</td>\n",
       "      <td>98504.000000</td>\n",
       "      <td>98504.000000</td>\n",
       "      <td>98504.000000</td>\n",
       "      <td>98504.000000</td>\n",
       "      <td>98504.000000</td>\n",
       "      <td>98504.000000</td>\n",
       "      <td>98504.000000</td>\n",
       "    </tr>\n",
       "    <tr>\n",
       "      <th>mean</th>\n",
       "      <td>5.534868e+15</td>\n",
       "      <td>0.279330</td>\n",
       "      <td>1.920958</td>\n",
       "      <td>3.397527</td>\n",
       "      <td>3.218428</td>\n",
       "      <td>0.889172</td>\n",
       "      <td>1.554302</td>\n",
       "      <td>1.773684</td>\n",
       "      <td>4.050303</td>\n",
       "      <td>0.519025</td>\n",
       "      <td>...</td>\n",
       "      <td>6.633101</td>\n",
       "      <td>0.799907</td>\n",
       "      <td>28.642553</td>\n",
       "      <td>37.196388</td>\n",
       "      <td>0.005878</td>\n",
       "      <td>0.557541</td>\n",
       "      <td>7.949809</td>\n",
       "      <td>1.328850</td>\n",
       "      <td>0.416897</td>\n",
       "      <td>1.094778</td>\n",
       "    </tr>\n",
       "    <tr>\n",
       "      <th>std</th>\n",
       "      <td>2.637884e+15</td>\n",
       "      <td>0.448707</td>\n",
       "      <td>0.327585</td>\n",
       "      <td>1.749502</td>\n",
       "      <td>1.761630</td>\n",
       "      <td>0.313921</td>\n",
       "      <td>1.036278</td>\n",
       "      <td>2.236614</td>\n",
       "      <td>1.628415</td>\n",
       "      <td>0.499640</td>\n",
       "      <td>...</td>\n",
       "      <td>4.542064</td>\n",
       "      <td>6.570258</td>\n",
       "      <td>16.214624</td>\n",
       "      <td>22.767129</td>\n",
       "      <td>0.896690</td>\n",
       "      <td>4.811613</td>\n",
       "      <td>14.549669</td>\n",
       "      <td>0.508524</td>\n",
       "      <td>0.493048</td>\n",
       "      <td>1.161957</td>\n",
       "    </tr>\n",
       "    <tr>\n",
       "      <th>min</th>\n",
       "      <td>1.912800e+14</td>\n",
       "      <td>0.000000</td>\n",
       "      <td>0.000000</td>\n",
       "      <td>1.000000</td>\n",
       "      <td>1.000000</td>\n",
       "      <td>0.000000</td>\n",
       "      <td>0.000000</td>\n",
       "      <td>-1.000000</td>\n",
       "      <td>1.000000</td>\n",
       "      <td>0.000000</td>\n",
       "      <td>...</td>\n",
       "      <td>-1.000000</td>\n",
       "      <td>-1.000000</td>\n",
       "      <td>1.000000</td>\n",
       "      <td>0.000000</td>\n",
       "      <td>-1.000000</td>\n",
       "      <td>-1.000000</td>\n",
       "      <td>0.000000</td>\n",
       "      <td>1.000000</td>\n",
       "      <td>0.000000</td>\n",
       "      <td>-1.000000</td>\n",
       "    </tr>\n",
       "    <tr>\n",
       "      <th>25%</th>\n",
       "      <td>3.859251e+15</td>\n",
       "      <td>0.000000</td>\n",
       "      <td>2.000000</td>\n",
       "      <td>2.000000</td>\n",
       "      <td>2.000000</td>\n",
       "      <td>1.000000</td>\n",
       "      <td>1.000000</td>\n",
       "      <td>0.000000</td>\n",
       "      <td>4.000000</td>\n",
       "      <td>0.000000</td>\n",
       "      <td>...</td>\n",
       "      <td>3.000000</td>\n",
       "      <td>-1.000000</td>\n",
       "      <td>13.000000</td>\n",
       "      <td>17.000000</td>\n",
       "      <td>0.000000</td>\n",
       "      <td>-1.000000</td>\n",
       "      <td>0.000000</td>\n",
       "      <td>1.000000</td>\n",
       "      <td>0.000000</td>\n",
       "      <td>1.000000</td>\n",
       "    </tr>\n",
       "    <tr>\n",
       "      <th>50%</th>\n",
       "      <td>5.664549e+15</td>\n",
       "      <td>0.000000</td>\n",
       "      <td>2.000000</td>\n",
       "      <td>3.000000</td>\n",
       "      <td>3.000000</td>\n",
       "      <td>1.000000</td>\n",
       "      <td>2.000000</td>\n",
       "      <td>0.000000</td>\n",
       "      <td>4.000000</td>\n",
       "      <td>1.000000</td>\n",
       "      <td>...</td>\n",
       "      <td>8.000000</td>\n",
       "      <td>-1.000000</td>\n",
       "      <td>29.000000</td>\n",
       "      <td>37.000000</td>\n",
       "      <td>0.000000</td>\n",
       "      <td>-1.000000</td>\n",
       "      <td>0.000000</td>\n",
       "      <td>1.000000</td>\n",
       "      <td>0.000000</td>\n",
       "      <td>2.000000</td>\n",
       "    </tr>\n",
       "    <tr>\n",
       "      <th>75%</th>\n",
       "      <td>7.399254e+15</td>\n",
       "      <td>1.000000</td>\n",
       "      <td>2.000000</td>\n",
       "      <td>4.000000</td>\n",
       "      <td>4.000000</td>\n",
       "      <td>1.000000</td>\n",
       "      <td>2.000000</td>\n",
       "      <td>4.000000</td>\n",
       "      <td>6.000000</td>\n",
       "      <td>1.000000</td>\n",
       "      <td>...</td>\n",
       "      <td>10.000000</td>\n",
       "      <td>-1.000000</td>\n",
       "      <td>42.000000</td>\n",
       "      <td>55.000000</td>\n",
       "      <td>0.000000</td>\n",
       "      <td>-1.000000</td>\n",
       "      <td>6.000000</td>\n",
       "      <td>2.000000</td>\n",
       "      <td>1.000000</td>\n",
       "      <td>2.000000</td>\n",
       "    </tr>\n",
       "    <tr>\n",
       "      <th>max</th>\n",
       "      <td>9.559590e+15</td>\n",
       "      <td>1.000000</td>\n",
       "      <td>2.000000</td>\n",
       "      <td>15.000000</td>\n",
       "      <td>15.000000</td>\n",
       "      <td>1.000000</td>\n",
       "      <td>8.000000</td>\n",
       "      <td>4.000000</td>\n",
       "      <td>6.000000</td>\n",
       "      <td>1.000000</td>\n",
       "      <td>...</td>\n",
       "      <td>13.000000</td>\n",
       "      <td>49.000000</td>\n",
       "      <td>56.000000</td>\n",
       "      <td>85.000000</td>\n",
       "      <td>6.000000</td>\n",
       "      <td>22.000000</td>\n",
       "      <td>48.000000</td>\n",
       "      <td>3.000000</td>\n",
       "      <td>1.000000</td>\n",
       "      <td>2.000000</td>\n",
       "    </tr>\n",
       "  </tbody>\n",
       "</table>\n",
       "<p>8 rows × 25 columns</p>\n",
       "</div>"
      ],
      "text/plain": [
       "                pid  unauthorized         legal        num_hh   family_size  \\\n",
       "count  9.850400e+04   6086.000000  98504.000000  98504.000000  98504.000000   \n",
       "mean   5.534868e+15      0.279330      1.920958      3.397527      3.218428   \n",
       "std    2.637884e+15      0.448707      0.327585      1.749502      1.761630   \n",
       "min    1.912800e+14      0.000000      0.000000      1.000000      1.000000   \n",
       "25%    3.859251e+15      0.000000      2.000000      2.000000      2.000000   \n",
       "50%    5.664549e+15      0.000000      2.000000      3.000000      3.000000   \n",
       "75%    7.399254e+15      1.000000      2.000000      4.000000      4.000000   \n",
       "max    9.559590e+15      1.000000      2.000000     15.000000     15.000000   \n",
       "\n",
       "         hh_related    hh_workers           job     insurance        female  \\\n",
       "count  98504.000000  98504.000000  98504.000000  98504.000000  98504.000000   \n",
       "mean       0.889172      1.554302      1.773684      4.050303      0.519025   \n",
       "std        0.313921      1.036278      2.236614      1.628415      0.499640   \n",
       "min        0.000000      0.000000     -1.000000      1.000000      0.000000   \n",
       "25%        1.000000      1.000000      0.000000      4.000000      0.000000   \n",
       "50%        1.000000      2.000000      0.000000      4.000000      1.000000   \n",
       "75%        1.000000      2.000000      4.000000      6.000000      1.000000   \n",
       "max        1.000000      8.000000      4.000000      6.000000      1.000000   \n",
       "\n",
       "       ...          educ      years_us       tfipsst          tage  \\\n",
       "count  ...  98504.000000  98504.000000  98504.000000  98504.000000   \n",
       "mean   ...      6.633101      0.799907     28.642553     37.196388   \n",
       "std    ...      4.542064      6.570258     16.214624     22.767129   \n",
       "min    ...     -1.000000     -1.000000      1.000000      0.000000   \n",
       "25%    ...      3.000000     -1.000000     13.000000     17.000000   \n",
       "50%    ...      8.000000     -1.000000     29.000000     37.000000   \n",
       "75%    ...     10.000000     -1.000000     42.000000     55.000000   \n",
       "max    ...     13.000000     49.000000     56.000000     85.000000   \n",
       "\n",
       "        limitations       tmoveus  noncitizen_state       etenure  \\\n",
       "count  98504.000000  98504.000000      98504.000000  98504.000000   \n",
       "mean       0.005878      0.557541          7.949809      1.328850   \n",
       "std        0.896690      4.811613         14.549669      0.508524   \n",
       "min       -1.000000     -1.000000          0.000000      1.000000   \n",
       "25%        0.000000     -1.000000          0.000000      1.000000   \n",
       "50%        0.000000     -1.000000          0.000000      1.000000   \n",
       "75%        0.000000     -1.000000          6.000000      2.000000   \n",
       "max        6.000000     22.000000         48.000000      3.000000   \n",
       "\n",
       "            married      rdesgpnt  \n",
       "count  98504.000000  98504.000000  \n",
       "mean       0.416897      1.094778  \n",
       "std        0.493048      1.161957  \n",
       "min        0.000000     -1.000000  \n",
       "25%        0.000000      1.000000  \n",
       "50%        0.000000      2.000000  \n",
       "75%        1.000000      2.000000  \n",
       "max        1.000000      2.000000  \n",
       "\n",
       "[8 rows x 25 columns]"
      ]
     },
     "execution_count": 103,
     "metadata": {},
     "output_type": "execute_result"
    }
   ],
   "source": [
    "sipp2008w2_all[analysis_features].describe()"
   ]
  },
  {
   "cell_type": "markdown",
   "metadata": {},
   "source": [
    "Poverty is skewed rightward, as the mean is greater than the median. Age is also (slightly) skewed to the right."
   ]
  },
  {
   "cell_type": "markdown",
   "metadata": {},
   "source": [
    "# Let's create a list of features that we are investigating to make it easier to investigate missing values, etc. "
   ]
  },
  {
   "cell_type": "markdown",
   "metadata": {},
   "source": [
    "### Visualizing Relationships Between Unauthorized Status and Prospective Features\n",
    "\n",
    "Our target variable measures unauthorized status among *noncitizens,* but I am going to include American citizens in these comparisons to provide more context because comparisons between unauthorized noncitizens and lawfully present ones may seem to be smaller when comparing them to citizens. This may help shed some light on which features we should include in the models and which ones we should not when we get to that stage. "
   ]
  },
  {
   "cell_type": "markdown",
   "metadata": {},
   "source": [
    "#### Household Size, Employed Household Members, Family Poverty Level"
   ]
  },
  {
   "cell_type": "code",
   "execution_count": 104,
   "metadata": {},
   "outputs": [
    {
     "data": {
      "image/png": "[encoded data removed]",
      "text/plain": [
       "<Figure size 1440x648 with 3 Axes>"
      ]
     },
     "metadata": {
      "needs_background": "light"
     },
     "output_type": "display_data"
    }
   ],
   "source": [
    "plt.figure(figsize = (20, 9))\n",
    "plt.subplots_adjust(hspace = .1)\n",
    "plt.suptitle(\"\", fontsize = 14)\n",
    "\n",
    "plt.subplot(1, 3, 1)\n",
    "\n",
    "sns.barplot(x = 'legal', y = 'num_hh', data = sipp2008w2_all, ci = 99)\n",
    "plt.ylim(0,5)\n",
    "plt.xticks(np.arange(3), ('Unauthorized', 'Legal', 'Citizen'), fontsize = 14)\n",
    "plt.yticks(fontsize = 14)\n",
    "plt.ylabel('')\n",
    "plt.xlabel(' \\n \\n Error Bars measure 99% Confidence Intervals')\n",
    "plt.title('Average Household Size', fontsize = 14)\n",
    "#sw\n",
    "sns.despine()\n",
    "\n",
    "plt.subplot(1, 3, 2)\n",
    "\n",
    "sns.barplot(x = 'legal', y = 'hh_workers', data = sipp2008w2_all[sipp2008w2_all['job'].notnull()], ci = 99)\n",
    "plt.ylim(0,5)\n",
    "plt.xticks(np.arange(3), ('Unauthorized', 'Legal', 'Citizen'), fontsize = 14)\n",
    "plt.yticks(fontsize = 14)\n",
    "plt.ylabel('')\n",
    "plt.xlabel('Immigration Status', fontsize = 14)\n",
    "plt.title('Average Number of Employed Household Members', fontsize = 14)\n",
    "\n",
    "sns.despine()\n",
    "\n",
    "plt.subplot(1, 3, 3)\n",
    "\n",
    "sns.barplot(x = 'legal', y = 'poverty', data = sipp2008w2_all, ci = 99)\n",
    "plt.ylim(0,500)\n",
    "plt.xticks(np.arange(3), ('Unauthorized', 'Legal', 'Citizen'), fontsize = 14)\n",
    "plt.yticks(fontsize = 14)\n",
    "plt.ylabel('')\n",
    "plt.xlabel('')\n",
    "plt.title('Average Family Poverty Level', fontsize = 14)\n",
    "\n",
    "sns.despine()\n",
    "\n",
    "plt.show()"
   ]
  },
  {
   "cell_type": "markdown",
   "metadata": {},
   "source": [
    "The average unauthorized noncitizen are poorer and live in larger households than the average legal noncitizen and the average citizen, respectively. They also live in households where a greater number of them have jobs than legal noncitizens and citizens. __A caveat: these figures were not created with survey weights.__ "
   ]
  },
  {
   "cell_type": "markdown",
   "metadata": {},
   "source": [
    "#### Is Everyone in Household Related? Is There a Citizen in the Household?"
   ]
  },
  {
   "cell_type": "code",
   "execution_count": 105,
   "metadata": {},
   "outputs": [
    {
     "data": {
      "image/png": "[encoded data removed]",
      "text/plain": [
       "<Figure size 1080x540 with 2 Axes>"
      ]
     },
     "metadata": {
      "needs_background": "light"
     },
     "output_type": "display_data"
    }
   ],
   "source": [
    "# Plotting 'hh_related' and 'hhcitizen' as barplots\n",
    "\n",
    "plt.figure(figsize = (15, 7.5))\n",
    "plt.subplots_adjust(hspace = .1)\n",
    "\n",
    "plt.subplot(1, 2, 1)\n",
    "\n",
    "\n",
    "sns.barplot(x = 'legal', y = 'hh_related', data = sipp2008w2_all, ci = 99)\n",
    "plt.ylim(0,1)\n",
    "plt.xticks(np.arange(3), ('Unauthorized', 'Legal', 'Citizen'), fontsize = 14)\n",
    "plt.yticks(fontsize = 14)\n",
    "plt.ylabel('Proportion', fontsize = 14)\n",
    "plt.xlabel('\\n Error bars measure 99% Confidence Intervals')\n",
    "plt.title('Is Everyone in Household Related?', fontsize = 14)\n",
    "sns.despine()\n",
    "\n",
    "plt.subplot(1, 2, 2)\n",
    "\n",
    "sns.barplot(x = 'unauthorized', y = 'hhcitizen', data = sipp2008w2_all, order = [1, 0], ci = 99)\n",
    "plt.ylim(0,1)\n",
    "plt.xticks(np.arange(2), ('Unauthorized', 'Legal'), fontsize = 14)\n",
    "plt.yticks(fontsize = 14)\n",
    "plt.ylabel('')\n",
    "plt.xlabel('')\n",
    "plt.title('Is there a Citizen in the Household?', fontsize = 14)\n",
    "sns.despine()\n",
    "\n",
    "plt.show()"
   ]
  },
  {
   "cell_type": "markdown",
   "metadata": {},
   "source": [
    "The left-hand plot above shows the proportion of people in each class of immigration status who live in a household where everyone is related. Under 70% of unauthorized noncitizens reside in a household where everyone is related, but over 80% of legal noncitizens and citizens live in homes where everyone is related. \n",
    "\n",
    "The plot on the right side focuses only on the noncitizen population and shows the proportions of unauthorized and legal noncitizens, respectively, who live with a citizen. Fewer unauthorized noncitizens live with a citizen than lawfully present noncitizens. "
   ]
  },
  {
   "cell_type": "markdown",
   "metadata": {},
   "source": [
    "#### Gender, Ethnicity, Age"
   ]
  },
  {
   "cell_type": "code",
   "execution_count": 106,
   "metadata": {},
   "outputs": [
    {
     "data": {
      "image/png": "[encoded data removed]",
      "text/plain": [
       "<Figure size 1440x576 with 3 Axes>"
      ]
     },
     "metadata": {
      "needs_background": "light"
     },
     "output_type": "display_data"
    }
   ],
   "source": [
    "plt.figure(figsize = (20, 8))\n",
    "plt.subplots_adjust(hspace = .1)\n",
    "plt.suptitle(\"\", fontsize = 14)\n",
    "\n",
    "plt.subplot(1, 3, 1)\n",
    "\n",
    "sns.barplot(x = 'legal', y = 'female', data = sipp2008w2_all, ci = 99)\n",
    "plt.ylim(0,1)\n",
    "plt.xticks(np.arange(3), ('Unauthorized', 'Legal', 'Citizen'), fontsize = 14)\n",
    "plt.yticks(fontsize = 14)\n",
    "plt.ylabel('Proportion', fontsize = 14)\n",
    "plt.xlabel('\\n Error bars measure 99% confidence intervals', fontsize = 14)\n",
    "plt.title('Female', fontsize = 14)\n",
    "#plt.figtext(0.5, 0.001, 'Error Bars Measure 99% Confidence Intervals', wrap=True, horizontalalignment='center', fontsize=12)\n",
    "\n",
    "sns.despine()\n",
    "\n",
    "plt.subplot(1, 3, 2)\n",
    "\n",
    "sns.barplot(x = 'legal', y = 'hispanic_latino', data = sipp2008w2_all, ci = 99)\n",
    "plt.ylim(0,1)\n",
    "plt.xticks(np.arange(3), ('Unauthorized', 'Legal', 'Citizen'), fontsize = 14)\n",
    "plt.yticks(fontsize = 14)\n",
    "plt.ylabel('')\n",
    "plt.xlabel('')\n",
    "plt.title('Hispanic or Latino', fontsize = 14)\n",
    "\n",
    "sns.despine()\n",
    "\n",
    "plt.subplot(1, 3, 3)\n",
    "sns.barplot(x = 'legal', y = 'tage', data = sipp2008w2_all, ci = 99)\n",
    "plt.ylim(0,50)\n",
    "plt.xticks(np.arange(3), ('Unauthorized', 'Legal', 'Citizen'), fontsize = 14)\n",
    "plt.yticks(fontsize = 14)\n",
    "plt.ylabel('Mean', fontsize = 14)\n",
    "plt.xlabel('')\n",
    "plt.title('Age', fontsize = 14)\n",
    "\n",
    "sns.despine()\n",
    "\n",
    "plt.show()\n"
   ]
  },
  {
   "cell_type": "markdown",
   "metadata": {},
   "source": [
    "Compared to legal noncitizens and citizens, the unauthorized population has relatively fewer females. Also, Hispanics and Latinos make up *much* greater shares of the unauthorized and legal noncitizen population than they do among citizens. Unauthorized noncitizens are also younger, on average, than legal noncitizens and citizens. "
   ]
  },
  {
   "cell_type": "markdown",
   "metadata": {},
   "source": [
    "#### Education and Length of U.S. Residence"
   ]
  },
  {
   "cell_type": "code",
   "execution_count": 107,
   "metadata": {},
   "outputs": [
    {
     "data": {
      "image/png": "[encoded data removed]",
      "text/plain": [
       "<Figure size 1080x540 with 2 Axes>"
      ]
     },
     "metadata": {
      "needs_background": "light"
     },
     "output_type": "display_data"
    }
   ],
   "source": [
    "# Plotting education and length of U.S. residence\n",
    "\n",
    "plt.figure(figsize = (15, 7.5))\n",
    "plt.subplots_adjust(hspace = .1)\n",
    "\n",
    "plt.subplot(1, 2, 1)\n",
    "\n",
    "\n",
    "sns.barplot(x = 'legal', y = 'educ', data = sipp2008w2_all[sipp2008w2_all['educ']> -1], ci = 99)\n",
    "plt.ylim(0,14)\n",
    "plt.xticks(np.arange(3), ('Unauthorized', 'Legal', 'Citizen'), fontsize = 14)\n",
    "plt.yticks(np.arange(14), ('< 1st grade', '1st-4th Grade', '5-6th Grade', '7th or 8th grade', '9th grade', '10th grade', \n",
    "                           '11th grade', '12th grade, no diploma', 'High school', 'Some college', \n",
    "                           'AA | Vocational diploma', 'College degree', \"Master's degree\",\n",
    "                           \"Doctoral\"), fontsize = 14)\n",
    "plt.ylabel('')\n",
    "plt.xlabel('')\n",
    "plt.title('Average Education Level', fontsize = 14)\n",
    "sns.despine()\n",
    "\n",
    "plt.subplot(1, 2, 2)\n",
    "\n",
    "sns.barplot(x = 'unauthorized', y = 'years_us', data = sipp2008w2_all[sipp2008w2_all['years_us']> -1], order = [1, 0], ci = 99)\n",
    "plt.ylim(0,14)\n",
    "plt.xticks(np.arange(2), ('Unauthorized', 'Legal'), fontsize = 14)\n",
    "plt.yticks(fontsize = 14)\n",
    "plt.ylabel('Years', fontsize = 14)\n",
    "plt.xlabel('')\n",
    "plt.title('Average Length of U.S. Residence', fontsize = 14)\n",
    "sns.despine()\n",
    "\n",
    "plt.show()"
   ]
  },
  {
   "cell_type": "markdown",
   "metadata": {},
   "source": [
    "Citizens have higher education levels than noncitizens, and especially unauthorized immigrants. Unauthorized immigrants have an 11th grade education. They have also lived in the U.S. an average of over seven years while lawfully present immigrants have lived here approximately 11 years. "
   ]
  },
  {
   "cell_type": "markdown",
   "metadata": {},
   "source": [
    "#### Insurance "
   ]
  },
  {
   "cell_type": "code",
   "execution_count": 108,
   "metadata": {},
   "outputs": [],
   "source": [
    "insurance = sipp2008w2_all.groupby('legal').insurance.value_counts(normalize = True).rename('proportion').reset_index()"
   ]
  },
  {
   "cell_type": "code",
   "execution_count": 109,
   "metadata": {},
   "outputs": [
    {
     "data": {
      "text/plain": [
       "{1: 'Uninsured',\n",
       " 2: 'Other',\n",
       " 3: 'Privately purchased insurance',\n",
       " 4: 'Employer-sponsored/Union Insurance',\n",
       " 5: 'Military/Veterans insurance',\n",
       " 6: 'Medicaid/CHIP/Medicare'}"
      ]
     },
     "execution_count": 109,
     "metadata": {},
     "output_type": "execute_result"
    }
   ],
   "source": [
    "{1: 'Uninsured', 2: 'Other', 3: 'Privately purchased insurance',\n",
    "                    4: 'Employer-sponsored/Union Insurance', 5: 'Military/Veterans insurance',\n",
    "                    6: 'Medicaid/CHIP/Medicare'}"
   ]
  },
  {
   "cell_type": "code",
   "execution_count": 110,
   "metadata": {},
   "outputs": [
    {
     "data": {
      "image/png": "[encoded data removed]",
      "text/plain": [
       "<Figure size 1152x576 with 3 Axes>"
      ]
     },
     "metadata": {
      "needs_background": "light"
     },
     "output_type": "display_data"
    }
   ],
   "source": [
    "plt.figure(figsize = (16, 8))\n",
    "\n",
    "plt.subplot(1, 3, 1)\n",
    "sns.barplot(x = 'insurance', y = 'proportion', data = insurance[insurance['legal'] == 0])\n",
    "plt.xlabel('')\n",
    "plt.xticks(np.arange(7),\n",
    "           ['Uninsured', 'Other', 'Private', 'Employer/Union', 'Military/Veteran', 'Medicaire, Medicaid, CHIP', ''],\n",
    "          rotation = 90, size = 12 )\n",
    "plt.ylim(0, 1)\n",
    "plt.yticks(np.arange(0, 1.1, step = 0.1))\n",
    "plt.ylabel('Proportion')\n",
    "plt.title('Unauthorized Noncitizens')\n",
    "sns.despine()\n",
    "\n",
    "plt.subplot(1, 3, 2)\n",
    "\n",
    "sns.barplot(x = 'insurance', y = 'proportion', data = insurance[insurance['legal'] == 1])\n",
    "plt.xlabel('')\n",
    "plt.xticks(np.arange(7),\n",
    "           ['Uninsured', 'Other', 'Private', 'Employer/Union', 'Military/Veteran', 'Medicaire, Medicaid, CHIP', ''],\n",
    "          rotation = 90, size = 12 )\n",
    "plt.ylim(0, 1)\n",
    "plt.yticks(np.arange(0, 1.1, step = 0.1))\n",
    "plt.ylabel('')\n",
    "plt.title('Lawfully Present Noncitizens')\n",
    "sns.despine()\n",
    "\n",
    "plt.subplot(1, 3, 3)\n",
    "\n",
    "sns.barplot(x = 'insurance', y = 'proportion', data = insurance[insurance['legal'] == 2])\n",
    "plt.xlabel('')\n",
    "plt.xticks(np.arange(7),\n",
    "           ['Uninsured', 'Other', 'Private', 'Employer/Union', 'Military/Veteran', 'Medicaire, Medicaid, CHIP', ''],\n",
    "          rotation = 90, size = 12 )\n",
    "plt.ylim(0, 1)\n",
    "plt.yticks(np.arange(0, 1.1, step = 0.1))\n",
    "plt.ylabel('')\n",
    "plt.title('Citizens')\n",
    "sns.despine()\n",
    "\n",
    "plt.show()"
   ]
  },
  {
   "cell_type": "markdown",
   "metadata": {},
   "source": [
    "There are huge differences between the immigration status groups when it comes to insurance coverage. About 15% of citizens are uninsured, while between 40% and 50% of legal noncitizens do not have insurance coverage, but 70% of unauthorized citizens are without coverage! Among lawfully present noncitizens and citizens, the distribution of coverage also varies in meaningful ways. The majority of citizens get their insurance through their employers or from public programs like Medicare, Medicaid, or the Children's Health Insurance Program (CHIP). Fewer lawfully present noncitizens have job-related insurance and fewer are also on public insurance programs. "
   ]
  },
  {
   "cell_type": "markdown",
   "metadata": {},
   "source": [
    "#### Employment"
   ]
  },
  {
   "cell_type": "code",
   "execution_count": 111,
   "metadata": {},
   "outputs": [],
   "source": [
    "industry = sipp2008w2_all.groupby('legal').job.value_counts(normalize = True).rename('proportion').reset_index()"
   ]
  },
  {
   "cell_type": "code",
   "execution_count": 112,
   "metadata": {},
   "outputs": [
    {
     "data": {
      "image/png": "[encoded data removed]",
      "text/plain": [
       "<Figure size 1152x576 with 3 Axes>"
      ]
     },
     "metadata": {
      "needs_background": "light"
     },
     "output_type": "display_data"
    }
   ],
   "source": [
    "plt.figure(figsize = (16, 8))\n",
    "\n",
    "plt.subplot(1, 3, 1)\n",
    "sns.barplot(x = 'job', y = 'proportion', data = industry[industry['legal'] == 0])\n",
    "plt.xlabel('')\n",
    "plt.xticks(np.arange(6), \n",
    "          ['Not in Universe', 'Unemployed', 'Construction', 'Wholesale', 'Professional Services', 'Other Industries'],\n",
    "          rotation = 90, size = 12)\n",
    "plt.ylim(0, 1)\n",
    "plt.ylabel('Proportion')\n",
    "plt.yticks(np.arange(0, 1.1, step = 0.1))\n",
    "plt.title('Unauthorized Noncitizens')\n",
    "sns.despine()\n",
    "\n",
    "plt.subplot(1,3,2)\n",
    "sns.barplot(x = 'job', y = 'proportion', data = industry[industry['legal'] == 1])\n",
    "plt.xlabel('')\n",
    "plt.xticks(np.arange(6), \n",
    "          ['Not in Universe', 'Unemployed', 'Construction', 'Wholesale', 'Professional Services', 'Other Industries'],\n",
    "          rotation = 90, size = 12)\n",
    "plt.ylim(0, 1)\n",
    "plt.ylabel('')\n",
    "plt.yticks(np.arange(0, 1.1, step = 0.1))\n",
    "plt.title('Lawfully Present Noncitizens')\n",
    "sns.despine()\n",
    "\n",
    "plt.subplot(1,3,3)\n",
    "sns.barplot(x = 'job', y = 'proportion', data = industry[industry['legal'] == 2])\n",
    "plt.xlabel('')\n",
    "plt.xticks(np.arange(6), \n",
    "          ['Not in Universe', 'Unemployed', 'Construction', 'Wholesale', 'Professional Services', 'Other Industries'],\n",
    "          rotation = 90, size = 12)\n",
    "plt.ylim(0, 1)\n",
    "plt.ylabel('')\n",
    "plt.yticks(np.arange(0, 1.1, step = 0.1))\n",
    "plt.title('Citizens')\n",
    "sns.despine()\n",
    "\n",
    "plt.show()"
   ]
  },
  {
   "cell_type": "markdown",
   "metadata": {},
   "source": [
    "Comparing the immigration status groups by job industry, there are two meaningful differences between the groups: 1) Unauthorized immigrants report higher rates of unemployment (though the differences in unemployment rates are less than 10% across the groups), and 2) a greater share of unauthorized immigrants work in construction than legal noncitizens or citizens. "
   ]
  },
  {
   "cell_type": "markdown",
   "metadata": {},
   "source": [
    "#### Region of Birth"
   ]
  },
  {
   "cell_type": "code",
   "execution_count": 113,
   "metadata": {},
   "outputs": [],
   "source": [
    "birthregion = sipp2008w2_all.groupby('legal').region_birth.value_counts(normalize = True).rename('proportion').reset_index()"
   ]
  },
  {
   "cell_type": "code",
   "execution_count": 114,
   "metadata": {},
   "outputs": [
    {
     "data": {
      "text/html": [
       "<div>\n",
       "<style scoped>\n",
       "    .dataframe tbody tr th:only-of-type {\n",
       "        vertical-align: middle;\n",
       "    }\n",
       "\n",
       "    .dataframe tbody tr th {\n",
       "        vertical-align: top;\n",
       "    }\n",
       "\n",
       "    .dataframe thead th {\n",
       "        text-align: right;\n",
       "    }\n",
       "</style>\n",
       "<table border=\"1\" class=\"dataframe\">\n",
       "  <thead>\n",
       "    <tr style=\"text-align: right;\">\n",
       "      <th>col_0</th>\n",
       "      <th>counts</th>\n",
       "    </tr>\n",
       "    <tr>\n",
       "      <th>region_birth</th>\n",
       "      <th></th>\n",
       "    </tr>\n",
       "  </thead>\n",
       "  <tbody>\n",
       "    <tr>\n",
       "      <th>-1</th>\n",
       "      <td>20757</td>\n",
       "    </tr>\n",
       "    <tr>\n",
       "      <th>1</th>\n",
       "      <td>66255</td>\n",
       "    </tr>\n",
       "    <tr>\n",
       "      <th>2</th>\n",
       "      <td>609</td>\n",
       "    </tr>\n",
       "    <tr>\n",
       "      <th>3</th>\n",
       "      <td>683</td>\n",
       "    </tr>\n",
       "    <tr>\n",
       "      <th>4</th>\n",
       "      <td>813</td>\n",
       "    </tr>\n",
       "    <tr>\n",
       "      <th>5</th>\n",
       "      <td>960</td>\n",
       "    </tr>\n",
       "    <tr>\n",
       "      <th>6</th>\n",
       "      <td>729</td>\n",
       "    </tr>\n",
       "    <tr>\n",
       "      <th>7</th>\n",
       "      <td>1262</td>\n",
       "    </tr>\n",
       "    <tr>\n",
       "      <th>8</th>\n",
       "      <td>457</td>\n",
       "    </tr>\n",
       "    <tr>\n",
       "      <th>9</th>\n",
       "      <td>1009</td>\n",
       "    </tr>\n",
       "    <tr>\n",
       "      <th>10</th>\n",
       "      <td>4222</td>\n",
       "    </tr>\n",
       "    <tr>\n",
       "      <th>11</th>\n",
       "      <td>622</td>\n",
       "    </tr>\n",
       "    <tr>\n",
       "      <th>12</th>\n",
       "      <td>126</td>\n",
       "    </tr>\n",
       "  </tbody>\n",
       "</table>\n",
       "</div>"
      ],
      "text/plain": [
       "col_0         counts\n",
       "region_birth        \n",
       "-1             20757\n",
       " 1             66255\n",
       " 2               609\n",
       " 3               683\n",
       " 4               813\n",
       " 5               960\n",
       " 6               729\n",
       " 7              1262\n",
       " 8               457\n",
       " 9              1009\n",
       " 10             4222\n",
       " 11              622\n",
       " 12              126"
      ]
     },
     "execution_count": 114,
     "metadata": {},
     "output_type": "execute_result"
    }
   ],
   "source": [
    "pd.crosstab(sipp2008w2_all['region_birth'], columns = 'counts')"
   ]
  },
  {
   "cell_type": "code",
   "execution_count": 115,
   "metadata": {},
   "outputs": [
    {
     "data": {
      "image/png": "[encoded data removed]",
      "text/plain": [
       "<Figure size 936x576 with 2 Axes>"
      ]
     },
     "metadata": {
      "needs_background": "light"
     },
     "output_type": "display_data"
    }
   ],
   "source": [
    "plt.figure(figsize = (13, 8))\n",
    "plt.suptitle('Noncitizens by Region of Birth', size = 14)\n",
    "\n",
    "plt.subplot(1, 2, 1)\n",
    "sns.barplot(x = 'region_birth', y = 'proportion', data = birthregion[birthregion['legal'] == 0])\n",
    "plt.xlabel('')\n",
    "plt.xlim(-1, 12)\n",
    "plt.xticks(np.arange(0, 12, step = 1), \n",
    "           ['Not in Universe','North America (Non-U.S.)', 'Northern and Western Europe', 'Southern and Eastern Europe', \n",
    "            'Eastern Asia', 'South Central Asia', 'Southeast and West Asia, Australia, New Zealand', \n",
    "            'Africa', 'Caribbean', 'Central America', 'South America', 'Everywhere Else'],\n",
    "          rotation = 90, size = 12)\n",
    "plt.ylim(0, 1)\n",
    "plt.ylabel('Proportion')\n",
    "plt.yticks(np.arange(0, 1.1, step = 0.1))\n",
    "plt.title('Unauthorized')\n",
    "sns.despine()\n",
    "\n",
    "plt.subplot(1, 2, 2)\n",
    "sns.barplot(x = 'region_birth', y = 'proportion', data = birthregion[birthregion['legal'] == 1])\n",
    "plt.xlabel('')\n",
    "plt.xlim(-1, 12)\n",
    "plt.xticks(np.arange(0, 12, step = 1), \n",
    "           ['Not in Universe', 'North America (Non-U.S.)', 'Northern and Western Europe', 'Southern and Eastern Europe', \n",
    "            'Eastern Asia', 'South Central Asia', 'Southeast and West Asia, Australia, New Zealand', \n",
    "            'Africa', 'Caribbean', 'Central America', 'South America', 'Everywhere Else'],\n",
    "          rotation = 90, size = 12)\n",
    "plt.ylim(0, 1)\n",
    "plt.ylabel('Proportion')\n",
    "plt.yticks(np.arange(0, 1.1, step = 0.1))\n",
    "plt.title('Lawfully Present')\n",
    "sns.despine()\n"
   ]
  },
  {
   "cell_type": "markdown",
   "metadata": {},
   "source": [
    "The strong majority of unauthorized immigrants, roughly 70%, are from Central America and it is likely that most of them are from Mexico. Unfortunately, we are unable to confirm this in the data because the SIPP does not provide country of birth for its respondents in its public use files, with the exception of the United States. The rest of possibilities are regional in nature. We see a simiilar trend in lawfully present noncitizens, as almost half of them are also from Central America.  The 'everywhere else' category is undefined in the SIPP documentation, so we cannot determine precisely where those respondents were born. "
   ]
  },
  {
   "cell_type": "markdown",
   "metadata": {},
   "source": [
    "#### English Proficiency"
   ]
  },
  {
   "cell_type": "code",
   "execution_count": 116,
   "metadata": {},
   "outputs": [],
   "source": [
    "proficiency = sipp2008w2_all.groupby('legal').english.value_counts(normalize = True).rename('proportion').reset_index()"
   ]
  },
  {
   "cell_type": "code",
   "execution_count": 117,
   "metadata": {},
   "outputs": [
    {
     "data": {
      "image/png": "[encoded data removed]",
      "text/plain": [
       "<Figure size 1152x576 with 3 Axes>"
      ]
     },
     "metadata": {
      "needs_background": "light"
     },
     "output_type": "display_data"
    }
   ],
   "source": [
    "plt.figure(figsize = (16, 8))\n",
    "plt.suptitle('English Proficiency by Immigration Status', size = 14)\n",
    "\n",
    "plt.subplot(1, 3, 1)\n",
    "sns.barplot(x = 'english', y = 'proportion', data = proficiency[proficiency['legal'] == 0])\n",
    "plt.xlabel('')\n",
    "plt.xlim(-1, 5)\n",
    "plt.xticks(np.arange(5), ['Not in Universe', 'Not at all', 'Not well', 'Well', 'Very well'],\n",
    "           rotation = 90, size = 12)\n",
    "plt.ylim(0, 1)\n",
    "plt.ylabel('Proportion')\n",
    "plt.yticks(np.arange(0, 1.1, step = 0.1))\n",
    "plt.title('Unauthorized Noncitizens')\n",
    "sns.despine()\n",
    "\n",
    "plt.subplot(1, 3, 2)\n",
    "sns.barplot(x = 'english', y = 'proportion', data = proficiency[proficiency['legal'] == 1])\n",
    "plt.xlabel('')\n",
    "plt.xlim(-1, 5)\n",
    "plt.xticks(np.arange(5), ['Not in Universe', 'Not at all', 'Not well', 'Well', 'Very well'],\n",
    "           rotation = 90, size = 12)\n",
    "plt.ylim(0, 1)\n",
    "plt.ylabel('Proportion')\n",
    "plt.yticks(np.arange(0, 1.1, step = 0.1))\n",
    "plt.title('Lawfully Present Noncitizens')\n",
    "sns.despine()\n",
    "\n",
    "plt.subplot(1, 3, 3)\n",
    "sns.barplot(x = 'english', y = 'proportion', data = proficiency[proficiency['legal'] == 2])\n",
    "plt.xlabel('')\n",
    "plt.xlim(-1, 5)\n",
    "plt.xticks(np.arange(5), ['Not in Universe', 'Not at all', 'Not well', 'Well', 'Very well'],\n",
    "           rotation = 90, size = 12)\n",
    "plt.ylim(0, 1)\n",
    "plt.ylabel('Proportion')\n",
    "plt.yticks(np.arange(0, 1.1, step = 0.1))\n",
    "plt.title('Citizens')\n",
    "sns.despine()\n",
    "\n",
    "\n",
    "plt.show()"
   ]
  },
  {
   "cell_type": "markdown",
   "metadata": {},
   "source": [
    "Citizens' proficiency in English is noticeably better than that of noncitizens, but legal noncitizens are marginally better English speakers than unauthorized immigrants. About half of legal noncitizens report speaking English very well, but only 30% of unauthorized immigrants do. "
   ]
  },
  {
   "cell_type": "markdown",
   "metadata": {},
   "source": [
    "#### Functional Limitations"
   ]
  },
  {
   "cell_type": "code",
   "execution_count": 118,
   "metadata": {},
   "outputs": [],
   "source": [
    "limitations = sipp2008w2_all.groupby('legal').limitations.value_counts(normalize = True).rename('proportion').reset_index()"
   ]
  },
  {
   "cell_type": "code",
   "execution_count": 119,
   "metadata": {},
   "outputs": [
    {
     "data": {
      "image/png": "[encoded data removed]",
      "text/plain": [
       "<Figure size 1152x576 with 3 Axes>"
      ]
     },
     "metadata": {
      "needs_background": "light"
     },
     "output_type": "display_data"
    }
   ],
   "source": [
    "plt.figure(figsize = (16, 8))\n",
    "plt.suptitle('Functional Limitations by Immigration Status', size = 14)\n",
    "\n",
    "plt.subplot(1, 3, 1)\n",
    "sns.barplot(x = 'limitations', y = 'proportion', data = limitations[limitations['legal'] == 0])\n",
    "plt.xlabel('')\n",
    "plt.xlim(-1, 6)\n",
    "plt.xticks(np.arange(8), ['Not\\nin\\nUniverse', 0, 1, 2, 3, 4, 5, 6], size = 12)\n",
    "plt.ylim(0, 1)\n",
    "plt.ylabel('Proportion')\n",
    "plt.yticks(np.arange(0, 1.1, step = 0.1))\n",
    "plt.title('Unauthorized Noncitizens')\n",
    "sns.despine()\n",
    "\n",
    "plt.subplot(1, 3, 2)\n",
    "sns.barplot(x = 'limitations', y = 'proportion', data = limitations[limitations['legal'] == 1])\n",
    "plt.xlabel('')\n",
    "plt.xlim(-1, 6)\n",
    "plt.xticks(np.arange(8), ['Not\\nin\\nUniverse', 0, 1, 2, 3, 4, 5, 6], size = 12)\n",
    "plt.ylim(0, 1)\n",
    "plt.ylabel('')\n",
    "plt.yticks(np.arange(0, 1.1, step = 0.1))\n",
    "plt.title('Lawfully Present Noncitizens')\n",
    "sns.despine()\n",
    "\n",
    "plt.subplot(1, 3, 3)\n",
    "sns.barplot(x = 'limitations', y = 'proportion', data = limitations[limitations['legal'] == 2])\n",
    "plt.xlabel('')\n",
    "plt.xlim(-1, 6)\n",
    "plt.xticks(np.arange(8), ['Not\\nin\\nUniverse', 0, 1, 2, 3, 4, 5, 6], size = 12)\n",
    "plt.ylim(0, 1)\n",
    "plt.ylabel('')\n",
    "plt.yticks(np.arange(0, 1.1, step = 0.1))\n",
    "plt.title('Citizens')\n",
    "sns.despine()\n",
    "\n",
    "\n",
    "plt.show()"
   ]
  },
  {
   "cell_type": "markdown",
   "metadata": {},
   "source": [
    "Citizens are about 20% more likely to have functional disabilities than noncitizens. But, noncitizens do not vary with resepct to reporting them. "
   ]
  },
  {
   "cell_type": "code",
   "execution_count": 120,
   "metadata": {},
   "outputs": [
    {
     "data": {
      "text/html": [
       "<div>\n",
       "<style scoped>\n",
       "    .dataframe tbody tr th:only-of-type {\n",
       "        vertical-align: middle;\n",
       "    }\n",
       "\n",
       "    .dataframe tbody tr th {\n",
       "        vertical-align: top;\n",
       "    }\n",
       "\n",
       "    .dataframe thead th {\n",
       "        text-align: right;\n",
       "    }\n",
       "</style>\n",
       "<table border=\"1\" class=\"dataframe\">\n",
       "  <thead>\n",
       "    <tr style=\"text-align: right;\">\n",
       "      <th>col_0</th>\n",
       "      <th>counts</th>\n",
       "    </tr>\n",
       "    <tr>\n",
       "      <th>tbrstate</th>\n",
       "      <th></th>\n",
       "    </tr>\n",
       "  </thead>\n",
       "  <tbody>\n",
       "    <tr>\n",
       "      <th>-1</th>\n",
       "      <td>20757</td>\n",
       "    </tr>\n",
       "    <tr>\n",
       "      <th>1</th>\n",
       "      <td>1242</td>\n",
       "    </tr>\n",
       "    <tr>\n",
       "      <th>2</th>\n",
       "      <td>147</td>\n",
       "    </tr>\n",
       "    <tr>\n",
       "      <th>4</th>\n",
       "      <td>806</td>\n",
       "    </tr>\n",
       "    <tr>\n",
       "      <th>5</th>\n",
       "      <td>682</td>\n",
       "    </tr>\n",
       "    <tr>\n",
       "      <th>...</th>\n",
       "      <td>...</td>\n",
       "    </tr>\n",
       "    <tr>\n",
       "      <th>567</th>\n",
       "      <td>1262</td>\n",
       "    </tr>\n",
       "    <tr>\n",
       "      <th>568</th>\n",
       "      <td>457</td>\n",
       "    </tr>\n",
       "    <tr>\n",
       "      <th>569</th>\n",
       "      <td>1009</td>\n",
       "    </tr>\n",
       "    <tr>\n",
       "      <th>570</th>\n",
       "      <td>4222</td>\n",
       "    </tr>\n",
       "    <tr>\n",
       "      <th>571</th>\n",
       "      <td>622</td>\n",
       "    </tr>\n",
       "  </tbody>\n",
       "</table>\n",
       "<p>63 rows × 1 columns</p>\n",
       "</div>"
      ],
      "text/plain": [
       "col_0     counts\n",
       "tbrstate        \n",
       "-1         20757\n",
       " 1          1242\n",
       " 2           147\n",
       " 4           806\n",
       " 5           682\n",
       "...          ...\n",
       " 567        1262\n",
       " 568         457\n",
       " 569        1009\n",
       " 570        4222\n",
       " 571         622\n",
       "\n",
       "[63 rows x 1 columns]"
      ]
     },
     "execution_count": 120,
     "metadata": {},
     "output_type": "execute_result"
    }
   ],
   "source": [
    "pd.crosstab(sipp2008w2_all['tbrstate'], columns = \"counts\")"
   ]
  },
  {
   "cell_type": "markdown",
   "metadata": {},
   "source": [
    "### Focusing Data on Noncitizens and Mitigating Outliers"
   ]
  },
  {
   "cell_type": "code",
   "execution_count": 121,
   "metadata": {},
   "outputs": [],
   "source": [
    "# Reducing data to noncitizens\n",
    "\n",
    "sipp_noncitizens = sipp2008w2_all[sipp2008w2_all['unauthorized'].notnull()]"
   ]
  },
  {
   "cell_type": "code",
   "execution_count": 122,
   "metadata": {},
   "outputs": [],
   "source": [
    "numeric_features = ['years_us', 'educ', 'poverty', 'num_hh', 'hh_workers']"
   ]
  },
  {
   "cell_type": "code",
   "execution_count": 123,
   "metadata": {},
   "outputs": [
    {
     "data": {
      "image/png": "[encoded data removed]",
      "text/plain": [
       "<Figure size 432x288 with 1 Axes>"
      ]
     },
     "metadata": {
      "needs_background": "light"
     },
     "output_type": "display_data"
    },
    {
     "data": {
      "image/png": "[encoded data removed]",
      "text/plain": [
       "<Figure size 432x288 with 1 Axes>"
      ]
     },
     "metadata": {
      "needs_background": "light"
     },
     "output_type": "display_data"
    },
    {
     "data": {
      "image/png": "[encoded data removed]",
      "text/plain": [
       "<Figure size 432x288 with 1 Axes>"
      ]
     },
     "metadata": {
      "needs_background": "light"
     },
     "output_type": "display_data"
    },
    {
     "data": {
      "image/png": "[encoded data removed]",
      "text/plain": [
       "<Figure size 432x288 with 1 Axes>"
      ]
     },
     "metadata": {
      "needs_background": "light"
     },
     "output_type": "display_data"
    },
    {
     "data": {
      "image/png": "[encoded data removed]",
      "text/plain": [
       "<Figure size 432x288 with 1 Axes>"
      ]
     },
     "metadata": {
      "needs_background": "light"
     },
     "output_type": "display_data"
    }
   ],
   "source": [
    "# Checking for outliers in numeric features among noncitizens\n",
    "\n",
    "for feature in numeric_features:\n",
    "    sns.boxplot(x = feature, data = sipp_noncitizens)\n",
    "    plt.xlabel('Box Plot of '+ feature)\n",
    "    plt.show()"
   ]
  },
  {
   "cell_type": "markdown",
   "metadata": {},
   "source": [
    "Most of the numeric features have outliers, which we will mitigate here. Education does not have extreme values here. "
   ]
  },
  {
   "cell_type": "code",
   "execution_count": 124,
   "metadata": {},
   "outputs": [
    {
     "data": {
      "image/png": "[encoded data removed]",
      "text/plain": [
       "<Figure size 432x288 with 1 Axes>"
      ]
     },
     "metadata": {
      "needs_background": "light"
     },
     "output_type": "display_data"
    },
    {
     "data": {
      "image/png": "[encoded data removed]",
      "text/plain": [
       "<Figure size 432x288 with 1 Axes>"
      ]
     },
     "metadata": {
      "needs_background": "light"
     },
     "output_type": "display_data"
    }
   ],
   "source": [
    "sipp_noncitizens['winsorized_years_us'] = winsorize(sipp_noncitizens['years_us'], (0.0, 0.07))\n",
    "\n",
    "sns.boxplot(x = 'years_us', data = sipp_noncitizens)\n",
    "plt.xlabel('Box Plot of years_us')\n",
    "plt.show()\n",
    "\n",
    "sns.boxplot(x = 'winsorized_years_us', data = sipp_noncitizens)\n",
    "plt.xlabel('Box Plot of winsorized_years_us')\n",
    "\n",
    "plt.show()"
   ]
  },
  {
   "cell_type": "markdown",
   "metadata": {},
   "source": [
    "The feature measuring how many years noncitizens have lived in the U.S. has extreme values at the right tail of the distribution and I capped it at the 93rd percentile.  "
   ]
  },
  {
   "cell_type": "code",
   "execution_count": 125,
   "metadata": {},
   "outputs": [
    {
     "data": {
      "image/png": "[encoded data removed]",
      "text/plain": [
       "<Figure size 432x288 with 1 Axes>"
      ]
     },
     "metadata": {
      "needs_background": "light"
     },
     "output_type": "display_data"
    },
    {
     "data": {
      "image/png": "[encoded data removed]",
      "text/plain": [
       "<Figure size 432x288 with 1 Axes>"
      ]
     },
     "metadata": {
      "needs_background": "light"
     },
     "output_type": "display_data"
    }
   ],
   "source": [
    "sipp_noncitizens['winsorized_poverty'] = winsorize(sipp_noncitizens['poverty'], (0.001, 0.08))\n",
    "\n",
    "sns.boxplot(x = 'poverty', data = sipp_noncitizens)\n",
    "plt.xlabel('Box Plot of poverty')\n",
    "plt.show()\n",
    "\n",
    "sns.boxplot(x = 'winsorized_poverty', data = sipp_noncitizens)\n",
    "plt.xlabel('Box Plot of winsorized_poverty')\n",
    "\n",
    "plt.show()"
   ]
  },
  {
   "cell_type": "markdown",
   "metadata": {},
   "source": [
    "The __poverty__ feature, which measures the ratio of family income to the poverty threshold, has extreme values on both ends of the distribution. I capped the left, or lower end, at the .001st percentile and the right, or higher end, at the 92nd percentile. "
   ]
  },
  {
   "cell_type": "markdown",
   "metadata": {},
   "source": [
    "The household size feature, 'num_hh', has extreme ends on the right end of the distribution. I am going to cap the feature at the 96th percentile."
   ]
  },
  {
   "cell_type": "code",
   "execution_count": 126,
   "metadata": {},
   "outputs": [
    {
     "data": {
      "image/png": "[encoded data removed]",
      "text/plain": [
       "<Figure size 432x288 with 1 Axes>"
      ]
     },
     "metadata": {
      "needs_background": "light"
     },
     "output_type": "display_data"
    },
    {
     "data": {
      "image/png": "[encoded data removed]",
      "text/plain": [
       "<Figure size 432x288 with 1 Axes>"
      ]
     },
     "metadata": {
      "needs_background": "light"
     },
     "output_type": "display_data"
    }
   ],
   "source": [
    "sipp_noncitizens['winsorized_num_hh'] = winsorize(sipp_noncitizens['num_hh'], (0.0, 0.04))\n",
    "\n",
    "sns.boxplot(x = 'num_hh', data = sipp_noncitizens)\n",
    "plt.xlabel('Box Plot of num_hh')\n",
    "plt.show()\n",
    "\n",
    "sns.boxplot(x = 'winsorized_num_hh', data = sipp_noncitizens)\n",
    "plt.xlabel('Box Plot of winsorized_num_hh')\n",
    "\n",
    "plt.show()"
   ]
  },
  {
   "cell_type": "markdown",
   "metadata": {},
   "source": [
    "The feature measuring the number of workers in the household has extreme measures on the right end of the distribution and I capped it at the 90th percentile. "
   ]
  },
  {
   "cell_type": "code",
   "execution_count": 127,
   "metadata": {},
   "outputs": [
    {
     "data": {
      "image/png": "[encoded data removed]",
      "text/plain": [
       "<Figure size 432x288 with 1 Axes>"
      ]
     },
     "metadata": {
      "needs_background": "light"
     },
     "output_type": "display_data"
    },
    {
     "data": {
      "image/png": "[encoded data removed]",
      "text/plain": [
       "<Figure size 432x288 with 1 Axes>"
      ]
     },
     "metadata": {
      "needs_background": "light"
     },
     "output_type": "display_data"
    }
   ],
   "source": [
    "sipp_noncitizens['winsorized_hh_workers'] = winsorize(sipp_noncitizens['hh_workers'], (0.0, 0.1))\n",
    "\n",
    "sns.boxplot(x = 'hh_workers', data = sipp_noncitizens)\n",
    "plt.xlabel('Box Plot of hh_workers')\n",
    "plt.show()\n",
    "\n",
    "sns.boxplot(x = 'winsorized_hh_workers', data = sipp_noncitizens)\n",
    "plt.xlabel('Box Plot of winsorized_hh_workers')\n",
    "\n",
    "plt.show()"
   ]
  },
  {
   "cell_type": "markdown",
   "metadata": {},
   "source": [
    "## Feature Selection"
   ]
  },
  {
   "cell_type": "markdown",
   "metadata": {},
   "source": [
    "|__Variables from Literature__|__Variables__ |\n",
    "|-|-|\n",
    "| Family poverty level | winsorized_poverty |\n",
    "| education level |\teduc |\n",
    "| Born in Mexico/Region of Birth | region_birth |\n",
    "| Years of U.S. residence |\twinsorized_years_us |\n",
    "| age |\ttage |\n",
    "| gender | esex |\n",
    "| Number of functional limitations (disabilities) |\tlimitations |\n",
    "| Year of US entry | years_us |\n",
    "| Job industry classification | job |\n",
    "| employment status | job |\n",
    "| State of residence | noncitizen_state, nc_state |\n",
    "| Ownership or rental of residence | etenure | \n",
    "| Presence of at least one citizen in household | hhcitizen |\n",
    "| Number of occupants in the household (< or >= six occupants) | winsorized_num_hh |\n",
    "| Whether all household occupants are related |\thh_related |\n",
    "| Number of workers in household | winsorized_hh_workers |\n",
    "| Health insurance coverage status | insurance |\n",
    "| Gender | female |\n",
    "| Ethnicity-Hispanic or Latino Origin | hispanic_latino |\n",
    "| English language proficiency\t| english |\n",
    "| Are they married or not |\tmarried |\n",
    "| parental status (has children) | rdesgpnt |"
   ]
  },
  {
   "cell_type": "markdown",
   "metadata": {},
   "source": [
    "### Class Imbalance"
   ]
  },
  {
   "cell_type": "code",
   "execution_count": 128,
   "metadata": {},
   "outputs": [
    {
     "data": {
      "text/html": [
       "<div>\n",
       "<style scoped>\n",
       "    .dataframe tbody tr th:only-of-type {\n",
       "        vertical-align: middle;\n",
       "    }\n",
       "\n",
       "    .dataframe tbody tr th {\n",
       "        vertical-align: top;\n",
       "    }\n",
       "\n",
       "    .dataframe thead th {\n",
       "        text-align: right;\n",
       "    }\n",
       "</style>\n",
       "<table border=\"1\" class=\"dataframe\">\n",
       "  <thead>\n",
       "    <tr style=\"text-align: right;\">\n",
       "      <th>col_0</th>\n",
       "      <th>proportion</th>\n",
       "    </tr>\n",
       "    <tr>\n",
       "      <th>unauthorized</th>\n",
       "      <th></th>\n",
       "    </tr>\n",
       "  </thead>\n",
       "  <tbody>\n",
       "    <tr>\n",
       "      <th>0.0</th>\n",
       "      <td>0.72067</td>\n",
       "    </tr>\n",
       "    <tr>\n",
       "      <th>1.0</th>\n",
       "      <td>0.27933</td>\n",
       "    </tr>\n",
       "  </tbody>\n",
       "</table>\n",
       "</div>"
      ],
      "text/plain": [
       "col_0         proportion\n",
       "unauthorized            \n",
       "0.0              0.72067\n",
       "1.0              0.27933"
      ]
     },
     "execution_count": 128,
     "metadata": {},
     "output_type": "execute_result"
    }
   ],
   "source": [
    "pd.crosstab(sipp_noncitizens['unauthorized'], columns = \"proportion\", normalize = True)"
   ]
  },
  {
   "cell_type": "markdown",
   "metadata": {},
   "source": [
    "Our target has a class imbalance, as roughly 72% of noncitizens are likely legal and 28% are likely unauthorized. I am going to use the Synthetic Minority Oversampling Technique (S.M.O.T.E) to balance the target and then train the models. We'll use a combination of under-sampling the majority class and over-sampling the minority class with SMOTE-NC because we have a mix of continuous and nominal features. "
   ]
  },
  {
   "cell_type": "markdown",
   "metadata": {},
   "source": [
    "### Testing Each of the Three Models\n",
    "\n",
    "I am going to test each model's ability to classify noncitizens using Logistic Regression to determine which one we should use going forward. Or, if none of them are impressive, I'll build one that borrows features from each of the three. There is considerable overlap between all of them, so they may vary only slightly."
   ]
  },
  {
   "cell_type": "code",
   "execution_count": 129,
   "metadata": {},
   "outputs": [],
   "source": [
    "# Let's assign the Bernoulli Naive Bayes to an object so we can save on typing\n",
    "\n",
    "logit = LogisticRegression(random_state = 13)"
   ]
  },
  {
   "cell_type": "code",
   "execution_count": 130,
   "metadata": {},
   "outputs": [],
   "source": [
    "\n",
    "# Let's do the same for our cross validation algorithm, which is a repeated stratified\n",
    "# K-fold (repeat 3 times)\n",
    "\n",
    "cv = RepeatedStratifiedKFold(n_splits=10, n_repeats=3, random_state=13)"
   ]
  },
  {
   "cell_type": "markdown",
   "metadata": {},
   "source": [
    "### KFF Features\n",
    "\n",
    "- Year of US entry, (tmoveus)\n",
    "- Job industry classification, (job dummies)\n",
    "- State of residence, (noncitizen_state dummies)\n",
    "- Family Poverty Level, (poverty)\n",
    "- Ownership or rental of residence, (etenure dummies)\n",
    "- Presence of at least one citizen in household, (hhcitizen)\n",
    "- Number of occupants in the household (< or >= six occupants), (num_hh)\n",
    "- Whether all household occupants are related, (hh_related)\n",
    "- Number of workers in household, (hh_workers)\n",
    "- Health insurance coverage status, (insurance dummies)\n",
    "- Gender (female)\n",
    "- Ethnicity-Hispanic or Latino Origin (hispanic_latino)\n",
    "\n",
    "We need to convert the categoricals into dummies."
   ]
  },
  {
   "cell_type": "code",
   "execution_count": 131,
   "metadata": {},
   "outputs": [],
   "source": [
    "# Creating a KFF model dataframe\n",
    "# Some of them will have to be converted to dummies\n",
    "\n",
    "sipp_kff = sipp_noncitizens[[\"unauthorized\", \"pid\", \"tmoveus\", \"job\", \"noncitizen_state\", \"poverty\",\n",
    "           \"etenure\", \"hhcitizen\", \"winsorized_num_hh\", \"hh_related\", \"winsorized_hh_workers\",\n",
    "           \"insurance\", \"female\", \"hispanic_latino\"]]"
   ]
  },
  {
   "cell_type": "code",
   "execution_count": 132,
   "metadata": {},
   "outputs": [],
   "source": [
    "# Let's take the categorical variables and turn them into series of dummies\n",
    "\n",
    "# Insurance\n",
    "sipp_kff = pd.concat([sipp_kff, pd.get_dummies(sipp_kff['insurance'], prefix = 'insurance', drop_first = False)], axis=1)\n",
    "\n",
    "# tmoveus\n",
    "sipp_kff = pd.concat([sipp_kff, pd.get_dummies(sipp_kff['tmoveus'], prefix = 'tmoveus', drop_first = True)], axis=1)\n",
    "\n",
    "# job\n",
    "sipp_kff = pd.concat([sipp_kff, pd.get_dummies(sipp_kff['job'], prefix = 'job', drop_first = True)], axis=1)\n",
    "\n",
    "# Rent/Own HH\n",
    "sipp_kff = pd.concat([sipp_kff, pd.get_dummies(sipp_kff['etenure'], prefix = 'etenure', drop_first = True)], axis=1)\n",
    "\n",
    "# States\n",
    "sipp_kff = pd.concat([sipp_kff, pd.get_dummies(sipp_kff['noncitizen_state'], prefix = \"ncstate\", drop_first = True)], axis=1)\n",
    "\n",
    "# Let's drop the source categoricals\n",
    "sipp_kff.drop(['insurance', 'insurance_6.0', 'tmoveus', 'job', 'etenure',\n",
    "               'noncitizen_state',], axis = 1, inplace = True)"
   ]
  },
  {
   "cell_type": "code",
   "execution_count": 133,
   "metadata": {},
   "outputs": [],
   "source": [
    "# Setting up the target and the model\n",
    "\n",
    "X = sipp_kff.drop(['unauthorized', 'pid'],\n",
    "                      axis = 1)\n",
    "y = sipp_kff['unauthorized']\n",
    "\n",
    "X_train, X_test, y_train, y_test = train_test_split(X, y, random_state = 13)"
   ]
  },
  {
   "cell_type": "code",
   "execution_count": 134,
   "metadata": {},
   "outputs": [
    {
     "data": {
      "text/plain": [
       "Index(['poverty', 'hhcitizen', 'winsorized_num_hh', 'hh_related',\n",
       "       'winsorized_hh_workers', 'female', 'hispanic_latino', 'insurance_1.0',\n",
       "       'insurance_2.0', 'insurance_3.0', 'insurance_4.0', 'insurance_5.0',\n",
       "       'tmoveus_1', 'tmoveus_2', 'tmoveus_3', 'tmoveus_4', 'tmoveus_5',\n",
       "       'tmoveus_6', 'tmoveus_7', 'tmoveus_8', 'tmoveus_9', 'tmoveus_10',\n",
       "       'tmoveus_11', 'tmoveus_12', 'tmoveus_13', 'tmoveus_14', 'tmoveus_15',\n",
       "       'tmoveus_16', 'tmoveus_17', 'tmoveus_18', 'tmoveus_19', 'tmoveus_20',\n",
       "       'tmoveus_21', 'tmoveus_22', 'job_0', 'job_4', 'etenure_2', 'etenure_3',\n",
       "       'ncstate_6.0', 'ncstate_12.0', 'ncstate_17.0', 'ncstate_34.0',\n",
       "       'ncstate_36.0', 'ncstate_48.0'],\n",
       "      dtype='object')"
      ]
     },
     "execution_count": 134,
     "metadata": {},
     "output_type": "execute_result"
    }
   ],
   "source": [
    "X.columns"
   ]
  },
  {
   "cell_type": "code",
   "execution_count": 135,
   "metadata": {},
   "outputs": [],
   "source": [
    "# We have to create a list of the column number for each of the categorical variables\n",
    "\n",
    "categoricals = [1, 3, 5, 6, 7, 8, 9, 10, 11, 12, 13, 14, 15, 16, 17, 18, 19, 20, 21, 22,\n",
    "               23, 24, 25, 26, 27, 28, 29, 30, 31, 32, 33, 34, 35, 36, 37, 38, 39, 40, \n",
    "               41, 42, 43]"
   ]
  },
  {
   "cell_type": "code",
   "execution_count": 136,
   "metadata": {},
   "outputs": [],
   "source": [
    "# Let's set up a helper function to display scores\n",
    "\n",
    "def display_scores(scores):\n",
    "    print(\"Scores:\", scores)\n",
    "    print(\"Mean:\", np.around(scores.mean(), decimals = 2))\n",
    "    print(\"Standard Deviation:\", np.around(scores.std(), decimals = 2))"
   ]
  },
  {
   "cell_type": "code",
   "execution_count": 137,
   "metadata": {},
   "outputs": [],
   "source": [
    "# Setting up resampled training data to fit model and run on the test set after\n",
    "# cross validation\n",
    "\n",
    "xtrain_smote, ytrain_smote = SMOTENC(categorical_features = categoricals,\n",
    "                                     sampling_strategy = 1,\n",
    "                                     random_state = 13).fit_resample(X_train, y_train)"
   ]
  },
  {
   "cell_type": "code",
   "execution_count": 138,
   "metadata": {},
   "outputs": [
    {
     "name": "stdout",
     "output_type": "stream",
     "text": [
      "Scores: [0.74 0.73 0.71 0.71 0.71 0.75 0.74 0.69 0.71 0.75 0.72 0.72 0.69 0.7\n",
      " 0.74 0.73 0.72 0.73 0.71 0.74 0.72 0.74 0.7  0.72 0.7  0.7  0.72 0.71\n",
      " 0.7  0.74]\n",
      "Mean: 0.72\n",
      "Standard Deviation: 0.02\n"
     ]
    }
   ],
   "source": [
    "# Running CV on training data\n",
    "\n",
    "imba_pipeline = make_pipeline(SMOTENC(categorical_features = categoricals,\n",
    "                                      sampling_strategy = 1,\n",
    "                                      random_state = 13), logit)\n",
    "\n",
    "#Let's round the scores to two decimals\n",
    "kff_scores = np.around(cross_val_score(imba_pipeline, X_train, y_train, cv = cv, n_jobs = -1), decimals = 2)\n",
    "display_scores(kff_scores)"
   ]
  },
  {
   "cell_type": "code",
   "execution_count": 139,
   "metadata": {},
   "outputs": [],
   "source": [
    "y_pred = logit.fit(xtrain_smote, ytrain_smote).predict(X_test)"
   ]
  },
  {
   "cell_type": "code",
   "execution_count": 140,
   "metadata": {},
   "outputs": [
    {
     "data": {
      "text/html": [
       "<div>\n",
       "<style scoped>\n",
       "    .dataframe tbody tr th:only-of-type {\n",
       "        vertical-align: middle;\n",
       "    }\n",
       "\n",
       "    .dataframe tbody tr th {\n",
       "        vertical-align: top;\n",
       "    }\n",
       "\n",
       "    .dataframe thead th {\n",
       "        text-align: right;\n",
       "    }\n",
       "</style>\n",
       "<table border=\"1\" class=\"dataframe\">\n",
       "  <thead>\n",
       "    <tr style=\"text-align: right;\">\n",
       "      <th></th>\n",
       "      <th>Predicted Negative</th>\n",
       "      <th>Predicted Positive</th>\n",
       "    </tr>\n",
       "  </thead>\n",
       "  <tbody>\n",
       "    <tr>\n",
       "      <th>Actual Negative</th>\n",
       "      <td>844</td>\n",
       "      <td>256</td>\n",
       "    </tr>\n",
       "    <tr>\n",
       "      <th>Actual Positive</th>\n",
       "      <td>204</td>\n",
       "      <td>218</td>\n",
       "    </tr>\n",
       "  </tbody>\n",
       "</table>\n",
       "</div>"
      ],
      "text/plain": [
       "                 Predicted Negative  Predicted Positive\n",
       "Actual Negative                 844                 256\n",
       "Actual Positive                 204                 218"
      ]
     },
     "execution_count": 140,
     "metadata": {},
     "output_type": "execute_result"
    }
   ],
   "source": [
    "# Creating the confusion matrix\n",
    "cm = metrics.confusion_matrix(y_test, y_pred)\n",
    "\n",
    "# Assigning columns names\n",
    "cm_df = pd.DataFrame(cm,\n",
    "                    columns = ['Predicted Negative', 'Predicted Positive'],\n",
    "                    index = ['Actual Negative', 'Actual Positive'])\n",
    "\n",
    "cm_df"
   ]
  },
  {
   "cell_type": "code",
   "execution_count": 141,
   "metadata": {},
   "outputs": [],
   "source": [
    "# Creating a function to report confusion metrics\n",
    "def confusion_metrics (conf_matrix):\n",
    "    \n",
    "# save confusion matrix and slice into four pieces\n",
    "    TP = conf_matrix[1][1]\n",
    "    TN = conf_matrix[0][0]\n",
    "    FP = conf_matrix[0][1]\n",
    "    FN = conf_matrix[1][0]\n",
    "    print(\"Evaluation Metrics:\")\n",
    "    \n",
    "    # false positive rate\n",
    "    \n",
    "    false_positive_rate = FP / (FP + TN) \n",
    "    \n",
    "    # false negative rate\n",
    "    \n",
    "    false_negative_rate = FN / (TP + FN) \n",
    "    \n",
    "    # calculate accuracy\n",
    "    conf_accuracy = (float (TP+TN) / float(TP + TN + FP + FN)) \n",
    "    \n",
    "    # calculate the sensitivity\n",
    "    conf_sensitivity = (TP / float(TP + FN)) \n",
    "    \n",
    "    # calculate the specificity\n",
    "    conf_specificity = (TN / float(TN + FP))\n",
    "    \n",
    "    # calculate precision\n",
    "    conf_precision = (TP / float(TP + FP))\n",
    "    \n",
    "    print('-'*50)\n",
    "    print(f'Accuracy: {round(conf_accuracy,2)}') \n",
    "    print(\"False Positive Rate: {}\".format(round(false_positive_rate, 1)))\n",
    "    print(\"False Negative Rate: {}\".format(round(false_negative_rate, 1)))\n",
    "    print(f'Sensitivity|Recall: {round(conf_sensitivity,2)}') \n",
    "    print(f'Specificity: {round(conf_specificity,2)}') \n",
    "    print(f'Precision: {round(conf_precision,2)}')"
   ]
  },
  {
   "cell_type": "code",
   "execution_count": 142,
   "metadata": {},
   "outputs": [
    {
     "name": "stdout",
     "output_type": "stream",
     "text": [
      "Evaluation Metrics:\n",
      "--------------------------------------------------\n",
      "Accuracy: 0.7\n",
      "False Positive Rate: 0.2\n",
      "False Negative Rate: 0.5\n",
      "Sensitivity|Recall: 0.52\n",
      "Specificity: 0.77\n",
      "Precision: 0.46\n"
     ]
    }
   ],
   "source": [
    "confusion_metrics(cm)"
   ]
  },
  {
   "cell_type": "code",
   "execution_count": 143,
   "metadata": {},
   "outputs": [],
   "source": [
    "# Let's create a dictionary capturing modeel metrics \n",
    "\n",
    "kff_metrics = {'Accuracy': .7, 'False Positive Rate': .2, \n",
    "           'False Negative Rate': .5, 'Sensitivity | Recall': .52, \n",
    "           'Specificity': .77, 'Precision': .46}\n",
    "\n",
    "kff = pd.DataFrame.from_dict(kff_metrics, orient = 'index', columns = ['KFF'])"
   ]
  },
  {
   "cell_type": "markdown",
   "metadata": {},
   "source": [
    "The KFF model shows OK performance."
   ]
  },
  {
   "cell_type": "markdown",
   "metadata": {},
   "source": [
    "The KFF model has room for improvement, only correctly classifying 70% of immigrants. The Sensitivity/Recall score shows that it only correctly classifies 52% of unauthorized citizens. Of those that the model labeled as unauthorized, 77% are actually unauthorized. "
   ]
  },
  {
   "cell_type": "markdown",
   "metadata": {},
   "source": [
    "### Capps et al \n",
    "- world region of birth (region_birth dummies)\n",
    "- duration of US residence (years_us)\n",
    "- English language proficiency (english dummies)\n",
    "- age (tage)\n",
    "- sex (female)\n",
    "- are they married or not (married)\n",
    "- parental status (has children) (rdesgpnt)\n",
    "- household size (num_hh)\n",
    "- educational attainment (educ dummies)\n",
    "- homeownership (etenure dummies)\n",
    "- insurance coverage (insurance dummies)\n",
    "- labor force status (job dummies)\n",
    "- income-to-poverty ratio (poverty)\n",
    "- US state/region of residence (noncitizen_state dummies)"
   ]
  },
  {
   "cell_type": "code",
   "execution_count": 144,
   "metadata": {},
   "outputs": [],
   "source": [
    "sipp_capps = sipp_noncitizens[[\"unauthorized\", \"pid\", 'region_birth', \"winsorized_years_us\",\n",
    "                               \"english\", \"tage\",\n",
    "                               \"female\", \"married\", \"rdesgpnt\", \"winsorized_num_hh\",\n",
    "                               \"educ\", \"insurance\", \"job\", \"etenure\", \n",
    "                               \"winsorized_poverty\",  \"noncitizen_state\"  \n",
    "]]"
   ]
  },
  {
   "cell_type": "code",
   "execution_count": 145,
   "metadata": {},
   "outputs": [],
   "source": [
    "# Let's take the categorical variables and turn them into series of dummies\n",
    "\n",
    "# Insurance\n",
    "sipp_capps = pd.concat([sipp_capps, pd.get_dummies(sipp_capps['insurance'], prefix = 'insurance', drop_first = False)], axis=1)\n",
    "\n",
    "# region_birth\n",
    "sipp_capps = pd.concat([sipp_capps, pd.get_dummies(sipp_capps['region_birth'], prefix = 'region', drop_first = True)], axis=1)\n",
    "\n",
    "# english\n",
    "sipp_capps = pd.concat([sipp_capps, pd.get_dummies(sipp_capps['english'], prefix = 'english', drop_first = True)], axis=1)\n",
    "\n",
    "# rdesgpnt\n",
    "sipp_capps = pd.concat([sipp_capps, pd.get_dummies(sipp_capps['rdesgpnt'], prefix = 'rdesgpnt', drop_first = True)], axis=1)\n",
    "\n",
    "# educ\n",
    "sipp_capps = pd.concat([sipp_capps, pd.get_dummies(sipp_capps['educ'], prefix = 'educ', drop_first = True)], axis=1)\n",
    "\n",
    "# job\n",
    "sipp_capps = pd.concat([sipp_capps, pd.get_dummies(sipp_capps['job'], prefix = 'job', drop_first = True)], axis=1)\n",
    "\n",
    "# Rent/Own HH\n",
    "sipp_capps = pd.concat([sipp_capps, pd.get_dummies(sipp_capps['etenure'], prefix = 'etenure', drop_first = True)], axis=1)\n",
    "\n",
    "# States\n",
    "sipp_capps = pd.concat([sipp_capps, pd.get_dummies(sipp_capps['noncitizen_state'], prefix = \"ncstate\", drop_first = True)], axis=1)\n",
    "\n",
    "# Let's drop the source categoricals\n",
    "\n",
    "sipp_capps.drop(['insurance', 'insurance_6.0', 'region_birth', 'english', 'rdesgpnt',\n",
    "                 'educ', 'job', 'etenure', 'noncitizen_state',], \n",
    "                axis = 1, inplace = True)"
   ]
  },
  {
   "cell_type": "code",
   "execution_count": 146,
   "metadata": {},
   "outputs": [],
   "source": [
    "# Setting up the target and the model\n",
    "\n",
    "X = sipp_capps.drop(['unauthorized', 'pid'],\n",
    "                      axis = 1)\n",
    "y = sipp_capps['unauthorized']\n",
    "\n",
    "X_train, X_test, y_train, y_test = train_test_split(X, y, random_state = 13)"
   ]
  },
  {
   "cell_type": "code",
   "execution_count": 147,
   "metadata": {},
   "outputs": [
    {
     "data": {
      "text/plain": [
       "Index(['winsorized_years_us', 'tage', 'female', 'married', 'winsorized_num_hh',\n",
       "       'winsorized_poverty', 'insurance_1.0', 'insurance_2.0', 'insurance_3.0',\n",
       "       'insurance_4.0', 'insurance_5.0', 'region_2', 'region_3', 'region_4',\n",
       "       'region_5', 'region_6', 'region_7', 'region_8', 'region_9', 'region_10',\n",
       "       'region_11', 'region_12', 'english_0', 'english_1', 'english_2',\n",
       "       'english_3', 'rdesgpnt_1', 'rdesgpnt_2', 'educ_0', 'educ_1', 'educ_2',\n",
       "       'educ_3', 'educ_4', 'educ_5', 'educ_6', 'educ_7', 'educ_8', 'educ_9',\n",
       "       'educ_10', 'educ_11', 'educ_12', 'educ_13', 'job_0', 'job_4',\n",
       "       'etenure_2', 'etenure_3', 'ncstate_6.0', 'ncstate_12.0', 'ncstate_17.0',\n",
       "       'ncstate_34.0', 'ncstate_36.0', 'ncstate_48.0'],\n",
       "      dtype='object')"
      ]
     },
     "execution_count": 147,
     "metadata": {},
     "output_type": "execute_result"
    }
   ],
   "source": [
    "X.columns"
   ]
  },
  {
   "cell_type": "code",
   "execution_count": 148,
   "metadata": {},
   "outputs": [
    {
     "data": {
      "text/plain": [
       "52"
      ]
     },
     "execution_count": 148,
     "metadata": {},
     "output_type": "execute_result"
    }
   ],
   "source": [
    "len(X.columns)"
   ]
  },
  {
   "cell_type": "code",
   "execution_count": 149,
   "metadata": {},
   "outputs": [],
   "source": [
    "categoricals = [2, 3, 6, 7, 8, 9, 10, 11, 12, 13, 14, 15, 16, 17, 18, 19, 20, 21, 22, 23,\n",
    "               24, 25, 26, 27, 28, 29, 30, 31, 32, 33, 34, 35, 36, 37, 38, 39, 40, 41, 42,\n",
    "               43, 44, 45, 46, 47, 48, 49, 50, 51]"
   ]
  },
  {
   "cell_type": "code",
   "execution_count": 150,
   "metadata": {},
   "outputs": [
    {
     "name": "stdout",
     "output_type": "stream",
     "text": [
      "Scores: [0.75 0.74 0.7  0.72 0.73 0.7  0.76 0.73 0.67 0.73 0.72 0.7  0.68 0.7\n",
      " 0.72 0.75 0.73 0.75 0.73 0.69 0.71 0.77 0.71 0.73 0.7  0.73 0.73 0.72\n",
      " 0.72 0.71]\n",
      "Mean: 0.72\n",
      "Standard Deviation: 0.02\n"
     ]
    }
   ],
   "source": [
    "# Logistic Regression, Repeated Cross-Validation, Using SMOTE ENN on each fold of the training data\n",
    "\n",
    "imba_pipeline = make_pipeline(SMOTENC(categorical_features = categoricals,\n",
    "                                       sampling_strategy = 1,\n",
    "                                       random_state = 13), logit)\n",
    "\n",
    "capps_scores = np.around(cross_val_score(imba_pipeline, X_train, y_train, cv = cv, n_jobs = -1), decimals = 2)\n",
    "display_scores(capps_scores)"
   ]
  },
  {
   "cell_type": "code",
   "execution_count": 151,
   "metadata": {},
   "outputs": [],
   "source": [
    "# Let's see the test set accuracy and the confusion matrix\n",
    "\n",
    "xtrain_smote, ytrain_smote = SMOTENC(categorical_features = categoricals,\n",
    "                                     sampling_strategy = 1,\n",
    "                                     random_state = 13).fit_resample(X_train, y_train)\n",
    "y_pred = logit.fit(xtrain_smote, ytrain_smote).predict(X_test)"
   ]
  },
  {
   "cell_type": "code",
   "execution_count": 152,
   "metadata": {},
   "outputs": [
    {
     "name": "stdout",
     "output_type": "stream",
     "text": [
      "                 Predicted Negative  Predicted Positive\n",
      "Actual Negative                 862                 238\n",
      "Actual Positive                 192                 230\n",
      "\n",
      "\n",
      "Evaluation Metrics:\n",
      "--------------------------------------------------\n",
      "Accuracy: 0.72\n",
      "False Positive Rate: 0.2\n",
      "False Negative Rate: 0.5\n",
      "Sensitivity|Recall: 0.55\n",
      "Specificity: 0.78\n",
      "Precision: 0.49\n"
     ]
    }
   ],
   "source": [
    "# Creating the confusion matrix\n",
    "cm = metrics.confusion_matrix(y_test, y_pred)\n",
    "\n",
    "# Assigning columns names\n",
    "cm_df = pd.DataFrame(cm,\n",
    "                    columns = ['Predicted Negative', 'Predicted Positive'],\n",
    "                    index = ['Actual Negative', 'Actual Positive'])\n",
    "\n",
    "print(cm_df)\n",
    "print(\"\\n\")\n",
    "confusion_metrics(cm)"
   ]
  },
  {
   "cell_type": "code",
   "execution_count": 153,
   "metadata": {},
   "outputs": [],
   "source": [
    "capps_metrics = {\n",
    "    'Accuracy': .72,\n",
    "    'False Positive Rate': .2,\n",
    "    'False Negative Rate': .5,\n",
    "    'Sensitivity | Recall': .55,\n",
    "    'Specificity': .78,\n",
    "    'Precision': .49\n",
    "}\n",
    "\n",
    "capps = pd.DataFrame.from_dict(capps_metrics, orient = 'index', columns = ['Capps et al.'])"
   ]
  },
  {
   "cell_type": "markdown",
   "metadata": {},
   "source": [
    "The Capps model has marginally higher accuracy, but the same false positive and false negative rates. "
   ]
  },
  {
   "cell_type": "markdown",
   "metadata": {},
   "source": [
    "### Van Hook et al\n",
    "- Family poverty level (poverty)\n",
    "- education level (educ dummies)\n",
    "- Born in Mexico (region_birth dummies)\n",
    "- Years of U.S. residence (years_us)\n",
    "- age (tage)\n",
    "- gender (female)\n",
    "- Number of functional limitations (limitations)\n",
    "- Poor health (not ACS)"
   ]
  },
  {
   "cell_type": "code",
   "execution_count": 154,
   "metadata": {},
   "outputs": [],
   "source": [
    "# Creating a dataframe with the Van Hook Model\n",
    "\n",
    "sipp_vh = sipp_noncitizens[['winsorized_poverty',\n",
    "                           'educ',\n",
    "                           'region_birth',\n",
    "                           'winsorized_years_us',\n",
    "                           'tage',\n",
    "                           'female',\n",
    "                           'limitations',\n",
    "                           'pid',\n",
    "                           'unauthorized']]"
   ]
  },
  {
   "cell_type": "code",
   "execution_count": 155,
   "metadata": {},
   "outputs": [],
   "source": [
    "# Let's take the categorical variables and turn them into series of dummies\n",
    "\n",
    "# region_birth\n",
    "sipp_vh = pd.concat([sipp_vh, pd.get_dummies(sipp_vh['region_birth'], prefix = 'region', drop_first = True)], axis=1)\n",
    "\n",
    "# educ\n",
    "sipp_vh = pd.concat([sipp_vh, pd.get_dummies(sipp_vh['educ'], prefix = 'educ', drop_first = True)], axis=1)\n",
    "\n",
    "# Let's drop the source categoricals\n",
    "\n",
    "sipp_vh.drop(['region_birth', 'educ'], axis = 1, inplace = True)"
   ]
  },
  {
   "cell_type": "code",
   "execution_count": 156,
   "metadata": {},
   "outputs": [],
   "source": [
    "# Setting up the target and the model\n",
    "\n",
    "X = sipp_vh.drop(['unauthorized', 'pid'],\n",
    "                      axis = 1)\n",
    "y = sipp_vh['unauthorized']\n",
    "\n",
    "X_train, X_test, y_train, y_test = train_test_split(X, y, random_state = 13)"
   ]
  },
  {
   "cell_type": "code",
   "execution_count": 157,
   "metadata": {},
   "outputs": [
    {
     "data": {
      "text/plain": [
       "Index(['winsorized_poverty', 'winsorized_years_us', 'tage', 'female',\n",
       "       'limitations', 'region_2', 'region_3', 'region_4', 'region_5',\n",
       "       'region_6', 'region_7', 'region_8', 'region_9', 'region_10',\n",
       "       'region_11', 'region_12', 'educ_0', 'educ_1', 'educ_2', 'educ_3',\n",
       "       'educ_4', 'educ_5', 'educ_6', 'educ_7', 'educ_8', 'educ_9', 'educ_10',\n",
       "       'educ_11', 'educ_12', 'educ_13'],\n",
       "      dtype='object')"
      ]
     },
     "execution_count": 157,
     "metadata": {},
     "output_type": "execute_result"
    }
   ],
   "source": [
    "X.columns"
   ]
  },
  {
   "cell_type": "code",
   "execution_count": 158,
   "metadata": {},
   "outputs": [
    {
     "data": {
      "text/plain": [
       "30"
      ]
     },
     "execution_count": 158,
     "metadata": {},
     "output_type": "execute_result"
    }
   ],
   "source": [
    "len(X.columns)"
   ]
  },
  {
   "cell_type": "code",
   "execution_count": 159,
   "metadata": {},
   "outputs": [],
   "source": [
    "categoricals = [3, 5, 6, 7, 8, 9, 10, 11, 12, 13, 14, 15, 16, 17, 18, 19, 20, 21, 22, 23,\n",
    "               24, 25, 26, 27, 28, 29]"
   ]
  },
  {
   "cell_type": "code",
   "execution_count": 160,
   "metadata": {
    "scrolled": true
   },
   "outputs": [
    {
     "name": "stdout",
     "output_type": "stream",
     "text": [
      "Scores: [0.65 0.67 0.62 0.67 0.68 0.62 0.66 0.67 0.6  0.64 0.67 0.63 0.63 0.62\n",
      " 0.65 0.68 0.67 0.65 0.63 0.64 0.68 0.67 0.63 0.65 0.62 0.65 0.67 0.63\n",
      " 0.66 0.63]\n",
      "Mean: 0.65\n",
      "Standard Deviation: 0.02\n"
     ]
    }
   ],
   "source": [
    "# Using Bernoullii Naive Bayes with SMOTE ENN and repeated cross validation, as before\n",
    "\n",
    "imba_pipeline = make_pipeline(SMOTENC(categorical_features = categoricals,\n",
    "                                      sampling_strategy = 1,\n",
    "                                      random_state = 13), logit)\n",
    "vh_scores = np.around(cross_val_score(imba_pipeline, X_train, y_train, cv = cv), decimals = 2)\n",
    "display_scores(vh_scores)"
   ]
  },
  {
   "cell_type": "code",
   "execution_count": 161,
   "metadata": {},
   "outputs": [],
   "source": [
    "xtrain_smote, ytrain_smote = SMOTENC(categorical_features = categoricals,\n",
    "                                     sampling_strategy = 1,\n",
    "                                     random_state = 13).fit_resample(X_train, y_train)\n",
    "\n",
    "y_pred = logit.fit(xtrain_smote, ytrain_smote).predict(X_test)"
   ]
  },
  {
   "cell_type": "code",
   "execution_count": 162,
   "metadata": {},
   "outputs": [
    {
     "name": "stdout",
     "output_type": "stream",
     "text": [
      "                 Predicted Negative  Predicted Positive\n",
      "Actual Negative                 749                 351\n",
      "Actual Positive                 168                 254\n",
      "\n",
      "\n",
      "Evaluation Metrics:\n",
      "--------------------------------------------------\n",
      "Accuracy: 0.66\n",
      "False Positive Rate: 0.3\n",
      "False Negative Rate: 0.4\n",
      "Sensitivity|Recall: 0.6\n",
      "Specificity: 0.68\n",
      "Precision: 0.42\n"
     ]
    }
   ],
   "source": [
    "# Creating the confusion matrix\n",
    "cm = metrics.confusion_matrix(y_test, y_pred)\n",
    "\n",
    "# Assigning columns names\n",
    "cm_df = pd.DataFrame(cm,\n",
    "                    columns = ['Predicted Negative', 'Predicted Positive'],\n",
    "                    index = ['Actual Negative', 'Actual Positive'])\n",
    "\n",
    "print(cm_df)\n",
    "print(\"\\n\")\n",
    "confusion_metrics(cm)"
   ]
  },
  {
   "cell_type": "code",
   "execution_count": 165,
   "metadata": {},
   "outputs": [],
   "source": [
    "vh_metrics = {\n",
    "    'Accuracy': .66,\n",
    "    'False Positive Rate': .3,\n",
    "    'False Negative Rate': .4,\n",
    "    'Sensitivity | Recall': .6,\n",
    "    'Specificity': .68,\n",
    "    'Precision': .42\n",
    "}\n",
    "\n",
    "vh = pd.DataFrame.from_dict(vh_metrics, orient = 'index', columns = ['Van Hook et al.'])"
   ]
  },
  {
   "cell_type": "markdown",
   "metadata": {},
   "source": [
    "The Van Hook et al model is the worst performing model for overall accuracy, but has higher recall than the Capps model. "
   ]
  },
  {
   "cell_type": "code",
   "execution_count": 166,
   "metadata": {},
   "outputs": [],
   "source": [
    "kff_capps = kff.merge(capps, how = 'outer', left_index = True, right_index = True)"
   ]
  },
  {
   "cell_type": "code",
   "execution_count": 167,
   "metadata": {},
   "outputs": [],
   "source": [
    "models_metrics = kff_capps.merge(vh, how = 'outer', left_index = True, right_index = True)"
   ]
  },
  {
   "cell_type": "code",
   "execution_count": 168,
   "metadata": {},
   "outputs": [
    {
     "name": "stdout",
     "output_type": "stream",
     "text": [
      "                       KFF  Capps et al.  Van Hook et al.\n",
      "Accuracy              0.70          0.72             0.66\n",
      "False Positive Rate   0.20          0.20             0.30\n",
      "False Negative Rate   0.50          0.50             0.40\n",
      "Sensitivity | Recall  0.52          0.55             0.60\n",
      "Specificity           0.77          0.78             0.68\n",
      "Precision             0.46          0.49             0.42\n"
     ]
    }
   ],
   "source": [
    "print(models_metrics)"
   ]
  },
  {
   "cell_type": "markdown",
   "metadata": {},
   "source": [
    "The Capps et al and KFF models fair better than the Van Hook et all model, but all three leave much room for improvement. Let's pool all of the source features together and run an association matrix that can account for all of the variable types. Fortunately, the Dython library provides a way to measure bivariate relationships while accounting for the different variable types. One of its handy tools computes measures of associations contingent on the variable types, builds a matrix, and plots it as a heat map. The \"association\" function takes a dataframe of features and calculates the Pearson correlation between continuous and ordinal measures, a Cramer's V or Theil's U for categorical-categorical relationships, and the Correlation Ratio for categorical-continuous cases. "
   ]
  },
  {
   "cell_type": "markdown",
   "metadata": {},
   "source": [
    "### Pooling All Features"
   ]
  },
  {
   "cell_type": "code",
   "execution_count": 169,
   "metadata": {},
   "outputs": [],
   "source": [
    "# Creating a target and features list for a bivariate associations heat map. \n",
    "# Some of them will have to be converted into dummies. \n",
    "\n",
    "sipp_ncmodel = [\"unauthorized\", \"winsorized_poverty\", \"educ\", \"region_birth\", \"winsorized_years_us\",\n",
    "                \"tage\", \"female\", \"limitations\", \"tmoveus\", \"job\", \"noncitizen_state\", \"etenure\", \n",
    "                \"hhcitizen\", \"winsorized_num_hh\", \"hh_related\", \"winsorized_hh_workers\", \"insurance\", \n",
    "                \"hispanic_latino\", \"english\", \"married\", \"rdesgpnt\"]"
   ]
  },
  {
   "cell_type": "code",
   "execution_count": 170,
   "metadata": {
    "scrolled": false
   },
   "outputs": [
    {
     "name": "stdout",
     "output_type": "stream",
     "text": [
      "Heat Map of Bivariate Associations Among the Target and Prospective Features\n",
      "\n"
     ]
    },
    {
     "data": {
      "image/png": "[encoded data removed]",
      "text/plain": [
       "<Figure size 1728x864 with 2 Axes>"
      ]
     },
     "metadata": {
      "needs_background": "light"
     },
     "output_type": "display_data"
    },
    {
     "data": {
      "text/plain": [
       "{'corr':                              rdesgpnt (nom)  limitations (nom)  job (nom)  \\\n",
       " rdesgpnt (nom)                     1.000000           0.707910   0.707981   \n",
       " limitations (nom)                  0.707910           1.000000   0.718798   \n",
       " job (nom)                          0.707981           0.718798   1.000000   \n",
       " educ (nom)                         0.710835           0.384092   0.715355   \n",
       " region_birth (nom)                 0.714567           0.378528   0.707214   \n",
       " winsorized_years_us (con)          0.375847           0.382419   0.359746   \n",
       " tmoveus (nom)                      0.720056           0.384648   0.709654   \n",
       " tage (con)                         0.469330           0.542312   0.471248   \n",
       " married (nom)                      0.500273           0.298890   0.296972   \n",
       " winsorized_poverty (con)           0.131990           0.079486   0.228987   \n",
       " insurance (nom)                    0.089833           0.113605   0.226973   \n",
       " hispanic_latino (nom)              0.158703           0.023630   0.029264   \n",
       " hhcitizen (nom)                    0.395711           0.078548   0.084113   \n",
       " winsorized_num_hh (con)            0.369338           0.161020   0.169126   \n",
       " noncitizen_state (nom)             0.056439           0.013963   0.048998   \n",
       " english (con)                      0.066686           0.090666   0.081795   \n",
       " unauthorized (nom)                 0.058116           0.091377   0.051239   \n",
       " hh_related (nom)                   0.139927           0.052588   0.063889   \n",
       " etenure (nom)                      0.064796           0.033217   0.037986   \n",
       " female (nom)                       0.053756           0.037704   0.278277   \n",
       " winsorized_hh_workers (con)        0.062393           0.129942   0.426303   \n",
       " \n",
       "                              educ (nom)  region_birth (nom)  \\\n",
       " rdesgpnt (nom)                 0.710835            0.714567   \n",
       " limitations (nom)              0.384092            0.378528   \n",
       " job (nom)                      0.715355            0.707214   \n",
       " educ (nom)                     1.000000            0.355433   \n",
       " region_birth (nom)             0.355433            1.000000   \n",
       " winsorized_years_us (con)      0.383445            0.395203   \n",
       " tmoveus (nom)                  0.271359            0.315200   \n",
       " tage (con)                     0.554048            0.503035   \n",
       " married (nom)                  0.354489            0.314370   \n",
       " winsorized_poverty (con)       0.448612            0.396830   \n",
       " insurance (nom)                0.208408            0.200039   \n",
       " hispanic_latino (nom)          0.459946            0.790755   \n",
       " hhcitizen (nom)                0.141571            0.170447   \n",
       " winsorized_num_hh (con)        0.328104            0.360225   \n",
       " noncitizen_state (nom)         0.094780            0.237210   \n",
       " english (con)                  0.202847            0.214815   \n",
       " unauthorized (nom)             0.120221            0.241773   \n",
       " hh_related (nom)               0.093526            0.139168   \n",
       " etenure (nom)                  0.088240            0.112655   \n",
       " female (nom)                   0.056282            0.063170   \n",
       " winsorized_hh_workers (con)    0.121888            0.154766   \n",
       " \n",
       "                              winsorized_years_us (con)  tmoveus (nom)  \\\n",
       " rdesgpnt (nom)                                0.375847       0.720056   \n",
       " limitations (nom)                             0.382419       0.384648   \n",
       " job (nom)                                     0.359746       0.709654   \n",
       " educ (nom)                                    0.383445       0.271359   \n",
       " region_birth (nom)                            0.395203       0.315200   \n",
       " winsorized_years_us (con)                     1.000000       1.000000   \n",
       " tmoveus (nom)                                 1.000000       1.000000   \n",
       " tage (con)                                    0.472436       0.593473   \n",
       " married (nom)                                 0.192541       0.312992   \n",
       " winsorized_poverty (con)                      0.050768       0.116349   \n",
       " insurance (nom)                               0.119297       0.107386   \n",
       " hispanic_latino (nom)                         0.092540       0.144953   \n",
       " hhcitizen (nom)                               0.186082       0.209340   \n",
       " winsorized_num_hh (con)                      -0.066843       0.211777   \n",
       " noncitizen_state (nom)                        0.105127       0.070704   \n",
       " english (con)                                -0.025633       0.116490   \n",
       " unauthorized (nom)                            0.164622       0.164219   \n",
       " hh_related (nom)                              0.115213       0.147641   \n",
       " etenure (nom)                                 0.217897       0.165577   \n",
       " female (nom)                                  0.014495       0.006563   \n",
       " winsorized_hh_workers (con)                  -0.036595       0.139928   \n",
       " \n",
       "                              tage (con)  married (nom)  \\\n",
       " rdesgpnt (nom)                 0.469330       0.500273   \n",
       " limitations (nom)              0.542312       0.298890   \n",
       " job (nom)                      0.471248       0.296972   \n",
       " educ (nom)                     0.554048       0.354489   \n",
       " region_birth (nom)             0.503035       0.314370   \n",
       " winsorized_years_us (con)      0.472436       0.192541   \n",
       " tmoveus (nom)                  0.593473       0.312992   \n",
       " tage (con)                     1.000000       0.344792   \n",
       " married (nom)                  0.344792       1.000000   \n",
       " winsorized_poverty (con)       0.128283       0.135807   \n",
       " insurance (nom)                0.190732       0.169365   \n",
       " hispanic_latino (nom)          0.088578       0.000000   \n",
       " hhcitizen (nom)                0.047782       0.203416   \n",
       " winsorized_num_hh (con)       -0.215329       0.031526   \n",
       " noncitizen_state (nom)         0.086044       0.041428   \n",
       " english (con)                 -0.190539       0.061515   \n",
       " unauthorized (nom)             0.202605       0.075566   \n",
       " hh_related (nom)               0.117373       0.316842   \n",
       " etenure (nom)                  0.184756       0.152861   \n",
       " female (nom)                   0.061551       0.032521   \n",
       " winsorized_hh_workers (con)   -0.101222       0.001049   \n",
       " \n",
       "                              winsorized_poverty (con)  ...  \\\n",
       " rdesgpnt (nom)                               0.131990  ...   \n",
       " limitations (nom)                            0.079486  ...   \n",
       " job (nom)                                    0.228987  ...   \n",
       " educ (nom)                                   0.448612  ...   \n",
       " region_birth (nom)                           0.396830  ...   \n",
       " winsorized_years_us (con)                    0.050768  ...   \n",
       " tmoveus (nom)                                0.116349  ...   \n",
       " tage (con)                                   0.128283  ...   \n",
       " married (nom)                                0.135807  ...   \n",
       " winsorized_poverty (con)                     1.000000  ...   \n",
       " insurance (nom)                              0.490868  ...   \n",
       " hispanic_latino (nom)                        0.338652  ...   \n",
       " hhcitizen (nom)                              0.041270  ...   \n",
       " winsorized_num_hh (con)                     -0.219051  ...   \n",
       " noncitizen_state (nom)                       0.136010  ...   \n",
       " english (con)                                0.035243  ...   \n",
       " unauthorized (nom)                           0.124351  ...   \n",
       " hh_related (nom)                             0.152348  ...   \n",
       " etenure (nom)                                0.247110  ...   \n",
       " female (nom)                                 0.012455  ...   \n",
       " winsorized_hh_workers (con)                  0.211443  ...   \n",
       " \n",
       "                              hispanic_latino (nom)  hhcitizen (nom)  \\\n",
       " rdesgpnt (nom)                            0.158703         0.395711   \n",
       " limitations (nom)                         0.023630         0.078548   \n",
       " job (nom)                                 0.029264         0.084113   \n",
       " educ (nom)                                0.459946         0.141571   \n",
       " region_birth (nom)                        0.790755         0.170447   \n",
       " winsorized_years_us (con)                 0.092540         0.186082   \n",
       " tmoveus (nom)                             0.144953         0.209340   \n",
       " tage (con)                                0.088578         0.047782   \n",
       " married (nom)                             0.000000         0.203416   \n",
       " winsorized_poverty (con)                  0.338652         0.041270   \n",
       " insurance (nom)                           0.359797         0.077429   \n",
       " hispanic_latino (nom)                     1.000000         0.123960   \n",
       " hhcitizen (nom)                           0.123960         1.000000   \n",
       " winsorized_num_hh (con)                   0.271323         0.392912   \n",
       " noncitizen_state (nom)                    0.320876         0.097746   \n",
       " english (con)                             0.016117         0.005318   \n",
       " unauthorized (nom)                        0.181932         0.070189   \n",
       " hh_related (nom)                          0.086006         0.013157   \n",
       " etenure (nom)                             0.053873         0.218680   \n",
       " female (nom)                              0.037295         0.102228   \n",
       " winsorized_hh_workers (con)               0.077758         0.100321   \n",
       " \n",
       "                              winsorized_num_hh (con)  noncitizen_state (nom)  \\\n",
       " rdesgpnt (nom)                              0.369338                0.056439   \n",
       " limitations (nom)                           0.161020                0.013963   \n",
       " job (nom)                                   0.169126                0.048998   \n",
       " educ (nom)                                  0.328104                0.094780   \n",
       " region_birth (nom)                          0.360225                0.237210   \n",
       " winsorized_years_us (con)                  -0.066843                0.105127   \n",
       " tmoveus (nom)                               0.211777                0.070704   \n",
       " tage (con)                                 -0.215329                0.086044   \n",
       " married (nom)                               0.031526                0.041428   \n",
       " winsorized_poverty (con)                   -0.219051                0.136010   \n",
       " insurance (nom)                             0.216238                0.086996   \n",
       " hispanic_latino (nom)                       0.271323                0.320876   \n",
       " hhcitizen (nom)                             0.392912                0.097746   \n",
       " winsorized_num_hh (con)                     1.000000                0.127610   \n",
       " noncitizen_state (nom)                      0.127610                1.000000   \n",
       " english (con)                               0.077367                0.105842   \n",
       " unauthorized (nom)                          0.087351                0.128395   \n",
       " hh_related (nom)                            0.067829                0.051466   \n",
       " etenure (nom)                               0.099884                0.108193   \n",
       " female (nom)                                0.005511                0.000000   \n",
       " winsorized_hh_workers (con)                 0.406211                0.079302   \n",
       " \n",
       "                              english (con)  unauthorized (nom)  \\\n",
       " rdesgpnt (nom)                    0.066686            0.058116   \n",
       " limitations (nom)                 0.090666            0.091377   \n",
       " job (nom)                         0.081795            0.051239   \n",
       " educ (nom)                        0.202847            0.120221   \n",
       " region_birth (nom)                0.214815            0.241773   \n",
       " winsorized_years_us (con)        -0.025633            0.164622   \n",
       " tmoveus (nom)                     0.116490            0.164219   \n",
       " tage (con)                       -0.190539            0.202605   \n",
       " married (nom)                     0.061515            0.075566   \n",
       " winsorized_poverty (con)          0.035243            0.124351   \n",
       " insurance (nom)                   0.080774            0.333431   \n",
       " hispanic_latino (nom)             0.016117            0.181932   \n",
       " hhcitizen (nom)                   0.005318            0.070189   \n",
       " winsorized_num_hh (con)           0.077367            0.087351   \n",
       " noncitizen_state (nom)            0.105842            0.128395   \n",
       " english (con)                     1.000000            0.030373   \n",
       " unauthorized (nom)                0.030373            1.000000   \n",
       " hh_related (nom)                  0.038068            0.192762   \n",
       " etenure (nom)                     0.036802            0.162981   \n",
       " female (nom)                      0.046929            0.080454   \n",
       " winsorized_hh_workers (con)       0.075138            0.061361   \n",
       " \n",
       "                              hh_related (nom)  etenure (nom)  female (nom)  \\\n",
       " rdesgpnt (nom)                       0.139927       0.064796      0.053756   \n",
       " limitations (nom)                    0.052588       0.033217      0.037704   \n",
       " job (nom)                            0.063889       0.037986      0.278277   \n",
       " educ (nom)                           0.093526       0.088240      0.056282   \n",
       " region_birth (nom)                   0.139168       0.112655      0.063170   \n",
       " winsorized_years_us (con)            0.115213       0.217897      0.014495   \n",
       " tmoveus (nom)                        0.147641       0.165577      0.006563   \n",
       " tage (con)                           0.117373       0.184756      0.061551   \n",
       " married (nom)                        0.316842       0.152861      0.032521   \n",
       " winsorized_poverty (con)             0.152348       0.247110      0.012455   \n",
       " insurance (nom)                      0.159035       0.140150      0.123730   \n",
       " hispanic_latino (nom)                0.086006       0.053873      0.037295   \n",
       " hhcitizen (nom)                      0.013157       0.218680      0.102228   \n",
       " winsorized_num_hh (con)              0.067829       0.099884      0.005511   \n",
       " noncitizen_state (nom)               0.051466       0.108193      0.000000   \n",
       " english (con)                        0.038068       0.036802      0.046929   \n",
       " unauthorized (nom)                   0.192762       0.162981      0.080454   \n",
       " hh_related (nom)                     1.000000       0.166247      0.093271   \n",
       " etenure (nom)                        0.166247       1.000000      0.047935   \n",
       " female (nom)                         0.093271       0.047935      1.000000   \n",
       " winsorized_hh_workers (con)          0.164454       0.114904      0.084355   \n",
       " \n",
       "                              winsorized_hh_workers (con)  \n",
       " rdesgpnt (nom)                                  0.062393  \n",
       " limitations (nom)                               0.129942  \n",
       " job (nom)                                       0.426303  \n",
       " educ (nom)                                      0.121888  \n",
       " region_birth (nom)                              0.154766  \n",
       " winsorized_years_us (con)                      -0.036595  \n",
       " tmoveus (nom)                                   0.139928  \n",
       " tage (con)                                     -0.101222  \n",
       " married (nom)                                   0.001049  \n",
       " winsorized_poverty (con)                        0.211443  \n",
       " insurance (nom)                                 0.217434  \n",
       " hispanic_latino (nom)                           0.077758  \n",
       " hhcitizen (nom)                                 0.100321  \n",
       " winsorized_num_hh (con)                         0.406211  \n",
       " noncitizen_state (nom)                          0.079302  \n",
       " english (con)                                   0.075138  \n",
       " unauthorized (nom)                              0.061361  \n",
       " hh_related (nom)                                0.164454  \n",
       " etenure (nom)                                   0.114904  \n",
       " female (nom)                                    0.084355  \n",
       " winsorized_hh_workers (con)                     1.000000  \n",
       " \n",
       " [21 rows x 21 columns],\n",
       " 'ax': <AxesSubplot:>}"
      ]
     },
     "execution_count": 170,
     "metadata": {},
     "output_type": "execute_result"
    }
   ],
   "source": [
    "# Using Dython to create a heat map of bivariate correlations/associations heat map between the prospective\n",
    "# features and the target \"unauthoriized\"\n",
    "\n",
    "print(\"Heat Map of Bivariate Associations Among the Target and Prospective Features\\n\")\n",
    "\n",
    "associations(sipp_noncitizens[sipp_ncmodel], \n",
    "             nominal_columns = [\"unauthorized\", \"region_birth\", \"female\", \"job\", \n",
    "                                \"noncitizen_state\", \"etenure\",\"hhcitizen\", \"hh_related\", \"insurance\", \n",
    "                                \"hispanic_latino\", \"married\", \"rdesgpnt\", 'tmoveus', 'educ', 'limitations'],\n",
    "             clustering = True,\n",
    "             mark_columns = True,\n",
    "             figsize = (24, 12))"
   ]
  },
  {
   "cell_type": "markdown",
   "metadata": {},
   "source": [
    "|__Feature Associations Over .7__||\n",
    "|-|-|\n",
    "||*rdesgpnt*|\n",
    "| *tmoveus* |0.72|\n",
    "|*region_birth*|0.71|\n",
    "|*educ*|0.71|\n",
    "|*job*|0.71|\n",
    "|*limitations*|0.71|\n",
    "|||\n",
    "||*job*|\n",
    "|*limitations*|0.72|\n",
    "|*educ*|0.72|\n",
    "|*tmoveus*|0.71|\n",
    "|*region_birth*|0.71|\n",
    "|||\n",
    "||*region_birth*| \n",
    "|*hispanic_latino*|0.79|\n",
    "|||\n",
    "||*tmoveus*|\n",
    "|*winsorized_years_us*|1|"
   ]
  },
  {
   "cell_type": "markdown",
   "metadata": {},
   "source": [
    "Parental status (*rdesgpnt*) and job classification (*job*) are each strongly associated with more than several other features. But, they are not strongly associated with unauthorized status, so we can exclude them from the model. Region of birth is strongly associated with being Hispanic or Latino, which is not too surprising. Region of birth is more strongly correlated with unauthorized status, so *hispanic_latino* will be dropped from the analysis going forward. Year of moving to the U.S. and duration of U.S. residence (*winsorized_years_us*) are perfectly correlated, so I will only include duration of residence going forward. "
   ]
  },
  {
   "cell_type": "markdown",
   "metadata": {},
   "source": [
    "### Feature Selection \n",
    " \n",
    "As we saw in the association matrix, some of these features may not contribute much to a model's accuracy. I am going to use backward feature elimination with a logistic regression function as the base to eliminate features that do not reach a significance level of 5% or better (*p* <= .05)."
   ]
  },
  {
   "cell_type": "code",
   "execution_count": 171,
   "metadata": {},
   "outputs": [],
   "source": [
    "# Discarding hispanic_latino, job, rdesgpnt, and tmoveus\n",
    "\n",
    "sipp_ncmodel_cut = [\"unauthorized\", \"winsorized_poverty\", \"educ\", \"region_birth\", \n",
    "                    \"winsorized_years_us\", \"tage\", \"female\", \"limitations\",\n",
    "                    \"noncitizen_state\", \"etenure\", \"hhcitizen\", \"winsorized_num_hh\", \n",
    "                    \"hh_related\", \"winsorized_hh_workers\", \"insurance\", \"english\", \n",
    "                    \"married\"]\n",
    "\n",
    "sipp_ncmodel = sipp_noncitizens[sipp_ncmodel_cut]"
   ]
  },
  {
   "cell_type": "code",
   "execution_count": 172,
   "metadata": {},
   "outputs": [],
   "source": [
    "# Let's take the categorical variables and turn them into series of dummies\n",
    "\n",
    "#educ\n",
    "sipp_ncmodel = pd.concat([sipp_ncmodel, pd.get_dummies(sipp_ncmodel['educ'], prefix = 'educ', drop_first = True)], axis=1)\n",
    "\n",
    "#region_birth\n",
    "sipp_ncmodel = pd.concat([sipp_ncmodel, pd.get_dummies(sipp_ncmodel['region_birth'], prefix = 'region', drop_first = True)], axis=1)\n",
    "\n",
    "# States\n",
    "sipp_ncmodel = pd.concat([sipp_ncmodel, pd.get_dummies(sipp_ncmodel['noncitizen_state'], prefix = \"ncstate\", drop_first = True)], axis=1)\n",
    "\n",
    "# Rent/Own HH\n",
    "sipp_ncmodel = pd.concat([sipp_ncmodel, pd.get_dummies(sipp_ncmodel['etenure'], prefix = 'etenure', drop_first = True)], axis=1)\n",
    "\n",
    "# Insurance\n",
    "sipp_ncmodel = pd.concat([sipp_ncmodel, pd.get_dummies(sipp_ncmodel['insurance'], prefix = 'insurance', drop_first = False)], axis=1)\n",
    "\n",
    "# English\n",
    "sipp_ncmodel = pd.concat([sipp_ncmodel, pd.get_dummies(sipp_ncmodel['english'], prefix = 'english', drop_first = True)], axis=1)\n",
    "\n",
    "# Let's drop the source categoricals\n",
    "sipp_ncmodel.drop(['insurance', 'insurance_6.0', 'english', 'region_birth',\n",
    "                     'etenure', 'noncitizen_state', 'educ'], axis = 1, inplace = True)"
   ]
  },
  {
   "cell_type": "code",
   "execution_count": 177,
   "metadata": {},
   "outputs": [],
   "source": [
    "X = sipp_ncmodel.drop(['unauthorized'], axis = 1)\n",
    "y = sipp_ncmodel['unauthorized']\n",
    "\n",
    "# Splitting the data into training and testing sets using default\n",
    "# splits (75% training, 25% testing)\n",
    "\n",
    "X_train, X_test, y_train, y_test = train_test_split(X, y, random_state = 13)"
   ]
  },
  {
   "cell_type": "code",
   "execution_count": 178,
   "metadata": {},
   "outputs": [
    {
     "data": {
      "text/plain": [
       "Index(['winsorized_poverty', 'winsorized_years_us', 'tage', 'female',\n",
       "       'limitations', 'hhcitizen', 'winsorized_num_hh', 'hh_related',\n",
       "       'winsorized_hh_workers', 'married', 'educ_0', 'educ_1', 'educ_2',\n",
       "       'educ_3', 'educ_4', 'educ_5', 'educ_6', 'educ_7', 'educ_8', 'educ_9',\n",
       "       'educ_10', 'educ_11', 'educ_12', 'educ_13', 'region_2', 'region_3',\n",
       "       'region_4', 'region_5', 'region_6', 'region_7', 'region_8', 'region_9',\n",
       "       'region_10', 'region_11', 'region_12', 'ncstate_6.0', 'ncstate_12.0',\n",
       "       'ncstate_17.0', 'ncstate_34.0', 'ncstate_36.0', 'ncstate_48.0',\n",
       "       'etenure_2', 'etenure_3', 'insurance_1.0', 'insurance_2.0',\n",
       "       'insurance_3.0', 'insurance_4.0', 'insurance_5.0', 'english_0',\n",
       "       'english_1', 'english_2', 'english_3'],\n",
       "      dtype='object')"
      ]
     },
     "execution_count": 178,
     "metadata": {},
     "output_type": "execute_result"
    }
   ],
   "source": [
    "X.columns"
   ]
  },
  {
   "cell_type": "code",
   "execution_count": 179,
   "metadata": {},
   "outputs": [],
   "source": [
    "categoricals = [3, 5, 7, 9, 10, 11, 12, 13, 14, 15, 16, 17, 18, 19, 20, 21, 22, 23, 24,\n",
    "               25, 26, 27, 28, 29, 30, 31, 32, 33, 34, 35, 36, 37, 38, 39, 40, 41, 42, 43,\n",
    "               44, 45, 46, 47, 48, 49, 50, 51]"
   ]
  },
  {
   "cell_type": "code",
   "execution_count": 180,
   "metadata": {},
   "outputs": [],
   "source": [
    "# Using SMOTE to undersample the majority and oversample the minority\n",
    "# classes \n",
    "\n",
    "xtrain_smote, ytrain_smote = SMOTENC(categorical_features = categoricals,\n",
    "                                    random_state = 13,\n",
    "                                    n_jobs = -1).fit_resample(X_train, y_train)"
   ]
  },
  {
   "cell_type": "code",
   "execution_count": 181,
   "metadata": {},
   "outputs": [
    {
     "name": "stdout",
     "output_type": "stream",
     "text": [
      "Optimization terminated successfully.\n",
      "         Current function value: 0.410240\n",
      "         Iterations 20\n",
      "Optimization terminated successfully.\n",
      "         Current function value: 0.410394\n",
      "         Iterations 7\n",
      "Optimization terminated successfully.\n",
      "         Current function value: 0.410396\n",
      "         Iterations 7\n",
      "Optimization terminated successfully.\n",
      "         Current function value: 0.410411\n",
      "         Iterations 7\n",
      "Optimization terminated successfully.\n",
      "         Current function value: 0.410418\n",
      "         Iterations 7\n",
      "Optimization terminated successfully.\n",
      "         Current function value: 0.410586\n",
      "         Iterations 7\n",
      "Optimization terminated successfully.\n",
      "         Current function value: 0.410761\n",
      "         Iterations 7\n",
      "Optimization terminated successfully.\n",
      "         Current function value: 0.410997\n",
      "         Iterations 7\n",
      "Optimization terminated successfully.\n",
      "         Current function value: 0.411233\n",
      "         Iterations 7\n",
      "['winsorized_poverty', 'winsorized_years_us', 'tage', 'female', 'limitations', 'hhcitizen', 'hh_related', 'married', 'educ_0', 'educ_1', 'educ_2', 'educ_3', 'educ_4', 'educ_5', 'educ_6', 'educ_7', 'educ_8', 'educ_9', 'educ_10', 'educ_11', 'educ_12', 'educ_13', 'region_3', 'region_4', 'region_7', 'region_8', 'region_9', 'region_10', 'region_12', 'ncstate_6.0', 'ncstate_12.0', 'ncstate_17.0', 'ncstate_34.0', 'ncstate_36.0', 'ncstate_48.0', 'etenure_2', 'insurance_1.0', 'insurance_2.0', 'insurance_3.0', 'insurance_4.0', 'english_0', 'english_1', 'english_2', 'english_3']\n"
     ]
    }
   ],
   "source": [
    "#Backward Elimination\n",
    "cols = list(xtrain_smote.columns)\n",
    "pmax = 1\n",
    "while (len(cols)>0):\n",
    "    p= []\n",
    "    X_1 = xtrain_smote[cols]\n",
    "    X_1 = sm.tools.add_constant(X_1)\n",
    "    model = sm.Logit(ytrain_smote, X_1).fit()\n",
    "    p = pd.Series(model.pvalues.values[1:],index = cols)      \n",
    "    pmax = max(p)\n",
    "    feature_with_p_max = p.idxmax()\n",
    "    if(pmax>0.05):\n",
    "        cols.remove(feature_with_p_max)\n",
    "    else:\n",
    "        break\n",
    "        \n",
    "selected_features_BE = cols\n",
    "print(selected_features_BE)"
   ]
  },
  {
   "cell_type": "code",
   "execution_count": 182,
   "metadata": {},
   "outputs": [
    {
     "data": {
      "text/plain": [
       "44"
      ]
     },
     "execution_count": 182,
     "metadata": {},
     "output_type": "execute_result"
    }
   ],
   "source": [
    "len(selected_features_BE)"
   ]
  },
  {
   "cell_type": "code",
   "execution_count": 183,
   "metadata": {},
   "outputs": [],
   "source": [
    "categoricals = [3, 5, 6, 7, 8, 9, 10, 11, 12, 13, 14, 15, 16, 17, 18, 19, 20, 21, 22, 23,\n",
    "               24, 25, 26, 27, 28, 29, 30, 31, 32, 33, 34, 35, 36, 37, 38, 39, 40, 41, 42,\n",
    "               43]"
   ]
  },
  {
   "cell_type": "markdown",
   "metadata": {},
   "source": [
    "Backward elimination eliminated seven features. Some were levels of the region of birth measure, so those will be considered as part of the model's baseline. Let's proceed with Logistic Regression, Naive Bayes, K-Nearest Neighbors, Support Vector Classifier, Random Forest, Gradient Boosting Classifier, and Multilayered Perceptron Classifiers using their default parameters. Tuning Naive Bayes and KNN with a Bayesian package is fast and efficient, but tuning other algorithms can be time-expensive. For efficiency purposes, I'll only tune the best performing algorithm to see if we can meaningfully improve its performance. "
   ]
  },
  {
   "cell_type": "code",
   "execution_count": 184,
   "metadata": {},
   "outputs": [],
   "source": [
    "X = sipp_ncmodel[selected_features_BE]\n",
    "y = sipp_ncmodel['unauthorized']\n",
    "\n",
    "# Splitting the data into training and testing sets using default\n",
    "# splits (75% training, 25% testing)\n",
    "\n",
    "X_train, X_test, y_train, y_test = train_test_split(X, y, random_state = 13)\n",
    "\n",
    "# Using SMOTE to undersample the majority and oversample the minority\n",
    "# classes \n",
    "\n",
    "xtrain_smote, ytrain_smote = SMOTENC(categorical_features = categoricals,\n",
    "                                    random_state = 13,\n",
    "                                    n_jobs = -1).fit_resample(X_train, y_train)"
   ]
  },
  {
   "cell_type": "code",
   "execution_count": 185,
   "metadata": {},
   "outputs": [],
   "source": [
    "# Let's help make coding easier, define our models\n",
    "\n",
    "bnb = BernoulliNB()\n",
    "knn = KNeighborsClassifier()\n",
    "svc = svm.SVC(random_state = 13)\n",
    "rfc = RandomForestClassifier(random_state = 13)\n",
    "gbc = GradientBoostingClassifier(random_state = 13)\n",
    "mlp = MLPClassifier(random_state = 13)"
   ]
  },
  {
   "cell_type": "markdown",
   "metadata": {},
   "source": [
    "### Logistic Regression"
   ]
  },
  {
   "cell_type": "code",
   "execution_count": 186,
   "metadata": {},
   "outputs": [
    {
     "name": "stdout",
     "output_type": "stream",
     "text": [
      "Scores: [0.76 0.75 0.7  0.73 0.73 0.73 0.75 0.72 0.67 0.74 0.74 0.71 0.7  0.7\n",
      " 0.71 0.77 0.74 0.75 0.72 0.74 0.73 0.76 0.7  0.75 0.72 0.72 0.77 0.72\n",
      " 0.72 0.73]\n",
      "Mean: 0.73\n",
      "Standard Deviation: 0.02\n"
     ]
    }
   ],
   "source": [
    "imba_pipeline = make_pipeline(SMOTENC(categorical_features = categoricals,\n",
    "                                      sampling_strategy = 1, random_state = 13), logit)\n",
    "\n",
    "logit_scores = np.around(cross_val_score(imba_pipeline, X_train, y_train, cv = cv, n_jobs = -1), decimals = 2)\n",
    "display_scores(logit_scores)"
   ]
  },
  {
   "cell_type": "code",
   "execution_count": 187,
   "metadata": {},
   "outputs": [],
   "source": [
    "y_pred = logit.fit(xtrain_smote, ytrain_smote).predict(X_test)"
   ]
  },
  {
   "cell_type": "code",
   "execution_count": 188,
   "metadata": {},
   "outputs": [
    {
     "name": "stdout",
     "output_type": "stream",
     "text": [
      "                 Predicted Negative  Predicted Positive\n",
      "Actual Negative                 859                 241\n",
      "Actual Positive                 190                 232\n",
      "\n",
      "\n",
      "Evaluation Metrics:\n",
      "--------------------------------------------------\n",
      "Accuracy: 0.72\n",
      "False Positive Rate: 0.2\n",
      "False Negative Rate: 0.5\n",
      "Sensitivity|Recall: 0.55\n",
      "Specificity: 0.78\n",
      "Precision: 0.49\n"
     ]
    }
   ],
   "source": [
    "# Creating the confusion matrix\n",
    "cm = metrics.confusion_matrix(y_test, y_pred)\n",
    "\n",
    "# Assigning columns names\n",
    "cm_df = pd.DataFrame(cm,\n",
    "                    columns = ['Predicted Negative', 'Predicted Positive'],\n",
    "                    index = ['Actual Negative', 'Actual Positive'])\n",
    "\n",
    "print(cm_df)\n",
    "print(\"\\n\")\n",
    "confusion_metrics(cm)"
   ]
  },
  {
   "cell_type": "code",
   "execution_count": 189,
   "metadata": {},
   "outputs": [],
   "source": [
    "logit_metrics = {'Accuracy': .72,\n",
    "                'False Positive Rate': .2,\n",
    "                'False Negative Rate': .5,\n",
    "                'Sensitivity | Recall': .55,\n",
    "                'Specificity': .78,\n",
    "                'Precision': .49}\n",
    "\n",
    "logit_metrics = pd.DataFrame.from_dict(logit_metrics, orient = 'index', columns = ['Logit'])"
   ]
  },
  {
   "cell_type": "markdown",
   "metadata": {},
   "source": [
    "## Naive Bayes "
   ]
  },
  {
   "cell_type": "code",
   "execution_count": 190,
   "metadata": {},
   "outputs": [
    {
     "name": "stdout",
     "output_type": "stream",
     "text": [
      "Scores: [0.71 0.72 0.67 0.69 0.69 0.68 0.69 0.68 0.67 0.68 0.68 0.69 0.68 0.65\n",
      " 0.67 0.7  0.71 0.7  0.7  0.7  0.7  0.71 0.67 0.7  0.68 0.65 0.71 0.66\n",
      " 0.73 0.67]\n",
      "Mean: 0.69\n",
      "Standard Deviation: 0.02\n"
     ]
    }
   ],
   "source": [
    "imba_pipeline = make_pipeline(SMOTENC(categorical_features = categoricals,\n",
    "                                      sampling_strategy = 1, random_state = 13), bnb)\n",
    "\n",
    "bnb_scores = np.around(cross_val_score(imba_pipeline, X_train, y_train, cv = cv, n_jobs = -1), decimals = 2)\n",
    "display_scores(bnb_scores)"
   ]
  },
  {
   "cell_type": "code",
   "execution_count": 191,
   "metadata": {},
   "outputs": [],
   "source": [
    "y_pred = bnb.fit(xtrain_smote, ytrain_smote).predict(X_test)"
   ]
  },
  {
   "cell_type": "code",
   "execution_count": 192,
   "metadata": {},
   "outputs": [
    {
     "name": "stdout",
     "output_type": "stream",
     "text": [
      "                 Predicted Negative  Predicted Positive\n",
      "Actual Negative                 789                 311\n",
      "Actual Positive                 156                 266\n",
      "\n",
      "\n",
      "Evaluation Metrics:\n",
      "--------------------------------------------------\n",
      "Accuracy: 0.69\n",
      "False Positive Rate: 0.3\n",
      "False Negative Rate: 0.4\n",
      "Sensitivity|Recall: 0.63\n",
      "Specificity: 0.72\n",
      "Precision: 0.46\n"
     ]
    }
   ],
   "source": [
    "# Creating the confusion matrix\n",
    "cm = metrics.confusion_matrix(y_test, y_pred)\n",
    "\n",
    "# Assigning columns names\n",
    "cm_df = pd.DataFrame(cm,\n",
    "                    columns = ['Predicted Negative', 'Predicted Positive'],\n",
    "                    index = ['Actual Negative', 'Actual Positive'])\n",
    "\n",
    "print(cm_df)\n",
    "print(\"\\n\")\n",
    "confusion_metrics(cm)"
   ]
  },
  {
   "cell_type": "code",
   "execution_count": 193,
   "metadata": {},
   "outputs": [],
   "source": [
    "bnb_metrics = {'Accuracy': .69,\n",
    "              'False Positive Rate': .3,\n",
    "              'False Negative Rate': .4,\n",
    "              'Sensitivity | Recall': .63,\n",
    "              'Specificity': .72,\n",
    "              'Precision': .46}\n",
    "\n",
    "bnb_metrics = pd.DataFrame.from_dict(bnb_metrics, orient = 'index', columns = ['Naive Bayes'])"
   ]
  },
  {
   "cell_type": "markdown",
   "metadata": {},
   "source": [
    "## KNN"
   ]
  },
  {
   "cell_type": "code",
   "execution_count": 194,
   "metadata": {},
   "outputs": [
    {
     "name": "stdout",
     "output_type": "stream",
     "text": [
      "Scores: [0.58 0.6  0.6  0.61 0.6  0.65 0.61 0.6  0.6  0.59 0.63 0.56 0.56 0.63\n",
      " 0.58 0.58 0.61 0.63 0.65 0.59 0.58 0.6  0.58 0.64 0.6  0.6  0.67 0.6\n",
      " 0.59 0.61]\n",
      "Mean: 0.6\n",
      "Standard Deviation: 0.03\n"
     ]
    }
   ],
   "source": [
    "imba_pipeline = make_pipeline(SMOTENC(categorical_features = categoricals,\n",
    "                                      sampling_strategy = 1, random_state = 13), knn)\n",
    "knn_scores = np.around(cross_val_score(imba_pipeline, X_train, y_train, cv = cv, n_jobs = -1), decimals = 2)\n",
    "display_scores(knn_scores)"
   ]
  },
  {
   "cell_type": "code",
   "execution_count": 195,
   "metadata": {},
   "outputs": [],
   "source": [
    "y_pred = knn.fit(xtrain_smote, ytrain_smote).predict(X_test)"
   ]
  },
  {
   "cell_type": "code",
   "execution_count": 196,
   "metadata": {},
   "outputs": [
    {
     "name": "stdout",
     "output_type": "stream",
     "text": [
      "                 Predicted Negative  Predicted Positive\n",
      "Actual Negative                 692                 408\n",
      "Actual Positive                 170                 252\n",
      "\n",
      "\n",
      "Evaluation Metrics:\n",
      "--------------------------------------------------\n",
      "Accuracy: 0.62\n",
      "False Positive Rate: 0.4\n",
      "False Negative Rate: 0.4\n",
      "Sensitivity|Recall: 0.6\n",
      "Specificity: 0.63\n",
      "Precision: 0.38\n"
     ]
    }
   ],
   "source": [
    "# Creating the confusion matrix\n",
    "cm = metrics.confusion_matrix(y_test, y_pred)\n",
    "\n",
    "# Assigning columns names\n",
    "cm_df = pd.DataFrame(cm,\n",
    "                    columns = ['Predicted Negative', 'Predicted Positive'],\n",
    "                    index = ['Actual Negative', 'Actual Positive'])\n",
    "\n",
    "print(cm_df)\n",
    "print(\"\\n\")\n",
    "confusion_metrics(cm)"
   ]
  },
  {
   "cell_type": "code",
   "execution_count": 197,
   "metadata": {},
   "outputs": [],
   "source": [
    "knn_metrics = {'Accuracy': .62,\n",
    "              'False Positive Rate': .4,\n",
    "              'False Negative Rate': .4,\n",
    "              'Sensitivity | Recall': .6,\n",
    "              'Specificity': .63,\n",
    "              'Precision': .38}\n",
    "\n",
    "knn_metrics = pd.DataFrame.from_dict(knn_metrics, orient = 'index', columns = ['KNN'])"
   ]
  },
  {
   "cell_type": "markdown",
   "metadata": {},
   "source": [
    "## SVC"
   ]
  },
  {
   "cell_type": "code",
   "execution_count": 198,
   "metadata": {},
   "outputs": [
    {
     "name": "stdout",
     "output_type": "stream",
     "text": [
      "Scores: [0.61 0.6  0.6  0.64 0.61 0.59 0.61 0.59 0.61 0.6  0.62 0.58 0.6  0.62\n",
      " 0.61 0.65 0.57 0.6  0.6  0.57 0.62 0.61 0.6  0.62 0.57 0.61 0.6  0.61\n",
      " 0.61 0.57]\n",
      "Mean: 0.6\n",
      "Standard Deviation: 0.02\n"
     ]
    }
   ],
   "source": [
    "imba_pipeline = make_pipeline(SMOTENC(categorical_features = categoricals,\n",
    "                                      sampling_strategy = 1, random_state = 13), svc)\n",
    "svc_scores = np.around(cross_val_score(imba_pipeline, X_train, y_train, cv = cv, n_jobs = -1), decimals = 2)\n",
    "display_scores(svc_scores)"
   ]
  },
  {
   "cell_type": "code",
   "execution_count": 199,
   "metadata": {},
   "outputs": [],
   "source": [
    "y_pred = svc.fit(xtrain_smote, ytrain_smote).predict(X_test)"
   ]
  },
  {
   "cell_type": "code",
   "execution_count": 200,
   "metadata": {},
   "outputs": [
    {
     "name": "stdout",
     "output_type": "stream",
     "text": [
      "                 Predicted Negative  Predicted Positive\n",
      "Actual Negative                 657                 443\n",
      "Actual Positive                 154                 268\n",
      "\n",
      "\n",
      "Evaluation Metrics:\n",
      "--------------------------------------------------\n",
      "Accuracy: 0.61\n",
      "False Positive Rate: 0.4\n",
      "False Negative Rate: 0.4\n",
      "Sensitivity|Recall: 0.64\n",
      "Specificity: 0.6\n",
      "Precision: 0.38\n"
     ]
    }
   ],
   "source": [
    "# Creating the confusion matrix\n",
    "cm = metrics.confusion_matrix(y_test, y_pred)\n",
    "\n",
    "# Assigning columns names\n",
    "cm_df = pd.DataFrame(cm,\n",
    "                    columns = ['Predicted Negative', 'Predicted Positive'],\n",
    "                    index = ['Actual Negative', 'Actual Positive'])\n",
    "\n",
    "print(cm_df)\n",
    "print(\"\\n\")\n",
    "confusion_metrics(cm)"
   ]
  },
  {
   "cell_type": "code",
   "execution_count": 201,
   "metadata": {},
   "outputs": [],
   "source": [
    "svc_metrics = {'Accuracy': .61,\n",
    "              'False Positive Rate': .4,\n",
    "              'False Negative Rate': .4,\n",
    "              'Sensitivity | Recall': .64,\n",
    "              'Specificity': .6,\n",
    "              'Precision': .38}\n",
    "\n",
    "svc_metrics = pd.DataFrame.from_dict(svc_metrics, orient = 'index', columns = ['SVC'])"
   ]
  },
  {
   "cell_type": "markdown",
   "metadata": {},
   "source": [
    "## Random Forest"
   ]
  },
  {
   "cell_type": "code",
   "execution_count": 202,
   "metadata": {},
   "outputs": [
    {
     "name": "stdout",
     "output_type": "stream",
     "text": [
      "Scores: [0.8  0.78 0.78 0.78 0.77 0.78 0.8  0.77 0.75 0.77 0.81 0.78 0.75 0.74\n",
      " 0.78 0.8  0.8  0.78 0.77 0.8  0.8  0.8  0.77 0.78 0.78 0.78 0.79 0.77\n",
      " 0.82 0.76]\n",
      "Mean: 0.78\n",
      "Standard Deviation: 0.02\n"
     ]
    }
   ],
   "source": [
    "imba_pipeline = make_pipeline(SMOTENC(categorical_features = categoricals,\n",
    "                                      sampling_strategy = 1, random_state = 13), rfc)\n",
    "rfc_scores = np.around(cross_val_score(imba_pipeline, X_train, y_train, cv = cv, n_jobs = -1), decimals = 2)\n",
    "display_scores(rfc_scores)"
   ]
  },
  {
   "cell_type": "code",
   "execution_count": 203,
   "metadata": {},
   "outputs": [],
   "source": [
    "y_pred = rfc.fit(xtrain_smote, ytrain_smote).predict(X_test)"
   ]
  },
  {
   "cell_type": "code",
   "execution_count": 204,
   "metadata": {},
   "outputs": [
    {
     "name": "stdout",
     "output_type": "stream",
     "text": [
      "                 Predicted Negative  Predicted Positive\n",
      "Actual Negative                 953                 147\n",
      "Actual Positive                 187                 235\n",
      "\n",
      "\n",
      "Evaluation Metrics:\n",
      "--------------------------------------------------\n",
      "Accuracy: 0.78\n",
      "False Positive Rate: 0.1\n",
      "False Negative Rate: 0.4\n",
      "Sensitivity|Recall: 0.56\n",
      "Specificity: 0.87\n",
      "Precision: 0.62\n"
     ]
    }
   ],
   "source": [
    "# Creating the confusion matrix\n",
    "cm = metrics.confusion_matrix(y_test, y_pred)\n",
    "\n",
    "# Assigning columns names\n",
    "cm_df = pd.DataFrame(cm,\n",
    "                    columns = ['Predicted Negative', 'Predicted Positive'],\n",
    "                    index = ['Actual Negative', 'Actual Positive'])\n",
    "\n",
    "print(cm_df)\n",
    "print(\"\\n\")\n",
    "confusion_metrics(cm)"
   ]
  },
  {
   "cell_type": "code",
   "execution_count": 205,
   "metadata": {},
   "outputs": [],
   "source": [
    "rfc_metrics = {'Accuracy': .78,\n",
    "              'False Positive Rate': .1,\n",
    "              'False Negative Rate': .4,\n",
    "              'Sensitivity | Recall': .56,\n",
    "              'Specificity': .87,\n",
    "              'Precision': .62}\n",
    "\n",
    "rfc_metrics = pd.DataFrame.from_dict(rfc_metrics, orient = 'index', columns = ['RFC'])"
   ]
  },
  {
   "cell_type": "markdown",
   "metadata": {},
   "source": [
    "## Gradient Boosting Classifier"
   ]
  },
  {
   "cell_type": "code",
   "execution_count": 206,
   "metadata": {},
   "outputs": [
    {
     "name": "stdout",
     "output_type": "stream",
     "text": [
      "Scores: [0.77 0.76 0.73 0.75 0.75 0.75 0.78 0.72 0.69 0.75 0.74 0.73 0.71 0.73\n",
      " 0.74 0.77 0.77 0.76 0.75 0.75 0.75 0.78 0.74 0.75 0.74 0.75 0.77 0.73\n",
      " 0.75 0.71]\n",
      "Mean: 0.75\n",
      "Standard Deviation: 0.02\n"
     ]
    }
   ],
   "source": [
    "imba_pipeline = make_pipeline(SMOTENC(categorical_features = categoricals,\n",
    "                                      sampling_strategy = 1, random_state = 13), gbc)\n",
    "gbc_scores = np.around(cross_val_score(imba_pipeline, X_train, y_train, cv = cv, n_jobs = -1), decimals = 2)\n",
    "display_scores(gbc_scores)"
   ]
  },
  {
   "cell_type": "code",
   "execution_count": 207,
   "metadata": {},
   "outputs": [],
   "source": [
    "y_pred = gbc.fit(xtrain_smote, ytrain_smote).predict(X_test)"
   ]
  },
  {
   "cell_type": "code",
   "execution_count": 208,
   "metadata": {},
   "outputs": [
    {
     "name": "stdout",
     "output_type": "stream",
     "text": [
      "                 Predicted Negative  Predicted Positive\n",
      "Actual Negative                 875                 225\n",
      "Actual Positive                 175                 247\n",
      "\n",
      "\n",
      "Evaluation Metrics:\n",
      "--------------------------------------------------\n",
      "Accuracy: 0.74\n",
      "False Positive Rate: 0.2\n",
      "False Negative Rate: 0.4\n",
      "Sensitivity|Recall: 0.59\n",
      "Specificity: 0.8\n",
      "Precision: 0.52\n"
     ]
    }
   ],
   "source": [
    "# Creating the confusion matrix\n",
    "cm = metrics.confusion_matrix(y_test, y_pred)\n",
    "\n",
    "# Assigning columns names\n",
    "cm_df = pd.DataFrame(cm,\n",
    "                    columns = ['Predicted Negative', 'Predicted Positive'],\n",
    "                    index = ['Actual Negative', 'Actual Positive'])\n",
    "\n",
    "print(cm_df)\n",
    "print(\"\\n\")\n",
    "confusion_metrics(cm)"
   ]
  },
  {
   "cell_type": "code",
   "execution_count": 209,
   "metadata": {},
   "outputs": [],
   "source": [
    "gbc_metrics = {'Accuracy': .74,\n",
    "              'False Positive Rate': .2,\n",
    "              'False Negative Rate': .4,\n",
    "              'Sensitivity | Recall': .59,\n",
    "              'Specificity': .8,\n",
    "              'Precision': .52}\n",
    "\n",
    "gbc_metrics = pd.DataFrame.from_dict(gbc_metrics, orient = 'index', columns = ['GBC']) "
   ]
  },
  {
   "cell_type": "markdown",
   "metadata": {},
   "source": [
    "## Multilayer Perceptron Classifier"
   ]
  },
  {
   "cell_type": "code",
   "execution_count": 210,
   "metadata": {},
   "outputs": [
    {
     "name": "stdout",
     "output_type": "stream",
     "text": [
      "Scores: [0.77 0.77 0.75 0.74 0.76 0.72 0.77 0.73 0.69 0.71 0.72 0.74 0.65 0.72\n",
      " 0.77 0.79 0.77 0.77 0.76 0.74 0.76 0.75 0.74 0.72 0.72 0.73 0.75 0.66\n",
      " 0.77 0.73]\n",
      "Mean: 0.74\n",
      "Standard Deviation: 0.03\n"
     ]
    }
   ],
   "source": [
    "imba_pipeline = make_pipeline(SMOTENC(categorical_features = categoricals,\n",
    "                                      sampling_strategy = 1, random_state = 13), mlp)\n",
    "mlp_scores = np.around(cross_val_score(imba_pipeline, X_train, y_train, cv = cv, n_jobs = -1), decimals = 2)\n",
    "display_scores(mlp_scores)"
   ]
  },
  {
   "cell_type": "code",
   "execution_count": 211,
   "metadata": {},
   "outputs": [],
   "source": [
    "y_pred = mlp.fit(xtrain_smote, ytrain_smote).predict(X_test)"
   ]
  },
  {
   "cell_type": "code",
   "execution_count": 212,
   "metadata": {},
   "outputs": [
    {
     "name": "stdout",
     "output_type": "stream",
     "text": [
      "                 Predicted Negative  Predicted Positive\n",
      "Actual Negative                 895                 205\n",
      "Actual Positive                 199                 223\n",
      "\n",
      "\n",
      "Evaluation Metrics:\n",
      "--------------------------------------------------\n",
      "Accuracy: 0.73\n",
      "False Positive Rate: 0.2\n",
      "False Negative Rate: 0.5\n",
      "Sensitivity|Recall: 0.53\n",
      "Specificity: 0.81\n",
      "Precision: 0.52\n"
     ]
    }
   ],
   "source": [
    "# Creating the confusion matrix\n",
    "cm = metrics.confusion_matrix(y_test, y_pred)\n",
    "\n",
    "# Assigning columns names\n",
    "cm_df = pd.DataFrame(cm,\n",
    "                    columns = ['Predicted Negative', 'Predicted Positive'],\n",
    "                    index = ['Actual Negative', 'Actual Positive'])\n",
    "\n",
    "print(cm_df)\n",
    "print(\"\\n\")\n",
    "confusion_metrics(cm)"
   ]
  },
  {
   "cell_type": "code",
   "execution_count": 213,
   "metadata": {},
   "outputs": [],
   "source": [
    "mlp_metrics = {'Accuracy': .73,\n",
    "              'False Positive Rate': .2,\n",
    "              'False Negative Rate': .5,\n",
    "              'Sensitivity | Recall': .53,\n",
    "              'Specificity': .81,\n",
    "              'Precision': .52}\n",
    "\n",
    "mlp_metrics = pd.DataFrame.from_dict(mlp_metrics, orient = 'index', columns = ['MLP']) "
   ]
  },
  {
   "cell_type": "code",
   "execution_count": 214,
   "metadata": {},
   "outputs": [],
   "source": [
    "logit_bnb = logit_metrics.merge(bnb_metrics, how = 'outer', left_index = True, right_index = True)"
   ]
  },
  {
   "cell_type": "code",
   "execution_count": 215,
   "metadata": {},
   "outputs": [],
   "source": [
    "logit_bnb_knn = logit_bnb.merge(knn_metrics, how = 'outer', left_index = True, right_index = True)"
   ]
  },
  {
   "cell_type": "code",
   "execution_count": 216,
   "metadata": {},
   "outputs": [],
   "source": [
    "plus_svc = logit_bnb_knn.merge(svc_metrics, how = 'outer', left_index = True, right_index = True)"
   ]
  },
  {
   "cell_type": "code",
   "execution_count": 217,
   "metadata": {},
   "outputs": [],
   "source": [
    "plus_rfc = plus_svc.merge(rfc_metrics, how = 'outer', left_index = True, right_index = True)"
   ]
  },
  {
   "cell_type": "code",
   "execution_count": 218,
   "metadata": {},
   "outputs": [],
   "source": [
    "plus_gbc = plus_rfc.merge(gbc_metrics, how = 'outer', left_index = True, right_index = True)"
   ]
  },
  {
   "cell_type": "code",
   "execution_count": 219,
   "metadata": {},
   "outputs": [],
   "source": [
    "model_metrics = plus_gbc.merge(mlp_metrics, how = 'outer', left_index = True, right_index = True)"
   ]
  },
  {
   "cell_type": "markdown",
   "metadata": {},
   "source": [
    "## Random Forest Has the Best Performance\n",
    "\n",
    "The Random Forest Classifier performed better than the others. It had higher accuracy levels on training and testing and also a marginally lower false positive rate. It also had a fairly good balance between sensitivity and specificity. Let's run a version of Random Forest after tuning the hyperparameters to see how much we can improve the performance. I'll use HyperOpt to tune the parameters. "
   ]
  },
  {
   "cell_type": "code",
   "execution_count": 220,
   "metadata": {},
   "outputs": [
    {
     "name": "stdout",
     "output_type": "stream",
     "text": [
      "                      Logit  Naive Bayes   KNN   SVC   RFC   GBC   MLP\n",
      "Accuracy               0.72         0.69  0.62  0.61  0.78  0.74  0.73\n",
      "False Positive Rate    0.20         0.30  0.40  0.40  0.10  0.20  0.20\n",
      "False Negative Rate    0.50         0.40  0.40  0.40  0.40  0.40  0.50\n",
      "Sensitivity | Recall   0.55         0.63  0.60  0.64  0.56  0.59  0.53\n",
      "Specificity            0.78         0.72  0.63  0.60  0.87  0.80  0.81\n",
      "Precision              0.49         0.46  0.38  0.38  0.62  0.52  0.52\n"
     ]
    }
   ],
   "source": [
    "print(model_metrics)"
   ]
  },
  {
   "cell_type": "code",
   "execution_count": 223,
   "metadata": {},
   "outputs": [],
   "source": [
    "from sklearn.model_selection import StratifiedKFold"
   ]
  },
  {
   "cell_type": "code",
   "execution_count": 224,
   "metadata": {},
   "outputs": [],
   "source": [
    "# Let's use a 10 fold cross-validation\n",
    "\n",
    "cv = StratifiedKFold(n_splits = 10, random_state = 13, shuffle = True )"
   ]
  },
  {
   "cell_type": "code",
   "execution_count": 225,
   "metadata": {},
   "outputs": [
    {
     "name": "stdout",
     "output_type": "stream",
     "text": [
      "100%|██████████| 100/100 [1:45:34<00:00, 63.34s/trial, best loss: -0.7885547429843756]\n",
      "The best parameters are: {'criterion': 'entropy', 'max_depth': 77, 'max_features': 19, 'min_samples_split': 2, 'n_estimators': 216}\n"
     ]
    }
   ],
   "source": [
    "# Tuning Random Forest\n",
    "\n",
    "def hyperopt_train_test(params):\n",
    "    imba_pipeline = make_pipeline(SMOTENC(categorical_features = categoricals,\n",
    "                                          random_state = 13,\n",
    "                                         sampling_strategy = 1),\n",
    "                                  RandomForestClassifier(**params))\n",
    "    return cross_val_score(imba_pipeline, X_train, y_train, cv = cv).mean()\n",
    "\n",
    "space = {'max_depth': hp.choice('max_depth', range(1,100)), \n",
    "         'max_features': hp.choice('max_features', range(1, 30)), \n",
    "         'n_estimators': hp.choice('n_estimators', range(10, 300)), \n",
    "         'criterion': hp.choice('criterion', [\"gini\", \"entropy\"]),\n",
    "         'min_samples_split': hp.choice('min_samples_split', range(2, 20))\n",
    "}\n",
    "\n",
    "def f(params):\n",
    "    acc = hyperopt_train_test(params)\n",
    "    return {'loss': -acc, 'status': STATUS_OK}\n",
    "\n",
    "seed = 90 \n",
    "trials = Trials()\n",
    "best = fmin(f, space, algo = tpe.suggest, max_evals = 100, trials = trials,\n",
    "            rstate = np.random.RandomState(seed))\n",
    "print('The best parameters are: {}'.format(space_eval(space, best)))"
   ]
  },
  {
   "cell_type": "code",
   "execution_count": 226,
   "metadata": {},
   "outputs": [],
   "source": [
    "rf_tuned = RandomForestClassifier(criterion = 'entropy', \n",
    "                                 max_depth = 77,\n",
    "                                 max_features = 19,\n",
    "                                 min_samples_split = 2,\n",
    "                                 n_estimators = 216)"
   ]
  },
  {
   "cell_type": "code",
   "execution_count": 227,
   "metadata": {},
   "outputs": [],
   "source": [
    "y_pred = rf_tuned.fit(xtrain_smote, ytrain_smote).predict(X_test)"
   ]
  },
  {
   "cell_type": "code",
   "execution_count": 228,
   "metadata": {},
   "outputs": [
    {
     "name": "stdout",
     "output_type": "stream",
     "text": [
      "                 Predicted Negative  Predicted Positive\n",
      "Actual Negative                 935                 165\n",
      "Actual Positive                 185                 237\n",
      "\n",
      "\n",
      "Evaluation Metrics:\n",
      "--------------------------------------------------\n",
      "Accuracy: 0.77\n",
      "False Positive Rate: 0.2\n",
      "False Negative Rate: 0.4\n",
      "Sensitivity|Recall: 0.56\n",
      "Specificity: 0.85\n",
      "Precision: 0.59\n"
     ]
    }
   ],
   "source": [
    "# Creating the confusion matrix\n",
    "cm = metrics.confusion_matrix(y_test, y_pred)\n",
    "\n",
    "# Assigning columns names\n",
    "cm_df = pd.DataFrame(cm,\n",
    "                    columns = ['Predicted Negative', 'Predicted Positive'],\n",
    "                    index = ['Actual Negative', 'Actual Positive'])\n",
    "\n",
    "print(cm_df)\n",
    "print(\"\\n\")\n",
    "confusion_metrics(cm)"
   ]
  },
  {
   "cell_type": "markdown",
   "metadata": {},
   "source": [
    "The \"tuned\" Random Forest model fares slightly better than the one using the default parameters. None of the models tried here did very well in classifying noncitizens, which is both a surprise and not surprising at the same time. The association matrix using the pooled model of features from all three source models showed that none of the independent variables were strongly associated with legal status. But, unfortunately, the products of the three models, estimates of the unauthorized immigrant population, are widely used and cited in scholarship, policy papers, and the mainstream media. "
   ]
  },
  {
   "cell_type": "markdown",
   "metadata": {},
   "source": [
    "## How Accurate Are Our Estimates?\n",
    "\n",
    "The SIPP 2008 survey contains the \"ground truth\" of what was true in 2008 and perhaps 2009, yet our trained models using features from leading social science models were not very accurate. Between our model and the others, we misclassified the legal status of between 22% to 34% of noncitizens. We had high false positive rates across the board, meaning that we classified too many lawfully present noncitizens as unauthorized. "
   ]
  }
 ],
 "metadata": {
  "kernelspec": {
   "display_name": "Python 3",
   "language": "python",
   "name": "python3"
  },
  "language_info": {
   "codemirror_mode": {
    "name": "ipython",
    "version": 3
   },
   "file_extension": ".py",
   "mimetype": "text/x-python",
   "name": "python",
   "nbconvert_exporter": "python",
   "pygments_lexer": "ipython3",
   "version": "3.7.7"
  }
 },
 "nbformat": 4,
 "nbformat_minor": 2
}
