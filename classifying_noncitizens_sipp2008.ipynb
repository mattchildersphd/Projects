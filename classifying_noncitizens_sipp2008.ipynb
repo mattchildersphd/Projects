{
 "cells": [
  {
   "cell_type": "code",
   "execution_count": 2,
   "metadata": {},
   "outputs": [],
   "source": [
    "import pandas as pd\n",
    "import numpy as np\n",
    "import seaborn as sns\n",
    "import matplotlib.pyplot as plt\n",
    "import statsmodels as sm\n",
    "%matplotlib inline\n",
    "\n",
    "from sklearn import ensemble\n",
    "from sklearn import datasets\n",
    "from sklearn.utils import shuffle\n",
    "from sklearn.metrics import mean_squared_error\n",
    "from sklearn.utils import resample\n",
    "from sklearn.naive_bayes import BernoulliNB\n",
    "from sklearn.naive_bayes import ComplementNB\n",
    "from sklearn.model_selection import train_test_split\n",
    "from sklearn.model_selection import cross_val_score\n",
    "from sklearn.metrics import confusion_matrix\n",
    "from sklearn.metrics import accuracy_score\n",
    "from sklearn.metrics import precision_score\n",
    "from sklearn.metrics import recall_score\n",
    "from sklearn.metrics import f1_score\n",
    "from sklearn import svm\n",
    "from sklearn.model_selection import GridSearchCV\n",
    "from sklearn.model_selection import RandomizedSearchCV\n",
    "from scipy.stats import uniform\n",
    "from sklearn.neighbors import KNeighborsClassifier\n",
    "from sklearn.ensemble import RandomForestClassifier\n",
    "\n",
    "\n",
    "from scipy.stats import pointbiserialr\n",
    "import scipy.stats as stats\n",
    "import scipy.stats as ss\n",
    "from scipy.stats.mstats import winsorize\n",
    "\n",
    "from hyperopt import hp, tpe, fmin, Trials, STATUS_OK, space_eval\n",
    "\n",
    "import warnings\n",
    "warnings.filterwarnings(\"ignore\")"
   ]
  },
  {
   "cell_type": "markdown",
   "metadata": {},
   "source": [
    "## Supervised Learning Capstone: Predicting Unauthorized Status Among Noncitizens Using Census Data\n",
    "\n",
    "My purpose for this capstone is to build a model using U.S. Census survey data that predicts a noncitizen's legal status reasonably well. I am a political scientist working in the health care policy research and advocacy space and much of my work would benefit from having the ability to filter out this population from measures of eligibility for health insurance programs in the United States. Estimating the unauthorized immigrant population is an important step in the process of calculating how many residents in the United States fall into the so-called health insurance \"coverage gap.\" People who fall into this category are those who make too much money to qualify for Medicaid but do not make enough to qualify for government subsidized health insurance premiums on the health insurance exchanges. I am currently working on a project centered on the coverage gap and I would like to be able to measure the unauthorized population in Florida's major metropolitan areas. \n",
    "\n",
    "I will use data from the 2008 Survey of Income and Program Participation (SIPP), which is a national panel survey of approximately 390,000 individuals in 50,000-60,000 households over a four-year period. The U.S. government uses it to track microeconomic trends and analyze how government programs affect American households over time. The panel is asked a core set of questions in every wave that measures socioeconomic status, demographics, and receipt of and use of government spending program transfers. Each wave also includes an additional set of questions on a specific topic. The second wave covers ethnicity and immigration and it will form the basis of my analysis here.\n",
    "\n",
    "Researchers who use the 2008 SIPP to estimate unauthorized status among noncitizens typically merge the second wave data with a larger Census dataset, either the American Community Survey (ACS) or Current Population Survey (CPS), and use a multiple imputation algorithm algorithm to predict a noncitizen's legal status. The ACS and CIPS measure respondents' citizenship status, but do not probe further to measure whether they are in the United States legally. The SIPP, on other hand, includes questions measuring whether the person came to the U.S. as a legal permanent resident (LPR) or whether they have \"adjusted\" to permanent status since entering the country. It also measures other forms of legal entry through various visa programs or whether the person is a refugee or asylee, but the government only provides data on LPR status. Researchers must apply for special access to the other legal status measures and pay a hefty access fee (I will rely on the publicly available measures). \n",
    "\n",
    "All of the Census surveys ask the same set of ethnicity, demographic, and socioeconomic status questions, so researchers may combine the SIPP and ACS (or CPS) for a multiple imputation analysis. The algorithms thus \"impute\" legal status in the data from the ACS or CPS in the pooled data file.\n",
    "    \n",
    "Pivoting from the literature, I will use machine learning algorithms to train a model to predict unauthorized status in the SIPP with the hopes of accurately predicting a noncitizen's legal status. If I am successful, I can use use the model on either the ACS or CPS to predict unauthorized status in those datasets. \n",
    "\n",
    "For each wave, the survey data is housed in three files: the core file, the topical module file, and the file with replicate weights. I will first merge all of three before proceeding."
   ]
  },
  {
   "cell_type": "code",
   "execution_count": 3,
   "metadata": {},
   "outputs": [],
   "source": [
    "# Reading in the topical module\n",
    "\n",
    "sipp2008_w2tm = pd.read_stata('/Users/machilders/Box Sync/Data Science/Thinkful/Data Files/sipp2008/sipp2008w2.dta')"
   ]
  },
  {
   "cell_type": "code",
   "execution_count": 4,
   "metadata": {},
   "outputs": [],
   "source": [
    "# Reading in the core data\n",
    "\n",
    "sipp2008_w2core = pd.read_stata('/Users/machilders/Box Sync/Data Science/Thinkful/Data Files/sipp2008/sipp2008core.dta')"
   ]
  },
  {
   "cell_type": "markdown",
   "metadata": {},
   "source": [
    "### Background and Potential Features\n",
    "\n",
    "There are a few groups of social scientists who have estimated the number of unauthorized immigrants in the United States whose models are either widely used, or widely cited in the news and among policymakers. Pew Research Center's methods (PRC) are the most well known and they use a method referred to as the \"residual method.\" It employs a combination of administrative statistics on the number of legal noncitizens from the federal government and Census survey data (ACS) to estimate the unlawful population. Their early attempts in the late 1990s were rather simple: they used either the decennial Census record of the total number noncitizens (or ACS estimates of that population) and substracted the government's official number of lawful noncitizens to calculate the unauthorized figures. \n",
    "\n",
    "As computer processing technology advanced, social scientists at PRC and in academia began to use multiple imputation algorithms to create more precise and granular estimates. They pooled SIPP and ACS together to impute a noncitizen's legal status, with the SIPP being the 'donor' data and the ACS being the target. Both surveys sample the national population in similar ways and use a common set of socioeconomic and demographic features to serve as predictors. The SIPP asks its noncitizen respondents whether they had legal status when they entered the country and if they have since become legal permanent residents. The ACS, on the other hand, only asks respondents if they are citizens, without probing them further to infer their legal status. Thus, in the pooled dataset, a variable measuring a noncitizen's legal status would have missing values for noncitizens from the ACS.  \n",
    "\n",
    "For this analysis, I will use features from three unauthorized immigrant multiple imputation models that are popular in social science research. The first is from a 2014 study testing alternative methods and it uses eight features (see below). The second is a central component in a Kaiser Family Foundation (KFF) analysis estimating the number of low-income Americans who are in the health insurance \"coverage gap\". The KFF study is considered to be the gold standard for estimating the size of this population. The third is a model used by the Migration Policy Institute for its work measuring how federal policies impact the immigrant population. \n",
    "\n",
    "    Van Hook, Jennifer, James D. Bachmeier, Donna L. Coffman, and Ofer Harel. 2015. “Can We Spin Straw Into Gold? An Evaluation of Immigrant Legal Status Imputation Approaches.” Demography 52 (1): 329–54. https://doi.org/10.1007/s13524-014-0358-x.\n",
    "- Family poverty level \n",
    "- education level\n",
    "- Born in Mexico\n",
    "- Years of U.S. residence\n",
    "- age\n",
    "- gender\n",
    "- Number of functional limitations (disabilities)\n",
    "- Poor health\n",
    "\n",
    "The Van Hook et al. group's feature set has the fewest dimensions, but we are not able to completely replicate it. Looking into the future stages of this project, the ACS does not include measures of Americans' health status. On the other hand, most of the remaining features overlap with the two models below.\n",
    "\n",
    "    Garfield, Rachel, Kendal Orgera, and Anthony Damico. 2019. “The Coverage Gap: Uninsured Poor Adults in States That Do Not Expand Medicaid.” Issue brief. Washington, D.C.: Kaiser Family Foundation. https://www.kff.org/medicaid/issue-brief/the-coverage-gap-uninsured-poor-adults-in-states-that-do-not-expand-medicaid/.\n",
    "- Year of US entry,\n",
    "- Job industry classification,\n",
    "- State of residence,\n",
    "- Family Poverty Level,\n",
    "- Ownership or rental of residence,\n",
    "- Presence of at least one citizen in household,\n",
    "- Number of occupants in the household (< or >= six occupants),\n",
    "- Whether all household occupants are related,\n",
    "- Number of workers in household,\n",
    "- Health insurance coverage status,\n",
    "- Gender\n",
    "- Ethnicity-Hispanic or Latino Origin\n",
    "- Age Group\n",
    "- Age Group * Gender\n",
    "- Age Group * Insurance Coverage * Gender\n",
    "\n",
    "We can replicate this model completely because both the SIPP and ACS have all of the features. \n",
    "\n",
    "    Capps, Randy, James D. Bachmeier, Michael Fix, and Jennifer Van Hook. 2013. “A Demographic, Socioeconomic, and Health Coverage Profile of Unauthorized Immigrants in the United States.” 5. Washington D.C.: Migration Policy Institute. https://www.migrationpolicy.org/research/demographic-socioeconomic-and-health-coverage-profile-unauthorized-immigrants-united-states.\n",
    "- world region of birth \n",
    "- duration of US residence \n",
    "- English language proficiency\n",
    "- age\n",
    "- sex \n",
    "- marital status\n",
    "- parental status\n",
    "- household size\n",
    "- educational attainment\n",
    "- homeownership\n",
    "- insurance coverage\n",
    "- labor force status\n",
    "- income-to-poverty ratio\n",
    "- US state/region of residence"
   ]
  },
  {
   "cell_type": "markdown",
   "metadata": {},
   "source": [
    "### Variables to keep from core file:\n",
    "\n",
    "Identifiers and weights:\n",
    "'ssuid' , 'epppnum' , 'rfid' , 'wpfinwgt', 'srefmon',\n",
    "\n",
    "Demographic:\n",
    "'tage' ,'ebornus' , 'ecitizen' , 'tftotinc' , 'rfpov' ,\n",
    "'ejbind1' , 'eorigin' , 'tfipsst', 'epdjbthn' , 'etenure' ,\n",
    "'esex' , 'tmetro', 'tjbocc1', 'ehowwell', 'eeducate', 'epnspous', 'epnmom', 'epndad', 'errp', 'esftype', 'espeak', esfr', 'shhadid', 'eftype'\n",
    "\n",
    "Insurance Vars:\n",
    "'rchampm' , 'er20' , 'er03a' , 'er01a' , 'rprvhi' ,\n",
    "'rprvhi2' , 'emcocov' , 'ecrmth' , 'ecdmth'"
   ]
  },
  {
   "cell_type": "markdown",
   "metadata": {},
   "source": [
    "### Variables to keep from topical file: \n",
    "\n",
    "identifiers:\n",
    "'ssuid', 'epppnum',\n",
    "\n",
    "migration variables:\n",
    "'timstat', 'eadjust','tmoveus', 'tbrstate', 'tmovyryr', 'bcntry'"
   ]
  },
  {
   "cell_type": "code",
   "execution_count": 5,
   "metadata": {},
   "outputs": [],
   "source": [
    "# Creating smaller dataset with variables from core file\n",
    "\n",
    "sipp2008_w2core_small = sipp2008_w2core[['ssuid' , 'epppnum' , 'rfid' , 'rfid2', 'wpfinwgt', 'tage', 'ebornus',\n",
    "                                         'ecitizen', 'tftotinc', 'rfpov', 'ejbind1', 'epdjbthn', 'tjbocc1', 'erace',\n",
    "                                         'eorigin', 'tfipsst', 'etenure','esex', 'tmetro', \n",
    "                                         'rchampm', 'er20', 'er03a', 'er01a', 'rprvhi', 'rprvhi2','emcocov', \n",
    "                                         'ecrmth', 'ecdmth','srefmon', 'eeducate', 'espeak', 'ehowwell', 'epnspous', \n",
    "                                         'epnmom', 'epndad', 'errp', 'esftype', 'esfr', 'shhadid', 'eftype', \n",
    "                                         'efkind', 'efspouse', 'ehiowner']]"
   ]
  },
  {
   "cell_type": "code",
   "execution_count": 6,
   "metadata": {},
   "outputs": [
    {
     "data": {
      "text/html": [
       "<div>\n",
       "<style scoped>\n",
       "    .dataframe tbody tr th:only-of-type {\n",
       "        vertical-align: middle;\n",
       "    }\n",
       "\n",
       "    .dataframe tbody tr th {\n",
       "        vertical-align: top;\n",
       "    }\n",
       "\n",
       "    .dataframe thead th {\n",
       "        text-align: right;\n",
       "    }\n",
       "</style>\n",
       "<table border=\"1\" class=\"dataframe\">\n",
       "  <thead>\n",
       "    <tr style=\"text-align: right;\">\n",
       "      <th></th>\n",
       "      <th>ssuseq</th>\n",
       "      <th>ssuid</th>\n",
       "      <th>spanel</th>\n",
       "      <th>swave</th>\n",
       "      <th>srotaton</th>\n",
       "      <th>tfipsst</th>\n",
       "      <th>shhadid</th>\n",
       "      <th>eoutcome</th>\n",
       "      <th>rfid</th>\n",
       "      <th>rfid2</th>\n",
       "      <th>...</th>\n",
       "      <th>erebate</th>\n",
       "      <th>arebate</th>\n",
       "      <th>erbamth</th>\n",
       "      <th>arbamth</th>\n",
       "      <th>erbatamt</th>\n",
       "      <th>arbatamt</th>\n",
       "      <th>erbattyp</th>\n",
       "      <th>arbattyp</th>\n",
       "      <th>erebatoc</th>\n",
       "      <th>arebatoc</th>\n",
       "    </tr>\n",
       "  </thead>\n",
       "  <tbody>\n",
       "    <tr>\n",
       "      <th>0</th>\n",
       "      <td>1</td>\n",
       "      <td>019128000276</td>\n",
       "      <td>2008</td>\n",
       "      <td>2</td>\n",
       "      <td>2</td>\n",
       "      <td>12</td>\n",
       "      <td>11</td>\n",
       "      <td>201</td>\n",
       "      <td>4</td>\n",
       "      <td>4</td>\n",
       "      <td>...</td>\n",
       "      <td>2</td>\n",
       "      <td>0</td>\n",
       "      <td>-1</td>\n",
       "      <td>0</td>\n",
       "      <td>0</td>\n",
       "      <td>0</td>\n",
       "      <td>-1</td>\n",
       "      <td>0</td>\n",
       "      <td>-1</td>\n",
       "      <td>0</td>\n",
       "    </tr>\n",
       "    <tr>\n",
       "      <th>1</th>\n",
       "      <td>1</td>\n",
       "      <td>019128000276</td>\n",
       "      <td>2008</td>\n",
       "      <td>2</td>\n",
       "      <td>2</td>\n",
       "      <td>12</td>\n",
       "      <td>11</td>\n",
       "      <td>201</td>\n",
       "      <td>4</td>\n",
       "      <td>4</td>\n",
       "      <td>...</td>\n",
       "      <td>2</td>\n",
       "      <td>0</td>\n",
       "      <td>-1</td>\n",
       "      <td>0</td>\n",
       "      <td>0</td>\n",
       "      <td>0</td>\n",
       "      <td>-1</td>\n",
       "      <td>0</td>\n",
       "      <td>-1</td>\n",
       "      <td>0</td>\n",
       "    </tr>\n",
       "    <tr>\n",
       "      <th>2</th>\n",
       "      <td>1</td>\n",
       "      <td>019128000276</td>\n",
       "      <td>2008</td>\n",
       "      <td>2</td>\n",
       "      <td>2</td>\n",
       "      <td>12</td>\n",
       "      <td>11</td>\n",
       "      <td>201</td>\n",
       "      <td>4</td>\n",
       "      <td>4</td>\n",
       "      <td>...</td>\n",
       "      <td>-1</td>\n",
       "      <td>0</td>\n",
       "      <td>-1</td>\n",
       "      <td>0</td>\n",
       "      <td>0</td>\n",
       "      <td>0</td>\n",
       "      <td>-1</td>\n",
       "      <td>0</td>\n",
       "      <td>-1</td>\n",
       "      <td>0</td>\n",
       "    </tr>\n",
       "    <tr>\n",
       "      <th>3</th>\n",
       "      <td>2</td>\n",
       "      <td>019128000334</td>\n",
       "      <td>2008</td>\n",
       "      <td>2</td>\n",
       "      <td>2</td>\n",
       "      <td>12</td>\n",
       "      <td>11</td>\n",
       "      <td>201</td>\n",
       "      <td>4</td>\n",
       "      <td>4</td>\n",
       "      <td>...</td>\n",
       "      <td>1</td>\n",
       "      <td>0</td>\n",
       "      <td>4</td>\n",
       "      <td>0</td>\n",
       "      <td>600</td>\n",
       "      <td>0</td>\n",
       "      <td>2</td>\n",
       "      <td>0</td>\n",
       "      <td>2</td>\n",
       "      <td>0</td>\n",
       "    </tr>\n",
       "    <tr>\n",
       "      <th>4</th>\n",
       "      <td>3</td>\n",
       "      <td>019128000932</td>\n",
       "      <td>2008</td>\n",
       "      <td>2</td>\n",
       "      <td>2</td>\n",
       "      <td>22</td>\n",
       "      <td>11</td>\n",
       "      <td>201</td>\n",
       "      <td>4</td>\n",
       "      <td>4</td>\n",
       "      <td>...</td>\n",
       "      <td>2</td>\n",
       "      <td>0</td>\n",
       "      <td>-1</td>\n",
       "      <td>0</td>\n",
       "      <td>0</td>\n",
       "      <td>0</td>\n",
       "      <td>-1</td>\n",
       "      <td>0</td>\n",
       "      <td>-1</td>\n",
       "      <td>0</td>\n",
       "    </tr>\n",
       "  </tbody>\n",
       "</table>\n",
       "<p>5 rows × 428 columns</p>\n",
       "</div>"
      ],
      "text/plain": [
       "   ssuseq         ssuid  spanel  swave  srotaton  tfipsst  shhadid  eoutcome  \\\n",
       "0       1  019128000276    2008      2         2       12       11       201   \n",
       "1       1  019128000276    2008      2         2       12       11       201   \n",
       "2       1  019128000276    2008      2         2       12       11       201   \n",
       "3       2  019128000334    2008      2         2       12       11       201   \n",
       "4       3  019128000932    2008      2         2       22       11       201   \n",
       "\n",
       "   rfid  rfid2  ...  erebate arebate erbamth  arbamth  erbatamt  arbatamt  \\\n",
       "0     4      4  ...        2       0      -1        0         0         0   \n",
       "1     4      4  ...        2       0      -1        0         0         0   \n",
       "2     4      4  ...       -1       0      -1        0         0         0   \n",
       "3     4      4  ...        1       0       4        0       600         0   \n",
       "4     4      4  ...        2       0      -1        0         0         0   \n",
       "\n",
       "   erbattyp  arbattyp  erebatoc  arebatoc  \n",
       "0        -1         0        -1         0  \n",
       "1        -1         0        -1         0  \n",
       "2        -1         0        -1         0  \n",
       "3         2         0         2         0  \n",
       "4        -1         0        -1         0  \n",
       "\n",
       "[5 rows x 428 columns]"
      ]
     },
     "execution_count": 6,
     "metadata": {},
     "output_type": "execute_result"
    }
   ],
   "source": [
    "# Checking to see if the data looks OK.\n",
    "\n",
    "sipp2008_w2tm.head()"
   ]
  },
  {
   "cell_type": "code",
   "execution_count": 7,
   "metadata": {},
   "outputs": [],
   "source": [
    "# Creating smaller topical module files with migration variables\n",
    "\n",
    "sipp2008_w2tm_small = sipp2008_w2tm[['ssuid', 'epppnum', 'timstat', 'eadjust','tmoveus', 'tbrstate', 'tmovyryr']]"
   ]
  },
  {
   "cell_type": "code",
   "execution_count": 8,
   "metadata": {},
   "outputs": [],
   "source": [
    "# Reading in the replicate weight files\n",
    "\n",
    "sipp2008_w2_rw = pd.read_stata('/Users/machilders/Box Sync/Data Science/Thinkful/Data Files/sipp2008/rw08w2.dta')"
   ]
  },
  {
   "cell_type": "code",
   "execution_count": 9,
   "metadata": {},
   "outputs": [
    {
     "data": {
      "text/html": [
       "<div>\n",
       "<style scoped>\n",
       "    .dataframe tbody tr th:only-of-type {\n",
       "        vertical-align: middle;\n",
       "    }\n",
       "\n",
       "    .dataframe tbody tr th {\n",
       "        vertical-align: top;\n",
       "    }\n",
       "\n",
       "    .dataframe thead th {\n",
       "        text-align: right;\n",
       "    }\n",
       "</style>\n",
       "<table border=\"1\" class=\"dataframe\">\n",
       "  <thead>\n",
       "    <tr style=\"text-align: right;\">\n",
       "      <th></th>\n",
       "      <th>ssuid</th>\n",
       "      <th>spanel</th>\n",
       "      <th>swave</th>\n",
       "      <th>srefmon</th>\n",
       "      <th>epppnum</th>\n",
       "      <th>repwgt1</th>\n",
       "      <th>repwgt2</th>\n",
       "      <th>repwgt3</th>\n",
       "      <th>repwgt4</th>\n",
       "      <th>repwgt5</th>\n",
       "      <th>...</th>\n",
       "      <th>repwgt111</th>\n",
       "      <th>repwgt112</th>\n",
       "      <th>repwgt113</th>\n",
       "      <th>repwgt114</th>\n",
       "      <th>repwgt115</th>\n",
       "      <th>repwgt116</th>\n",
       "      <th>repwgt117</th>\n",
       "      <th>repwgt118</th>\n",
       "      <th>repwgt119</th>\n",
       "      <th>repwgt120</th>\n",
       "    </tr>\n",
       "  </thead>\n",
       "  <tbody>\n",
       "    <tr>\n",
       "      <th>0</th>\n",
       "      <td>019128000276</td>\n",
       "      <td>2008</td>\n",
       "      <td>2</td>\n",
       "      <td>1</td>\n",
       "      <td>0101</td>\n",
       "      <td>2040.7541</td>\n",
       "      <td>5551.7528</td>\n",
       "      <td>2119.0897</td>\n",
       "      <td>1835.0505</td>\n",
       "      <td>2008.5523</td>\n",
       "      <td>...</td>\n",
       "      <td>2137.3179</td>\n",
       "      <td>5662.3515</td>\n",
       "      <td>5582.8150</td>\n",
       "      <td>5723.1093</td>\n",
       "      <td>2107.6800</td>\n",
       "      <td>6089.2609</td>\n",
       "      <td>5612.6844</td>\n",
       "      <td>6430.2347</td>\n",
       "      <td>5413.1362</td>\n",
       "      <td>1810.1130</td>\n",
       "    </tr>\n",
       "    <tr>\n",
       "      <th>1</th>\n",
       "      <td>019128000276</td>\n",
       "      <td>2008</td>\n",
       "      <td>2</td>\n",
       "      <td>2</td>\n",
       "      <td>0101</td>\n",
       "      <td>2085.9348</td>\n",
       "      <td>5665.7759</td>\n",
       "      <td>2152.8643</td>\n",
       "      <td>1861.6643</td>\n",
       "      <td>2036.1622</td>\n",
       "      <td>...</td>\n",
       "      <td>2177.7639</td>\n",
       "      <td>5762.0629</td>\n",
       "      <td>5682.3981</td>\n",
       "      <td>5795.3878</td>\n",
       "      <td>2135.6026</td>\n",
       "      <td>6184.0565</td>\n",
       "      <td>5674.9338</td>\n",
       "      <td>6481.0159</td>\n",
       "      <td>5405.5585</td>\n",
       "      <td>1834.6934</td>\n",
       "    </tr>\n",
       "    <tr>\n",
       "      <th>2</th>\n",
       "      <td>019128000276</td>\n",
       "      <td>2008</td>\n",
       "      <td>2</td>\n",
       "      <td>3</td>\n",
       "      <td>0101</td>\n",
       "      <td>2115.7526</td>\n",
       "      <td>5773.8978</td>\n",
       "      <td>2225.4883</td>\n",
       "      <td>1894.2444</td>\n",
       "      <td>2099.8113</td>\n",
       "      <td>...</td>\n",
       "      <td>2209.2974</td>\n",
       "      <td>5792.6937</td>\n",
       "      <td>5767.4380</td>\n",
       "      <td>5986.5837</td>\n",
       "      <td>2200.2664</td>\n",
       "      <td>6194.7575</td>\n",
       "      <td>5790.4998</td>\n",
       "      <td>6626.1138</td>\n",
       "      <td>5564.5842</td>\n",
       "      <td>1851.5967</td>\n",
       "    </tr>\n",
       "    <tr>\n",
       "      <th>3</th>\n",
       "      <td>019128000276</td>\n",
       "      <td>2008</td>\n",
       "      <td>2</td>\n",
       "      <td>4</td>\n",
       "      <td>0101</td>\n",
       "      <td>2062.7738</td>\n",
       "      <td>5759.3346</td>\n",
       "      <td>2175.7926</td>\n",
       "      <td>1840.2327</td>\n",
       "      <td>2061.9449</td>\n",
       "      <td>...</td>\n",
       "      <td>2168.3851</td>\n",
       "      <td>5672.1106</td>\n",
       "      <td>5573.4326</td>\n",
       "      <td>5889.4111</td>\n",
       "      <td>2145.7929</td>\n",
       "      <td>5991.2279</td>\n",
       "      <td>5706.9871</td>\n",
       "      <td>6603.9234</td>\n",
       "      <td>5416.1095</td>\n",
       "      <td>1817.2770</td>\n",
       "    </tr>\n",
       "    <tr>\n",
       "      <th>4</th>\n",
       "      <td>019128000276</td>\n",
       "      <td>2008</td>\n",
       "      <td>2</td>\n",
       "      <td>1</td>\n",
       "      <td>0102</td>\n",
       "      <td>2040.7541</td>\n",
       "      <td>5551.7528</td>\n",
       "      <td>2119.0897</td>\n",
       "      <td>1835.0505</td>\n",
       "      <td>2008.5523</td>\n",
       "      <td>...</td>\n",
       "      <td>2137.3179</td>\n",
       "      <td>5662.3515</td>\n",
       "      <td>5582.8150</td>\n",
       "      <td>5723.1093</td>\n",
       "      <td>2107.6800</td>\n",
       "      <td>6089.2609</td>\n",
       "      <td>5612.6844</td>\n",
       "      <td>6430.2347</td>\n",
       "      <td>5413.1362</td>\n",
       "      <td>1810.1130</td>\n",
       "    </tr>\n",
       "  </tbody>\n",
       "</table>\n",
       "<p>5 rows × 125 columns</p>\n",
       "</div>"
      ],
      "text/plain": [
       "          ssuid  spanel  swave  srefmon epppnum    repwgt1    repwgt2  \\\n",
       "0  019128000276    2008      2        1    0101  2040.7541  5551.7528   \n",
       "1  019128000276    2008      2        2    0101  2085.9348  5665.7759   \n",
       "2  019128000276    2008      2        3    0101  2115.7526  5773.8978   \n",
       "3  019128000276    2008      2        4    0101  2062.7738  5759.3346   \n",
       "4  019128000276    2008      2        1    0102  2040.7541  5551.7528   \n",
       "\n",
       "     repwgt3    repwgt4    repwgt5  ...  repwgt111  repwgt112  repwgt113  \\\n",
       "0  2119.0897  1835.0505  2008.5523  ...  2137.3179  5662.3515  5582.8150   \n",
       "1  2152.8643  1861.6643  2036.1622  ...  2177.7639  5762.0629  5682.3981   \n",
       "2  2225.4883  1894.2444  2099.8113  ...  2209.2974  5792.6937  5767.4380   \n",
       "3  2175.7926  1840.2327  2061.9449  ...  2168.3851  5672.1106  5573.4326   \n",
       "4  2119.0897  1835.0505  2008.5523  ...  2137.3179  5662.3515  5582.8150   \n",
       "\n",
       "   repwgt114  repwgt115  repwgt116  repwgt117  repwgt118  repwgt119  repwgt120  \n",
       "0  5723.1093  2107.6800  6089.2609  5612.6844  6430.2347  5413.1362  1810.1130  \n",
       "1  5795.3878  2135.6026  6184.0565  5674.9338  6481.0159  5405.5585  1834.6934  \n",
       "2  5986.5837  2200.2664  6194.7575  5790.4998  6626.1138  5564.5842  1851.5967  \n",
       "3  5889.4111  2145.7929  5991.2279  5706.9871  6603.9234  5416.1095  1817.2770  \n",
       "4  5723.1093  2107.6800  6089.2609  5612.6844  6430.2347  5413.1362  1810.1130  \n",
       "\n",
       "[5 rows x 125 columns]"
      ]
     },
     "execution_count": 9,
     "metadata": {},
     "output_type": "execute_result"
    }
   ],
   "source": [
    "sipp2008_w2_rw.head()"
   ]
  },
  {
   "cell_type": "code",
   "execution_count": 10,
   "metadata": {},
   "outputs": [
    {
     "name": "stdout",
     "output_type": "stream",
     "text": [
      "<class 'pandas.core.frame.DataFrame'>\n",
      "Int64Index: 392702 entries, 0 to 392701\n",
      "Data columns (total 43 columns):\n",
      "ssuid       392702 non-null object\n",
      "epppnum     392702 non-null object\n",
      "rfid        392702 non-null int16\n",
      "rfid2       392702 non-null int16\n",
      "wpfinwgt    392702 non-null float64\n",
      "tage        392702 non-null int8\n",
      "ebornus     392702 non-null int8\n",
      "ecitizen    392702 non-null int8\n",
      "tftotinc    392702 non-null int32\n",
      "rfpov       392702 non-null int32\n",
      "ejbind1     392702 non-null int16\n",
      "epdjbthn    392702 non-null int8\n",
      "tjbocc1     392702 non-null int16\n",
      "erace       392702 non-null int8\n",
      "eorigin     392702 non-null int8\n",
      "tfipsst     392702 non-null int8\n",
      "etenure     392702 non-null int8\n",
      "esex        392702 non-null int8\n",
      "tmetro      392702 non-null int8\n",
      "rchampm     392702 non-null int8\n",
      "er20        392702 non-null int8\n",
      "er03a       392702 non-null int8\n",
      "er01a       392702 non-null int8\n",
      "rprvhi      392702 non-null int8\n",
      "rprvhi2     392702 non-null int8\n",
      "emcocov     392702 non-null int8\n",
      "ecrmth      392702 non-null int8\n",
      "ecdmth      392702 non-null int8\n",
      "srefmon     392702 non-null int8\n",
      "eeducate    392702 non-null int8\n",
      "espeak      392702 non-null int8\n",
      "ehowwell    392702 non-null int8\n",
      "epnspous    392702 non-null int16\n",
      "epnmom      392702 non-null int16\n",
      "epndad      392702 non-null int16\n",
      "errp        392702 non-null int8\n",
      "esftype     392702 non-null int8\n",
      "esfr        392702 non-null int8\n",
      "shhadid     392702 non-null int16\n",
      "eftype      392702 non-null int8\n",
      "efkind      392702 non-null int8\n",
      "efspouse    392702 non-null int16\n",
      "ehiowner    392702 non-null int8\n",
      "dtypes: float64(1), int16(9), int32(2), int8(29), object(2)\n",
      "memory usage: 32.6+ MB\n"
     ]
    }
   ],
   "source": [
    "# Checking the data types in the core file.\n",
    "\n",
    "sipp2008_w2core_small.info()"
   ]
  },
  {
   "cell_type": "markdown",
   "metadata": {},
   "source": [
    "### Creating identifier variable for respondents\n",
    "\n",
    "Every person is assigned a household number and a person number within that household. We can combine them to create an ID variable. The household and person number variables are strings, so we can add them together and convert to a numeric column later. We will do this for each of the three files that we have read into Pandas before we combine them into one for the analysis. "
   ]
  },
  {
   "cell_type": "code",
   "execution_count": 11,
   "metadata": {},
   "outputs": [],
   "source": [
    "# Unique identifiers for respondents can be created by concatenating ssuid (household number) and \n",
    "# epppnum (person number)\n",
    "# These two columns are objects, but we will convert them to numeric while combining them. \n",
    "\n",
    "sipp2008_w2core_small['pid'] = pd.to_numeric(sipp2008_w2core_small['ssuid'].str.cat(sipp2008_w2core_small['epppnum']))"
   ]
  },
  {
   "cell_type": "code",
   "execution_count": 12,
   "metadata": {},
   "outputs": [
    {
     "data": {
      "text/html": [
       "<div>\n",
       "<style scoped>\n",
       "    .dataframe tbody tr th:only-of-type {\n",
       "        vertical-align: middle;\n",
       "    }\n",
       "\n",
       "    .dataframe tbody tr th {\n",
       "        vertical-align: top;\n",
       "    }\n",
       "\n",
       "    .dataframe thead th {\n",
       "        text-align: right;\n",
       "    }\n",
       "</style>\n",
       "<table border=\"1\" class=\"dataframe\">\n",
       "  <thead>\n",
       "    <tr style=\"text-align: right;\">\n",
       "      <th></th>\n",
       "      <th>ssuid</th>\n",
       "      <th>epppnum</th>\n",
       "      <th>rfid</th>\n",
       "      <th>rfid2</th>\n",
       "      <th>wpfinwgt</th>\n",
       "      <th>tage</th>\n",
       "      <th>ebornus</th>\n",
       "      <th>ecitizen</th>\n",
       "      <th>tftotinc</th>\n",
       "      <th>rfpov</th>\n",
       "      <th>...</th>\n",
       "      <th>epndad</th>\n",
       "      <th>errp</th>\n",
       "      <th>esftype</th>\n",
       "      <th>esfr</th>\n",
       "      <th>shhadid</th>\n",
       "      <th>eftype</th>\n",
       "      <th>efkind</th>\n",
       "      <th>efspouse</th>\n",
       "      <th>ehiowner</th>\n",
       "      <th>pid</th>\n",
       "    </tr>\n",
       "  </thead>\n",
       "  <tbody>\n",
       "    <tr>\n",
       "      <th>0</th>\n",
       "      <td>019128000276</td>\n",
       "      <td>0101</td>\n",
       "      <td>1</td>\n",
       "      <td>1</td>\n",
       "      <td>3903.1606</td>\n",
       "      <td>29</td>\n",
       "      <td>2</td>\n",
       "      <td>2</td>\n",
       "      <td>381</td>\n",
       "      <td>1452</td>\n",
       "      <td>...</td>\n",
       "      <td>9999</td>\n",
       "      <td>1</td>\n",
       "      <td>-1</td>\n",
       "      <td>0</td>\n",
       "      <td>11</td>\n",
       "      <td>1</td>\n",
       "      <td>1</td>\n",
       "      <td>102</td>\n",
       "      <td>1</td>\n",
       "      <td>191280002760101</td>\n",
       "    </tr>\n",
       "    <tr>\n",
       "      <th>1</th>\n",
       "      <td>019128000276</td>\n",
       "      <td>0101</td>\n",
       "      <td>2</td>\n",
       "      <td>2</td>\n",
       "      <td>3979.0720</td>\n",
       "      <td>29</td>\n",
       "      <td>2</td>\n",
       "      <td>2</td>\n",
       "      <td>381</td>\n",
       "      <td>1424</td>\n",
       "      <td>...</td>\n",
       "      <td>9999</td>\n",
       "      <td>1</td>\n",
       "      <td>-1</td>\n",
       "      <td>0</td>\n",
       "      <td>11</td>\n",
       "      <td>1</td>\n",
       "      <td>1</td>\n",
       "      <td>102</td>\n",
       "      <td>1</td>\n",
       "      <td>191280002760101</td>\n",
       "    </tr>\n",
       "    <tr>\n",
       "      <th>2</th>\n",
       "      <td>019128000276</td>\n",
       "      <td>0101</td>\n",
       "      <td>3</td>\n",
       "      <td>3</td>\n",
       "      <td>4056.2319</td>\n",
       "      <td>29</td>\n",
       "      <td>2</td>\n",
       "      <td>2</td>\n",
       "      <td>381</td>\n",
       "      <td>1410</td>\n",
       "      <td>...</td>\n",
       "      <td>9999</td>\n",
       "      <td>1</td>\n",
       "      <td>-1</td>\n",
       "      <td>0</td>\n",
       "      <td>11</td>\n",
       "      <td>1</td>\n",
       "      <td>1</td>\n",
       "      <td>102</td>\n",
       "      <td>1</td>\n",
       "      <td>191280002760101</td>\n",
       "    </tr>\n",
       "    <tr>\n",
       "      <th>3</th>\n",
       "      <td>019128000276</td>\n",
       "      <td>0101</td>\n",
       "      <td>4</td>\n",
       "      <td>4</td>\n",
       "      <td>3973.9954</td>\n",
       "      <td>29</td>\n",
       "      <td>2</td>\n",
       "      <td>2</td>\n",
       "      <td>381</td>\n",
       "      <td>1416</td>\n",
       "      <td>...</td>\n",
       "      <td>9999</td>\n",
       "      <td>1</td>\n",
       "      <td>-1</td>\n",
       "      <td>0</td>\n",
       "      <td>11</td>\n",
       "      <td>1</td>\n",
       "      <td>1</td>\n",
       "      <td>102</td>\n",
       "      <td>1</td>\n",
       "      <td>191280002760101</td>\n",
       "    </tr>\n",
       "    <tr>\n",
       "      <th>4</th>\n",
       "      <td>019128000276</td>\n",
       "      <td>0102</td>\n",
       "      <td>1</td>\n",
       "      <td>1</td>\n",
       "      <td>3903.1606</td>\n",
       "      <td>32</td>\n",
       "      <td>2</td>\n",
       "      <td>2</td>\n",
       "      <td>381</td>\n",
       "      <td>1452</td>\n",
       "      <td>...</td>\n",
       "      <td>9999</td>\n",
       "      <td>3</td>\n",
       "      <td>-1</td>\n",
       "      <td>0</td>\n",
       "      <td>11</td>\n",
       "      <td>1</td>\n",
       "      <td>1</td>\n",
       "      <td>102</td>\n",
       "      <td>2</td>\n",
       "      <td>191280002760102</td>\n",
       "    </tr>\n",
       "  </tbody>\n",
       "</table>\n",
       "<p>5 rows × 44 columns</p>\n",
       "</div>"
      ],
      "text/plain": [
       "          ssuid epppnum  rfid  rfid2   wpfinwgt  tage  ebornus  ecitizen  \\\n",
       "0  019128000276    0101     1      1  3903.1606    29        2         2   \n",
       "1  019128000276    0101     2      2  3979.0720    29        2         2   \n",
       "2  019128000276    0101     3      3  4056.2319    29        2         2   \n",
       "3  019128000276    0101     4      4  3973.9954    29        2         2   \n",
       "4  019128000276    0102     1      1  3903.1606    32        2         2   \n",
       "\n",
       "   tftotinc  rfpov  ...  epndad  errp  esftype  esfr  shhadid  eftype  efkind  \\\n",
       "0       381   1452  ...    9999     1       -1     0       11       1       1   \n",
       "1       381   1424  ...    9999     1       -1     0       11       1       1   \n",
       "2       381   1410  ...    9999     1       -1     0       11       1       1   \n",
       "3       381   1416  ...    9999     1       -1     0       11       1       1   \n",
       "4       381   1452  ...    9999     3       -1     0       11       1       1   \n",
       "\n",
       "   efspouse  ehiowner              pid  \n",
       "0       102         1  191280002760101  \n",
       "1       102         1  191280002760101  \n",
       "2       102         1  191280002760101  \n",
       "3       102         1  191280002760101  \n",
       "4       102         2  191280002760102  \n",
       "\n",
       "[5 rows x 44 columns]"
      ]
     },
     "execution_count": 12,
     "metadata": {},
     "output_type": "execute_result"
    }
   ],
   "source": [
    "sipp2008_w2core_small.head()"
   ]
  },
  {
   "cell_type": "code",
   "execution_count": 13,
   "metadata": {},
   "outputs": [],
   "source": [
    "# Creating a pid variable in smaller topical module\n",
    "\n",
    "sipp2008_w2tm_small['pid'] = pd.to_numeric(sipp2008_w2tm_small['ssuid'] + sipp2008_w2tm_small['epppnum'])"
   ]
  },
  {
   "cell_type": "code",
   "execution_count": 14,
   "metadata": {},
   "outputs": [
    {
     "data": {
      "text/html": [
       "<div>\n",
       "<style scoped>\n",
       "    .dataframe tbody tr th:only-of-type {\n",
       "        vertical-align: middle;\n",
       "    }\n",
       "\n",
       "    .dataframe tbody tr th {\n",
       "        vertical-align: top;\n",
       "    }\n",
       "\n",
       "    .dataframe thead th {\n",
       "        text-align: right;\n",
       "    }\n",
       "</style>\n",
       "<table border=\"1\" class=\"dataframe\">\n",
       "  <thead>\n",
       "    <tr style=\"text-align: right;\">\n",
       "      <th></th>\n",
       "      <th>pid</th>\n",
       "      <th>ssuid</th>\n",
       "      <th>epppnum</th>\n",
       "    </tr>\n",
       "  </thead>\n",
       "  <tbody>\n",
       "    <tr>\n",
       "      <th>0</th>\n",
       "      <td>191280002760101</td>\n",
       "      <td>019128000276</td>\n",
       "      <td>0101</td>\n",
       "    </tr>\n",
       "    <tr>\n",
       "      <th>1</th>\n",
       "      <td>191280002760102</td>\n",
       "      <td>019128000276</td>\n",
       "      <td>0102</td>\n",
       "    </tr>\n",
       "    <tr>\n",
       "      <th>2</th>\n",
       "      <td>191280002760103</td>\n",
       "      <td>019128000276</td>\n",
       "      <td>0103</td>\n",
       "    </tr>\n",
       "    <tr>\n",
       "      <th>3</th>\n",
       "      <td>191280003340102</td>\n",
       "      <td>019128000334</td>\n",
       "      <td>0102</td>\n",
       "    </tr>\n",
       "    <tr>\n",
       "      <th>4</th>\n",
       "      <td>191280009320101</td>\n",
       "      <td>019128000932</td>\n",
       "      <td>0101</td>\n",
       "    </tr>\n",
       "  </tbody>\n",
       "</table>\n",
       "</div>"
      ],
      "text/plain": [
       "               pid         ssuid epppnum\n",
       "0  191280002760101  019128000276    0101\n",
       "1  191280002760102  019128000276    0102\n",
       "2  191280002760103  019128000276    0103\n",
       "3  191280003340102  019128000334    0102\n",
       "4  191280009320101  019128000932    0101"
      ]
     },
     "execution_count": 14,
     "metadata": {},
     "output_type": "execute_result"
    }
   ],
   "source": [
    "sipp2008_w2tm_small[['pid', 'ssuid', 'epppnum']].head()"
   ]
  },
  {
   "cell_type": "code",
   "execution_count": 15,
   "metadata": {},
   "outputs": [
    {
     "name": "stdout",
     "output_type": "stream",
     "text": [
      "<class 'pandas.core.frame.DataFrame'>\n",
      "Int64Index: 98504 entries, 0 to 98503\n",
      "Data columns (total 8 columns):\n",
      "ssuid       98504 non-null object\n",
      "epppnum     98504 non-null object\n",
      "timstat     98504 non-null int8\n",
      "eadjust     98504 non-null int8\n",
      "tmoveus     98504 non-null int16\n",
      "tbrstate    98504 non-null int16\n",
      "tmovyryr    98504 non-null int16\n",
      "pid         98504 non-null int64\n",
      "dtypes: int16(3), int64(1), int8(2), object(2)\n",
      "memory usage: 3.8+ MB\n"
     ]
    }
   ],
   "source": [
    "sipp2008_w2tm_small.info()"
   ]
  },
  {
   "cell_type": "code",
   "execution_count": 16,
   "metadata": {},
   "outputs": [],
   "source": [
    "sipp2008_w2_rw['pid'] = pd.to_numeric(sipp2008_w2_rw['ssuid'] + sipp2008_w2_rw['epppnum'])"
   ]
  },
  {
   "cell_type": "code",
   "execution_count": 17,
   "metadata": {},
   "outputs": [
    {
     "data": {
      "text/plain": [
       "count    3.927020e+05\n",
       "mean     5.534897e+15\n",
       "std      2.638546e+15\n",
       "min      1.912800e+14\n",
       "25%      3.859251e+15\n",
       "50%      5.665620e+15\n",
       "75%      7.399254e+15\n",
       "max      9.559590e+15\n",
       "Name: pid, dtype: float64"
      ]
     },
     "execution_count": 17,
     "metadata": {},
     "output_type": "execute_result"
    }
   ],
   "source": [
    "# Checking the PID column to see if they concatenated correctly.\n",
    "\n",
    "sipp2008_w2_rw.pid.describe()"
   ]
  },
  {
   "cell_type": "markdown",
   "metadata": {},
   "source": [
    "#### TM Reference Month\n",
    "\n",
    "The core file and replicate weights files include a column indicating which month that the interview took place in. Each survey wave takes place over four months and respondents are interviewed once every month. SIPP includes a column, 'srefmon', which can equal 1, 2, 3, or 4, depending on which of the wave's four months in which the respondent was interviewed. The topical module (TM) questions are typically deployed in the fourth month of each wave, but it lacks a column for the reference month ('srefmon'). To prep the TM file for merging with the core and replicate weights files, we should create a 'srefmon' column that equals four for every respondent. "
   ]
  },
  {
   "cell_type": "code",
   "execution_count": 18,
   "metadata": {},
   "outputs": [],
   "source": [
    "sipp2008_w2tm_small['srefmon'] = 4"
   ]
  },
  {
   "cell_type": "code",
   "execution_count": 19,
   "metadata": {},
   "outputs": [
    {
     "data": {
      "text/html": [
       "<div>\n",
       "<style scoped>\n",
       "    .dataframe tbody tr th:only-of-type {\n",
       "        vertical-align: middle;\n",
       "    }\n",
       "\n",
       "    .dataframe tbody tr th {\n",
       "        vertical-align: top;\n",
       "    }\n",
       "\n",
       "    .dataframe thead th {\n",
       "        text-align: right;\n",
       "    }\n",
       "</style>\n",
       "<table border=\"1\" class=\"dataframe\">\n",
       "  <thead>\n",
       "    <tr style=\"text-align: right;\">\n",
       "      <th></th>\n",
       "      <th>ssuid</th>\n",
       "      <th>epppnum</th>\n",
       "      <th>timstat</th>\n",
       "      <th>eadjust</th>\n",
       "      <th>tmoveus</th>\n",
       "      <th>tbrstate</th>\n",
       "      <th>tmovyryr</th>\n",
       "      <th>pid</th>\n",
       "      <th>srefmon</th>\n",
       "    </tr>\n",
       "  </thead>\n",
       "  <tbody>\n",
       "    <tr>\n",
       "      <th>0</th>\n",
       "      <td>019128000276</td>\n",
       "      <td>0101</td>\n",
       "      <td>2</td>\n",
       "      <td>2</td>\n",
       "      <td>16</td>\n",
       "      <td>567</td>\n",
       "      <td>2004</td>\n",
       "      <td>191280002760101</td>\n",
       "      <td>4</td>\n",
       "    </tr>\n",
       "    <tr>\n",
       "      <th>1</th>\n",
       "      <td>019128000276</td>\n",
       "      <td>0102</td>\n",
       "      <td>2</td>\n",
       "      <td>2</td>\n",
       "      <td>16</td>\n",
       "      <td>567</td>\n",
       "      <td>2004</td>\n",
       "      <td>191280002760102</td>\n",
       "      <td>4</td>\n",
       "    </tr>\n",
       "    <tr>\n",
       "      <th>2</th>\n",
       "      <td>019128000276</td>\n",
       "      <td>0103</td>\n",
       "      <td>-1</td>\n",
       "      <td>-1</td>\n",
       "      <td>-1</td>\n",
       "      <td>-1</td>\n",
       "      <td>-1</td>\n",
       "      <td>191280002760103</td>\n",
       "      <td>4</td>\n",
       "    </tr>\n",
       "    <tr>\n",
       "      <th>3</th>\n",
       "      <td>019128000334</td>\n",
       "      <td>0102</td>\n",
       "      <td>-1</td>\n",
       "      <td>-1</td>\n",
       "      <td>-1</td>\n",
       "      <td>48</td>\n",
       "      <td>2008</td>\n",
       "      <td>191280003340102</td>\n",
       "      <td>4</td>\n",
       "    </tr>\n",
       "    <tr>\n",
       "      <th>4</th>\n",
       "      <td>019128000932</td>\n",
       "      <td>0101</td>\n",
       "      <td>1</td>\n",
       "      <td>-1</td>\n",
       "      <td>15</td>\n",
       "      <td>568</td>\n",
       "      <td>2004</td>\n",
       "      <td>191280009320101</td>\n",
       "      <td>4</td>\n",
       "    </tr>\n",
       "  </tbody>\n",
       "</table>\n",
       "</div>"
      ],
      "text/plain": [
       "          ssuid epppnum  timstat  eadjust  tmoveus  tbrstate  tmovyryr  \\\n",
       "0  019128000276    0101        2        2       16       567      2004   \n",
       "1  019128000276    0102        2        2       16       567      2004   \n",
       "2  019128000276    0103       -1       -1       -1        -1        -1   \n",
       "3  019128000334    0102       -1       -1       -1        48      2008   \n",
       "4  019128000932    0101        1       -1       15       568      2004   \n",
       "\n",
       "               pid  srefmon  \n",
       "0  191280002760101        4  \n",
       "1  191280002760102        4  \n",
       "2  191280002760103        4  \n",
       "3  191280003340102        4  \n",
       "4  191280009320101        4  "
      ]
     },
     "execution_count": 19,
     "metadata": {},
     "output_type": "execute_result"
    }
   ],
   "source": [
    "sipp2008_w2tm_small.head()"
   ]
  },
  {
   "cell_type": "markdown",
   "metadata": {},
   "source": [
    "We are going to drop all observations in reference months 1-3 in the core and replicate weights data files in order to allow us to merge them with the topical module file. The topical module file only contains data from the fourth reference month."
   ]
  },
  {
   "cell_type": "code",
   "execution_count": 20,
   "metadata": {},
   "outputs": [],
   "source": [
    "sipp2008_w2_rw = sipp2008_w2_rw[sipp2008_w2_rw.srefmon == 4]"
   ]
  },
  {
   "cell_type": "code",
   "execution_count": 21,
   "metadata": {},
   "outputs": [
    {
     "name": "stdout",
     "output_type": "stream",
     "text": [
      "<class 'pandas.core.frame.DataFrame'>\n",
      "Int64Index: 98504 entries, 3 to 392701\n",
      "Columns: 126 entries, ssuid to pid\n",
      "dtypes: float64(120), int16(1), int64(1), int8(2), object(2)\n",
      "memory usage: 93.6+ MB\n"
     ]
    }
   ],
   "source": [
    "sipp2008_w2_rw.info()"
   ]
  },
  {
   "cell_type": "code",
   "execution_count": 22,
   "metadata": {},
   "outputs": [],
   "source": [
    "sipp2008_w2core_small = sipp2008_w2core_small[sipp2008_w2core_small.srefmon == 4]"
   ]
  },
  {
   "cell_type": "code",
   "execution_count": 23,
   "metadata": {},
   "outputs": [
    {
     "name": "stdout",
     "output_type": "stream",
     "text": [
      "<class 'pandas.core.frame.DataFrame'>\n",
      "Int64Index: 98504 entries, 3 to 392701\n",
      "Data columns (total 44 columns):\n",
      "ssuid       98504 non-null object\n",
      "epppnum     98504 non-null object\n",
      "rfid        98504 non-null int16\n",
      "rfid2       98504 non-null int16\n",
      "wpfinwgt    98504 non-null float64\n",
      "tage        98504 non-null int8\n",
      "ebornus     98504 non-null int8\n",
      "ecitizen    98504 non-null int8\n",
      "tftotinc    98504 non-null int32\n",
      "rfpov       98504 non-null int32\n",
      "ejbind1     98504 non-null int16\n",
      "epdjbthn    98504 non-null int8\n",
      "tjbocc1     98504 non-null int16\n",
      "erace       98504 non-null int8\n",
      "eorigin     98504 non-null int8\n",
      "tfipsst     98504 non-null int8\n",
      "etenure     98504 non-null int8\n",
      "esex        98504 non-null int8\n",
      "tmetro      98504 non-null int8\n",
      "rchampm     98504 non-null int8\n",
      "er20        98504 non-null int8\n",
      "er03a       98504 non-null int8\n",
      "er01a       98504 non-null int8\n",
      "rprvhi      98504 non-null int8\n",
      "rprvhi2     98504 non-null int8\n",
      "emcocov     98504 non-null int8\n",
      "ecrmth      98504 non-null int8\n",
      "ecdmth      98504 non-null int8\n",
      "srefmon     98504 non-null int8\n",
      "eeducate    98504 non-null int8\n",
      "espeak      98504 non-null int8\n",
      "ehowwell    98504 non-null int8\n",
      "epnspous    98504 non-null int16\n",
      "epnmom      98504 non-null int16\n",
      "epndad      98504 non-null int16\n",
      "errp        98504 non-null int8\n",
      "esftype     98504 non-null int8\n",
      "esfr        98504 non-null int8\n",
      "shhadid     98504 non-null int16\n",
      "eftype      98504 non-null int8\n",
      "efkind      98504 non-null int8\n",
      "efspouse    98504 non-null int16\n",
      "ehiowner    98504 non-null int8\n",
      "pid         98504 non-null int64\n",
      "dtypes: float64(1), int16(9), int32(2), int64(1), int8(29), object(2)\n",
      "memory usage: 8.9+ MB\n"
     ]
    }
   ],
   "source": [
    "sipp2008_w2core_small.info()"
   ]
  },
  {
   "cell_type": "code",
   "execution_count": 24,
   "metadata": {},
   "outputs": [],
   "source": [
    "# Merging the core and replicate weight files together\n",
    "\n",
    "sipp2008_corerw = pd.merge(sipp2008_w2_rw, sipp2008_w2core_small, how = 'left', on = 'pid')"
   ]
  },
  {
   "cell_type": "code",
   "execution_count": 25,
   "metadata": {},
   "outputs": [
    {
     "name": "stdout",
     "output_type": "stream",
     "text": [
      "<class 'pandas.core.frame.DataFrame'>\n",
      "Int64Index: 98504 entries, 0 to 98503\n",
      "Columns: 169 entries, ssuid_x to ehiowner\n",
      "dtypes: float64(121), int16(10), int32(2), int64(1), int8(31), object(4)\n",
      "memory usage: 101.0+ MB\n"
     ]
    }
   ],
   "source": [
    "sipp2008_corerw.info()"
   ]
  },
  {
   "cell_type": "code",
   "execution_count": 26,
   "metadata": {},
   "outputs": [],
   "source": [
    "# Merging the three files together (core, topical module, and replicate weights)\n",
    "\n",
    "sipp2008w2_all = pd.merge(sipp2008_corerw, sipp2008_w2tm_small, how = 'left', on = 'pid')"
   ]
  },
  {
   "cell_type": "code",
   "execution_count": 27,
   "metadata": {},
   "outputs": [
    {
     "name": "stdout",
     "output_type": "stream",
     "text": [
      "<class 'pandas.core.frame.DataFrame'>\n",
      "Int64Index: 98504 entries, 0 to 98503\n",
      "Columns: 177 entries, ssuid_x to srefmon\n",
      "dtypes: float64(121), int16(13), int32(2), int64(2), int8(33), object(6)\n",
      "memory usage: 104.0+ MB\n"
     ]
    }
   ],
   "source": [
    "sipp2008w2_all.info()"
   ]
  },
  {
   "cell_type": "markdown",
   "metadata": {},
   "source": [
    "### Feature Engineering and Data Wranging\n",
    "\n",
    "Now that the files are merged together, let's begin wrangling the data to use in machine learning algorithms. "
   ]
  },
  {
   "cell_type": "markdown",
   "metadata": {},
   "source": [
    "### KFF Features\n",
    "\n",
    "- Year of US entry,\n",
    "- Job industry classification,\n",
    "- State of residence,\n",
    "- Family Poverty Level,\n",
    "- Ownership or rental of residence,\n",
    "- Presence of at least one citizen in household,\n",
    "- Number of occupants in the household (< or >= six occupants),\n",
    "- Whether all household occupants are related,\n",
    "- Number of workers in household,\n",
    "- Health insurance coverage status,\n",
    "- Gender\n",
    "- Ethnicity\n",
    "- Age Group\n",
    "- Age Group * Gender\n",
    "- Age Group * Insurance Coverage * Gender"
   ]
  },
  {
   "cell_type": "markdown",
   "metadata": {},
   "source": [
    "#### State of Residence\n",
    "The six states with the highest immigrant populations are:\n",
    "- 6: California\n",
    "- 12: Florida\n",
    "- 17: Illinois\n",
    "- 34: New Jersey\n",
    "- 36: New York\n",
    "- 48: Texas\n",
    "- Rest of the United States\n",
    "\n",
    "I am going to create a dummy variable equaling one if the respondent lives in one of these states and zero otherwise. "
   ]
  },
  {
   "cell_type": "code",
   "execution_count": 28,
   "metadata": {},
   "outputs": [],
   "source": [
    "# State of Residence\n",
    "\n",
    "# United States\n",
    "sipp2008w2_all['state'] = 0\n",
    "\n",
    "# California\n",
    "sipp2008w2_all.loc[sipp2008w2_all['tfipsst'] == 6, 'state'] = 1\n",
    "\n",
    "# Florida\n",
    "sipp2008w2_all.loc[sipp2008w2_all['tfipsst'] == 12, 'state'] = 1\n",
    "\n",
    "# Illinois\n",
    "\n",
    "sipp2008w2_all.loc[sipp2008w2_all['tfipsst'] == 17,'state'] = 1\n",
    "\n",
    "# New Jersey\n",
    "\n",
    "sipp2008w2_all.loc[sipp2008w2_all['tfipsst'] == 34, 'state'] = 1\n",
    "\n",
    "# New York\n",
    "\n",
    "sipp2008w2_all.loc[sipp2008w2_all['tfipsst'] == 36, 'state'] = 1\n",
    "\n",
    "# Texas\n",
    "\n",
    "sipp2008w2_all.loc[sipp2008w2_all['tfipsst'] == 48, 'state'] = 1"
   ]
  },
  {
   "cell_type": "markdown",
   "metadata": {},
   "source": [
    "####  Household size"
   ]
  },
  {
   "cell_type": "code",
   "execution_count": 29,
   "metadata": {},
   "outputs": [],
   "source": [
    "# Counting Number of People in Household\n",
    "\n",
    "sipp2008w2_all['num_hh'] = sipp2008w2_all.groupby('ssuid')['ssuid'].transform(\"count\")"
   ]
  },
  {
   "cell_type": "markdown",
   "metadata": {},
   "source": [
    "#### Family Size"
   ]
  },
  {
   "cell_type": "code",
   "execution_count": 30,
   "metadata": {},
   "outputs": [],
   "source": [
    "# Counting number of people in family\n",
    "\n",
    "sipp2008w2_all['family_size'] = sipp2008w2_all.groupby(['ssuid', 'rfid'])['rfid'].transform(\"count\")"
   ]
  },
  {
   "cell_type": "markdown",
   "metadata": {},
   "source": [
    "#### Is everyone in the household related?"
   ]
  },
  {
   "cell_type": "code",
   "execution_count": 31,
   "metadata": {},
   "outputs": [],
   "source": [
    "# Dummy measuring whether everyone in HH is related or not\n",
    "\n",
    "sipp2008w2_all['hh_related'] = np.where(sipp2008w2_all['num_hh'] == sipp2008w2_all['family_size'], 1, 0)"
   ]
  },
  {
   "cell_type": "markdown",
   "metadata": {},
   "source": [
    "#### Measuring Employment"
   ]
  },
  {
   "cell_type": "code",
   "execution_count": 32,
   "metadata": {},
   "outputs": [],
   "source": [
    "# Creating a column equaling 1 if person has a job, 0 if not\n",
    "\n",
    "sipp2008w2_all.loc[sipp2008w2_all['epdjbthn'] == 1, 'has_job'] = 1\n",
    "sipp2008w2_all.loc[sipp2008w2_all['epdjbthn'] == 2, 'has_job'] = 0\n",
    "sipp2008w2_all.loc[sipp2008w2_all['epdjbthn'] == -1, 'has_job'] = np.nan\n",
    "\n",
    "# Creating column with number of workers in HH\n",
    "sipp2008w2_all['hh_workers'] = sipp2008w2_all.groupby('ssuid')['has_job'].transform('sum')"
   ]
  },
  {
   "cell_type": "code",
   "execution_count": 33,
   "metadata": {},
   "outputs": [],
   "source": [
    "# Creating a job variable with a helper function, has categories\n",
    "\n",
    "def job(x):\n",
    "    \n",
    "    # Has no job\n",
    "    if x['epdjbthn'] == 2:\n",
    "        return 0\n",
    "    \n",
    "    # Works in construction\n",
    "    elif x['ejbind1'] == 770 and x['epdjbthn'] == 1:\n",
    "        return 1\n",
    "    \n",
    "    # Works in wholesale\n",
    "    elif (x['ejbind1'] >= 4070 and x['ejbind1'] <= 4590) and x['epdjbthn'] == 1:\n",
    "        return 2\n",
    "    \n",
    "    # Works in professional services\n",
    "    elif (x['ejbind1'] >= 7270 and x['ejbind1'] <= 7490) and x['epdjbthn'] == 1:\n",
    "        return 3\n",
    "    \n",
    "    # Works in all other industries\n",
    "    elif x['epdjbthn'] == 1:\n",
    "        return 4\n",
    "    \n",
    "sipp2008w2_all['job'] = sipp2008w2_all.apply(job, axis=1)"
   ]
  },
  {
   "cell_type": "code",
   "execution_count": 34,
   "metadata": {},
   "outputs": [],
   "source": [
    "job_labels = {0: 'Unemployed', 1: 'Construction', 2: 'Wholesale', 3: 'Professional services',\n",
    "              4: 'Other industries'}\n",
    "\n",
    "sipp2008w2_all['job_labels'] = sipp2008w2_all['job'].map(job_labels)"
   ]
  },
  {
   "cell_type": "markdown",
   "metadata": {},
   "source": [
    "#### Health Insurance Coverage"
   ]
  },
  {
   "cell_type": "code",
   "execution_count": 35,
   "metadata": {},
   "outputs": [],
   "source": [
    "# Creating an insurance summary variables\n",
    "\n",
    "# Uninsured\n",
    "sipp2008w2_all.loc[(sipp2008w2_all['ehiowner'] == 4), 'insurance'] = 1\n",
    "\n",
    "# Employer-sponsored insurance | Union insurance\n",
    "sipp2008w2_all.loc[(sipp2008w2_all['rprvhi'] == 1) |\n",
    "                   (sipp2008w2_all['rprvhi2'] ==1), 'insurance'] = 2\n",
    "\n",
    "# Privately-purchased insurance\n",
    "sipp2008w2_all.loc[(sipp2008w2_all['rprvhi'] == 2) | \n",
    "                  (sipp2008w2_all['rprvhi2'] == 2), 'insurance'] = 3\n",
    "\n",
    "# Military insurance (including veterans insurance)\n",
    "\n",
    "sipp2008w2_all.loc[(sipp2008w2_all['rprvhi'] == 3) | \n",
    "                   (sipp2008w2_all['rprvhi2'] == 3) |\n",
    "                   (sipp2008w2_all['rchampm'] ==  1), 'insurance'] = 4\n",
    "                    \n",
    "# 'Other'\n",
    "\n",
    "sipp2008w2_all.loc[(sipp2008w2_all['rprvhi'] == 4) |\n",
    "                   (sipp2008w2_all['rprvhi'] == 4), 'insurance'] = 5\n",
    "\n",
    "# Medicaid/CHIP/Medicare\n",
    "sipp2008w2_all.loc[(sipp2008w2_all['ecrmth'] == 1) | \n",
    "                   (sipp2008w2_all['ecdmth'] == 1) |\n",
    "                   ((sipp2008w2_all['emcocov'] >= 1) & \n",
    "                   (sipp2008w2_all['emcocov'] <= 3)), 'insurance'] = 6\n"
   ]
  },
  {
   "cell_type": "code",
   "execution_count": 36,
   "metadata": {},
   "outputs": [],
   "source": [
    "insurance_labels = {1: 'Uninsured', 2: 'Employer-sponsored/Union Insurance', 3: 'Privately purchased insurance',\n",
    "                    4: 'Military/Veterans insurance', 5: 'Other', 6: 'Medicaid/CHIP/Medicare'}\n",
    "\n",
    "sipp2008w2_all['insurance_labels'] = sipp2008w2_all['insurance'].map(insurance_labels)"
   ]
  },
  {
   "cell_type": "code",
   "execution_count": 37,
   "metadata": {},
   "outputs": [
    {
     "data": {
      "text/html": [
       "<div>\n",
       "<style scoped>\n",
       "    .dataframe tbody tr th:only-of-type {\n",
       "        vertical-align: middle;\n",
       "    }\n",
       "\n",
       "    .dataframe tbody tr th {\n",
       "        vertical-align: top;\n",
       "    }\n",
       "\n",
       "    .dataframe thead th {\n",
       "        text-align: right;\n",
       "    }\n",
       "</style>\n",
       "<table border=\"1\" class=\"dataframe\">\n",
       "  <thead>\n",
       "    <tr style=\"text-align: right;\">\n",
       "      <th></th>\n",
       "      <th>insurance</th>\n",
       "      <th>insurance_labels</th>\n",
       "    </tr>\n",
       "  </thead>\n",
       "  <tbody>\n",
       "    <tr>\n",
       "      <th>0</th>\n",
       "      <td>3.0</td>\n",
       "      <td>Privately purchased insurance</td>\n",
       "    </tr>\n",
       "    <tr>\n",
       "      <th>1</th>\n",
       "      <td>3.0</td>\n",
       "      <td>Privately purchased insurance</td>\n",
       "    </tr>\n",
       "    <tr>\n",
       "      <th>2</th>\n",
       "      <td>3.0</td>\n",
       "      <td>Privately purchased insurance</td>\n",
       "    </tr>\n",
       "    <tr>\n",
       "      <th>3</th>\n",
       "      <td>2.0</td>\n",
       "      <td>Employer-sponsored/Union Insurance</td>\n",
       "    </tr>\n",
       "    <tr>\n",
       "      <th>4</th>\n",
       "      <td>2.0</td>\n",
       "      <td>Employer-sponsored/Union Insurance</td>\n",
       "    </tr>\n",
       "  </tbody>\n",
       "</table>\n",
       "</div>"
      ],
      "text/plain": [
       "   insurance                    insurance_labels\n",
       "0        3.0       Privately purchased insurance\n",
       "1        3.0       Privately purchased insurance\n",
       "2        3.0       Privately purchased insurance\n",
       "3        2.0  Employer-sponsored/Union Insurance\n",
       "4        2.0  Employer-sponsored/Union Insurance"
      ]
     },
     "execution_count": 37,
     "metadata": {},
     "output_type": "execute_result"
    }
   ],
   "source": [
    "sipp2008w2_all[['insurance', 'insurance_labels']].head()"
   ]
  },
  {
   "cell_type": "code",
   "execution_count": 38,
   "metadata": {},
   "outputs": [
    {
     "data": {
      "text/plain": [
       "2.0    47887\n",
       "6.0    27726\n",
       "1.0    15665\n",
       "3.0     4080\n",
       "4.0     2106\n",
       "5.0     1040\n",
       "Name: insurance, dtype: int64"
      ]
     },
     "execution_count": 38,
     "metadata": {},
     "output_type": "execute_result"
    }
   ],
   "source": [
    "sipp2008w2_all.insurance.value_counts()"
   ]
  },
  {
   "cell_type": "code",
   "execution_count": 39,
   "metadata": {},
   "outputs": [
    {
     "data": {
      "text/html": [
       "<div>\n",
       "<style scoped>\n",
       "    .dataframe tbody tr th:only-of-type {\n",
       "        vertical-align: middle;\n",
       "    }\n",
       "\n",
       "    .dataframe tbody tr th {\n",
       "        vertical-align: top;\n",
       "    }\n",
       "\n",
       "    .dataframe thead th {\n",
       "        text-align: right;\n",
       "    }\n",
       "</style>\n",
       "<table border=\"1\" class=\"dataframe\">\n",
       "  <thead>\n",
       "    <tr style=\"text-align: right;\">\n",
       "      <th>insurance</th>\n",
       "      <th>1.0</th>\n",
       "      <th>2.0</th>\n",
       "      <th>3.0</th>\n",
       "      <th>4.0</th>\n",
       "      <th>5.0</th>\n",
       "      <th>6.0</th>\n",
       "    </tr>\n",
       "    <tr>\n",
       "      <th>ehiowner</th>\n",
       "      <th></th>\n",
       "      <th></th>\n",
       "      <th></th>\n",
       "      <th></th>\n",
       "      <th></th>\n",
       "      <th></th>\n",
       "    </tr>\n",
       "  </thead>\n",
       "  <tbody>\n",
       "    <tr>\n",
       "      <th>1</th>\n",
       "      <td>0</td>\n",
       "      <td>23286</td>\n",
       "      <td>2237</td>\n",
       "      <td>858</td>\n",
       "      <td>349</td>\n",
       "      <td>7905</td>\n",
       "    </tr>\n",
       "    <tr>\n",
       "      <th>2</th>\n",
       "      <td>0</td>\n",
       "      <td>23795</td>\n",
       "      <td>1728</td>\n",
       "      <td>1150</td>\n",
       "      <td>663</td>\n",
       "      <td>3027</td>\n",
       "    </tr>\n",
       "    <tr>\n",
       "      <th>3</th>\n",
       "      <td>0</td>\n",
       "      <td>806</td>\n",
       "      <td>115</td>\n",
       "      <td>98</td>\n",
       "      <td>28</td>\n",
       "      <td>313</td>\n",
       "    </tr>\n",
       "    <tr>\n",
       "      <th>4</th>\n",
       "      <td>15665</td>\n",
       "      <td>0</td>\n",
       "      <td>0</td>\n",
       "      <td>0</td>\n",
       "      <td>0</td>\n",
       "      <td>16481</td>\n",
       "    </tr>\n",
       "  </tbody>\n",
       "</table>\n",
       "</div>"
      ],
      "text/plain": [
       "insurance    1.0    2.0   3.0   4.0  5.0    6.0\n",
       "ehiowner                                       \n",
       "1              0  23286  2237   858  349   7905\n",
       "2              0  23795  1728  1150  663   3027\n",
       "3              0    806   115    98   28    313\n",
       "4          15665      0     0     0    0  16481"
      ]
     },
     "execution_count": 39,
     "metadata": {},
     "output_type": "execute_result"
    }
   ],
   "source": [
    "pd.crosstab(sipp2008w2_all['ehiowner'], sipp2008w2_all['insurance'])"
   ]
  },
  {
   "cell_type": "code",
   "execution_count": 40,
   "metadata": {},
   "outputs": [
    {
     "data": {
      "text/plain": [
       "0.1635109181245042"
      ]
     },
     "execution_count": 40,
     "metadata": {},
     "output_type": "execute_result"
    }
   ],
   "source": [
    "15665/95804"
   ]
  },
  {
   "cell_type": "markdown",
   "metadata": {},
   "source": [
    "#### Gender"
   ]
  },
  {
   "cell_type": "code",
   "execution_count": 41,
   "metadata": {},
   "outputs": [],
   "source": [
    "sipp2008w2_all = pd.concat([sipp2008w2_all, pd.get_dummies(sipp2008w2_all['esex'], prefix = 'esex', drop_first = True)], axis=1)"
   ]
  },
  {
   "cell_type": "markdown",
   "metadata": {},
   "source": [
    "#### Latino or Hispanic Origin\n",
    "\n",
    "The 'eorigin' variable measures whether someone is of Latino or Hispanic origin. I am going to covert it to a dummy variable."
   ]
  },
  {
   "cell_type": "code",
   "execution_count": 42,
   "metadata": {},
   "outputs": [],
   "source": [
    "sipp2008w2_all = pd.concat([sipp2008w2_all, pd.get_dummies(sipp2008w2_all['eorigin'], prefix = 'eorigin')], axis=1)"
   ]
  },
  {
   "cell_type": "code",
   "execution_count": 43,
   "metadata": {},
   "outputs": [
    {
     "data": {
      "text/html": [
       "<div>\n",
       "<style scoped>\n",
       "    .dataframe tbody tr th:only-of-type {\n",
       "        vertical-align: middle;\n",
       "    }\n",
       "\n",
       "    .dataframe tbody tr th {\n",
       "        vertical-align: top;\n",
       "    }\n",
       "\n",
       "    .dataframe thead th {\n",
       "        text-align: right;\n",
       "    }\n",
       "</style>\n",
       "<table border=\"1\" class=\"dataframe\">\n",
       "  <thead>\n",
       "    <tr style=\"text-align: right;\">\n",
       "      <th></th>\n",
       "      <th>ssuid_x</th>\n",
       "      <th>spanel</th>\n",
       "      <th>swave</th>\n",
       "      <th>srefmon_x</th>\n",
       "      <th>epppnum_x</th>\n",
       "      <th>repwgt1</th>\n",
       "      <th>repwgt2</th>\n",
       "      <th>repwgt3</th>\n",
       "      <th>repwgt4</th>\n",
       "      <th>repwgt5</th>\n",
       "      <th>...</th>\n",
       "      <th>hh_related</th>\n",
       "      <th>has_job</th>\n",
       "      <th>hh_workers</th>\n",
       "      <th>job</th>\n",
       "      <th>job_labels</th>\n",
       "      <th>insurance</th>\n",
       "      <th>insurance_labels</th>\n",
       "      <th>esex_2</th>\n",
       "      <th>eorigin_1</th>\n",
       "      <th>eorigin_2</th>\n",
       "    </tr>\n",
       "  </thead>\n",
       "  <tbody>\n",
       "    <tr>\n",
       "      <th>0</th>\n",
       "      <td>019128000276</td>\n",
       "      <td>2008</td>\n",
       "      <td>2</td>\n",
       "      <td>4</td>\n",
       "      <td>0101</td>\n",
       "      <td>2062.7738</td>\n",
       "      <td>5759.3346</td>\n",
       "      <td>2175.7926</td>\n",
       "      <td>1840.2327</td>\n",
       "      <td>2061.9449</td>\n",
       "      <td>...</td>\n",
       "      <td>1</td>\n",
       "      <td>0.0</td>\n",
       "      <td>0.0</td>\n",
       "      <td>0.0</td>\n",
       "      <td>Unemployed</td>\n",
       "      <td>3.0</td>\n",
       "      <td>Privately purchased insurance</td>\n",
       "      <td>0</td>\n",
       "      <td>0</td>\n",
       "      <td>1</td>\n",
       "    </tr>\n",
       "    <tr>\n",
       "      <th>1</th>\n",
       "      <td>019128000276</td>\n",
       "      <td>2008</td>\n",
       "      <td>2</td>\n",
       "      <td>4</td>\n",
       "      <td>0102</td>\n",
       "      <td>2062.7738</td>\n",
       "      <td>5759.3346</td>\n",
       "      <td>2175.7926</td>\n",
       "      <td>1840.2327</td>\n",
       "      <td>2061.9449</td>\n",
       "      <td>...</td>\n",
       "      <td>1</td>\n",
       "      <td>0.0</td>\n",
       "      <td>0.0</td>\n",
       "      <td>0.0</td>\n",
       "      <td>Unemployed</td>\n",
       "      <td>3.0</td>\n",
       "      <td>Privately purchased insurance</td>\n",
       "      <td>1</td>\n",
       "      <td>0</td>\n",
       "      <td>1</td>\n",
       "    </tr>\n",
       "    <tr>\n",
       "      <th>2</th>\n",
       "      <td>019128000276</td>\n",
       "      <td>2008</td>\n",
       "      <td>2</td>\n",
       "      <td>4</td>\n",
       "      <td>0103</td>\n",
       "      <td>2497.6121</td>\n",
       "      <td>6654.3874</td>\n",
       "      <td>2593.3821</td>\n",
       "      <td>2336.4230</td>\n",
       "      <td>2247.1723</td>\n",
       "      <td>...</td>\n",
       "      <td>1</td>\n",
       "      <td>NaN</td>\n",
       "      <td>0.0</td>\n",
       "      <td>NaN</td>\n",
       "      <td>NaN</td>\n",
       "      <td>3.0</td>\n",
       "      <td>Privately purchased insurance</td>\n",
       "      <td>0</td>\n",
       "      <td>0</td>\n",
       "      <td>1</td>\n",
       "    </tr>\n",
       "    <tr>\n",
       "      <th>3</th>\n",
       "      <td>019128000334</td>\n",
       "      <td>2008</td>\n",
       "      <td>2</td>\n",
       "      <td>4</td>\n",
       "      <td>0102</td>\n",
       "      <td>6052.1909</td>\n",
       "      <td>1999.1529</td>\n",
       "      <td>2223.6508</td>\n",
       "      <td>2137.6472</td>\n",
       "      <td>6212.1400</td>\n",
       "      <td>...</td>\n",
       "      <td>1</td>\n",
       "      <td>1.0</td>\n",
       "      <td>1.0</td>\n",
       "      <td>4.0</td>\n",
       "      <td>Other industries</td>\n",
       "      <td>2.0</td>\n",
       "      <td>Employer-sponsored/Union Insurance</td>\n",
       "      <td>1</td>\n",
       "      <td>0</td>\n",
       "      <td>1</td>\n",
       "    </tr>\n",
       "    <tr>\n",
       "      <th>4</th>\n",
       "      <td>019128000932</td>\n",
       "      <td>2008</td>\n",
       "      <td>2</td>\n",
       "      <td>4</td>\n",
       "      <td>0101</td>\n",
       "      <td>1799.1197</td>\n",
       "      <td>1942.5633</td>\n",
       "      <td>3947.8573</td>\n",
       "      <td>1509.5755</td>\n",
       "      <td>1707.0445</td>\n",
       "      <td>...</td>\n",
       "      <td>1</td>\n",
       "      <td>1.0</td>\n",
       "      <td>3.0</td>\n",
       "      <td>4.0</td>\n",
       "      <td>Other industries</td>\n",
       "      <td>2.0</td>\n",
       "      <td>Employer-sponsored/Union Insurance</td>\n",
       "      <td>1</td>\n",
       "      <td>0</td>\n",
       "      <td>1</td>\n",
       "    </tr>\n",
       "  </tbody>\n",
       "</table>\n",
       "<p>5 rows × 190 columns</p>\n",
       "</div>"
      ],
      "text/plain": [
       "        ssuid_x  spanel  swave  srefmon_x epppnum_x    repwgt1    repwgt2  \\\n",
       "0  019128000276    2008      2          4      0101  2062.7738  5759.3346   \n",
       "1  019128000276    2008      2          4      0102  2062.7738  5759.3346   \n",
       "2  019128000276    2008      2          4      0103  2497.6121  6654.3874   \n",
       "3  019128000334    2008      2          4      0102  6052.1909  1999.1529   \n",
       "4  019128000932    2008      2          4      0101  1799.1197  1942.5633   \n",
       "\n",
       "     repwgt3    repwgt4    repwgt5  ...  hh_related  has_job  hh_workers  job  \\\n",
       "0  2175.7926  1840.2327  2061.9449  ...           1      0.0         0.0  0.0   \n",
       "1  2175.7926  1840.2327  2061.9449  ...           1      0.0         0.0  0.0   \n",
       "2  2593.3821  2336.4230  2247.1723  ...           1      NaN         0.0  NaN   \n",
       "3  2223.6508  2137.6472  6212.1400  ...           1      1.0         1.0  4.0   \n",
       "4  3947.8573  1509.5755  1707.0445  ...           1      1.0         3.0  4.0   \n",
       "\n",
       "         job_labels  insurance                    insurance_labels  esex_2  \\\n",
       "0        Unemployed        3.0       Privately purchased insurance       0   \n",
       "1        Unemployed        3.0       Privately purchased insurance       1   \n",
       "2               NaN        3.0       Privately purchased insurance       0   \n",
       "3  Other industries        2.0  Employer-sponsored/Union Insurance       1   \n",
       "4  Other industries        2.0  Employer-sponsored/Union Insurance       1   \n",
       "\n",
       "   eorigin_1  eorigin_2  \n",
       "0          0          1  \n",
       "1          0          1  \n",
       "2          0          1  \n",
       "3          0          1  \n",
       "4          0          1  \n",
       "\n",
       "[5 rows x 190 columns]"
      ]
     },
     "execution_count": 43,
     "metadata": {},
     "output_type": "execute_result"
    }
   ],
   "source": [
    "sipp2008w2_all.head()"
   ]
  },
  {
   "cell_type": "code",
   "execution_count": 44,
   "metadata": {},
   "outputs": [],
   "source": [
    "sipp2008w2_all.rename(columns = {'esex_2': 'female', 'eorigin_1': 'hispanic_latino', 'eorigin_2': 'nothisplatino'}, inplace = True)"
   ]
  },
  {
   "cell_type": "code",
   "execution_count": 45,
   "metadata": {},
   "outputs": [
    {
     "data": {
      "text/html": [
       "<div>\n",
       "<style scoped>\n",
       "    .dataframe tbody tr th:only-of-type {\n",
       "        vertical-align: middle;\n",
       "    }\n",
       "\n",
       "    .dataframe tbody tr th {\n",
       "        vertical-align: top;\n",
       "    }\n",
       "\n",
       "    .dataframe thead th {\n",
       "        text-align: right;\n",
       "    }\n",
       "</style>\n",
       "<table border=\"1\" class=\"dataframe\">\n",
       "  <thead>\n",
       "    <tr style=\"text-align: right;\">\n",
       "      <th></th>\n",
       "      <th>nothisplatino</th>\n",
       "      <th>hispanic_latino</th>\n",
       "      <th>eorigin</th>\n",
       "    </tr>\n",
       "  </thead>\n",
       "  <tbody>\n",
       "    <tr>\n",
       "      <th>count</th>\n",
       "      <td>98504.000000</td>\n",
       "      <td>98504.000000</td>\n",
       "      <td>98504.000000</td>\n",
       "    </tr>\n",
       "    <tr>\n",
       "      <th>mean</th>\n",
       "      <td>0.868564</td>\n",
       "      <td>0.131436</td>\n",
       "      <td>1.868564</td>\n",
       "    </tr>\n",
       "    <tr>\n",
       "      <th>std</th>\n",
       "      <td>0.337879</td>\n",
       "      <td>0.337879</td>\n",
       "      <td>0.337879</td>\n",
       "    </tr>\n",
       "    <tr>\n",
       "      <th>min</th>\n",
       "      <td>0.000000</td>\n",
       "      <td>0.000000</td>\n",
       "      <td>1.000000</td>\n",
       "    </tr>\n",
       "    <tr>\n",
       "      <th>25%</th>\n",
       "      <td>1.000000</td>\n",
       "      <td>0.000000</td>\n",
       "      <td>2.000000</td>\n",
       "    </tr>\n",
       "    <tr>\n",
       "      <th>50%</th>\n",
       "      <td>1.000000</td>\n",
       "      <td>0.000000</td>\n",
       "      <td>2.000000</td>\n",
       "    </tr>\n",
       "    <tr>\n",
       "      <th>75%</th>\n",
       "      <td>1.000000</td>\n",
       "      <td>0.000000</td>\n",
       "      <td>2.000000</td>\n",
       "    </tr>\n",
       "    <tr>\n",
       "      <th>max</th>\n",
       "      <td>1.000000</td>\n",
       "      <td>1.000000</td>\n",
       "      <td>2.000000</td>\n",
       "    </tr>\n",
       "  </tbody>\n",
       "</table>\n",
       "</div>"
      ],
      "text/plain": [
       "       nothisplatino  hispanic_latino       eorigin\n",
       "count   98504.000000     98504.000000  98504.000000\n",
       "mean        0.868564         0.131436      1.868564\n",
       "std         0.337879         0.337879      0.337879\n",
       "min         0.000000         0.000000      1.000000\n",
       "25%         1.000000         0.000000      2.000000\n",
       "50%         1.000000         0.000000      2.000000\n",
       "75%         1.000000         0.000000      2.000000\n",
       "max         1.000000         1.000000      2.000000"
      ]
     },
     "execution_count": 45,
     "metadata": {},
     "output_type": "execute_result"
    }
   ],
   "source": [
    "sipp2008w2_all[['nothisplatino', 'hispanic_latino', 'eorigin']].describe()"
   ]
  },
  {
   "cell_type": "markdown",
   "metadata": {},
   "source": [
    "#### Is there a citizen in the household?"
   ]
  },
  {
   "cell_type": "code",
   "execution_count": 46,
   "metadata": {},
   "outputs": [],
   "source": [
    "# Creating citizen dummy\n",
    "\n",
    "sipp2008w2_all.loc[sipp2008w2_all['ecitizen'] == 2, 'citizen'] = 0\n",
    "sipp2008w2_all.loc[sipp2008w2_all['ecitizen'] == 1, 'citizen'] = 1"
   ]
  },
  {
   "cell_type": "code",
   "execution_count": 47,
   "metadata": {},
   "outputs": [],
   "source": [
    "sipp2008w2_all['hhcitizen'] = sipp2008w2_all.groupby('ssuid')['citizen'].transform('max')"
   ]
  },
  {
   "cell_type": "markdown",
   "metadata": {},
   "source": [
    "We should examine one of the dataset's larger households to see if we created the feature correctly."
   ]
  },
  {
   "cell_type": "code",
   "execution_count": 48,
   "metadata": {},
   "outputs": [
    {
     "data": {
      "text/plain": [
       "685925369549    17\n",
       "837344583125    16\n",
       "685925370705    15\n",
       "365418398880    15\n",
       "811344211160    14\n",
       "730353358892    14\n",
       "458925392516    14\n",
       "811925451489    14\n",
       "624860292294    13\n",
       "955860332505    13\n",
       "066454986466    13\n",
       "784344257291    13\n",
       "624925944220    13\n",
       "874925167486    12\n",
       "685688514505    12\n",
       "495034000373    12\n",
       "404925358932    12\n",
       "794925488440    12\n",
       "613688796671    12\n",
       "811860451518    12\n",
       "203814123398    12\n",
       "557925514310    11\n",
       "203925986647    11\n",
       "066133975779    11\n",
       "784344471197    11\n",
       "462344738277    11\n",
       "644023808737    11\n",
       "685228181318    11\n",
       "146925805447    11\n",
       "874925651298    11\n",
       "                ..\n",
       "685925754883     1\n",
       "811925202602     1\n",
       "679892000494     1\n",
       "495379986692     1\n",
       "077688743401     1\n",
       "685925697501     1\n",
       "952684679905     1\n",
       "462128369373     1\n",
       "916756123724     1\n",
       "514925796010     1\n",
       "146925203167     1\n",
       "458379398932     1\n",
       "495294437689     1\n",
       "728379944375     1\n",
       "837925203567     1\n",
       "955925837801     1\n",
       "955925587568     1\n",
       "830344879925     1\n",
       "685925246470     1\n",
       "679756123876     1\n",
       "952294879294     1\n",
       "837925369894     1\n",
       "808860123956     1\n",
       "315925146402     1\n",
       "495344687373     1\n",
       "730344196944     1\n",
       "146925257494     1\n",
       "837925651280     1\n",
       "019344738840     1\n",
       "396925874386     1\n",
       "Name: ssuid, Length: 38569, dtype: int64"
      ]
     },
     "execution_count": 48,
     "metadata": {},
     "output_type": "execute_result"
    }
   ],
   "source": [
    "sipp2008w2_all.ssuid.value_counts()"
   ]
  },
  {
   "cell_type": "code",
   "execution_count": 49,
   "metadata": {},
   "outputs": [],
   "source": [
    "sipp2008_hh = sipp2008w2_all[sipp2008w2_all['ssuid'] == '837023808035']"
   ]
  },
  {
   "cell_type": "code",
   "execution_count": 50,
   "metadata": {
    "scrolled": false
   },
   "outputs": [
    {
     "data": {
      "text/html": [
       "<div>\n",
       "<style scoped>\n",
       "    .dataframe tbody tr th:only-of-type {\n",
       "        vertical-align: middle;\n",
       "    }\n",
       "\n",
       "    .dataframe tbody tr th {\n",
       "        vertical-align: top;\n",
       "    }\n",
       "\n",
       "    .dataframe thead th {\n",
       "        text-align: right;\n",
       "    }\n",
       "</style>\n",
       "<table border=\"1\" class=\"dataframe\">\n",
       "  <thead>\n",
       "    <tr style=\"text-align: right;\">\n",
       "      <th></th>\n",
       "      <th>ssuid</th>\n",
       "      <th>epppnum</th>\n",
       "      <th>pid</th>\n",
       "      <th>ecitizen</th>\n",
       "      <th>citizen</th>\n",
       "      <th>hhcitizen</th>\n",
       "    </tr>\n",
       "  </thead>\n",
       "  <tbody>\n",
       "    <tr>\n",
       "      <th>83299</th>\n",
       "      <td>837023808035</td>\n",
       "      <td>0101</td>\n",
       "      <td>8370238080350101</td>\n",
       "      <td>2</td>\n",
       "      <td>0.0</td>\n",
       "      <td>1.0</td>\n",
       "    </tr>\n",
       "    <tr>\n",
       "      <th>83300</th>\n",
       "      <td>837023808035</td>\n",
       "      <td>0102</td>\n",
       "      <td>8370238080350102</td>\n",
       "      <td>2</td>\n",
       "      <td>0.0</td>\n",
       "      <td>1.0</td>\n",
       "    </tr>\n",
       "    <tr>\n",
       "      <th>83301</th>\n",
       "      <td>837023808035</td>\n",
       "      <td>0103</td>\n",
       "      <td>8370238080350103</td>\n",
       "      <td>2</td>\n",
       "      <td>0.0</td>\n",
       "      <td>1.0</td>\n",
       "    </tr>\n",
       "    <tr>\n",
       "      <th>83302</th>\n",
       "      <td>837023808035</td>\n",
       "      <td>0104</td>\n",
       "      <td>8370238080350104</td>\n",
       "      <td>2</td>\n",
       "      <td>0.0</td>\n",
       "      <td>1.0</td>\n",
       "    </tr>\n",
       "    <tr>\n",
       "      <th>83303</th>\n",
       "      <td>837023808035</td>\n",
       "      <td>0105</td>\n",
       "      <td>8370238080350105</td>\n",
       "      <td>1</td>\n",
       "      <td>1.0</td>\n",
       "      <td>1.0</td>\n",
       "    </tr>\n",
       "    <tr>\n",
       "      <th>83304</th>\n",
       "      <td>837023808035</td>\n",
       "      <td>0106</td>\n",
       "      <td>8370238080350106</td>\n",
       "      <td>1</td>\n",
       "      <td>1.0</td>\n",
       "      <td>1.0</td>\n",
       "    </tr>\n",
       "    <tr>\n",
       "      <th>83305</th>\n",
       "      <td>837023808035</td>\n",
       "      <td>0107</td>\n",
       "      <td>8370238080350107</td>\n",
       "      <td>2</td>\n",
       "      <td>0.0</td>\n",
       "      <td>1.0</td>\n",
       "    </tr>\n",
       "    <tr>\n",
       "      <th>83306</th>\n",
       "      <td>837023808035</td>\n",
       "      <td>0108</td>\n",
       "      <td>8370238080350108</td>\n",
       "      <td>1</td>\n",
       "      <td>1.0</td>\n",
       "      <td>1.0</td>\n",
       "    </tr>\n",
       "    <tr>\n",
       "      <th>83307</th>\n",
       "      <td>837023808035</td>\n",
       "      <td>0109</td>\n",
       "      <td>8370238080350109</td>\n",
       "      <td>2</td>\n",
       "      <td>0.0</td>\n",
       "      <td>1.0</td>\n",
       "    </tr>\n",
       "    <tr>\n",
       "      <th>83308</th>\n",
       "      <td>837023808035</td>\n",
       "      <td>0201</td>\n",
       "      <td>8370238080350201</td>\n",
       "      <td>2</td>\n",
       "      <td>0.0</td>\n",
       "      <td>1.0</td>\n",
       "    </tr>\n",
       "    <tr>\n",
       "      <th>83309</th>\n",
       "      <td>837023808035</td>\n",
       "      <td>0202</td>\n",
       "      <td>8370238080350202</td>\n",
       "      <td>2</td>\n",
       "      <td>0.0</td>\n",
       "      <td>1.0</td>\n",
       "    </tr>\n",
       "  </tbody>\n",
       "</table>\n",
       "</div>"
      ],
      "text/plain": [
       "              ssuid epppnum               pid  ecitizen  citizen  hhcitizen\n",
       "83299  837023808035    0101  8370238080350101         2      0.0        1.0\n",
       "83300  837023808035    0102  8370238080350102         2      0.0        1.0\n",
       "83301  837023808035    0103  8370238080350103         2      0.0        1.0\n",
       "83302  837023808035    0104  8370238080350104         2      0.0        1.0\n",
       "83303  837023808035    0105  8370238080350105         1      1.0        1.0\n",
       "83304  837023808035    0106  8370238080350106         1      1.0        1.0\n",
       "83305  837023808035    0107  8370238080350107         2      0.0        1.0\n",
       "83306  837023808035    0108  8370238080350108         1      1.0        1.0\n",
       "83307  837023808035    0109  8370238080350109         2      0.0        1.0\n",
       "83308  837023808035    0201  8370238080350201         2      0.0        1.0\n",
       "83309  837023808035    0202  8370238080350202         2      0.0        1.0"
      ]
     },
     "execution_count": 50,
     "metadata": {},
     "output_type": "execute_result"
    }
   ],
   "source": [
    "sipp2008_hh[['ssuid', 'epppnum', 'pid', 'ecitizen', 'citizen', 'hhcitizen']]"
   ]
  },
  {
   "cell_type": "markdown",
   "metadata": {},
   "source": [
    "It looks like it worked correctly. "
   ]
  },
  {
   "cell_type": "markdown",
   "metadata": {},
   "source": [
    "#### Family Poverty Level\n",
    "\n",
    "In the SIPP, to calculate a family's poverty level, you divide the family's total income level ('tftotic') by the poverty threshold for their family size ('rfpov'). Income variables are monthly values, but the threshold values are annual, so we will need to annualize income first. The threshold variable has individuals with a zero for the poverty threshold because they are not in the universe of people for this feature (those who are younger than 15 years-old). So, they will have missing values for the poverty level feature."
   ]
  },
  {
   "cell_type": "code",
   "execution_count": 51,
   "metadata": {},
   "outputs": [],
   "source": [
    "# Converting 'tftotinc' to annual values\n",
    "\n",
    "sipp2008w2_all['familyincome_annual'] = sipp2008w2_all['tftotinc'] * 12\n",
    "\n",
    "# Total family income (tftotinc) divided by the poverty threshold (rfpov)\n",
    "\n",
    "sipp2008w2_all['poverty'] = sipp2008w2_all['familyincome_annual'] / sipp2008w2_all['rfpov']"
   ]
  },
  {
   "cell_type": "markdown",
   "metadata": {},
   "source": [
    "#### Age Group and Interaction Terms\n",
    "\n",
    "- Age Group: The Department of Homeland Security releases national estimates of unauthorized immigrants by age group and gender. \n",
    "- Age Group * Gender: The KFF model includes interaction terms for age group * gender.\n",
    "- Age Group * Insurance Coverage * Gender: It also includes age group * insurance coverage * gender. "
   ]
  },
  {
   "cell_type": "code",
   "execution_count": 52,
   "metadata": {
    "scrolled": true
   },
   "outputs": [],
   "source": [
    "def agegroup(x):\n",
    "    # 0-17 years-old\n",
    "    if x['tage'] <= 17:\n",
    "        return 0\n",
    "    \n",
    "    # 18-24 \n",
    "    elif (x['tage'] >= 18) & (x['tage']<= 24):\n",
    "        return 1\n",
    "    \n",
    "    # 25-34\n",
    "    elif (x['tage'] >=25) & (x['tage'] <= 34):\n",
    "        return 2\n",
    "    \n",
    "    # 35-44\n",
    "    elif (x['tage'] >=35) & (x['tage'] <= 44):\n",
    "        return 3\n",
    "    \n",
    "    # 45-54\n",
    "    elif (x['tage'] >= 45) & (x['tage'] <= 54):\n",
    "        return 4\n",
    "    \n",
    "    # 55-64\n",
    "    else:\n",
    "        return 5\n",
    "    \n",
    "sipp2008w2_all['age_group'] = sipp2008w2_all.apply(agegroup, axis=1)"
   ]
  },
  {
   "cell_type": "code",
   "execution_count": 53,
   "metadata": {},
   "outputs": [],
   "source": [
    "# Creating column with age group labels\n",
    "\n",
    "agegroup = {0: '0-17', 1: '18-24', 2: '25-34', 3: '35-44', 4: '45-54', 5: '55+'}\n",
    "\n",
    "sipp2008w2_all['agegroup_labels'] = sipp2008w2_all['age_group'].map(agegroup)"
   ]
  },
  {
   "cell_type": "code",
   "execution_count": 54,
   "metadata": {},
   "outputs": [
    {
     "data": {
      "text/html": [
       "<div>\n",
       "<style scoped>\n",
       "    .dataframe tbody tr th:only-of-type {\n",
       "        vertical-align: middle;\n",
       "    }\n",
       "\n",
       "    .dataframe tbody tr th {\n",
       "        vertical-align: top;\n",
       "    }\n",
       "\n",
       "    .dataframe thead th {\n",
       "        text-align: right;\n",
       "    }\n",
       "</style>\n",
       "<table border=\"1\" class=\"dataframe\">\n",
       "  <thead>\n",
       "    <tr style=\"text-align: right;\">\n",
       "      <th></th>\n",
       "      <th>pid</th>\n",
       "      <th>tage</th>\n",
       "      <th>age_group</th>\n",
       "      <th>agegroup_labels</th>\n",
       "    </tr>\n",
       "  </thead>\n",
       "  <tbody>\n",
       "    <tr>\n",
       "      <th>0</th>\n",
       "      <td>191280002760101</td>\n",
       "      <td>29</td>\n",
       "      <td>2</td>\n",
       "      <td>25-34</td>\n",
       "    </tr>\n",
       "    <tr>\n",
       "      <th>1</th>\n",
       "      <td>191280002760102</td>\n",
       "      <td>32</td>\n",
       "      <td>2</td>\n",
       "      <td>25-34</td>\n",
       "    </tr>\n",
       "    <tr>\n",
       "      <th>2</th>\n",
       "      <td>191280002760103</td>\n",
       "      <td>7</td>\n",
       "      <td>0</td>\n",
       "      <td>0-17</td>\n",
       "    </tr>\n",
       "    <tr>\n",
       "      <th>3</th>\n",
       "      <td>191280003340102</td>\n",
       "      <td>23</td>\n",
       "      <td>1</td>\n",
       "      <td>18-24</td>\n",
       "    </tr>\n",
       "    <tr>\n",
       "      <th>4</th>\n",
       "      <td>191280009320101</td>\n",
       "      <td>51</td>\n",
       "      <td>4</td>\n",
       "      <td>45-54</td>\n",
       "    </tr>\n",
       "    <tr>\n",
       "      <th>5</th>\n",
       "      <td>191280009320102</td>\n",
       "      <td>53</td>\n",
       "      <td>4</td>\n",
       "      <td>45-54</td>\n",
       "    </tr>\n",
       "    <tr>\n",
       "      <th>6</th>\n",
       "      <td>191280009320103</td>\n",
       "      <td>16</td>\n",
       "      <td>0</td>\n",
       "      <td>0-17</td>\n",
       "    </tr>\n",
       "    <tr>\n",
       "      <th>7</th>\n",
       "      <td>191280009320104</td>\n",
       "      <td>14</td>\n",
       "      <td>0</td>\n",
       "      <td>0-17</td>\n",
       "    </tr>\n",
       "    <tr>\n",
       "      <th>8</th>\n",
       "      <td>191280380460101</td>\n",
       "      <td>28</td>\n",
       "      <td>2</td>\n",
       "      <td>25-34</td>\n",
       "    </tr>\n",
       "    <tr>\n",
       "      <th>9</th>\n",
       "      <td>191280380990101</td>\n",
       "      <td>36</td>\n",
       "      <td>3</td>\n",
       "      <td>35-44</td>\n",
       "    </tr>\n",
       "    <tr>\n",
       "      <th>10</th>\n",
       "      <td>191280380990102</td>\n",
       "      <td>38</td>\n",
       "      <td>3</td>\n",
       "      <td>35-44</td>\n",
       "    </tr>\n",
       "    <tr>\n",
       "      <th>11</th>\n",
       "      <td>191280380990103</td>\n",
       "      <td>18</td>\n",
       "      <td>1</td>\n",
       "      <td>18-24</td>\n",
       "    </tr>\n",
       "    <tr>\n",
       "      <th>12</th>\n",
       "      <td>191280380990104</td>\n",
       "      <td>16</td>\n",
       "      <td>0</td>\n",
       "      <td>0-17</td>\n",
       "    </tr>\n",
       "    <tr>\n",
       "      <th>13</th>\n",
       "      <td>191280382760101</td>\n",
       "      <td>60</td>\n",
       "      <td>5</td>\n",
       "      <td>55+</td>\n",
       "    </tr>\n",
       "    <tr>\n",
       "      <th>14</th>\n",
       "      <td>191280382760102</td>\n",
       "      <td>66</td>\n",
       "      <td>5</td>\n",
       "      <td>55+</td>\n",
       "    </tr>\n",
       "    <tr>\n",
       "      <th>15</th>\n",
       "      <td>191330003010101</td>\n",
       "      <td>58</td>\n",
       "      <td>5</td>\n",
       "      <td>55+</td>\n",
       "    </tr>\n",
       "    <tr>\n",
       "      <th>16</th>\n",
       "      <td>191330007780101</td>\n",
       "      <td>39</td>\n",
       "      <td>3</td>\n",
       "      <td>35-44</td>\n",
       "    </tr>\n",
       "    <tr>\n",
       "      <th>17</th>\n",
       "      <td>191330007780102</td>\n",
       "      <td>35</td>\n",
       "      <td>3</td>\n",
       "      <td>35-44</td>\n",
       "    </tr>\n",
       "    <tr>\n",
       "      <th>18</th>\n",
       "      <td>191330009640101</td>\n",
       "      <td>34</td>\n",
       "      <td>2</td>\n",
       "      <td>25-34</td>\n",
       "    </tr>\n",
       "    <tr>\n",
       "      <th>19</th>\n",
       "      <td>191330381380101</td>\n",
       "      <td>35</td>\n",
       "      <td>3</td>\n",
       "      <td>35-44</td>\n",
       "    </tr>\n",
       "  </tbody>\n",
       "</table>\n",
       "</div>"
      ],
      "text/plain": [
       "                pid  tage  age_group agegroup_labels\n",
       "0   191280002760101    29          2           25-34\n",
       "1   191280002760102    32          2           25-34\n",
       "2   191280002760103     7          0            0-17\n",
       "3   191280003340102    23          1           18-24\n",
       "4   191280009320101    51          4           45-54\n",
       "5   191280009320102    53          4           45-54\n",
       "6   191280009320103    16          0            0-17\n",
       "7   191280009320104    14          0            0-17\n",
       "8   191280380460101    28          2           25-34\n",
       "9   191280380990101    36          3           35-44\n",
       "10  191280380990102    38          3           35-44\n",
       "11  191280380990103    18          1           18-24\n",
       "12  191280380990104    16          0            0-17\n",
       "13  191280382760101    60          5             55+\n",
       "14  191280382760102    66          5             55+\n",
       "15  191330003010101    58          5             55+\n",
       "16  191330007780101    39          3           35-44\n",
       "17  191330007780102    35          3           35-44\n",
       "18  191330009640101    34          2           25-34\n",
       "19  191330381380101    35          3           35-44"
      ]
     },
     "execution_count": 54,
     "metadata": {},
     "output_type": "execute_result"
    }
   ],
   "source": [
    "# Checkign to see if the age group labels column was created correctly.\n",
    "\n",
    "sipp2008w2_all[['pid', 'tage', 'age_group', 'agegroup_labels']].head(20)"
   ]
  },
  {
   "cell_type": "code",
   "execution_count": 55,
   "metadata": {},
   "outputs": [],
   "source": [
    "sipp2008w2_all['ageg_gender'] = sipp2008w2_all['age_group'] * sipp2008w2_all['female']\n",
    "\n",
    "sipp2008w2_all['age_gender_insurance'] = sipp2008w2_all['age_group'] * sipp2008w2_all['female'] * sipp2008w2_all['insurance']"
   ]
  },
  {
   "cell_type": "markdown",
   "metadata": {},
   "source": [
    "### Capps et al Features\n",
    "- world region of birth \n",
    "- duration of US residence \n",
    "- English language proficiency\n",
    "- age\n",
    "- sex \n",
    "- household size\n",
    "- educational attainment\n",
    "- homeownership\n",
    "- insurance coverage\n",
    "- labor force status\n",
    "- income-to-poverty ratio\n",
    "- US state/region of residence\n",
    "\n",
    "The Capps et al model includes features of whether the person has U.S.-born children or children who are noncitizens and whether the spouse is a citizen or not. Unfortunately, the public use files do not provide enough information to create a feature that captures the citizenship status of every person's children, so I will be omitting that from this analysis. Also, I will also be omitting the spouse's citizenship status from the analysis because I was not able to create a code that correctly captured every spouse's status. I will revisit this at a later stage."
   ]
  },
  {
   "cell_type": "code",
   "execution_count": 56,
   "metadata": {},
   "outputs": [],
   "source": [
    "# Creating a country or region of birth from 'tbrstate'\n",
    "\n",
    "def region_birth(x):\n",
    "    \n",
    "    # United States\n",
    "    if (x['tbrstate'] > -1 and x['tbrstate'] <=56):\n",
    "        return 1\n",
    "    \n",
    "    # North America\n",
    "    elif x['tbrstate'] == 562:\n",
    "        return 2\n",
    "    \n",
    "    # Northern Europe and Western Europe\n",
    "    elif x['tbrstate'] == 563:\n",
    "        return 3\n",
    "    \n",
    "    # Southern Europe and Eastern Europe\n",
    "    elif x['tbrstate'] == 564:\n",
    "        return 4\n",
    "    \n",
    "    # Eastern Asia\n",
    "    elif x['tbrstate'] == 565:\n",
    "        return 5\n",
    "    \n",
    "    # South Central Asia\n",
    "    elif x['tbrstate'] == 566:\n",
    "        return 6\n",
    "    \n",
    "    # Southeast Asia, West Asia, Australia, New Zealand\n",
    "    elif x['tbrstate'] == 567:\n",
    "        return 7\n",
    "    \n",
    "    # Africa\n",
    "    elif x['tbrstate'] == 568:\n",
    "        return 8\n",
    "    \n",
    "    # Caribbean\n",
    "    elif x['tbrstate'] == 569:\n",
    "        return 9\n",
    "    \n",
    "    # Central America\n",
    "    elif x['tbrstate'] == 570:\n",
    "        return 10\n",
    "    \n",
    "    # South America\n",
    "    elif x['tbrstate'] == 571:\n",
    "        return 11\n",
    "    \n",
    "    # Elsewhere\n",
    "    else:\n",
    "        return 12\n",
    "    \n",
    "sipp2008w2_all['region_birth'] = sipp2008w2_all.apply(region_birth, axis=1)"
   ]
  },
  {
   "cell_type": "code",
   "execution_count": 57,
   "metadata": {},
   "outputs": [],
   "source": [
    "regionbirth_labels = {1: 'United States', 2: 'North America', 3: 'Northern and Western Europe', \n",
    "                       4: 'Southern and Eastern Europe', 5: 'Eastern Asia', 6: 'South Central Asia',\n",
    "                      7: 'Southeast and West Asia, Australia, New Zealand', 8: 'Africa', 9: 'Caribbean',\n",
    "                      10: 'Central America', 11: 'South America', 12: 'Everywhere Else'}\n",
    "\n",
    "sipp2008w2_all['regionbirth_labels'] = sipp2008w2_all['region_birth'].map(regionbirth_labels)"
   ]
  },
  {
   "cell_type": "code",
   "execution_count": 58,
   "metadata": {},
   "outputs": [
    {
     "data": {
      "text/html": [
       "<div>\n",
       "<style scoped>\n",
       "    .dataframe tbody tr th:only-of-type {\n",
       "        vertical-align: middle;\n",
       "    }\n",
       "\n",
       "    .dataframe tbody tr th {\n",
       "        vertical-align: top;\n",
       "    }\n",
       "\n",
       "    .dataframe thead th {\n",
       "        text-align: right;\n",
       "    }\n",
       "</style>\n",
       "<table border=\"1\" class=\"dataframe\">\n",
       "  <thead>\n",
       "    <tr style=\"text-align: right;\">\n",
       "      <th></th>\n",
       "      <th>ssuid_x</th>\n",
       "      <th>spanel</th>\n",
       "      <th>swave</th>\n",
       "      <th>srefmon_x</th>\n",
       "      <th>epppnum_x</th>\n",
       "      <th>repwgt1</th>\n",
       "      <th>repwgt2</th>\n",
       "      <th>repwgt3</th>\n",
       "      <th>repwgt4</th>\n",
       "      <th>repwgt5</th>\n",
       "      <th>...</th>\n",
       "      <th>citizen</th>\n",
       "      <th>hhcitizen</th>\n",
       "      <th>familyincome_annual</th>\n",
       "      <th>poverty</th>\n",
       "      <th>age_group</th>\n",
       "      <th>agegroup_labels</th>\n",
       "      <th>ageg_gender</th>\n",
       "      <th>age_gender_insurance</th>\n",
       "      <th>region_birth</th>\n",
       "      <th>regionbirth_labels</th>\n",
       "    </tr>\n",
       "  </thead>\n",
       "  <tbody>\n",
       "    <tr>\n",
       "      <th>0</th>\n",
       "      <td>019128000276</td>\n",
       "      <td>2008</td>\n",
       "      <td>2</td>\n",
       "      <td>4</td>\n",
       "      <td>0101</td>\n",
       "      <td>2062.7738</td>\n",
       "      <td>5759.3346</td>\n",
       "      <td>2175.7926</td>\n",
       "      <td>1840.2327</td>\n",
       "      <td>2061.9449</td>\n",
       "      <td>...</td>\n",
       "      <td>0.0</td>\n",
       "      <td>0.0</td>\n",
       "      <td>4572</td>\n",
       "      <td>3.228814</td>\n",
       "      <td>2</td>\n",
       "      <td>25-34</td>\n",
       "      <td>0</td>\n",
       "      <td>0.0</td>\n",
       "      <td>7</td>\n",
       "      <td>Southeast and West Asia, Australia, New Zealand</td>\n",
       "    </tr>\n",
       "    <tr>\n",
       "      <th>1</th>\n",
       "      <td>019128000276</td>\n",
       "      <td>2008</td>\n",
       "      <td>2</td>\n",
       "      <td>4</td>\n",
       "      <td>0102</td>\n",
       "      <td>2062.7738</td>\n",
       "      <td>5759.3346</td>\n",
       "      <td>2175.7926</td>\n",
       "      <td>1840.2327</td>\n",
       "      <td>2061.9449</td>\n",
       "      <td>...</td>\n",
       "      <td>0.0</td>\n",
       "      <td>0.0</td>\n",
       "      <td>4572</td>\n",
       "      <td>3.228814</td>\n",
       "      <td>2</td>\n",
       "      <td>25-34</td>\n",
       "      <td>2</td>\n",
       "      <td>6.0</td>\n",
       "      <td>7</td>\n",
       "      <td>Southeast and West Asia, Australia, New Zealand</td>\n",
       "    </tr>\n",
       "    <tr>\n",
       "      <th>2</th>\n",
       "      <td>019128000276</td>\n",
       "      <td>2008</td>\n",
       "      <td>2</td>\n",
       "      <td>4</td>\n",
       "      <td>0103</td>\n",
       "      <td>2497.6121</td>\n",
       "      <td>6654.3874</td>\n",
       "      <td>2593.3821</td>\n",
       "      <td>2336.4230</td>\n",
       "      <td>2247.1723</td>\n",
       "      <td>...</td>\n",
       "      <td>0.0</td>\n",
       "      <td>0.0</td>\n",
       "      <td>4572</td>\n",
       "      <td>3.228814</td>\n",
       "      <td>0</td>\n",
       "      <td>0-17</td>\n",
       "      <td>0</td>\n",
       "      <td>0.0</td>\n",
       "      <td>12</td>\n",
       "      <td>Everywhere Else</td>\n",
       "    </tr>\n",
       "    <tr>\n",
       "      <th>3</th>\n",
       "      <td>019128000334</td>\n",
       "      <td>2008</td>\n",
       "      <td>2</td>\n",
       "      <td>4</td>\n",
       "      <td>0102</td>\n",
       "      <td>6052.1909</td>\n",
       "      <td>1999.1529</td>\n",
       "      <td>2223.6508</td>\n",
       "      <td>2137.6472</td>\n",
       "      <td>6212.1400</td>\n",
       "      <td>...</td>\n",
       "      <td>1.0</td>\n",
       "      <td>1.0</td>\n",
       "      <td>72108</td>\n",
       "      <td>78.806557</td>\n",
       "      <td>1</td>\n",
       "      <td>18-24</td>\n",
       "      <td>1</td>\n",
       "      <td>2.0</td>\n",
       "      <td>1</td>\n",
       "      <td>United States</td>\n",
       "    </tr>\n",
       "    <tr>\n",
       "      <th>4</th>\n",
       "      <td>019128000932</td>\n",
       "      <td>2008</td>\n",
       "      <td>2</td>\n",
       "      <td>4</td>\n",
       "      <td>0101</td>\n",
       "      <td>1799.1197</td>\n",
       "      <td>1942.5633</td>\n",
       "      <td>3947.8573</td>\n",
       "      <td>1509.5755</td>\n",
       "      <td>1707.0445</td>\n",
       "      <td>...</td>\n",
       "      <td>1.0</td>\n",
       "      <td>1.0</td>\n",
       "      <td>99264</td>\n",
       "      <td>55.641256</td>\n",
       "      <td>4</td>\n",
       "      <td>45-54</td>\n",
       "      <td>4</td>\n",
       "      <td>8.0</td>\n",
       "      <td>8</td>\n",
       "      <td>Africa</td>\n",
       "    </tr>\n",
       "  </tbody>\n",
       "</table>\n",
       "<p>5 rows × 200 columns</p>\n",
       "</div>"
      ],
      "text/plain": [
       "        ssuid_x  spanel  swave  srefmon_x epppnum_x    repwgt1    repwgt2  \\\n",
       "0  019128000276    2008      2          4      0101  2062.7738  5759.3346   \n",
       "1  019128000276    2008      2          4      0102  2062.7738  5759.3346   \n",
       "2  019128000276    2008      2          4      0103  2497.6121  6654.3874   \n",
       "3  019128000334    2008      2          4      0102  6052.1909  1999.1529   \n",
       "4  019128000932    2008      2          4      0101  1799.1197  1942.5633   \n",
       "\n",
       "     repwgt3    repwgt4    repwgt5  ...  citizen  hhcitizen  \\\n",
       "0  2175.7926  1840.2327  2061.9449  ...      0.0        0.0   \n",
       "1  2175.7926  1840.2327  2061.9449  ...      0.0        0.0   \n",
       "2  2593.3821  2336.4230  2247.1723  ...      0.0        0.0   \n",
       "3  2223.6508  2137.6472  6212.1400  ...      1.0        1.0   \n",
       "4  3947.8573  1509.5755  1707.0445  ...      1.0        1.0   \n",
       "\n",
       "   familyincome_annual    poverty  age_group  agegroup_labels  ageg_gender  \\\n",
       "0                 4572   3.228814          2            25-34            0   \n",
       "1                 4572   3.228814          2            25-34            2   \n",
       "2                 4572   3.228814          0             0-17            0   \n",
       "3                72108  78.806557          1            18-24            1   \n",
       "4                99264  55.641256          4            45-54            4   \n",
       "\n",
       "   age_gender_insurance  region_birth  \\\n",
       "0                   0.0             7   \n",
       "1                   6.0             7   \n",
       "2                   0.0            12   \n",
       "3                   2.0             1   \n",
       "4                   8.0             8   \n",
       "\n",
       "                                regionbirth_labels  \n",
       "0  Southeast and West Asia, Australia, New Zealand  \n",
       "1  Southeast and West Asia, Australia, New Zealand  \n",
       "2                                  Everywhere Else  \n",
       "3                                    United States  \n",
       "4                                           Africa  \n",
       "\n",
       "[5 rows x 200 columns]"
      ]
     },
     "execution_count": 58,
     "metadata": {},
     "output_type": "execute_result"
    }
   ],
   "source": [
    "sipp2008w2_all.head()"
   ]
  },
  {
   "cell_type": "code",
   "execution_count": 59,
   "metadata": {},
   "outputs": [],
   "source": [
    "# English proficiency. The feature is conceptually ordinal, but it's coded backwards in its original form.\n",
    "# Let's create a new version that's in a logicla order.\n",
    "\n",
    "\n",
    "def english(x):\n",
    "    \n",
    "    # Not at all\n",
    "    if x['ehowwell'] == 4:\n",
    "        return 0\n",
    "    \n",
    "    # Not well\n",
    "    elif x['ehowwell'] == 3:\n",
    "        return 1\n",
    "    \n",
    "    # Well\n",
    "    elif x['ehowwell'] == 2:\n",
    "        return 2\n",
    "    \n",
    "    # Very well\n",
    "    elif (x['ehowwell'] ==1) or x['espeak'] == 2:\n",
    "        return 3\n",
    "\n",
    "sipp2008w2_all['english'] = sipp2008w2_all.apply(english, axis=1)\n",
    "\n",
    "english_labels = {0: 'Not at all', 1: 'Not well', 2: 'Well', 3: 'Very well'}\n",
    "\n",
    "sipp2008w2_all['english_labels'] = sipp2008w2_all['english'].map(english_labels)"
   ]
  },
  {
   "cell_type": "code",
   "execution_count": 60,
   "metadata": {},
   "outputs": [
    {
     "data": {
      "text/html": [
       "<div>\n",
       "<style scoped>\n",
       "    .dataframe tbody tr th:only-of-type {\n",
       "        vertical-align: middle;\n",
       "    }\n",
       "\n",
       "    .dataframe tbody tr th {\n",
       "        vertical-align: top;\n",
       "    }\n",
       "\n",
       "    .dataframe thead th {\n",
       "        text-align: right;\n",
       "    }\n",
       "</style>\n",
       "<table border=\"1\" class=\"dataframe\">\n",
       "  <thead>\n",
       "    <tr style=\"text-align: right;\">\n",
       "      <th></th>\n",
       "      <th>espeak</th>\n",
       "      <th>ehowwell</th>\n",
       "      <th>english</th>\n",
       "      <th>english_labels</th>\n",
       "    </tr>\n",
       "  </thead>\n",
       "  <tbody>\n",
       "    <tr>\n",
       "      <th>0</th>\n",
       "      <td>2</td>\n",
       "      <td>-1</td>\n",
       "      <td>3.0</td>\n",
       "      <td>Very well</td>\n",
       "    </tr>\n",
       "    <tr>\n",
       "      <th>1</th>\n",
       "      <td>2</td>\n",
       "      <td>-1</td>\n",
       "      <td>3.0</td>\n",
       "      <td>Very well</td>\n",
       "    </tr>\n",
       "    <tr>\n",
       "      <th>2</th>\n",
       "      <td>2</td>\n",
       "      <td>-1</td>\n",
       "      <td>3.0</td>\n",
       "      <td>Very well</td>\n",
       "    </tr>\n",
       "    <tr>\n",
       "      <th>3</th>\n",
       "      <td>2</td>\n",
       "      <td>-1</td>\n",
       "      <td>3.0</td>\n",
       "      <td>Very well</td>\n",
       "    </tr>\n",
       "    <tr>\n",
       "      <th>4</th>\n",
       "      <td>1</td>\n",
       "      <td>1</td>\n",
       "      <td>3.0</td>\n",
       "      <td>Very well</td>\n",
       "    </tr>\n",
       "    <tr>\n",
       "      <th>5</th>\n",
       "      <td>1</td>\n",
       "      <td>1</td>\n",
       "      <td>3.0</td>\n",
       "      <td>Very well</td>\n",
       "    </tr>\n",
       "    <tr>\n",
       "      <th>6</th>\n",
       "      <td>1</td>\n",
       "      <td>1</td>\n",
       "      <td>3.0</td>\n",
       "      <td>Very well</td>\n",
       "    </tr>\n",
       "    <tr>\n",
       "      <th>7</th>\n",
       "      <td>1</td>\n",
       "      <td>1</td>\n",
       "      <td>3.0</td>\n",
       "      <td>Very well</td>\n",
       "    </tr>\n",
       "    <tr>\n",
       "      <th>8</th>\n",
       "      <td>2</td>\n",
       "      <td>-1</td>\n",
       "      <td>3.0</td>\n",
       "      <td>Very well</td>\n",
       "    </tr>\n",
       "    <tr>\n",
       "      <th>9</th>\n",
       "      <td>2</td>\n",
       "      <td>-1</td>\n",
       "      <td>3.0</td>\n",
       "      <td>Very well</td>\n",
       "    </tr>\n",
       "    <tr>\n",
       "      <th>10</th>\n",
       "      <td>2</td>\n",
       "      <td>-1</td>\n",
       "      <td>3.0</td>\n",
       "      <td>Very well</td>\n",
       "    </tr>\n",
       "    <tr>\n",
       "      <th>11</th>\n",
       "      <td>2</td>\n",
       "      <td>-1</td>\n",
       "      <td>3.0</td>\n",
       "      <td>Very well</td>\n",
       "    </tr>\n",
       "    <tr>\n",
       "      <th>12</th>\n",
       "      <td>2</td>\n",
       "      <td>-1</td>\n",
       "      <td>3.0</td>\n",
       "      <td>Very well</td>\n",
       "    </tr>\n",
       "    <tr>\n",
       "      <th>13</th>\n",
       "      <td>1</td>\n",
       "      <td>1</td>\n",
       "      <td>3.0</td>\n",
       "      <td>Very well</td>\n",
       "    </tr>\n",
       "    <tr>\n",
       "      <th>14</th>\n",
       "      <td>2</td>\n",
       "      <td>-1</td>\n",
       "      <td>3.0</td>\n",
       "      <td>Very well</td>\n",
       "    </tr>\n",
       "    <tr>\n",
       "      <th>15</th>\n",
       "      <td>2</td>\n",
       "      <td>-1</td>\n",
       "      <td>3.0</td>\n",
       "      <td>Very well</td>\n",
       "    </tr>\n",
       "    <tr>\n",
       "      <th>16</th>\n",
       "      <td>2</td>\n",
       "      <td>-1</td>\n",
       "      <td>3.0</td>\n",
       "      <td>Very well</td>\n",
       "    </tr>\n",
       "    <tr>\n",
       "      <th>17</th>\n",
       "      <td>2</td>\n",
       "      <td>-1</td>\n",
       "      <td>3.0</td>\n",
       "      <td>Very well</td>\n",
       "    </tr>\n",
       "    <tr>\n",
       "      <th>18</th>\n",
       "      <td>2</td>\n",
       "      <td>-1</td>\n",
       "      <td>3.0</td>\n",
       "      <td>Very well</td>\n",
       "    </tr>\n",
       "    <tr>\n",
       "      <th>19</th>\n",
       "      <td>2</td>\n",
       "      <td>-1</td>\n",
       "      <td>3.0</td>\n",
       "      <td>Very well</td>\n",
       "    </tr>\n",
       "  </tbody>\n",
       "</table>\n",
       "</div>"
      ],
      "text/plain": [
       "    espeak  ehowwell  english english_labels\n",
       "0        2        -1      3.0      Very well\n",
       "1        2        -1      3.0      Very well\n",
       "2        2        -1      3.0      Very well\n",
       "3        2        -1      3.0      Very well\n",
       "4        1         1      3.0      Very well\n",
       "5        1         1      3.0      Very well\n",
       "6        1         1      3.0      Very well\n",
       "7        1         1      3.0      Very well\n",
       "8        2        -1      3.0      Very well\n",
       "9        2        -1      3.0      Very well\n",
       "10       2        -1      3.0      Very well\n",
       "11       2        -1      3.0      Very well\n",
       "12       2        -1      3.0      Very well\n",
       "13       1         1      3.0      Very well\n",
       "14       2        -1      3.0      Very well\n",
       "15       2        -1      3.0      Very well\n",
       "16       2        -1      3.0      Very well\n",
       "17       2        -1      3.0      Very well\n",
       "18       2        -1      3.0      Very well\n",
       "19       2        -1      3.0      Very well"
      ]
     },
     "execution_count": 60,
     "metadata": {},
     "output_type": "execute_result"
    }
   ],
   "source": [
    "# Checking to see if the labels column matches up with the english proficiency column.\n",
    "\n",
    "sipp2008w2_all[['espeak','ehowwell','english', 'english_labels']].head(20)"
   ]
  },
  {
   "cell_type": "markdown",
   "metadata": {},
   "source": [
    "#### Education"
   ]
  },
  {
   "cell_type": "code",
   "execution_count": 61,
   "metadata": {},
   "outputs": [],
   "source": [
    "# Creating an education variable from 'eeducate', which needs to be recoded.\n",
    "\n",
    "def educ(x):\n",
    "    \n",
    "    # Less than 1st Grade\n",
    "    if x['eeducate'] == 31:\n",
    "        return 0\n",
    "    \n",
    "    # 1st, 2nd, 3rd, or 4th grade\n",
    "    elif x['eeducate'] == 32:\n",
    "        return 1\n",
    "    \n",
    "    # 5th - 6th grade\n",
    "    elif x['eeducate'] == 33:\n",
    "        return 2\n",
    "    \n",
    "    # 7th or 8th grade\n",
    "    elif x['eeducate'] == 34:\n",
    "        return 3\n",
    "    \n",
    "    # 9th grade\n",
    "    elif x['eeducate'] == 35:\n",
    "        return 4\n",
    "    \n",
    "    # 10th grade\n",
    "    elif x['eeducate'] == 36:\n",
    "        return 5\n",
    "    \n",
    "    # 11th grade\n",
    "    elif x['eeducate'] == 37:\n",
    "        return 6\n",
    "    \n",
    "    # 12th grade, no diploma\n",
    "    elif x['eeducate'] == 38:\n",
    "        return 7\n",
    "    \n",
    "    # High school graduate\n",
    "    elif x['eeducate'] == 39:\n",
    "        return 8\n",
    "    \n",
    "    # Some college, but no degree\n",
    "    elif x['eeducate'] == 40:\n",
    "        return 9\n",
    "    \n",
    "    # Diploma or certificate from a vocational, technical, trade, or business school beyond high school\n",
    "    elif x['eeducate'] == 41:\n",
    "        return 10\n",
    "    \n",
    "    # Associate college degree\n",
    "    elif x['eeducate'] == 43:\n",
    "        return 11\n",
    "    \n",
    "    # Bachelor's degree\n",
    "    elif x['eeducate'] == 44:\n",
    "        return 12\n",
    "    \n",
    "    # Master's degree\n",
    "    elif x['eeducate'] == 45:\n",
    "        return 13\n",
    "    \n",
    "    # Doctorate Degree\n",
    "    elif (x['eeducate'] == 46) or (x['eeducate'] == 47): \n",
    "        return 14\n",
    "    \n",
    "sipp2008w2_all['educ'] = sipp2008w2_all.apply(educ, axis = 1)\n",
    "\n",
    "education = {0: '< 1st grade', 1: '1, 2, 3, or 4th grade', 2: '5th or 6th grade', 3: '7th or 8th grade', \n",
    "            4: '9th grade', 5: '10th grade', 6: '11th grade', 7: '12th grade, no diploma', 8: 'High school',\n",
    "            9: 'Some college', 10: 'Vocational school diploma', 11: 'AA degree', 12: 'College degree',\n",
    "            13: \"Master's degree\", 14: \"Doctoral\"}\n",
    "\n",
    "sipp2008w2_all['educ_labels'] = sipp2008w2_all['educ'].map(education)"
   ]
  },
  {
   "cell_type": "code",
   "execution_count": 62,
   "metadata": {},
   "outputs": [
    {
     "data": {
      "text/html": [
       "<div>\n",
       "<style scoped>\n",
       "    .dataframe tbody tr th:only-of-type {\n",
       "        vertical-align: middle;\n",
       "    }\n",
       "\n",
       "    .dataframe tbody tr th {\n",
       "        vertical-align: top;\n",
       "    }\n",
       "\n",
       "    .dataframe thead th {\n",
       "        text-align: right;\n",
       "    }\n",
       "</style>\n",
       "<table border=\"1\" class=\"dataframe\">\n",
       "  <thead>\n",
       "    <tr style=\"text-align: right;\">\n",
       "      <th></th>\n",
       "      <th>pid</th>\n",
       "      <th>educ</th>\n",
       "      <th>educ_labels</th>\n",
       "    </tr>\n",
       "  </thead>\n",
       "  <tbody>\n",
       "    <tr>\n",
       "      <th>0</th>\n",
       "      <td>191280002760101</td>\n",
       "      <td>12.0</td>\n",
       "      <td>College degree</td>\n",
       "    </tr>\n",
       "    <tr>\n",
       "      <th>1</th>\n",
       "      <td>191280002760102</td>\n",
       "      <td>12.0</td>\n",
       "      <td>College degree</td>\n",
       "    </tr>\n",
       "    <tr>\n",
       "      <th>2</th>\n",
       "      <td>191280002760103</td>\n",
       "      <td>NaN</td>\n",
       "      <td>NaN</td>\n",
       "    </tr>\n",
       "    <tr>\n",
       "      <th>3</th>\n",
       "      <td>191280003340102</td>\n",
       "      <td>12.0</td>\n",
       "      <td>College degree</td>\n",
       "    </tr>\n",
       "    <tr>\n",
       "      <th>4</th>\n",
       "      <td>191280009320101</td>\n",
       "      <td>12.0</td>\n",
       "      <td>College degree</td>\n",
       "    </tr>\n",
       "    <tr>\n",
       "      <th>5</th>\n",
       "      <td>191280009320102</td>\n",
       "      <td>12.0</td>\n",
       "      <td>College degree</td>\n",
       "    </tr>\n",
       "    <tr>\n",
       "      <th>6</th>\n",
       "      <td>191280009320103</td>\n",
       "      <td>5.0</td>\n",
       "      <td>10th grade</td>\n",
       "    </tr>\n",
       "    <tr>\n",
       "      <th>7</th>\n",
       "      <td>191280009320104</td>\n",
       "      <td>NaN</td>\n",
       "      <td>NaN</td>\n",
       "    </tr>\n",
       "    <tr>\n",
       "      <th>8</th>\n",
       "      <td>191280380460101</td>\n",
       "      <td>12.0</td>\n",
       "      <td>College degree</td>\n",
       "    </tr>\n",
       "    <tr>\n",
       "      <th>9</th>\n",
       "      <td>191280380990101</td>\n",
       "      <td>11.0</td>\n",
       "      <td>AA degree</td>\n",
       "    </tr>\n",
       "    <tr>\n",
       "      <th>10</th>\n",
       "      <td>191280380990102</td>\n",
       "      <td>11.0</td>\n",
       "      <td>AA degree</td>\n",
       "    </tr>\n",
       "    <tr>\n",
       "      <th>11</th>\n",
       "      <td>191280380990103</td>\n",
       "      <td>6.0</td>\n",
       "      <td>11th grade</td>\n",
       "    </tr>\n",
       "    <tr>\n",
       "      <th>12</th>\n",
       "      <td>191280380990104</td>\n",
       "      <td>4.0</td>\n",
       "      <td>9th grade</td>\n",
       "    </tr>\n",
       "    <tr>\n",
       "      <th>13</th>\n",
       "      <td>191280382760101</td>\n",
       "      <td>12.0</td>\n",
       "      <td>College degree</td>\n",
       "    </tr>\n",
       "    <tr>\n",
       "      <th>14</th>\n",
       "      <td>191280382760102</td>\n",
       "      <td>14.0</td>\n",
       "      <td>Doctoral</td>\n",
       "    </tr>\n",
       "    <tr>\n",
       "      <th>15</th>\n",
       "      <td>191330003010101</td>\n",
       "      <td>8.0</td>\n",
       "      <td>High school</td>\n",
       "    </tr>\n",
       "    <tr>\n",
       "      <th>16</th>\n",
       "      <td>191330007780101</td>\n",
       "      <td>9.0</td>\n",
       "      <td>Some college</td>\n",
       "    </tr>\n",
       "    <tr>\n",
       "      <th>17</th>\n",
       "      <td>191330007780102</td>\n",
       "      <td>10.0</td>\n",
       "      <td>Vocational school diploma</td>\n",
       "    </tr>\n",
       "    <tr>\n",
       "      <th>18</th>\n",
       "      <td>191330009640101</td>\n",
       "      <td>13.0</td>\n",
       "      <td>Master's degree</td>\n",
       "    </tr>\n",
       "    <tr>\n",
       "      <th>19</th>\n",
       "      <td>191330381380101</td>\n",
       "      <td>12.0</td>\n",
       "      <td>College degree</td>\n",
       "    </tr>\n",
       "  </tbody>\n",
       "</table>\n",
       "</div>"
      ],
      "text/plain": [
       "                pid  educ                educ_labels\n",
       "0   191280002760101  12.0             College degree\n",
       "1   191280002760102  12.0             College degree\n",
       "2   191280002760103   NaN                        NaN\n",
       "3   191280003340102  12.0             College degree\n",
       "4   191280009320101  12.0             College degree\n",
       "5   191280009320102  12.0             College degree\n",
       "6   191280009320103   5.0                 10th grade\n",
       "7   191280009320104   NaN                        NaN\n",
       "8   191280380460101  12.0             College degree\n",
       "9   191280380990101  11.0                  AA degree\n",
       "10  191280380990102  11.0                  AA degree\n",
       "11  191280380990103   6.0                 11th grade\n",
       "12  191280380990104   4.0                  9th grade\n",
       "13  191280382760101  12.0             College degree\n",
       "14  191280382760102  14.0                   Doctoral\n",
       "15  191330003010101   8.0                High school\n",
       "16  191330007780101   9.0               Some college\n",
       "17  191330007780102  10.0  Vocational school diploma\n",
       "18  191330009640101  13.0            Master's degree\n",
       "19  191330381380101  12.0             College degree"
      ]
     },
     "execution_count": 62,
     "metadata": {},
     "output_type": "execute_result"
    }
   ],
   "source": [
    "sipp2008w2_all[['pid', 'educ', 'educ_labels']].head(20)"
   ]
  },
  {
   "cell_type": "markdown",
   "metadata": {},
   "source": [
    "#### Years of U.S. Residence"
   ]
  },
  {
   "cell_type": "code",
   "execution_count": 63,
   "metadata": {},
   "outputs": [],
   "source": [
    "# First let's recode tmoveus to the year they enter and then subtract that from the year\n",
    "# of the survey.\n",
    "# The SIPP encodes this as a categorical variable and half of the values measure ranges \n",
    "# of years. For example, 1 = Before 1961 and 2 equals 1961-1968. For ranges that are longer\n",
    "# than two years, I will assign the midpoint. For two-year ranges, I will assign the most\n",
    "# recent year. For the first values (before 1961), I will assign 1960. \n",
    "\n",
    "\n",
    "def move_us(x):\n",
    "    \n",
    "    # Before 1961 (let's just make this 1960)\n",
    "    if x['tmoveus'] == 1:\n",
    "        return 1960\n",
    "    \n",
    "    # 1961-1968\n",
    "    elif x['tmoveus'] == 2:\n",
    "        return 1965\n",
    "    \n",
    "    # 1969-1973\n",
    "    elif x['tmoveus'] == 3:\n",
    "        return 1971\n",
    "    \n",
    "    # 1974-1978\n",
    "    elif x['tmoveus'] == 4:\n",
    "        return 1976\n",
    "    \n",
    "    # 1979-1980\n",
    "    elif x['tmoveus'] == 5:\n",
    "        return 1980\n",
    "    \n",
    "    # 1981-1983\n",
    "    elif x['tmoveus'] == 6:\n",
    "        return 1982\n",
    "    \n",
    "    # 1984-1985\n",
    "    elif x['tmoveus'] == 7:\n",
    "        return 1985\n",
    "    \n",
    "    # 1986-1988\n",
    "    elif x['tmoveus'] == 8:\n",
    "        return 1987\n",
    "    \n",
    "    # 1989-1990\n",
    "    elif x['tmoveus'] == 9:\n",
    "        return 1990\n",
    "    \n",
    "    # 1991-1992\n",
    "    elif x['tmoveus'] == 10:\n",
    "        return 1992\n",
    "    \n",
    "    # 1993-1994\n",
    "    elif x['tmoveus'] == 11:\n",
    "        return 1994\n",
    "    \n",
    "    # 1995-1996\n",
    "    elif x['tmoveus'] == 12:\n",
    "        return 1996\n",
    "    \n",
    "    # 1997-1998\n",
    "    elif x['tmoveus'] == 13:\n",
    "        return 1998\n",
    "    \n",
    "    # 1999\n",
    "    elif x['tmoveus'] == 14:\n",
    "        return 1999\n",
    "    \n",
    "    # 2000\n",
    "    elif x['tmoveus'] == 15:\n",
    "        return 2000\n",
    "    \n",
    "    # 2001 \n",
    "    elif x['tmoveus'] == 16:\n",
    "        return 2001\n",
    "    \n",
    "    # 2002-2003\n",
    "    elif x['tmoveus'] == 17:\n",
    "        return 2003\n",
    "    \n",
    "    # 2004\n",
    "    elif x['tmoveus'] == 18:\n",
    "        return 2004\n",
    "    \n",
    "    # 2005\n",
    "    elif x['tmoveus'] == 19:\n",
    "        return 2005\n",
    "    \n",
    "    # 2006\n",
    "    elif x['tmoveus'] == 20:\n",
    "        return 2006\n",
    "    \n",
    "    # 2007\n",
    "    elif x['tmoveus'] == 21:\n",
    "        return 2007\n",
    "    \n",
    "    # 2008 - 2009, but survey is conducted in 2008\n",
    "    elif x['tmoveus'] == 22:\n",
    "        return 2008\n",
    "\n",
    "sipp2008w2_all['move_us'] = sipp2008w2_all.apply(move_us, axis = 1)"
   ]
  },
  {
   "cell_type": "code",
   "execution_count": 64,
   "metadata": {},
   "outputs": [],
   "source": [
    "sipp2008w2_all['years_us'] = 2008 - sipp2008w2_all['move_us']"
   ]
  },
  {
   "cell_type": "code",
   "execution_count": 65,
   "metadata": {},
   "outputs": [
    {
     "data": {
      "text/plain": [
       "count    11145.00000\n",
       "mean        13.90830\n",
       "std         12.53429\n",
       "min          0.00000\n",
       "25%          5.00000\n",
       "50%         10.00000\n",
       "75%         21.00000\n",
       "max         48.00000\n",
       "Name: years_us, dtype: float64"
      ]
     },
     "execution_count": 65,
     "metadata": {},
     "output_type": "execute_result"
    }
   ],
   "source": [
    "# Getting an idea of how this feature is distributed.\n",
    "\n",
    "sipp2008w2_all.years_us.describe()"
   ]
  },
  {
   "cell_type": "markdown",
   "metadata": {},
   "source": [
    "### Creating target variable: unauthorized noncitizens\n",
    "\n",
    "I will filter the dataset to noncitizens and create a binary indicator equalling 1 if they are likely an unauthorized noncitizen and zero if they are likely a legal one.  Noncitizens will be considered unauthorized if they: reported not having a green card when they entered the United States, they have not adjusted to permanent resident status since entering the country (applied for and obtained a green card), nor do they show signs of having legal status. "
   ]
  },
  {
   "cell_type": "markdown",
   "metadata": {},
   "source": [
    "### Capturing indicators of legal status\n",
    "\n",
    "Surveys are imperfect measures of behaviors and attributes because people often make mistakes when self-reporting certain attributes, which can vary by person. For noncitizens, one of these things can be legal status, especially in government surveys. To partially mitigate that problem, we can create a dummy indicator measuring whether a noncitizen has one of a number of attributes that signals that they are legally in the country. These can include:\n",
    "- They entered the U.S. before 1982 (The Immigration Reform and Control Act of 1986 legalized all unauthorized immigrants who entered the U.S. before 1982).\n",
    "- They are enrolled in Medicare or Medicaid\n",
    "- They are enrolled in military heath insurance\n",
    "- They receive public assistance payments like Temporary Assistance for Needy Families (TANF) and Aid to Families with Dependent Children (AFDC)\n",
    "- They receive Supplemental Security Income\n",
    "- They receive Social Security Income\n",
    "- They are veterans (not directly measured by SIPP, but might be able to use rprvhi (type of health insurance-military)\n",
    "- They are active-duty military (SIPP ejbind1)\n",
    "- They are public sector workers (SIPP ejbind1)\n",
    "- They work in specialty professions requiring licenses (SIPP ejbind1):\n",
    "    - judges, lawyers, police offers, veterinarians, doctors, barbers, etc."
   ]
  },
  {
   "cell_type": "code",
   "execution_count": 66,
   "metadata": {},
   "outputs": [],
   "source": [
    "# I'm creating a dummy capturing things that imply legal status\n",
    "\n",
    "sipp2008w2_all['legalsign'] = 0\n",
    "\n",
    "# Entered the country before 1982\n",
    "sipp2008w2_all.loc[sipp2008w2_all['tmovyryr'] < 1982, 'legalsign'] = 1\n",
    "\n",
    "# Enrolled in Medicare\n",
    "sipp2008w2_all.loc[sipp2008w2_all['ecrmth'] == 1, 'legalsign'] = 1\n",
    "\n",
    "# Enrolled in Medicaid\n",
    "sipp2008w2_all.loc[sipp2008w2_all['ecdmth'] == 1, 'legalsign'] = 1\n",
    "\n",
    "# Enrolled in Military or Veterans Insurance, This also indicates that they are active duty military or a veteran\n",
    "sipp2008w2_all.loc[sipp2008w2_all['rchampm'] == 1, 'legalsign'] = 1\n",
    "\n",
    "# Receives TANF or AFDC\n",
    "sipp2008w2_all.loc[sipp2008w2_all['er20'] == 1, 'legalsign'] = 1 \n",
    "\n",
    "# Receives SSI\n",
    "sipp2008w2_all.loc[sipp2008w2_all['er03a'] == 1, 'legalsign'] = 1 \n",
    "\n",
    "# Receives Social Security income\n",
    "sipp2008w2_all.loc[sipp2008w2_all['er01a'] == 1, 'legalsign'] = 1 \n",
    "\n",
    "# Respondent is an education administrator\n",
    "sipp2008w2_all.loc[sipp2008w2_all['tjbocc1'] == 230, 'legalsign'] = 1 \n",
    "\n",
    "# Respondent is a funeral director\n",
    "sipp2008w2_all.loc[sipp2008w2_all['tjbocc1'] == 320, 'legalsign'] = 1 \n",
    "\n",
    "# Respondent is an insurance adjuster\n",
    "sipp2008w2_all.loc[sipp2008w2_all['tjbocc1'] == 540, 'legalsign'] = 1 \n",
    "\n",
    "# Respondent is a tax examiner, collector, revenue agent\n",
    "\n",
    "sipp2008w2_all.loc[sipp2008w2_all['tjbocc1'] == 930, 'legalsign'] = 1 \n",
    "\n",
    "# Respondent is a tax preparer\n",
    "\n",
    "sipp2008w2_all.loc[sipp2008w2_all['tjbocc1'] == 940, 'legalsign'] = 1 \n",
    "\n",
    "# Respondent is an actuary\n",
    "\n",
    "sipp2008w2_all.loc[sipp2008w2_all['tjbocc1'] == 1200, 'legalsign'] = 1 \n",
    "\n",
    "# Respondent is an architect\n",
    "\n",
    "sipp2008w2_all.loc[sipp2008w2_all['tjbocc1'] == 1300, 'legalsign'] = 1 \n",
    "\n",
    "# Respondent is a lawyer or a paralegal\n",
    "\n",
    "sipp2008w2_all.loc[sipp2008w2_all['tjbocc1'] == 2100, 'legalsign'] = 1 \n",
    "sipp2008w2_all.loc[sipp2008w2_all['tjbocc1'] == 2140, 'legalsign'] = 1 \n",
    "\n",
    "# Respondent is a teacher\n",
    "\n",
    "sipp2008w2_all.loc[(sipp2008w2_all['tjbocc1'] >= 2200) & (sipp2008w2_all['tjbocc1'] <=2340), 'legalsign'] = 1 \n",
    "\n",
    "# Respondent is a teacher assistant\n",
    "\n",
    "sipp2008w2_all.loc[sipp2008w2_all['tjbocc1'] == 2430, 'legalsign'] = 1 \n",
    "\n",
    "# Respondent is a chiropractor\n",
    "\n",
    "sipp2008w2_all.loc[sipp2008w2_all['tjbocc1'] == 3000, 'legalsign'] = 1 \n",
    "\n",
    "# Respondent is a dentist\n",
    "\n",
    "sipp2008w2_all.loc[sipp2008w2_all['tjbocc1'] == 3010, 'legalsign'] = 1 \n",
    "\n",
    "# Respondent works in medicine in a licensed position\n",
    "\n",
    "sipp2008w2_all.loc[(sipp2008w2_all['tjbocc1'] >= 3040) & (sipp2008w2_all['tjbocc1'] <= 3650), 'legalsign'] = 1 \n",
    "\n",
    "# Respondent is a correctional officer, works in corrections, police officer, first responder, law enforcement\n",
    "\n",
    "sipp2008w2_all.loc[(sipp2008w2_all['tjbocc1'] >= 3700) & (sipp2008w2_all['tjbocc1'] <= 3920), 'legalsign'] = 1 \n",
    "\n",
    "# Respondent is a court clerk\n",
    "\n",
    "sipp2008w2_all.loc[sipp2008w2_all['tjbocc1'] == 5220, 'legalsign'] = 1 \n",
    "\n",
    "# Respondent is a postal officer, clerk, or mail sorter\n",
    "\n",
    "sipp2008w2_all.loc[(sipp2008w2_all['tjbocc1'] >= 5540) & (sipp2008w2_all['tjbocc1'] <= 5560), 'legalsign'] = 1 \n",
    "\n",
    "# Respondent is a mail clerk\n",
    "\n",
    "sipp2008w2_all.loc[sipp2008w2_all['tjbocc1'] == 5850, 'legalsign'] = 1 \n",
    "\n",
    "# Respondent is an agricultural inspector\n",
    "\n",
    "sipp2008w2_all.loc[sipp2008w2_all['tjbocc1'] == 6010, 'legalsign'] = 1 \n",
    "\n",
    "# Respondent is a construction or building inspector\n",
    "\n",
    "sipp2008w2_all.loc[sipp2008w2_all['tjbocc1'] == 6660, 'legalsign'] = 1 \n",
    "\n",
    "# Respondent is a pilot, air traffic controller, ambulance driver, bus driver, other transportation workers that \n",
    "# require licenses\n",
    "\n",
    "sipp2008w2_all.loc[(sipp2008w2_all['tjbocc1'] >= 9030) & (sipp2008w2_all['tjbocc1'] <= 9330), 'legalsign'] = 1 \n",
    "\n",
    "# Respondent is in the military\n",
    "\n",
    "sipp2008w2_all.loc[(sipp2008w2_all['tjbocc1'] >= 9800) & (sipp2008w2_all['tjbocc1'] <= 9830), 'legalsign'] = 1 \n",
    "\n",
    "# Respondent is unemployed, but last job was in the military\n",
    "\n",
    "sipp2008w2_all.loc[sipp2008w2_all['tjbocc1'] == 9840, 'legalsign'] = 1 \n",
    "\n",
    "# Make this only for noncitizens\n",
    "\n",
    "sipp2008w2_all.loc[sipp2008w2_all['ecitizen'] == 1, 'legalsign'] = np.nan"
   ]
  },
  {
   "cell_type": "code",
   "execution_count": 67,
   "metadata": {},
   "outputs": [],
   "source": [
    "#not a citizen\n",
    "#did not enter as a LPR & status has since not changed to LPR\n",
    "#adjusting for those whose circumstances imply legal status\n",
    "\n",
    "sipp2008w2_all['unauthorized'] = np.where(((sipp2008w2_all['ecitizen'] == 2) &\n",
    "                  (sipp2008w2_all['timstat'] == 2) &\n",
    "                  (sipp2008w2_all['eadjust'] == 2)), 1, 0)\n",
    "\n",
    "sipp2008w2_all.loc[sipp2008w2_all['legalsign'] == 1, 'unauthorized'] = 0\n",
    "\n",
    "sipp2008w2_all.loc[sipp2008w2_all['ecitizen'] == 1, 'unauthorized'] = np.nan\n",
    "    "
   ]
  },
  {
   "cell_type": "code",
   "execution_count": 68,
   "metadata": {},
   "outputs": [
    {
     "data": {
      "text/plain": [
       "0.25077147961669644"
      ]
     },
     "execution_count": 68,
     "metadata": {},
     "output_type": "execute_result"
    }
   ],
   "source": [
    "1544/(4613+1544)"
   ]
  },
  {
   "cell_type": "code",
   "execution_count": 69,
   "metadata": {},
   "outputs": [],
   "source": [
    "# Creating a variable that measures legal status, including U.S. citizenship \n",
    "# I may want to use this at a later stage of this project. \n",
    "\n",
    "# US Citizen\n",
    "sipp2008w2_all.loc[sipp2008w2_all['ecitizen'] == 1, 'legal'] = 2\n",
    "\n",
    "# Legal Noncitizen\n",
    "sipp2008w2_all.loc[sipp2008w2_all['ecitizen'] == 2, 'legal'] = 1\n",
    "\n",
    "# Unauthorized Noncitizen\n",
    "sipp2008w2_all.loc[(sipp2008w2_all['ecitizen'] == 2) &\n",
    "                  (sipp2008w2_all['timstat'] == 2) &\n",
    "                  (sipp2008w2_all['eadjust'] == 2), 'legal'] = 0\n",
    "\n",
    "# Noncitizens with signs of legality are probably legal\n",
    "sipp2008w2_all.loc[sipp2008w2_all['legalsign'] == 1, 'legal'] = 1\n"
   ]
  },
  {
   "cell_type": "code",
   "execution_count": 70,
   "metadata": {},
   "outputs": [
    {
     "data": {
      "text/plain": [
       "2.0    92347\n",
       "1.0     4613\n",
       "0.0     1544\n",
       "Name: legal, dtype: int64"
      ]
     },
     "execution_count": 70,
     "metadata": {},
     "output_type": "execute_result"
    }
   ],
   "source": [
    "sipp2008w2_all.legal.value_counts()"
   ]
  },
  {
   "cell_type": "code",
   "execution_count": 71,
   "metadata": {},
   "outputs": [],
   "source": [
    "legal_labels = {0: 'Unauthorized Noncitizen', 1: 'Legal Noncitizen', 2: 'Citizen'}\n",
    "\n",
    "sipp2008w2_all['legal_labels'] = sipp2008w2_all['legal'].map(legal_labels)"
   ]
  },
  {
   "cell_type": "code",
   "execution_count": 72,
   "metadata": {},
   "outputs": [
    {
     "data": {
      "text/html": [
       "<div>\n",
       "<style scoped>\n",
       "    .dataframe tbody tr th:only-of-type {\n",
       "        vertical-align: middle;\n",
       "    }\n",
       "\n",
       "    .dataframe tbody tr th {\n",
       "        vertical-align: top;\n",
       "    }\n",
       "\n",
       "    .dataframe thead th {\n",
       "        text-align: right;\n",
       "    }\n",
       "</style>\n",
       "<table border=\"1\" class=\"dataframe\">\n",
       "  <thead>\n",
       "    <tr style=\"text-align: right;\">\n",
       "      <th></th>\n",
       "      <th>pid</th>\n",
       "      <th>legal</th>\n",
       "      <th>legal_labels</th>\n",
       "    </tr>\n",
       "  </thead>\n",
       "  <tbody>\n",
       "    <tr>\n",
       "      <th>0</th>\n",
       "      <td>191280002760101</td>\n",
       "      <td>0.0</td>\n",
       "      <td>Unauthorized Noncitizen</td>\n",
       "    </tr>\n",
       "    <tr>\n",
       "      <th>1</th>\n",
       "      <td>191280002760102</td>\n",
       "      <td>0.0</td>\n",
       "      <td>Unauthorized Noncitizen</td>\n",
       "    </tr>\n",
       "    <tr>\n",
       "      <th>2</th>\n",
       "      <td>191280002760103</td>\n",
       "      <td>1.0</td>\n",
       "      <td>Legal Noncitizen</td>\n",
       "    </tr>\n",
       "    <tr>\n",
       "      <th>3</th>\n",
       "      <td>191280003340102</td>\n",
       "      <td>2.0</td>\n",
       "      <td>Citizen</td>\n",
       "    </tr>\n",
       "    <tr>\n",
       "      <th>4</th>\n",
       "      <td>191280009320101</td>\n",
       "      <td>2.0</td>\n",
       "      <td>Citizen</td>\n",
       "    </tr>\n",
       "    <tr>\n",
       "      <th>5</th>\n",
       "      <td>191280009320102</td>\n",
       "      <td>2.0</td>\n",
       "      <td>Citizen</td>\n",
       "    </tr>\n",
       "    <tr>\n",
       "      <th>6</th>\n",
       "      <td>191280009320103</td>\n",
       "      <td>2.0</td>\n",
       "      <td>Citizen</td>\n",
       "    </tr>\n",
       "    <tr>\n",
       "      <th>7</th>\n",
       "      <td>191280009320104</td>\n",
       "      <td>2.0</td>\n",
       "      <td>Citizen</td>\n",
       "    </tr>\n",
       "    <tr>\n",
       "      <th>8</th>\n",
       "      <td>191280380460101</td>\n",
       "      <td>2.0</td>\n",
       "      <td>Citizen</td>\n",
       "    </tr>\n",
       "    <tr>\n",
       "      <th>9</th>\n",
       "      <td>191280380990101</td>\n",
       "      <td>2.0</td>\n",
       "      <td>Citizen</td>\n",
       "    </tr>\n",
       "    <tr>\n",
       "      <th>10</th>\n",
       "      <td>191280380990102</td>\n",
       "      <td>2.0</td>\n",
       "      <td>Citizen</td>\n",
       "    </tr>\n",
       "    <tr>\n",
       "      <th>11</th>\n",
       "      <td>191280380990103</td>\n",
       "      <td>2.0</td>\n",
       "      <td>Citizen</td>\n",
       "    </tr>\n",
       "    <tr>\n",
       "      <th>12</th>\n",
       "      <td>191280380990104</td>\n",
       "      <td>2.0</td>\n",
       "      <td>Citizen</td>\n",
       "    </tr>\n",
       "    <tr>\n",
       "      <th>13</th>\n",
       "      <td>191280382760101</td>\n",
       "      <td>2.0</td>\n",
       "      <td>Citizen</td>\n",
       "    </tr>\n",
       "    <tr>\n",
       "      <th>14</th>\n",
       "      <td>191280382760102</td>\n",
       "      <td>2.0</td>\n",
       "      <td>Citizen</td>\n",
       "    </tr>\n",
       "    <tr>\n",
       "      <th>15</th>\n",
       "      <td>191330003010101</td>\n",
       "      <td>2.0</td>\n",
       "      <td>Citizen</td>\n",
       "    </tr>\n",
       "    <tr>\n",
       "      <th>16</th>\n",
       "      <td>191330007780101</td>\n",
       "      <td>2.0</td>\n",
       "      <td>Citizen</td>\n",
       "    </tr>\n",
       "    <tr>\n",
       "      <th>17</th>\n",
       "      <td>191330007780102</td>\n",
       "      <td>2.0</td>\n",
       "      <td>Citizen</td>\n",
       "    </tr>\n",
       "    <tr>\n",
       "      <th>18</th>\n",
       "      <td>191330009640101</td>\n",
       "      <td>2.0</td>\n",
       "      <td>Citizen</td>\n",
       "    </tr>\n",
       "    <tr>\n",
       "      <th>19</th>\n",
       "      <td>191330381380101</td>\n",
       "      <td>2.0</td>\n",
       "      <td>Citizen</td>\n",
       "    </tr>\n",
       "  </tbody>\n",
       "</table>\n",
       "</div>"
      ],
      "text/plain": [
       "                pid  legal             legal_labels\n",
       "0   191280002760101    0.0  Unauthorized Noncitizen\n",
       "1   191280002760102    0.0  Unauthorized Noncitizen\n",
       "2   191280002760103    1.0         Legal Noncitizen\n",
       "3   191280003340102    2.0                  Citizen\n",
       "4   191280009320101    2.0                  Citizen\n",
       "5   191280009320102    2.0                  Citizen\n",
       "6   191280009320103    2.0                  Citizen\n",
       "7   191280009320104    2.0                  Citizen\n",
       "8   191280380460101    2.0                  Citizen\n",
       "9   191280380990101    2.0                  Citizen\n",
       "10  191280380990102    2.0                  Citizen\n",
       "11  191280380990103    2.0                  Citizen\n",
       "12  191280380990104    2.0                  Citizen\n",
       "13  191280382760101    2.0                  Citizen\n",
       "14  191280382760102    2.0                  Citizen\n",
       "15  191330003010101    2.0                  Citizen\n",
       "16  191330007780101    2.0                  Citizen\n",
       "17  191330007780102    2.0                  Citizen\n",
       "18  191330009640101    2.0                  Citizen\n",
       "19  191330381380101    2.0                  Citizen"
      ]
     },
     "execution_count": 72,
     "metadata": {},
     "output_type": "execute_result"
    }
   ],
   "source": [
    "sipp2008w2_all[['pid', 'legal', 'legal_labels']].head(20)"
   ]
  },
  {
   "cell_type": "markdown",
   "metadata": {},
   "source": [
    "### MISSING DATA"
   ]
  },
  {
   "cell_type": "markdown",
   "metadata": {},
   "source": [
    "#### SIPP Imputation\n",
    "\n",
    "The U.S. Census Bureau staff have already imputed missing data due to nonresponse for specific questions, nonsensical responses, or clerical errors during the data entry process, using \"hot-deck\" and logical imputation methods. In its data editing process, SIPP researchers will fill in missing values with logically consistent values when appropriate. If logical imputation is not appropriate, they use \"hot-deck\" methods, which for each row with a missing value for a given feature, say *y*, they find the observation with the most similar values on other features and assign its *y* to fill in the missing value. \n",
    "\n",
    "\n",
    "#### Remaining Missing Data Issues"
   ]
  },
  {
   "cell_type": "code",
   "execution_count": 73,
   "metadata": {},
   "outputs": [],
   "source": [
    "analysis_features = sipp2008w2_all[['pid', 'ssuid', 'epppnum', 'unauthorized', 'legal', 'num_hh', 'family_size', 'hh_related', 'hh_workers', 'job', 'insurance', 'female',\n",
    "                'hispanic_latino', 'hhcitizen', 'poverty', 'age_group', 'ageg_gender', 'age_gender_insurance', \n",
    "                'region_birth', 'english', 'educ', 'years_us', 'tfipsst', 'tage']]"
   ]
  },
  {
   "cell_type": "code",
   "execution_count": 74,
   "metadata": {},
   "outputs": [],
   "source": [
    "sipp_noncitizens = analysis_features[analysis_features['unauthorized'].notnull()]"
   ]
  },
  {
   "cell_type": "code",
   "execution_count": 75,
   "metadata": {},
   "outputs": [
    {
     "data": {
      "text/plain": [
       "pid                     0.000000\n",
       "ssuid                   0.000000\n",
       "epppnum                 0.000000\n",
       "unauthorized            0.000000\n",
       "legal                   0.000000\n",
       "num_hh                  0.000000\n",
       "family_size             0.000000\n",
       "hh_related              0.000000\n",
       "hh_workers              0.000000\n",
       "job                     0.081208\n",
       "insurance               0.000000\n",
       "female                  0.000000\n",
       "hispanic_latino         0.000000\n",
       "hhcitizen               0.000000\n",
       "poverty                 0.002111\n",
       "age_group               0.000000\n",
       "ageg_gender             0.000000\n",
       "age_gender_insurance    0.000000\n",
       "region_birth            0.000000\n",
       "english                 0.010557\n",
       "educ                    0.081208\n",
       "years_us                0.081208\n",
       "tfipsst                 0.000000\n",
       "tage                    0.000000\n",
       "dtype: float64"
      ]
     },
     "execution_count": 75,
     "metadata": {},
     "output_type": "execute_result"
    }
   ],
   "source": [
    "sipp_noncitizens.isnull().sum()/sipp_noncitizens.isnull().count()"
   ]
  },
  {
   "cell_type": "markdown",
   "metadata": {},
   "source": [
    "Seven features have missing values, but it is possible that they are missing not at random (MNAR). Since SIPP has already cleaned missing data for the source features for those that I created for this analysis and many of the source features have data missing because certain respondents were not in the universe of people in that particular measure, it is possible that the missing data are artifacts of that process (and thus MNAR). Let us investigate the eight features to see if they are MNAR or not. "
   ]
  },
  {
   "cell_type": "code",
   "execution_count": 76,
   "metadata": {},
   "outputs": [],
   "source": [
    "engnull = sipp_noncitizens[sipp_noncitizens['english'].isnull()]"
   ]
  },
  {
   "cell_type": "code",
   "execution_count": 77,
   "metadata": {},
   "outputs": [
    {
     "data": {
      "text/plain": [
       "4    21\n",
       "3    18\n",
       "2    12\n",
       "0     8\n",
       "1     6\n",
       "Name: tage, dtype: int64"
      ]
     },
     "execution_count": 77,
     "metadata": {},
     "output_type": "execute_result"
    }
   ],
   "source": [
    "engnull.tage.value_counts()"
   ]
  },
  {
   "cell_type": "markdown",
   "metadata": {},
   "source": [
    "'english' is missing values for 65 respondents who are younger than five, which signals that they are MNAR. The source features, 'ehowwell' and 'espeak' only measure English proficiency for respondents five and older. "
   ]
  },
  {
   "cell_type": "code",
   "execution_count": 78,
   "metadata": {},
   "outputs": [],
   "source": [
    "educnull = sipp_noncitizens[sipp_noncitizens['educ'].isnull()]"
   ]
  },
  {
   "cell_type": "code",
   "execution_count": 79,
   "metadata": {},
   "outputs": [
    {
     "data": {
      "text/plain": [
       "14    63\n",
       "10    61\n",
       "13    51\n",
       "12    51\n",
       "11    44\n",
       "9     41\n",
       "7     41\n",
       "8     39\n",
       "5     23\n",
       "6     21\n",
       "4     21\n",
       "3     18\n",
       "2     12\n",
       "0      8\n",
       "1      6\n",
       "Name: tage, dtype: int64"
      ]
     },
     "execution_count": 79,
     "metadata": {},
     "output_type": "execute_result"
    }
   ],
   "source": [
    "educnull.tage.value_counts()"
   ]
  },
  {
   "cell_type": "markdown",
   "metadata": {},
   "source": [
    "The missing values for our education measure, 'educ', are also missing not at random because the source feature, 'eeducate', only measures education levels for fifteen and older. The value count for the 'educ' missing values for noncitizens shows that all of the respondents are younger than fifteen. "
   ]
  },
  {
   "cell_type": "markdown",
   "metadata": {},
   "source": [
    "*'years_us'*"
   ]
  },
  {
   "cell_type": "code",
   "execution_count": 80,
   "metadata": {},
   "outputs": [],
   "source": [
    "yearsus_null = sipp_noncitizens[sipp_noncitizens['years_us'].isnull()]"
   ]
  },
  {
   "cell_type": "code",
   "execution_count": 81,
   "metadata": {},
   "outputs": [
    {
     "data": {
      "text/plain": [
       "count    500.000000\n",
       "mean       9.256000\n",
       "std        3.638811\n",
       "min        0.000000\n",
       "25%        7.000000\n",
       "50%       10.000000\n",
       "75%       12.000000\n",
       "max       14.000000\n",
       "Name: tage, dtype: float64"
      ]
     },
     "execution_count": 81,
     "metadata": {},
     "output_type": "execute_result"
    }
   ],
   "source": [
    "yearsus_null.tage.describe()"
   ]
  },
  {
   "cell_type": "markdown",
   "metadata": {},
   "source": [
    "The missing values for 'years_us' is also MNAR for a similar reason. The missing values are respondents who were under the age of 15, and its source feature ('tmoveus') also only includes values for respondents 15 or older. "
   ]
  },
  {
   "cell_type": "markdown",
   "metadata": {},
   "source": [
    "*'job'*"
   ]
  },
  {
   "cell_type": "code",
   "execution_count": 82,
   "metadata": {},
   "outputs": [],
   "source": [
    "jobnull = sipp_noncitizens[sipp_noncitizens['job'].isnull()]"
   ]
  },
  {
   "cell_type": "code",
   "execution_count": 83,
   "metadata": {},
   "outputs": [
    {
     "data": {
      "text/plain": [
       "count    500.000000\n",
       "mean       9.256000\n",
       "std        3.638811\n",
       "min        0.000000\n",
       "25%        7.000000\n",
       "50%       10.000000\n",
       "75%       12.000000\n",
       "max       14.000000\n",
       "Name: tage, dtype: float64"
      ]
     },
     "execution_count": 83,
     "metadata": {},
     "output_type": "execute_result"
    }
   ],
   "source": [
    "jobnull.tage.describe()"
   ]
  },
  {
   "cell_type": "code",
   "execution_count": 84,
   "metadata": {},
   "outputs": [
    {
     "data": {
      "text/plain": [
       "0.08120838070488874"
      ]
     },
     "execution_count": 84,
     "metadata": {},
     "output_type": "execute_result"
    }
   ],
   "source": [
    "500/6157"
   ]
  },
  {
   "cell_type": "markdown",
   "metadata": {},
   "source": [
    "The missing values for the 'job' feature are also missing by design since its source variables were only asked to respondents who were older than 15. The summary statistics for age confirms it. "
   ]
  },
  {
   "cell_type": "markdown",
   "metadata": {},
   "source": [
    "*'poverty'*"
   ]
  },
  {
   "cell_type": "code",
   "execution_count": 85,
   "metadata": {},
   "outputs": [],
   "source": [
    "povnull = sipp_noncitizens[sipp_noncitizens['poverty'].isnull()]"
   ]
  },
  {
   "cell_type": "code",
   "execution_count": 86,
   "metadata": {},
   "outputs": [
    {
     "data": {
      "text/plain": [
       "count    13.000000\n",
       "mean      6.692308\n",
       "std       4.553105\n",
       "min       0.000000\n",
       "25%       5.000000\n",
       "50%       7.000000\n",
       "75%      10.000000\n",
       "max      13.000000\n",
       "Name: tage, dtype: float64"
      ]
     },
     "execution_count": 86,
     "metadata": {},
     "output_type": "execute_result"
    }
   ],
   "source": [
    "povnull.tage.describe()"
   ]
  },
  {
   "cell_type": "markdown",
   "metadata": {},
   "source": [
    "The poverty measure is missing values for everyone who is younger than 15 years-old. This is because the poverty threshold measure only includes respondents who are at least 15. We can assign them their household's poverty value."
   ]
  },
  {
   "cell_type": "code",
   "execution_count": 87,
   "metadata": {},
   "outputs": [],
   "source": [
    "unauth = sipp2008w2_all[sipp2008w2_all['unauthorized'].isnull()]"
   ]
  },
  {
   "cell_type": "code",
   "execution_count": 88,
   "metadata": {},
   "outputs": [
    {
     "data": {
      "text/plain": [
       "92347"
      ]
     },
     "execution_count": 88,
     "metadata": {},
     "output_type": "execute_result"
    }
   ],
   "source": [
    "len(unauth)"
   ]
  },
  {
   "cell_type": "code",
   "execution_count": 89,
   "metadata": {},
   "outputs": [
    {
     "data": {
      "text/plain": [
       "6157"
      ]
     },
     "execution_count": 89,
     "metadata": {},
     "output_type": "execute_result"
    }
   ],
   "source": [
    "98504-92347"
   ]
  },
  {
   "cell_type": "code",
   "execution_count": null,
   "metadata": {},
   "outputs": [],
   "source": []
  },
  {
   "cell_type": "code",
   "execution_count": 90,
   "metadata": {},
   "outputs": [],
   "source": [
    "sipp_noncitizens = sipp2008w2_all[sipp2008w2_all['unauthorized'].notnull()]"
   ]
  },
  {
   "cell_type": "code",
   "execution_count": 91,
   "metadata": {},
   "outputs": [],
   "source": [
    "sipp_noncitizens['poverty'] = sipp_noncitizens['poverty'].fillna(sipp_noncitizens.groupby(['ssuid'])['poverty'].transform('max'))"
   ]
  },
  {
   "cell_type": "code",
   "execution_count": 92,
   "metadata": {},
   "outputs": [],
   "source": [
    "analysis_features['poverty'] = analysis_features['poverty'].fillna(analysis_features.groupby(['ssuid'])['poverty'].transform('max'))"
   ]
  },
  {
   "cell_type": "code",
   "execution_count": 93,
   "metadata": {},
   "outputs": [
    {
     "data": {
      "text/plain": [
       "2"
      ]
     },
     "execution_count": 93,
     "metadata": {},
     "output_type": "execute_result"
    }
   ],
   "source": [
    "sipp_noncitizens.poverty.isnull().sum()"
   ]
  },
  {
   "cell_type": "code",
   "execution_count": 94,
   "metadata": {},
   "outputs": [
    {
     "data": {
      "text/plain": [
       "165"
      ]
     },
     "execution_count": 94,
     "metadata": {},
     "output_type": "execute_result"
    }
   ],
   "source": [
    "sipp2008w2_all.poverty.isnull().sum()"
   ]
  },
  {
   "cell_type": "code",
   "execution_count": 95,
   "metadata": {},
   "outputs": [],
   "source": [
    "sipp_noncitnull = sipp_noncitizens[sipp_noncitizens['poverty'].isnull()]"
   ]
  },
  {
   "cell_type": "code",
   "execution_count": 96,
   "metadata": {},
   "outputs": [
    {
     "data": {
      "text/html": [
       "<div>\n",
       "<style scoped>\n",
       "    .dataframe tbody tr th:only-of-type {\n",
       "        vertical-align: middle;\n",
       "    }\n",
       "\n",
       "    .dataframe tbody tr th {\n",
       "        vertical-align: top;\n",
       "    }\n",
       "\n",
       "    .dataframe thead th {\n",
       "        text-align: right;\n",
       "    }\n",
       "</style>\n",
       "<table border=\"1\" class=\"dataframe\">\n",
       "  <thead>\n",
       "    <tr style=\"text-align: right;\">\n",
       "      <th></th>\n",
       "      <th>ssuid_x</th>\n",
       "      <th>spanel</th>\n",
       "      <th>swave</th>\n",
       "      <th>srefmon_x</th>\n",
       "      <th>epppnum_x</th>\n",
       "      <th>repwgt1</th>\n",
       "      <th>repwgt2</th>\n",
       "      <th>repwgt3</th>\n",
       "      <th>repwgt4</th>\n",
       "      <th>repwgt5</th>\n",
       "      <th>...</th>\n",
       "      <th>english</th>\n",
       "      <th>english_labels</th>\n",
       "      <th>educ</th>\n",
       "      <th>educ_labels</th>\n",
       "      <th>move_us</th>\n",
       "      <th>years_us</th>\n",
       "      <th>legalsign</th>\n",
       "      <th>unauthorized</th>\n",
       "      <th>legal</th>\n",
       "      <th>legal_labels</th>\n",
       "    </tr>\n",
       "  </thead>\n",
       "  <tbody>\n",
       "    <tr>\n",
       "      <th>23628</th>\n",
       "      <td>365925754193</td>\n",
       "      <td>2008</td>\n",
       "      <td>2</td>\n",
       "      <td>4</td>\n",
       "      <td>0201</td>\n",
       "      <td>3155.1211</td>\n",
       "      <td>1042.1225</td>\n",
       "      <td>960.0729</td>\n",
       "      <td>960.4783</td>\n",
       "      <td>1024.6831</td>\n",
       "      <td>...</td>\n",
       "      <td>3.0</td>\n",
       "      <td>Very well</td>\n",
       "      <td>NaN</td>\n",
       "      <td>NaN</td>\n",
       "      <td>NaN</td>\n",
       "      <td>NaN</td>\n",
       "      <td>1.0</td>\n",
       "      <td>0.0</td>\n",
       "      <td>1.0</td>\n",
       "      <td>Legal Noncitizen</td>\n",
       "    </tr>\n",
       "    <tr>\n",
       "      <th>34139</th>\n",
       "      <td>462344370392</td>\n",
       "      <td>2008</td>\n",
       "      <td>2</td>\n",
       "      <td>4</td>\n",
       "      <td>0202</td>\n",
       "      <td>5852.6214</td>\n",
       "      <td>6092.3800</td>\n",
       "      <td>6438.4132</td>\n",
       "      <td>2132.4499</td>\n",
       "      <td>5990.1316</td>\n",
       "      <td>...</td>\n",
       "      <td>NaN</td>\n",
       "      <td>NaN</td>\n",
       "      <td>NaN</td>\n",
       "      <td>NaN</td>\n",
       "      <td>NaN</td>\n",
       "      <td>NaN</td>\n",
       "      <td>1.0</td>\n",
       "      <td>0.0</td>\n",
       "      <td>1.0</td>\n",
       "      <td>Legal Noncitizen</td>\n",
       "    </tr>\n",
       "  </tbody>\n",
       "</table>\n",
       "<p>2 rows × 210 columns</p>\n",
       "</div>"
      ],
      "text/plain": [
       "            ssuid_x  spanel  swave  srefmon_x epppnum_x    repwgt1    repwgt2  \\\n",
       "23628  365925754193    2008      2          4      0201  3155.1211  1042.1225   \n",
       "34139  462344370392    2008      2          4      0202  5852.6214  6092.3800   \n",
       "\n",
       "         repwgt3    repwgt4    repwgt5  ...  english  english_labels  educ  \\\n",
       "23628   960.0729   960.4783  1024.6831  ...      3.0       Very well   NaN   \n",
       "34139  6438.4132  2132.4499  5990.1316  ...      NaN             NaN   NaN   \n",
       "\n",
       "       educ_labels  move_us  years_us  legalsign  unauthorized  legal  \\\n",
       "23628          NaN      NaN       NaN        1.0           0.0    1.0   \n",
       "34139          NaN      NaN       NaN        1.0           0.0    1.0   \n",
       "\n",
       "           legal_labels  \n",
       "23628  Legal Noncitizen  \n",
       "34139  Legal Noncitizen  \n",
       "\n",
       "[2 rows x 210 columns]"
      ]
     },
     "execution_count": 96,
     "metadata": {},
     "output_type": "execute_result"
    }
   ],
   "source": [
    "sipp_noncitnull"
   ]
  },
  {
   "cell_type": "code",
   "execution_count": 97,
   "metadata": {
    "scrolled": true
   },
   "outputs": [
    {
     "data": {
      "text/plain": [
       "23628    0.0\n",
       "34139    0.0\n",
       "Name: unauthorized, dtype: float64"
      ]
     },
     "execution_count": 97,
     "metadata": {},
     "output_type": "execute_result"
    }
   ],
   "source": [
    "sipp_noncitnull['unauthorized']"
   ]
  },
  {
   "cell_type": "code",
   "execution_count": 98,
   "metadata": {},
   "outputs": [
    {
     "data": {
      "text/plain": [
       "10    1\n",
       "0     1\n",
       "Name: tage, dtype: int64"
      ]
     },
     "execution_count": 98,
     "metadata": {},
     "output_type": "execute_result"
    }
   ],
   "source": [
    "sipp_noncitnull.tage.value_counts()"
   ]
  },
  {
   "cell_type": "code",
   "execution_count": 99,
   "metadata": {},
   "outputs": [
    {
     "data": {
      "text/html": [
       "<div>\n",
       "<style scoped>\n",
       "    .dataframe tbody tr th:only-of-type {\n",
       "        vertical-align: middle;\n",
       "    }\n",
       "\n",
       "    .dataframe tbody tr th {\n",
       "        vertical-align: top;\n",
       "    }\n",
       "\n",
       "    .dataframe thead th {\n",
       "        text-align: right;\n",
       "    }\n",
       "</style>\n",
       "<table border=\"1\" class=\"dataframe\">\n",
       "  <thead>\n",
       "    <tr style=\"text-align: right;\">\n",
       "      <th>ehiowner</th>\n",
       "      <th>1</th>\n",
       "      <th>2</th>\n",
       "      <th>3</th>\n",
       "      <th>4</th>\n",
       "    </tr>\n",
       "    <tr>\n",
       "      <th>rprvhi</th>\n",
       "      <th></th>\n",
       "      <th></th>\n",
       "      <th></th>\n",
       "      <th></th>\n",
       "    </tr>\n",
       "  </thead>\n",
       "  <tbody>\n",
       "    <tr>\n",
       "      <th>-1</th>\n",
       "      <td>0</td>\n",
       "      <td>0</td>\n",
       "      <td>0</td>\n",
       "      <td>32146</td>\n",
       "    </tr>\n",
       "    <tr>\n",
       "      <th>1</th>\n",
       "      <td>26727</td>\n",
       "      <td>26467</td>\n",
       "      <td>972</td>\n",
       "      <td>0</td>\n",
       "    </tr>\n",
       "    <tr>\n",
       "      <th>2</th>\n",
       "      <td>6231</td>\n",
       "      <td>2117</td>\n",
       "      <td>294</td>\n",
       "      <td>0</td>\n",
       "    </tr>\n",
       "    <tr>\n",
       "      <th>3</th>\n",
       "      <td>892</td>\n",
       "      <td>988</td>\n",
       "      <td>48</td>\n",
       "      <td>0</td>\n",
       "    </tr>\n",
       "    <tr>\n",
       "      <th>4</th>\n",
       "      <td>785</td>\n",
       "      <td>791</td>\n",
       "      <td>46</td>\n",
       "      <td>0</td>\n",
       "    </tr>\n",
       "  </tbody>\n",
       "</table>\n",
       "</div>"
      ],
      "text/plain": [
       "ehiowner      1      2    3      4\n",
       "rprvhi                            \n",
       "-1            0      0    0  32146\n",
       " 1        26727  26467  972      0\n",
       " 2         6231   2117  294      0\n",
       " 3          892    988   48      0\n",
       " 4          785    791   46      0"
      ]
     },
     "execution_count": 99,
     "metadata": {},
     "output_type": "execute_result"
    }
   ],
   "source": [
    "pd.crosstab(sipp2008w2_all['rprvhi'], sipp2008w2_all['ehiowner'])"
   ]
  },
  {
   "cell_type": "code",
   "execution_count": 100,
   "metadata": {},
   "outputs": [],
   "source": [
    "del educnull, yearsus_null, povnull, jobnull, engnull"
   ]
  },
  {
   "cell_type": "markdown",
   "metadata": {},
   "source": [
    "I am going to drop the missing values in the target and feature set since the data are missing not at random."
   ]
  },
  {
   "cell_type": "code",
   "execution_count": 101,
   "metadata": {},
   "outputs": [],
   "source": [
    "sipp_noncitizens.dropna(inplace = True)"
   ]
  },
  {
   "cell_type": "markdown",
   "metadata": {},
   "source": [
    "## Getting to Know the Prospective Features\n",
    "\n",
    "Let us investigate the features and examine their distributions and relationships with the target variable, 'unauthorized'."
   ]
  },
  {
   "cell_type": "code",
   "execution_count": 102,
   "metadata": {},
   "outputs": [
    {
     "data": {
      "text/html": [
       "<div>\n",
       "<style scoped>\n",
       "    .dataframe tbody tr th:only-of-type {\n",
       "        vertical-align: middle;\n",
       "    }\n",
       "\n",
       "    .dataframe tbody tr th {\n",
       "        vertical-align: top;\n",
       "    }\n",
       "\n",
       "    .dataframe thead th {\n",
       "        text-align: right;\n",
       "    }\n",
       "</style>\n",
       "<table border=\"1\" class=\"dataframe\">\n",
       "  <thead>\n",
       "    <tr style=\"text-align: right;\">\n",
       "      <th></th>\n",
       "      <th>spanel</th>\n",
       "      <th>swave</th>\n",
       "      <th>srefmon_x</th>\n",
       "      <th>repwgt1</th>\n",
       "      <th>repwgt2</th>\n",
       "      <th>repwgt3</th>\n",
       "      <th>repwgt4</th>\n",
       "      <th>repwgt5</th>\n",
       "      <th>repwgt6</th>\n",
       "      <th>repwgt7</th>\n",
       "      <th>...</th>\n",
       "      <th>ageg_gender</th>\n",
       "      <th>age_gender_insurance</th>\n",
       "      <th>region_birth</th>\n",
       "      <th>english</th>\n",
       "      <th>educ</th>\n",
       "      <th>move_us</th>\n",
       "      <th>years_us</th>\n",
       "      <th>legalsign</th>\n",
       "      <th>unauthorized</th>\n",
       "      <th>legal</th>\n",
       "    </tr>\n",
       "  </thead>\n",
       "  <tbody>\n",
       "    <tr>\n",
       "      <th>count</th>\n",
       "      <td>5657.0</td>\n",
       "      <td>5657.0</td>\n",
       "      <td>5657.0</td>\n",
       "      <td>5657.000000</td>\n",
       "      <td>5657.000000</td>\n",
       "      <td>5657.000000</td>\n",
       "      <td>5657.000000</td>\n",
       "      <td>5657.000000</td>\n",
       "      <td>5657.000000</td>\n",
       "      <td>5657.000000</td>\n",
       "      <td>...</td>\n",
       "      <td>5657.000000</td>\n",
       "      <td>5657.000000</td>\n",
       "      <td>5657.000000</td>\n",
       "      <td>5657.000000</td>\n",
       "      <td>5657.000000</td>\n",
       "      <td>5657.000000</td>\n",
       "      <td>5657.000000</td>\n",
       "      <td>5657.000000</td>\n",
       "      <td>5657.000000</td>\n",
       "      <td>5657.000000</td>\n",
       "    </tr>\n",
       "    <tr>\n",
       "      <th>mean</th>\n",
       "      <td>2008.0</td>\n",
       "      <td>2.0</td>\n",
       "      <td>4.0</td>\n",
       "      <td>3297.578124</td>\n",
       "      <td>3286.743760</td>\n",
       "      <td>3299.277440</td>\n",
       "      <td>3318.814845</td>\n",
       "      <td>3330.430922</td>\n",
       "      <td>3280.632294</td>\n",
       "      <td>3293.707849</td>\n",
       "      <td>...</td>\n",
       "      <td>1.413470</td>\n",
       "      <td>3.650698</td>\n",
       "      <td>8.438925</td>\n",
       "      <td>1.864416</td>\n",
       "      <td>7.142832</td>\n",
       "      <td>1998.009192</td>\n",
       "      <td>9.990808</td>\n",
       "      <td>0.232455</td>\n",
       "      <td>0.272936</td>\n",
       "      <td>0.727064</td>\n",
       "    </tr>\n",
       "    <tr>\n",
       "      <th>std</th>\n",
       "      <td>0.0</td>\n",
       "      <td>0.0</td>\n",
       "      <td>0.0</td>\n",
       "      <td>2317.471404</td>\n",
       "      <td>2200.900456</td>\n",
       "      <td>2280.082405</td>\n",
       "      <td>2303.065756</td>\n",
       "      <td>2262.891016</td>\n",
       "      <td>2275.818815</td>\n",
       "      <td>2244.517170</td>\n",
       "      <td>...</td>\n",
       "      <td>1.704573</td>\n",
       "      <td>6.648449</td>\n",
       "      <td>2.412586</td>\n",
       "      <td>1.128032</td>\n",
       "      <td>3.893849</td>\n",
       "      <td>9.641006</td>\n",
       "      <td>9.641006</td>\n",
       "      <td>0.422435</td>\n",
       "      <td>0.445508</td>\n",
       "      <td>0.445508</td>\n",
       "    </tr>\n",
       "    <tr>\n",
       "      <th>min</th>\n",
       "      <td>2008.0</td>\n",
       "      <td>2.0</td>\n",
       "      <td>4.0</td>\n",
       "      <td>341.180100</td>\n",
       "      <td>191.391800</td>\n",
       "      <td>208.079100</td>\n",
       "      <td>324.597200</td>\n",
       "      <td>305.051400</td>\n",
       "      <td>226.784400</td>\n",
       "      <td>237.727000</td>\n",
       "      <td>...</td>\n",
       "      <td>0.000000</td>\n",
       "      <td>0.000000</td>\n",
       "      <td>2.000000</td>\n",
       "      <td>0.000000</td>\n",
       "      <td>0.000000</td>\n",
       "      <td>1960.000000</td>\n",
       "      <td>0.000000</td>\n",
       "      <td>0.000000</td>\n",
       "      <td>0.000000</td>\n",
       "      <td>0.000000</td>\n",
       "    </tr>\n",
       "    <tr>\n",
       "      <th>25%</th>\n",
       "      <td>2008.0</td>\n",
       "      <td>2.0</td>\n",
       "      <td>4.0</td>\n",
       "      <td>1542.688700</td>\n",
       "      <td>1549.851200</td>\n",
       "      <td>1542.180000</td>\n",
       "      <td>1558.986700</td>\n",
       "      <td>1553.959400</td>\n",
       "      <td>1565.929300</td>\n",
       "      <td>1498.272700</td>\n",
       "      <td>...</td>\n",
       "      <td>0.000000</td>\n",
       "      <td>0.000000</td>\n",
       "      <td>7.000000</td>\n",
       "      <td>1.000000</td>\n",
       "      <td>3.000000</td>\n",
       "      <td>1994.000000</td>\n",
       "      <td>3.000000</td>\n",
       "      <td>0.000000</td>\n",
       "      <td>0.000000</td>\n",
       "      <td>0.000000</td>\n",
       "    </tr>\n",
       "    <tr>\n",
       "      <th>50%</th>\n",
       "      <td>2008.0</td>\n",
       "      <td>2.0</td>\n",
       "      <td>4.0</td>\n",
       "      <td>2571.685700</td>\n",
       "      <td>2629.156000</td>\n",
       "      <td>2601.370400</td>\n",
       "      <td>2656.047400</td>\n",
       "      <td>2682.197300</td>\n",
       "      <td>2604.759900</td>\n",
       "      <td>2588.381400</td>\n",
       "      <td>...</td>\n",
       "      <td>0.000000</td>\n",
       "      <td>0.000000</td>\n",
       "      <td>10.000000</td>\n",
       "      <td>2.000000</td>\n",
       "      <td>8.000000</td>\n",
       "      <td>2001.000000</td>\n",
       "      <td>7.000000</td>\n",
       "      <td>0.000000</td>\n",
       "      <td>0.000000</td>\n",
       "      <td>1.000000</td>\n",
       "    </tr>\n",
       "    <tr>\n",
       "      <th>75%</th>\n",
       "      <td>2008.0</td>\n",
       "      <td>2.0</td>\n",
       "      <td>4.0</td>\n",
       "      <td>4618.785500</td>\n",
       "      <td>4636.109400</td>\n",
       "      <td>4672.705900</td>\n",
       "      <td>4681.050700</td>\n",
       "      <td>4709.128200</td>\n",
       "      <td>4522.817500</td>\n",
       "      <td>4672.693500</td>\n",
       "      <td>...</td>\n",
       "      <td>3.000000</td>\n",
       "      <td>4.000000</td>\n",
       "      <td>10.000000</td>\n",
       "      <td>3.000000</td>\n",
       "      <td>10.000000</td>\n",
       "      <td>2005.000000</td>\n",
       "      <td>14.000000</td>\n",
       "      <td>0.000000</td>\n",
       "      <td>1.000000</td>\n",
       "      <td>1.000000</td>\n",
       "    </tr>\n",
       "    <tr>\n",
       "      <th>max</th>\n",
       "      <td>2008.0</td>\n",
       "      <td>2.0</td>\n",
       "      <td>4.0</td>\n",
       "      <td>32853.031900</td>\n",
       "      <td>18223.961500</td>\n",
       "      <td>31864.727800</td>\n",
       "      <td>35336.253400</td>\n",
       "      <td>19061.153400</td>\n",
       "      <td>17597.529100</td>\n",
       "      <td>16922.654200</td>\n",
       "      <td>...</td>\n",
       "      <td>5.000000</td>\n",
       "      <td>30.000000</td>\n",
       "      <td>12.000000</td>\n",
       "      <td>3.000000</td>\n",
       "      <td>14.000000</td>\n",
       "      <td>2008.000000</td>\n",
       "      <td>48.000000</td>\n",
       "      <td>1.000000</td>\n",
       "      <td>1.000000</td>\n",
       "      <td>1.000000</td>\n",
       "    </tr>\n",
       "  </tbody>\n",
       "</table>\n",
       "<p>8 rows × 197 columns</p>\n",
       "</div>"
      ],
      "text/plain": [
       "       spanel   swave  srefmon_x       repwgt1       repwgt2       repwgt3  \\\n",
       "count  5657.0  5657.0     5657.0   5657.000000   5657.000000   5657.000000   \n",
       "mean   2008.0     2.0        4.0   3297.578124   3286.743760   3299.277440   \n",
       "std       0.0     0.0        0.0   2317.471404   2200.900456   2280.082405   \n",
       "min    2008.0     2.0        4.0    341.180100    191.391800    208.079100   \n",
       "25%    2008.0     2.0        4.0   1542.688700   1549.851200   1542.180000   \n",
       "50%    2008.0     2.0        4.0   2571.685700   2629.156000   2601.370400   \n",
       "75%    2008.0     2.0        4.0   4618.785500   4636.109400   4672.705900   \n",
       "max    2008.0     2.0        4.0  32853.031900  18223.961500  31864.727800   \n",
       "\n",
       "            repwgt4       repwgt5       repwgt6       repwgt7  ...  \\\n",
       "count   5657.000000   5657.000000   5657.000000   5657.000000  ...   \n",
       "mean    3318.814845   3330.430922   3280.632294   3293.707849  ...   \n",
       "std     2303.065756   2262.891016   2275.818815   2244.517170  ...   \n",
       "min      324.597200    305.051400    226.784400    237.727000  ...   \n",
       "25%     1558.986700   1553.959400   1565.929300   1498.272700  ...   \n",
       "50%     2656.047400   2682.197300   2604.759900   2588.381400  ...   \n",
       "75%     4681.050700   4709.128200   4522.817500   4672.693500  ...   \n",
       "max    35336.253400  19061.153400  17597.529100  16922.654200  ...   \n",
       "\n",
       "       ageg_gender  age_gender_insurance  region_birth      english  \\\n",
       "count  5657.000000           5657.000000   5657.000000  5657.000000   \n",
       "mean      1.413470              3.650698      8.438925     1.864416   \n",
       "std       1.704573              6.648449      2.412586     1.128032   \n",
       "min       0.000000              0.000000      2.000000     0.000000   \n",
       "25%       0.000000              0.000000      7.000000     1.000000   \n",
       "50%       0.000000              0.000000     10.000000     2.000000   \n",
       "75%       3.000000              4.000000     10.000000     3.000000   \n",
       "max       5.000000             30.000000     12.000000     3.000000   \n",
       "\n",
       "              educ      move_us     years_us    legalsign  unauthorized  \\\n",
       "count  5657.000000  5657.000000  5657.000000  5657.000000   5657.000000   \n",
       "mean      7.142832  1998.009192     9.990808     0.232455      0.272936   \n",
       "std       3.893849     9.641006     9.641006     0.422435      0.445508   \n",
       "min       0.000000  1960.000000     0.000000     0.000000      0.000000   \n",
       "25%       3.000000  1994.000000     3.000000     0.000000      0.000000   \n",
       "50%       8.000000  2001.000000     7.000000     0.000000      0.000000   \n",
       "75%      10.000000  2005.000000    14.000000     0.000000      1.000000   \n",
       "max      14.000000  2008.000000    48.000000     1.000000      1.000000   \n",
       "\n",
       "             legal  \n",
       "count  5657.000000  \n",
       "mean      0.727064  \n",
       "std       0.445508  \n",
       "min       0.000000  \n",
       "25%       0.000000  \n",
       "50%       1.000000  \n",
       "75%       1.000000  \n",
       "max       1.000000  \n",
       "\n",
       "[8 rows x 197 columns]"
      ]
     },
     "execution_count": 102,
     "metadata": {},
     "output_type": "execute_result"
    }
   ],
   "source": [
    "sipp_noncitizens.describe()"
   ]
  },
  {
   "cell_type": "code",
   "execution_count": 103,
   "metadata": {
    "scrolled": true
   },
   "outputs": [
    {
     "data": {
      "text/html": [
       "<div>\n",
       "<style scoped>\n",
       "    .dataframe tbody tr th:only-of-type {\n",
       "        vertical-align: middle;\n",
       "    }\n",
       "\n",
       "    .dataframe tbody tr th {\n",
       "        vertical-align: top;\n",
       "    }\n",
       "\n",
       "    .dataframe thead th {\n",
       "        text-align: right;\n",
       "    }\n",
       "</style>\n",
       "<table border=\"1\" class=\"dataframe\">\n",
       "  <thead>\n",
       "    <tr style=\"text-align: right;\">\n",
       "      <th></th>\n",
       "      <th>pid</th>\n",
       "      <th>unauthorized</th>\n",
       "      <th>legal</th>\n",
       "      <th>num_hh</th>\n",
       "      <th>family_size</th>\n",
       "      <th>hh_related</th>\n",
       "      <th>hh_workers</th>\n",
       "      <th>job</th>\n",
       "      <th>insurance</th>\n",
       "      <th>female</th>\n",
       "      <th>...</th>\n",
       "      <th>poverty</th>\n",
       "      <th>age_group</th>\n",
       "      <th>ageg_gender</th>\n",
       "      <th>age_gender_insurance</th>\n",
       "      <th>region_birth</th>\n",
       "      <th>english</th>\n",
       "      <th>educ</th>\n",
       "      <th>years_us</th>\n",
       "      <th>tfipsst</th>\n",
       "      <th>tage</th>\n",
       "    </tr>\n",
       "  </thead>\n",
       "  <tbody>\n",
       "    <tr>\n",
       "      <th>count</th>\n",
       "      <td>9.850400e+04</td>\n",
       "      <td>6157.000000</td>\n",
       "      <td>98504.000000</td>\n",
       "      <td>98504.000000</td>\n",
       "      <td>98504.000000</td>\n",
       "      <td>98504.000000</td>\n",
       "      <td>98504.000000</td>\n",
       "      <td>77747.000000</td>\n",
       "      <td>98504.000000</td>\n",
       "      <td>98504.000000</td>\n",
       "      <td>...</td>\n",
       "      <td>98504.000000</td>\n",
       "      <td>98504.000000</td>\n",
       "      <td>98504.000000</td>\n",
       "      <td>98504.000000</td>\n",
       "      <td>98504.000000</td>\n",
       "      <td>91729.000000</td>\n",
       "      <td>77747.000000</td>\n",
       "      <td>11145.00000</td>\n",
       "      <td>98504.000000</td>\n",
       "      <td>98504.000000</td>\n",
       "    </tr>\n",
       "    <tr>\n",
       "      <th>mean</th>\n",
       "      <td>5.534868e+15</td>\n",
       "      <td>0.250771</td>\n",
       "      <td>1.921820</td>\n",
       "      <td>3.452449</td>\n",
       "      <td>3.218428</td>\n",
       "      <td>0.875284</td>\n",
       "      <td>1.582464</td>\n",
       "      <td>2.351088</td>\n",
       "      <td>3.082707</td>\n",
       "      <td>0.519025</td>\n",
       "      <td>...</td>\n",
       "      <td>44.733497</td>\n",
       "      <td>2.587134</td>\n",
       "      <td>1.383274</td>\n",
       "      <td>4.752599</td>\n",
       "      <td>4.093001</td>\n",
       "      <td>2.877574</td>\n",
       "      <td>8.990328</td>\n",
       "      <td>13.90830</td>\n",
       "      <td>28.642553</td>\n",
       "      <td>37.196388</td>\n",
       "    </tr>\n",
       "    <tr>\n",
       "      <th>std</th>\n",
       "      <td>2.637884e+15</td>\n",
       "      <td>0.433492</td>\n",
       "      <td>0.321586</td>\n",
       "      <td>1.827870</td>\n",
       "      <td>1.761630</td>\n",
       "      <td>0.330398</td>\n",
       "      <td>1.069915</td>\n",
       "      <td>1.902475</td>\n",
       "      <td>1.926734</td>\n",
       "      <td>0.499640</td>\n",
       "      <td>...</td>\n",
       "      <td>46.116993</td>\n",
       "      <td>1.940430</td>\n",
       "      <td>1.927948</td>\n",
       "      <td>8.728368</td>\n",
       "      <td>4.688520</td>\n",
       "      <td>0.492057</td>\n",
       "      <td>2.863846</td>\n",
       "      <td>12.53429</td>\n",
       "      <td>16.214624</td>\n",
       "      <td>22.767129</td>\n",
       "    </tr>\n",
       "    <tr>\n",
       "      <th>min</th>\n",
       "      <td>1.912800e+14</td>\n",
       "      <td>0.000000</td>\n",
       "      <td>0.000000</td>\n",
       "      <td>1.000000</td>\n",
       "      <td>1.000000</td>\n",
       "      <td>0.000000</td>\n",
       "      <td>0.000000</td>\n",
       "      <td>0.000000</td>\n",
       "      <td>1.000000</td>\n",
       "      <td>0.000000</td>\n",
       "      <td>...</td>\n",
       "      <td>-189.429508</td>\n",
       "      <td>0.000000</td>\n",
       "      <td>0.000000</td>\n",
       "      <td>0.000000</td>\n",
       "      <td>1.000000</td>\n",
       "      <td>0.000000</td>\n",
       "      <td>0.000000</td>\n",
       "      <td>0.00000</td>\n",
       "      <td>1.000000</td>\n",
       "      <td>0.000000</td>\n",
       "    </tr>\n",
       "    <tr>\n",
       "      <th>25%</th>\n",
       "      <td>3.859251e+15</td>\n",
       "      <td>0.000000</td>\n",
       "      <td>2.000000</td>\n",
       "      <td>2.000000</td>\n",
       "      <td>2.000000</td>\n",
       "      <td>1.000000</td>\n",
       "      <td>1.000000</td>\n",
       "      <td>0.000000</td>\n",
       "      <td>2.000000</td>\n",
       "      <td>0.000000</td>\n",
       "      <td>...</td>\n",
       "      <td>17.064011</td>\n",
       "      <td>0.000000</td>\n",
       "      <td>0.000000</td>\n",
       "      <td>0.000000</td>\n",
       "      <td>1.000000</td>\n",
       "      <td>3.000000</td>\n",
       "      <td>8.000000</td>\n",
       "      <td>5.00000</td>\n",
       "      <td>13.000000</td>\n",
       "      <td>17.000000</td>\n",
       "    </tr>\n",
       "    <tr>\n",
       "      <th>50%</th>\n",
       "      <td>5.664549e+15</td>\n",
       "      <td>0.000000</td>\n",
       "      <td>2.000000</td>\n",
       "      <td>3.000000</td>\n",
       "      <td>3.000000</td>\n",
       "      <td>1.000000</td>\n",
       "      <td>2.000000</td>\n",
       "      <td>4.000000</td>\n",
       "      <td>2.000000</td>\n",
       "      <td>1.000000</td>\n",
       "      <td>...</td>\n",
       "      <td>33.595266</td>\n",
       "      <td>3.000000</td>\n",
       "      <td>0.000000</td>\n",
       "      <td>0.000000</td>\n",
       "      <td>1.000000</td>\n",
       "      <td>3.000000</td>\n",
       "      <td>9.000000</td>\n",
       "      <td>10.00000</td>\n",
       "      <td>29.000000</td>\n",
       "      <td>37.000000</td>\n",
       "    </tr>\n",
       "    <tr>\n",
       "      <th>75%</th>\n",
       "      <td>7.399254e+15</td>\n",
       "      <td>1.000000</td>\n",
       "      <td>2.000000</td>\n",
       "      <td>4.000000</td>\n",
       "      <td>4.000000</td>\n",
       "      <td>1.000000</td>\n",
       "      <td>2.000000</td>\n",
       "      <td>4.000000</td>\n",
       "      <td>6.000000</td>\n",
       "      <td>1.000000</td>\n",
       "      <td>...</td>\n",
       "      <td>57.677311</td>\n",
       "      <td>5.000000</td>\n",
       "      <td>3.000000</td>\n",
       "      <td>6.000000</td>\n",
       "      <td>10.000000</td>\n",
       "      <td>3.000000</td>\n",
       "      <td>11.000000</td>\n",
       "      <td>21.00000</td>\n",
       "      <td>42.000000</td>\n",
       "      <td>55.000000</td>\n",
       "    </tr>\n",
       "    <tr>\n",
       "      <th>max</th>\n",
       "      <td>9.559590e+15</td>\n",
       "      <td>1.000000</td>\n",
       "      <td>2.000000</td>\n",
       "      <td>17.000000</td>\n",
       "      <td>15.000000</td>\n",
       "      <td>1.000000</td>\n",
       "      <td>8.000000</td>\n",
       "      <td>4.000000</td>\n",
       "      <td>6.000000</td>\n",
       "      <td>1.000000</td>\n",
       "      <td>...</td>\n",
       "      <td>905.611416</td>\n",
       "      <td>5.000000</td>\n",
       "      <td>5.000000</td>\n",
       "      <td>30.000000</td>\n",
       "      <td>12.000000</td>\n",
       "      <td>3.000000</td>\n",
       "      <td>14.000000</td>\n",
       "      <td>48.00000</td>\n",
       "      <td>56.000000</td>\n",
       "      <td>85.000000</td>\n",
       "    </tr>\n",
       "  </tbody>\n",
       "</table>\n",
       "<p>8 rows × 22 columns</p>\n",
       "</div>"
      ],
      "text/plain": [
       "                pid  unauthorized         legal        num_hh   family_size  \\\n",
       "count  9.850400e+04   6157.000000  98504.000000  98504.000000  98504.000000   \n",
       "mean   5.534868e+15      0.250771      1.921820      3.452449      3.218428   \n",
       "std    2.637884e+15      0.433492      0.321586      1.827870      1.761630   \n",
       "min    1.912800e+14      0.000000      0.000000      1.000000      1.000000   \n",
       "25%    3.859251e+15      0.000000      2.000000      2.000000      2.000000   \n",
       "50%    5.664549e+15      0.000000      2.000000      3.000000      3.000000   \n",
       "75%    7.399254e+15      1.000000      2.000000      4.000000      4.000000   \n",
       "max    9.559590e+15      1.000000      2.000000     17.000000     15.000000   \n",
       "\n",
       "         hh_related    hh_workers           job     insurance        female  \\\n",
       "count  98504.000000  98504.000000  77747.000000  98504.000000  98504.000000   \n",
       "mean       0.875284      1.582464      2.351088      3.082707      0.519025   \n",
       "std        0.330398      1.069915      1.902475      1.926734      0.499640   \n",
       "min        0.000000      0.000000      0.000000      1.000000      0.000000   \n",
       "25%        1.000000      1.000000      0.000000      2.000000      0.000000   \n",
       "50%        1.000000      2.000000      4.000000      2.000000      1.000000   \n",
       "75%        1.000000      2.000000      4.000000      6.000000      1.000000   \n",
       "max        1.000000      8.000000      4.000000      6.000000      1.000000   \n",
       "\n",
       "       ...       poverty     age_group   ageg_gender  age_gender_insurance  \\\n",
       "count  ...  98504.000000  98504.000000  98504.000000          98504.000000   \n",
       "mean   ...     44.733497      2.587134      1.383274              4.752599   \n",
       "std    ...     46.116993      1.940430      1.927948              8.728368   \n",
       "min    ...   -189.429508      0.000000      0.000000              0.000000   \n",
       "25%    ...     17.064011      0.000000      0.000000              0.000000   \n",
       "50%    ...     33.595266      3.000000      0.000000              0.000000   \n",
       "75%    ...     57.677311      5.000000      3.000000              6.000000   \n",
       "max    ...    905.611416      5.000000      5.000000             30.000000   \n",
       "\n",
       "       region_birth       english          educ     years_us       tfipsst  \\\n",
       "count  98504.000000  91729.000000  77747.000000  11145.00000  98504.000000   \n",
       "mean       4.093001      2.877574      8.990328     13.90830     28.642553   \n",
       "std        4.688520      0.492057      2.863846     12.53429     16.214624   \n",
       "min        1.000000      0.000000      0.000000      0.00000      1.000000   \n",
       "25%        1.000000      3.000000      8.000000      5.00000     13.000000   \n",
       "50%        1.000000      3.000000      9.000000     10.00000     29.000000   \n",
       "75%       10.000000      3.000000     11.000000     21.00000     42.000000   \n",
       "max       12.000000      3.000000     14.000000     48.00000     56.000000   \n",
       "\n",
       "               tage  \n",
       "count  98504.000000  \n",
       "mean      37.196388  \n",
       "std       22.767129  \n",
       "min        0.000000  \n",
       "25%       17.000000  \n",
       "50%       37.000000  \n",
       "75%       55.000000  \n",
       "max       85.000000  \n",
       "\n",
       "[8 rows x 22 columns]"
      ]
     },
     "execution_count": 103,
     "metadata": {},
     "output_type": "execute_result"
    }
   ],
   "source": [
    "analysis_features.describe()"
   ]
  },
  {
   "cell_type": "markdown",
   "metadata": {},
   "source": [
    "Poverty is skewed rightward, as the mean is greater than the median. 'years_us' is skewed rightward as well. Age is also skewed to the right."
   ]
  },
  {
   "cell_type": "code",
   "execution_count": 104,
   "metadata": {},
   "outputs": [],
   "source": [
    "features_plots = sipp2008w2_all[['pid', 'ssuid', 'epppnum', 'unauthorized', 'legal', 'legal_labels', 'num_hh', \n",
    "                                 'family_size', 'hh_related', 'hh_workers', 'job', 'job_labels', 'insurance',\n",
    "                                'insurance_labels', 'female', 'hispanic_latino', 'hhcitizen', 'poverty', 'tage', 'age_group', \n",
    "                                'ageg_gender', 'age_gender_insurance', 'region_birth', 'regionbirth_labels', \n",
    "                                 'english', 'educ', 'years_us', 'tfipsst']]"
   ]
  },
  {
   "cell_type": "markdown",
   "metadata": {},
   "source": [
    "### Visualizing Relationships Between Unauthorized Status and Prospective Features\n",
    "\n",
    "Our target variable measures unauthorized status among *noncitizens,* but I am going to include American citizens in these comparisons to provide more context because comparisons between unauthorized noncitizens and lawfully present ones may seem to be smaller when comparing them to citizens. This may help shed some light on which features we should include in the models and which ones we should not when we get to that stage. "
   ]
  },
  {
   "cell_type": "markdown",
   "metadata": {},
   "source": [
    "#### Household Size, Employed Household Members, Family Poverty Level"
   ]
  },
  {
   "cell_type": "code",
   "execution_count": 105,
   "metadata": {},
   "outputs": [
    {
     "data": {
      "image/png": "[encoded data removed]",
      "text/plain": [
       "<Figure size 1440x648 with 3 Axes>"
      ]
     },
     "metadata": {
      "needs_background": "light"
     },
     "output_type": "display_data"
    }
   ],
   "source": [
    "plt.figure(figsize = (20, 9))\n",
    "plt.subplots_adjust(hspace = .1)\n",
    "plt.suptitle(\"\", fontsize = 14)\n",
    "\n",
    "plt.subplot(1, 3, 1)\n",
    "\n",
    "sns.barplot(x = 'legal', y = 'num_hh', data = features_plots, ci = 99)\n",
    "plt.ylim(0,5)\n",
    "plt.xticks(np.arange(3), ('Unauthorized', 'Legal', 'Citizen'), fontsize = 14)\n",
    "plt.yticks(fontsize = 14)\n",
    "plt.ylabel('')\n",
    "plt.xlabel('')\n",
    "plt.title('Average Household Size', fontsize = 14)\n",
    "#sw\n",
    "sns.despine()\n",
    "\n",
    "plt.subplot(1, 3, 2)\n",
    "\n",
    "sns.barplot(x = 'legal', y = 'hh_workers', data = features_plots, ci = 99)\n",
    "plt.ylim(0,5)\n",
    "plt.xticks(np.arange(3), ('Unauthorized', 'Legal', 'Citizen'), fontsize = 14)\n",
    "plt.yticks(fontsize = 14)\n",
    "plt.ylabel('')\n",
    "plt.xlabel('Immigration Status \\n \\n Error Bars measure 99% Confidence Intervals', fontsize = 14)\n",
    "plt.title('Average Number of Employed Household Members', fontsize = 14)\n",
    "\n",
    "sns.despine()\n",
    "\n",
    "plt.subplot(1, 3, 3)\n",
    "\n",
    "sns.barplot(x = 'legal', y = 'poverty', data = features_plots, ci = 99)\n",
    "plt.ylim(0,60)\n",
    "plt.xticks(np.arange(3), ('Unauthorized', 'Legal', 'Citizen'), fontsize = 14)\n",
    "plt.yticks(fontsize = 14)\n",
    "plt.ylabel('')\n",
    "plt.xlabel('')\n",
    "plt.title('Average Family Poverty Level', fontsize = 14)\n",
    "\n",
    "sns.despine()\n",
    "\n",
    "plt.show()"
   ]
  },
  {
   "cell_type": "markdown",
   "metadata": {},
   "source": [
    "The average unauthorized noncitizen are poorer and live in larger households than the average legal noncitizen and the average citizen, respectively. They also live in households where a greater number of them have jobs than legal noncitizens and citizens. A caveat: these figures were not created with survey weights and the SIPP tends to have higher estimates of respondents in poverty than other Census Bureau surveys, as noted above. "
   ]
  },
  {
   "cell_type": "markdown",
   "metadata": {},
   "source": [
    "The family poverty measure in the SIPP does not match up well with poverty measures in the U.S. Census Bureau's other surveys like the American Community Survey (ACS), the Current Population Survey (CPS), or the decennial official Census. Social scientists note that the SIPP provides lower estimates of aggregate income than the CPS and overestimates incomes at the lower end of the spectrum and under estimates the highest level incomes (Czajka & Denmead (2008) and Shaefer (2015)). See: \n",
    "- Czajka, John L., and Gabrielle Denmead. 2008. “Income Data for Policy Analysis: A Comparative Assessment of Eight Surveys.” Washington, D. C.: Mathematica Policy Research. https://www.mathematica.org/our-publications-and-findings/publications/income-data-for-policy-analysis-a-comparative-assessment-of-eight-surveys.\n",
    "- Shaefer, H. Luke. 2015. “Introduction to The Survey of Income and Program Participation (SIPP).” Presentation, U.S. Census Bureau, May 15. https://ecommons.cornell.edu/handle/1813/40169."
   ]
  },
  {
   "cell_type": "markdown",
   "metadata": {},
   "source": [
    "#### Is Everyone in Household Related? Is There a Citizen in the Household?"
   ]
  },
  {
   "cell_type": "code",
   "execution_count": 106,
   "metadata": {},
   "outputs": [
    {
     "data": {
      "image/png": "[encoded data removed]",
      "text/plain": [
       "<Figure size 1080x540 with 2 Axes>"
      ]
     },
     "metadata": {
      "needs_background": "light"
     },
     "output_type": "display_data"
    }
   ],
   "source": [
    "# Plotting 'hh_related' and 'hhcitizen' as barplots\n",
    "\n",
    "plt.figure(figsize = (15, 7.5))\n",
    "plt.subplots_adjust(hspace = .1)\n",
    "\n",
    "plt.subplot(1, 2, 1)\n",
    "\n",
    "\n",
    "sns.barplot(x = 'legal', y = 'hh_related', data = features_plots, ci = 99)\n",
    "plt.ylim(0,1)\n",
    "plt.xticks(np.arange(3), ('Unauthorized', 'Legal', 'Citizen'), fontsize = 14)\n",
    "plt.yticks(fontsize = 14)\n",
    "plt.ylabel('Proportion', fontsize = 14)\n",
    "plt.xlabel('')\n",
    "plt.title('Is Everyone in Household Related?', fontsize = 14)\n",
    "sns.despine()\n",
    "\n",
    "plt.subplot(1, 2, 2)\n",
    "\n",
    "sns.barplot(x = 'unauthorized', y = 'hhcitizen', data = features_plots, order = [1, 0], ci = 99)\n",
    "plt.ylim(0,1)\n",
    "plt.xticks(np.arange(2), ('Unauthorized', 'Legal'), fontsize = 14)\n",
    "plt.yticks(fontsize = 14)\n",
    "plt.ylabel('')\n",
    "plt.xlabel('')\n",
    "plt.title('Is there a Citizen in the Household?', fontsize = 14)\n",
    "sns.despine()\n",
    "\n",
    "plt.show()"
   ]
  },
  {
   "cell_type": "markdown",
   "metadata": {},
   "source": [
    "The left-hand plot above shows the proportion of people in each class of immigration status who live in a household where everyone is related. Under 70% of unauthorized noncitizens reside in a household where everyone is related, but over 80% of legal noncitizens and citizens live in homes where everyone is related. \n",
    "\n",
    "The plot on the right side focuses only on the noncitizen population and shows the proportions of unauthorized and legal noncitizens, respectively, who live with a citizen. Fewer unauthorized noncitizens live with a citizen than lawfully present noncitizens. "
   ]
  },
  {
   "cell_type": "markdown",
   "metadata": {},
   "source": [
    "#### Gender, Ethnicity, Age"
   ]
  },
  {
   "cell_type": "code",
   "execution_count": 107,
   "metadata": {
    "scrolled": true
   },
   "outputs": [
    {
     "data": {
      "image/png": "[encoded data removed]",
      "text/plain": [
       "<Figure size 1440x576 with 3 Axes>"
      ]
     },
     "metadata": {
      "needs_background": "light"
     },
     "output_type": "display_data"
    }
   ],
   "source": [
    "plt.figure(figsize = (20, 8))\n",
    "plt.subplots_adjust(hspace = .1)\n",
    "plt.suptitle(\"\", fontsize = 14)\n",
    "\n",
    "plt.subplot(1, 3, 1)\n",
    "\n",
    "sns.barplot(x = 'legal', y = 'female', data = features_plots, ci = 99)\n",
    "plt.ylim(0,1)\n",
    "plt.xticks(np.arange(3), ('Unauthorized', 'Legal', 'Citizen'), fontsize = 14)\n",
    "plt.yticks(fontsize = 14)\n",
    "plt.ylabel('Proportion', fontsize = 14)\n",
    "plt.xlabel('\\n Error bars measure 99% confidence intervals', fontsize = 14)\n",
    "plt.title('Female', fontsize = 14)\n",
    "#plt.figtext(0.5, 0.001, 'Error Bars Measure 99% Confidence Intervals', wrap=True, horizontalalignment='center', fontsize=12)\n",
    "\n",
    "sns.despine()\n",
    "\n",
    "plt.subplot(1, 3, 2)\n",
    "\n",
    "sns.barplot(x = 'legal', y = 'hispanic_latino', data = features_plots, ci = 99)\n",
    "plt.ylim(0,1)\n",
    "plt.xticks(np.arange(3), ('Unauthorized', 'Legal', 'Citizen'), fontsize = 14)\n",
    "plt.yticks(fontsize = 14)\n",
    "plt.ylabel('')\n",
    "plt.xlabel('')\n",
    "plt.title('Hispanic or Latino', fontsize = 14)\n",
    "\n",
    "sns.despine()\n",
    "\n",
    "plt.subplot(1, 3, 3)\n",
    "sns.barplot(x = 'legal', y = 'tage', data = features_plots, ci = 99)\n",
    "plt.ylim(0,50)\n",
    "plt.xticks(np.arange(3), ('Unauthorized', 'Legal', 'Citizen'), fontsize = 14)\n",
    "plt.yticks(fontsize = 14)\n",
    "plt.ylabel('Mean', fontsize = 14)\n",
    "plt.xlabel('')\n",
    "plt.title('Age', fontsize = 14)\n",
    "\n",
    "sns.despine()\n",
    "\n",
    "plt.show()\n"
   ]
  },
  {
   "cell_type": "markdown",
   "metadata": {},
   "source": [
    "Compared to legal noncitizens and citizens, the unauthorized population has relatively fewer females. Also, Hispanics and Latinos make up *much* greater shares of the unauthorized and legal noncitizen population than they do among citizens. Unauthorized noncitizens are also younger, on average, than legal noncitizens and citizens. "
   ]
  },
  {
   "cell_type": "markdown",
   "metadata": {},
   "source": [
    "#### Education and Length of U.S. Residence"
   ]
  },
  {
   "cell_type": "code",
   "execution_count": 108,
   "metadata": {},
   "outputs": [
    {
     "data": {
      "image/png": "[encoded data removed]",
      "text/plain": [
       "<Figure size 1080x540 with 2 Axes>"
      ]
     },
     "metadata": {
      "needs_background": "light"
     },
     "output_type": "display_data"
    }
   ],
   "source": [
    "# Plotting education and length of U.S. residence\n",
    "\n",
    "plt.figure(figsize = (15, 7.5))\n",
    "plt.subplots_adjust(hspace = .1)\n",
    "\n",
    "plt.subplot(1, 2, 1)\n",
    "\n",
    "\n",
    "sns.barplot(x = 'legal', y = 'educ', data = features_plots, ci = 99)\n",
    "plt.ylim(0,15)\n",
    "plt.xticks(np.arange(3), ('Unauthorized', 'Legal', 'Citizen'), fontsize = 14)\n",
    "plt.yticks(np.arange(15), ('< 1st grade', '1st-4th Grade', '5-6th Grade', '7th or 8th grade', '9th grade', '10th grade', \n",
    "                           '11th grade', '12th grade, no diploma', 'High school', 'Some college', \n",
    "                           'Vocational school diploma', 'AA degree', 'College degree', \"Master's degree\",\n",
    "                           \"Doctoral\"), fontsize = 14)\n",
    "plt.ylabel('')\n",
    "plt.xlabel('')\n",
    "plt.title('Average Education Level', fontsize = 14)\n",
    "sns.despine()\n",
    "\n",
    "plt.subplot(1, 2, 2)\n",
    "\n",
    "sns.barplot(x = 'unauthorized', y = 'years_us', data = features_plots, order = [1, 0], ci = 99)\n",
    "plt.ylim(0,15)\n",
    "plt.xticks(np.arange(2), ('Unauthorized', 'Legal'), fontsize = 14)\n",
    "plt.yticks(fontsize = 14)\n",
    "plt.ylabel('Years', fontsize = 14)\n",
    "plt.xlabel('')\n",
    "plt.title('Average Length of U.S. Residence', fontsize = 14)\n",
    "sns.despine()\n",
    "\n",
    "plt.show()"
   ]
  },
  {
   "cell_type": "markdown",
   "metadata": {},
   "source": [
    "Citizens have higher education levels than noncitizens, and especially unauthorized immigrants. The average U.S. citizen has attended college, but not graduated, while legal noncitizens have almost completed high school. Unauthorized immigrants, have the equivalent of an 11th grade education. Unauthorized immigrants have lived in the U.S. an average of seven years while lawfully present immigrants have lived here approximately 11 years. "
   ]
  },
  {
   "cell_type": "markdown",
   "metadata": {},
   "source": [
    "#### Insurance "
   ]
  },
  {
   "cell_type": "code",
   "execution_count": 109,
   "metadata": {},
   "outputs": [],
   "source": [
    "insurance = features_plots.groupby('legal').insurance.value_counts(normalize = True).rename('proportion').reset_index()"
   ]
  },
  {
   "cell_type": "code",
   "execution_count": 110,
   "metadata": {
    "scrolled": true
   },
   "outputs": [
    {
     "data": {
      "text/plain": [
       "<Figure size 1440x576 with 0 Axes>"
      ]
     },
     "metadata": {},
     "output_type": "display_data"
    },
    {
     "data": {
      "image/png": "[encoded data removed]",
      "text/plain": [
       "<Figure size 1080x360 with 3 Axes>"
      ]
     },
     "metadata": {
      "needs_background": "light"
     },
     "output_type": "display_data"
    }
   ],
   "source": [
    "plt.figure(figsize = (20, 8))\n",
    "p = sns.catplot(x = 'insurance', y = 'proportion', col = 'legal', data = insurance, kind = 'bar')\n",
    "p.set_axis_labels('', 'Proportion')\n",
    "p.set(xlim = (-1, 6), ylim = (0, 1), xticks = [0, 1, 2, 3, 4, 5, 6], yticks = [0, 0.1, 0.2, 0.3, 0.4, 0.5, 0.6, 0.7, 0.8, 0.9, 1.0])\n",
    "p.set_xticklabels(['Uninsured', 'Employer/Union', 'Private', 'Military/Veteran', 'Other', 'Medicaire, Medicaid, CHIP'], \n",
    "                  rotation = 90, size = 14)\n",
    "p.set_yticklabels([0, 0.1, 0.2, 0.3, 0.4, 0.5, 0.6, 0.7, 0.8, 0.9, 1.0], size = 14)\n",
    "p.axes[0, 0].set_title('Unauthorized', size = 14)\n",
    "p.axes[0, 1].set_title('Legal Noncitizen', size = 14)\n",
    "p.axes[0, 2].set_title('Citizen', size = 14) \n",
    "p.fig.suptitle('Distribution of Health Insurance Coverage, by Immigration Status', size = 14)\n",
    "plt.subplots_adjust(top = .85)\n"
   ]
  },
  {
   "cell_type": "markdown",
   "metadata": {},
   "source": [
    "There are huge differences between the immigration status groups when it comes to insurance coverage. Almost 20% of citizens are uninsured, while between 40% and 50% of legal noncitizens do not have insurance coverage, but 70% of unauthorized citizens are without coverage! Among lawfully present noncitizens and citizens, the distribution of coverage also varies in meaningful ways. The majority of citizens get their insurance through their employers or from public programs like Medicare, Medicaid, or the Children's Health Insurance Program (CHIP). Fewer lawfully present noncitizens have job-related insurance and fewer are also on public insurance programs. "
   ]
  },
  {
   "cell_type": "markdown",
   "metadata": {},
   "source": [
    "#### Employment"
   ]
  },
  {
   "cell_type": "code",
   "execution_count": 111,
   "metadata": {},
   "outputs": [],
   "source": [
    "jobs = features_plots.groupby('legal').job.value_counts(normalize = True).rename('proportion').reset_index()"
   ]
  },
  {
   "cell_type": "code",
   "execution_count": 112,
   "metadata": {},
   "outputs": [
    {
     "data": {
      "text/plain": [
       "<Figure size 1440x576 with 0 Axes>"
      ]
     },
     "metadata": {},
     "output_type": "display_data"
    },
    {
     "data": {
      "image/png": "[encoded data removed]",
      "text/plain": [
       "<Figure size 1080x360 with 3 Axes>"
      ]
     },
     "metadata": {
      "needs_background": "light"
     },
     "output_type": "display_data"
    }
   ],
   "source": [
    "plt.figure(figsize = (20, 8))\n",
    "p = sns.catplot(x = 'job', y = 'proportion', col = 'legal', data = jobs, kind = 'bar')\n",
    "p.set_axis_labels('', 'Proportion')\n",
    "p.set(xlim = (-1, 5), ylim = (0, 1), xticks = [0, 1, 2, 3, 4], \n",
    "      yticks = [0, 0.1, 0.2, 0.3, 0.4, 0.5, 0.6, 0.7, 0.8, 0.9, 1.0])\n",
    "p.set_xticklabels(['Unemployed', 'Construction', 'Wholesale', 'Professional Services', 'Other Industries'], \n",
    "                  rotation = 90, size = 14)\n",
    "p.set_yticklabels([0, 0.1, 0.2, 0.3, 0.4, 0.5, 0.6, 0.7, 0.8, 0.9, 1.0], size = 14)\n",
    "p.axes[0, 0].set_title('Unauthorized', size = 14)\n",
    "p.axes[0, 1].set_title('Legal', size = 14)\n",
    "p.axes[0, 2].set_title('Citizen', size = 14)    \n",
    "p.fig.suptitle('Distribution of Job Industry Classification, by Immigration Status', size = 14)\n",
    "plt.subplots_adjust(top = .85)\n",
    "\n",
    "plt.show()"
   ]
  },
  {
   "cell_type": "markdown",
   "metadata": {},
   "source": [
    "Comparing the immigration status groups by job industry, there are two meaningful differences between the groups: 1) Fewer unauthorized immigrants are unemployed (though the differences in unemployment rates are less than 10% across the groups), and 2) a greater share of unauthorized immigrants work in construction than legal noncitizens or citizens. "
   ]
  },
  {
   "cell_type": "markdown",
   "metadata": {},
   "source": [
    "#### Region of Birth"
   ]
  },
  {
   "cell_type": "code",
   "execution_count": 113,
   "metadata": {},
   "outputs": [],
   "source": [
    "region = features_plots.groupby('legal').region_birth.value_counts(normalize = True).rename('proportion').reset_index()"
   ]
  },
  {
   "cell_type": "code",
   "execution_count": 114,
   "metadata": {},
   "outputs": [
    {
     "data": {
      "text/plain": [
       "<Figure size 1440x576 with 0 Axes>"
      ]
     },
     "metadata": {},
     "output_type": "display_data"
    },
    {
     "data": {
      "image/png": "[encoded data removed]",
      "text/plain": [
       "<Figure size 1080x360 with 3 Axes>"
      ]
     },
     "metadata": {
      "needs_background": "light"
     },
     "output_type": "display_data"
    }
   ],
   "source": [
    "plt.figure(figsize = (20, 8))\n",
    "p = sns.catplot(x = 'region_birth', y = 'proportion', col = 'legal', data = region, kind = 'bar')\n",
    "p.set_axis_labels('', 'Proportion')\n",
    "p.set(xlim = (-1, 13), ylim = (0, 1), xticks = [0, 1, 2, 3, 4, 5, 6, 7, 8, 9, 10, 11, 12], \n",
    "      yticks = [0, 0.1, 0.2, 0.3, 0.4, 0.5, 0.6, 0.7, 0.8, 0.9, 1.0])\n",
    "p.set_xticklabels(['United States', 'North America', 'Northern and Western Europe', 'Southern and Eastern Europe', \n",
    "                   'Eastern Asia', 'South Central Asia', 'Southeast and West Asia, Australia, New Zealand', \n",
    "                   'Africa', 'Caribbean', 'Central America', 'South America', 'Everywhere Else'], \n",
    "                  rotation = 90, size = 14)\n",
    "p.set_yticklabels([0, 0.1, 0.2, 0.3, 0.4, 0.5, 0.6, 0.7, 0.8, 0.9, 1.0], size = 14)\n",
    "p.axes[0, 0].set_title('Unauthorized', size = 14)\n",
    "p.axes[0, 1].set_title('Legal', size = 14)\n",
    "p.axes[0, 2].set_title('Citizen', size = 14)    \n",
    "p.fig.suptitle('Country or Region of Birth, by Immigration Status', size = 14)\n",
    "plt.subplots_adjust(top = .85)\n",
    "\n",
    "plt.show()"
   ]
  },
  {
   "cell_type": "markdown",
   "metadata": {},
   "source": [
    "The strong majority of unauthorized immigrants, roughly 70%, are from Central America and it is likely that most of them are from Mexico. Unfortunately, we are unable to confirm this in the data because the SIPP does not provide country of birth for its respondents in its public use files, with the exception of the United States. The rest of possibilities are regional in nature. \n",
    "\n",
    "We see a simiilar trend in lawfully present noncitizens, as almost half of them are also from Central America. Unsurprisingly, almsot 80% of U.S. citizens were born in the United States and between 20-30% are from 'elsewhere.' The 'everywhere else' category is undefined in the SIPP documentation, so we cannot determine precisely where those respondents were born. "
   ]
  },
  {
   "cell_type": "markdown",
   "metadata": {},
   "source": [
    "#### English Proficiency"
   ]
  },
  {
   "cell_type": "code",
   "execution_count": 115,
   "metadata": {},
   "outputs": [],
   "source": [
    "english = features_plots.groupby('legal').english.value_counts(normalize = True).rename('proportion').reset_index()"
   ]
  },
  {
   "cell_type": "code",
   "execution_count": 115,
   "metadata": {},
   "outputs": [
    {
     "data": {
      "text/plain": [
       "<Figure size 1440x576 with 0 Axes>"
      ]
     },
     "metadata": {},
     "output_type": "display_data"
    },
    {
     "data": {
      "image/png": "[encoded data removed]",
      "text/plain": [
       "<Figure size 1080x360 with 3 Axes>"
      ]
     },
     "metadata": {
      "needs_background": "light"
     },
     "output_type": "display_data"
    }
   ],
   "source": [
    "plt.figure(figsize = (20, 8))\n",
    "p = sns.catplot(x = 'english', y = 'proportion', col = 'legal', data = english, kind = 'bar')\n",
    "p.set_axis_labels('', 'Proportion')\n",
    "p.set(xlim = (-1, 4), ylim = (0, 1), xticks = [0, 1, 2, 3], \n",
    "      yticks = [0, 0.1, 0.2, 0.3, 0.4, 0.5, 0.6, 0.7, 0.8, 0.9, 1.0])\n",
    "p.set_xticklabels(['Not at all', 'Not well', 'Well', 'Very well'], \n",
    "                  rotation = 90, size = 14)\n",
    "p.set_yticklabels([0, 0.1, 0.2, 0.3, 0.4, 0.5, 0.6, 0.7, 0.8, 0.9, 1.0], size = 14)\n",
    "p.axes[0, 0].set_title('Unauthorized', size = 14)\n",
    "p.axes[0, 1].set_title('Legal', size = 14)\n",
    "p.axes[0, 2].set_title('Citizen', size = 14)    \n",
    "p.fig.suptitle('English Proficiency, by Immigration Status', size = 14)\n",
    "plt.subplots_adjust(top = .85)\n",
    "\n",
    "plt.show()"
   ]
  },
  {
   "cell_type": "markdown",
   "metadata": {},
   "source": [
    "Citizens' proficiency in English is noticeably better than that of noncitizens, but legal noncitizens are marginally better English speakers than unauthorized immigrants. About half of legal noncitizens report speaking English very well, but only 30% of unauthorized immigrants do. "
   ]
  },
  {
   "cell_type": "code",
   "execution_count": 116,
   "metadata": {},
   "outputs": [
    {
     "data": {
      "text/html": [
       "<div>\n",
       "<style scoped>\n",
       "    .dataframe tbody tr th:only-of-type {\n",
       "        vertical-align: middle;\n",
       "    }\n",
       "\n",
       "    .dataframe tbody tr th {\n",
       "        vertical-align: top;\n",
       "    }\n",
       "\n",
       "    .dataframe thead th {\n",
       "        text-align: right;\n",
       "    }\n",
       "</style>\n",
       "<table border=\"1\" class=\"dataframe\">\n",
       "  <thead>\n",
       "    <tr style=\"text-align: right;\">\n",
       "      <th></th>\n",
       "      <th>pid</th>\n",
       "      <th>unauthorized</th>\n",
       "      <th>legal</th>\n",
       "      <th>num_hh</th>\n",
       "      <th>family_size</th>\n",
       "      <th>hh_related</th>\n",
       "      <th>hh_workers</th>\n",
       "      <th>job</th>\n",
       "      <th>insurance</th>\n",
       "      <th>female</th>\n",
       "      <th>...</th>\n",
       "      <th>poverty</th>\n",
       "      <th>tage</th>\n",
       "      <th>age_group</th>\n",
       "      <th>ageg_gender</th>\n",
       "      <th>age_gender_insurance</th>\n",
       "      <th>region_birth</th>\n",
       "      <th>english</th>\n",
       "      <th>educ</th>\n",
       "      <th>years_us</th>\n",
       "      <th>tfipsst</th>\n",
       "    </tr>\n",
       "  </thead>\n",
       "  <tbody>\n",
       "    <tr>\n",
       "      <th>count</th>\n",
       "      <td>9.850400e+04</td>\n",
       "      <td>6157.000000</td>\n",
       "      <td>98504.000000</td>\n",
       "      <td>98504.000000</td>\n",
       "      <td>98504.000000</td>\n",
       "      <td>98504.000000</td>\n",
       "      <td>98504.000000</td>\n",
       "      <td>77747.000000</td>\n",
       "      <td>98504.000000</td>\n",
       "      <td>98504.000000</td>\n",
       "      <td>...</td>\n",
       "      <td>98339.000000</td>\n",
       "      <td>98504.000000</td>\n",
       "      <td>98504.000000</td>\n",
       "      <td>98504.000000</td>\n",
       "      <td>98504.000000</td>\n",
       "      <td>98504.000000</td>\n",
       "      <td>91729.000000</td>\n",
       "      <td>77747.000000</td>\n",
       "      <td>11145.00000</td>\n",
       "      <td>98504.000000</td>\n",
       "    </tr>\n",
       "    <tr>\n",
       "      <th>mean</th>\n",
       "      <td>5.534868e+15</td>\n",
       "      <td>0.250771</td>\n",
       "      <td>1.921820</td>\n",
       "      <td>3.452449</td>\n",
       "      <td>3.218428</td>\n",
       "      <td>0.875284</td>\n",
       "      <td>1.582464</td>\n",
       "      <td>2.351088</td>\n",
       "      <td>3.082707</td>\n",
       "      <td>0.519025</td>\n",
       "      <td>...</td>\n",
       "      <td>44.733611</td>\n",
       "      <td>37.196388</td>\n",
       "      <td>2.587134</td>\n",
       "      <td>1.383274</td>\n",
       "      <td>4.752599</td>\n",
       "      <td>4.093001</td>\n",
       "      <td>2.877574</td>\n",
       "      <td>8.990328</td>\n",
       "      <td>13.90830</td>\n",
       "      <td>28.642553</td>\n",
       "    </tr>\n",
       "    <tr>\n",
       "      <th>std</th>\n",
       "      <td>2.637884e+15</td>\n",
       "      <td>0.433492</td>\n",
       "      <td>0.321586</td>\n",
       "      <td>1.827870</td>\n",
       "      <td>1.761630</td>\n",
       "      <td>0.330398</td>\n",
       "      <td>1.069915</td>\n",
       "      <td>1.902475</td>\n",
       "      <td>1.926734</td>\n",
       "      <td>0.499640</td>\n",
       "      <td>...</td>\n",
       "      <td>46.121125</td>\n",
       "      <td>22.767129</td>\n",
       "      <td>1.940430</td>\n",
       "      <td>1.927948</td>\n",
       "      <td>8.728368</td>\n",
       "      <td>4.688520</td>\n",
       "      <td>0.492057</td>\n",
       "      <td>2.863846</td>\n",
       "      <td>12.53429</td>\n",
       "      <td>16.214624</td>\n",
       "    </tr>\n",
       "    <tr>\n",
       "      <th>min</th>\n",
       "      <td>1.912800e+14</td>\n",
       "      <td>0.000000</td>\n",
       "      <td>0.000000</td>\n",
       "      <td>1.000000</td>\n",
       "      <td>1.000000</td>\n",
       "      <td>0.000000</td>\n",
       "      <td>0.000000</td>\n",
       "      <td>0.000000</td>\n",
       "      <td>1.000000</td>\n",
       "      <td>0.000000</td>\n",
       "      <td>...</td>\n",
       "      <td>-189.429508</td>\n",
       "      <td>0.000000</td>\n",
       "      <td>0.000000</td>\n",
       "      <td>0.000000</td>\n",
       "      <td>0.000000</td>\n",
       "      <td>1.000000</td>\n",
       "      <td>0.000000</td>\n",
       "      <td>0.000000</td>\n",
       "      <td>0.00000</td>\n",
       "      <td>1.000000</td>\n",
       "    </tr>\n",
       "    <tr>\n",
       "      <th>25%</th>\n",
       "      <td>3.859251e+15</td>\n",
       "      <td>0.000000</td>\n",
       "      <td>2.000000</td>\n",
       "      <td>2.000000</td>\n",
       "      <td>2.000000</td>\n",
       "      <td>1.000000</td>\n",
       "      <td>1.000000</td>\n",
       "      <td>0.000000</td>\n",
       "      <td>2.000000</td>\n",
       "      <td>0.000000</td>\n",
       "      <td>...</td>\n",
       "      <td>17.060241</td>\n",
       "      <td>17.000000</td>\n",
       "      <td>0.000000</td>\n",
       "      <td>0.000000</td>\n",
       "      <td>0.000000</td>\n",
       "      <td>1.000000</td>\n",
       "      <td>3.000000</td>\n",
       "      <td>8.000000</td>\n",
       "      <td>5.00000</td>\n",
       "      <td>13.000000</td>\n",
       "    </tr>\n",
       "    <tr>\n",
       "      <th>50%</th>\n",
       "      <td>5.664549e+15</td>\n",
       "      <td>0.000000</td>\n",
       "      <td>2.000000</td>\n",
       "      <td>3.000000</td>\n",
       "      <td>3.000000</td>\n",
       "      <td>1.000000</td>\n",
       "      <td>2.000000</td>\n",
       "      <td>4.000000</td>\n",
       "      <td>2.000000</td>\n",
       "      <td>1.000000</td>\n",
       "      <td>...</td>\n",
       "      <td>33.591906</td>\n",
       "      <td>37.000000</td>\n",
       "      <td>3.000000</td>\n",
       "      <td>0.000000</td>\n",
       "      <td>0.000000</td>\n",
       "      <td>1.000000</td>\n",
       "      <td>3.000000</td>\n",
       "      <td>9.000000</td>\n",
       "      <td>10.00000</td>\n",
       "      <td>29.000000</td>\n",
       "    </tr>\n",
       "    <tr>\n",
       "      <th>75%</th>\n",
       "      <td>7.399254e+15</td>\n",
       "      <td>1.000000</td>\n",
       "      <td>2.000000</td>\n",
       "      <td>4.000000</td>\n",
       "      <td>4.000000</td>\n",
       "      <td>1.000000</td>\n",
       "      <td>2.000000</td>\n",
       "      <td>4.000000</td>\n",
       "      <td>6.000000</td>\n",
       "      <td>1.000000</td>\n",
       "      <td>...</td>\n",
       "      <td>57.675221</td>\n",
       "      <td>55.000000</td>\n",
       "      <td>5.000000</td>\n",
       "      <td>3.000000</td>\n",
       "      <td>6.000000</td>\n",
       "      <td>10.000000</td>\n",
       "      <td>3.000000</td>\n",
       "      <td>11.000000</td>\n",
       "      <td>21.00000</td>\n",
       "      <td>42.000000</td>\n",
       "    </tr>\n",
       "    <tr>\n",
       "      <th>max</th>\n",
       "      <td>9.559590e+15</td>\n",
       "      <td>1.000000</td>\n",
       "      <td>2.000000</td>\n",
       "      <td>17.000000</td>\n",
       "      <td>15.000000</td>\n",
       "      <td>1.000000</td>\n",
       "      <td>8.000000</td>\n",
       "      <td>4.000000</td>\n",
       "      <td>6.000000</td>\n",
       "      <td>1.000000</td>\n",
       "      <td>...</td>\n",
       "      <td>905.611416</td>\n",
       "      <td>85.000000</td>\n",
       "      <td>5.000000</td>\n",
       "      <td>5.000000</td>\n",
       "      <td>30.000000</td>\n",
       "      <td>12.000000</td>\n",
       "      <td>3.000000</td>\n",
       "      <td>14.000000</td>\n",
       "      <td>48.00000</td>\n",
       "      <td>56.000000</td>\n",
       "    </tr>\n",
       "  </tbody>\n",
       "</table>\n",
       "<p>8 rows × 22 columns</p>\n",
       "</div>"
      ],
      "text/plain": [
       "                pid  unauthorized         legal        num_hh   family_size  \\\n",
       "count  9.850400e+04   6157.000000  98504.000000  98504.000000  98504.000000   \n",
       "mean   5.534868e+15      0.250771      1.921820      3.452449      3.218428   \n",
       "std    2.637884e+15      0.433492      0.321586      1.827870      1.761630   \n",
       "min    1.912800e+14      0.000000      0.000000      1.000000      1.000000   \n",
       "25%    3.859251e+15      0.000000      2.000000      2.000000      2.000000   \n",
       "50%    5.664549e+15      0.000000      2.000000      3.000000      3.000000   \n",
       "75%    7.399254e+15      1.000000      2.000000      4.000000      4.000000   \n",
       "max    9.559590e+15      1.000000      2.000000     17.000000     15.000000   \n",
       "\n",
       "         hh_related    hh_workers           job     insurance        female  \\\n",
       "count  98504.000000  98504.000000  77747.000000  98504.000000  98504.000000   \n",
       "mean       0.875284      1.582464      2.351088      3.082707      0.519025   \n",
       "std        0.330398      1.069915      1.902475      1.926734      0.499640   \n",
       "min        0.000000      0.000000      0.000000      1.000000      0.000000   \n",
       "25%        1.000000      1.000000      0.000000      2.000000      0.000000   \n",
       "50%        1.000000      2.000000      4.000000      2.000000      1.000000   \n",
       "75%        1.000000      2.000000      4.000000      6.000000      1.000000   \n",
       "max        1.000000      8.000000      4.000000      6.000000      1.000000   \n",
       "\n",
       "       ...       poverty          tage     age_group   ageg_gender  \\\n",
       "count  ...  98339.000000  98504.000000  98504.000000  98504.000000   \n",
       "mean   ...     44.733611     37.196388      2.587134      1.383274   \n",
       "std    ...     46.121125     22.767129      1.940430      1.927948   \n",
       "min    ...   -189.429508      0.000000      0.000000      0.000000   \n",
       "25%    ...     17.060241     17.000000      0.000000      0.000000   \n",
       "50%    ...     33.591906     37.000000      3.000000      0.000000   \n",
       "75%    ...     57.675221     55.000000      5.000000      3.000000   \n",
       "max    ...    905.611416     85.000000      5.000000      5.000000   \n",
       "\n",
       "       age_gender_insurance  region_birth       english          educ  \\\n",
       "count          98504.000000  98504.000000  91729.000000  77747.000000   \n",
       "mean               4.752599      4.093001      2.877574      8.990328   \n",
       "std                8.728368      4.688520      0.492057      2.863846   \n",
       "min                0.000000      1.000000      0.000000      0.000000   \n",
       "25%                0.000000      1.000000      3.000000      8.000000   \n",
       "50%                0.000000      1.000000      3.000000      9.000000   \n",
       "75%                6.000000     10.000000      3.000000     11.000000   \n",
       "max               30.000000     12.000000      3.000000     14.000000   \n",
       "\n",
       "          years_us       tfipsst  \n",
       "count  11145.00000  98504.000000  \n",
       "mean      13.90830     28.642553  \n",
       "std       12.53429     16.214624  \n",
       "min        0.00000      1.000000  \n",
       "25%        5.00000     13.000000  \n",
       "50%       10.00000     29.000000  \n",
       "75%       21.00000     42.000000  \n",
       "max       48.00000     56.000000  \n",
       "\n",
       "[8 rows x 22 columns]"
      ]
     },
     "execution_count": 116,
     "metadata": {},
     "output_type": "execute_result"
    }
   ],
   "source": [
    "features_plots.describe()"
   ]
  },
  {
   "cell_type": "markdown",
   "metadata": {},
   "source": [
    "## Outliers\n",
    "\n",
    "Machine learning algorithms are sensitive to outliers, so it is important to mitigate them in numeric features, if they exist. I'll do this visually using box plots and will consider outliers to be anything lying outside of both whiskers to be outliers, using the default whisker lengths (1st quartile minus 1.5 times IQR, 3rd Quartile plus 1.5 times IQR). I will use winsorization to cap extreme values. "
   ]
  },
  {
   "cell_type": "code",
   "execution_count": 117,
   "metadata": {},
   "outputs": [],
   "source": [
    "numeric_features = ['years_us', 'educ', 'poverty', 'num_hh', 'hh_workers']"
   ]
  },
  {
   "cell_type": "code",
   "execution_count": 118,
   "metadata": {},
   "outputs": [
    {
     "data": {
      "image/png": "[encoded data removed]",
      "text/plain": [
       "<Figure size 432x288 with 1 Axes>"
      ]
     },
     "metadata": {
      "needs_background": "light"
     },
     "output_type": "display_data"
    },
    {
     "data": {
      "image/png": "[encoded data removed]",
      "text/plain": [
       "<Figure size 432x288 with 1 Axes>"
      ]
     },
     "metadata": {
      "needs_background": "light"
     },
     "output_type": "display_data"
    },
    {
     "data": {
      "image/png": "[encoded data removed]",
      "text/plain": [
       "<Figure size 432x288 with 1 Axes>"
      ]
     },
     "metadata": {
      "needs_background": "light"
     },
     "output_type": "display_data"
    },
    {
     "data": {
      "image/png": "[encoded data removed]",
      "text/plain": [
       "<Figure size 432x288 with 1 Axes>"
      ]
     },
     "metadata": {
      "needs_background": "light"
     },
     "output_type": "display_data"
    },
    {
     "data": {
      "image/png": "[encoded data removed]",
      "text/plain": [
       "<Figure size 432x288 with 1 Axes>"
      ]
     },
     "metadata": {
      "needs_background": "light"
     },
     "output_type": "display_data"
    }
   ],
   "source": [
    "# Checking for outliers in numeric features among noncitizens\n",
    "\n",
    "for feature in numeric_features:\n",
    "    sns.boxplot(x = feature, data = sipp_noncitizens)\n",
    "    plt.xlabel('Box Plot of '+ feature)\n",
    "    plt.show()"
   ]
  },
  {
   "cell_type": "markdown",
   "metadata": {},
   "source": [
    "Most of the numeric features have outliers, but the 'poverty' box plot shows extreme poverty levels, indicating very low levels of income. I will mitigate each one below."
   ]
  },
  {
   "cell_type": "markdown",
   "metadata": {},
   "source": [
    "Outliers do vary noticeably for most of the features between unauthorized immmigrants and lawfully present noncitizens. "
   ]
  },
  {
   "cell_type": "code",
   "execution_count": 119,
   "metadata": {},
   "outputs": [
    {
     "data": {
      "image/png": "[encoded data removed]",
      "text/plain": [
       "<Figure size 432x288 with 1 Axes>"
      ]
     },
     "metadata": {
      "needs_background": "light"
     },
     "output_type": "display_data"
    },
    {
     "data": {
      "image/png": "[encoded data removed]",
      "text/plain": [
       "<Figure size 432x288 with 1 Axes>"
      ]
     },
     "metadata": {
      "needs_background": "light"
     },
     "output_type": "display_data"
    }
   ],
   "source": [
    "sipp_noncitizens['winsorized_years_us'] = winsorize(sipp_noncitizens['years_us'], (0.0, 0.06))\n",
    "\n",
    "sns.boxplot(x = 'years_us', data = sipp_noncitizens)\n",
    "plt.xlabel('Box Plot of years_us')\n",
    "plt.show()\n",
    "\n",
    "sns.boxplot(x = 'winsorized_years_us', data = sipp_noncitizens)\n",
    "plt.xlabel('Box Plot of winsorized_years_us')\n",
    "\n",
    "plt.show()"
   ]
  },
  {
   "cell_type": "markdown",
   "metadata": {},
   "source": [
    "The feature measuring how many years noncitizens have lived in the U.S. has extreme values at the right tail of the distribution and I capped it at the 94th percentile.  "
   ]
  },
  {
   "cell_type": "code",
   "execution_count": 120,
   "metadata": {},
   "outputs": [
    {
     "data": {
      "image/png": "[encoded data removed]",
      "text/plain": [
       "<Figure size 432x288 with 1 Axes>"
      ]
     },
     "metadata": {
      "needs_background": "light"
     },
     "output_type": "display_data"
    },
    {
     "data": {
      "image/png": "[encoded data removed]",
      "text/plain": [
       "<Figure size 432x288 with 1 Axes>"
      ]
     },
     "metadata": {
      "needs_background": "light"
     },
     "output_type": "display_data"
    }
   ],
   "source": [
    "sipp_noncitizens['winsorized_poverty'] = winsorize(sipp_noncitizens['poverty'], (0.001, 0.08))\n",
    "\n",
    "sns.boxplot(x = 'poverty', data = sipp_noncitizens)\n",
    "plt.xlabel('Box Plot of poverty')\n",
    "plt.show()\n",
    "\n",
    "sns.boxplot(x = 'winsorized_poverty', data = sipp_noncitizens)\n",
    "plt.xlabel('Box Plot of winsorized_poverty')\n",
    "\n",
    "plt.show()"
   ]
  },
  {
   "cell_type": "markdown",
   "metadata": {},
   "source": [
    "The __poverty__ feature, which measures the ratio of family income to the poverty threshold, has extreme values on both ends of the distribution. I capped the left, or lower end, at the 99.99th percentile and the right, or higher end, at the 91st percentile. "
   ]
  },
  {
   "cell_type": "markdown",
   "metadata": {},
   "source": [
    "The household size feature, 'num_hh', has extreme ends on the right end of the distribution. I am going to cap the feature at the 96th percentile."
   ]
  },
  {
   "cell_type": "code",
   "execution_count": 121,
   "metadata": {},
   "outputs": [
    {
     "data": {
      "image/png": "[encoded data removed]",
      "text/plain": [
       "<Figure size 432x288 with 1 Axes>"
      ]
     },
     "metadata": {
      "needs_background": "light"
     },
     "output_type": "display_data"
    },
    {
     "data": {
      "image/png": "[encoded data removed]",
      "text/plain": [
       "<Figure size 432x288 with 1 Axes>"
      ]
     },
     "metadata": {
      "needs_background": "light"
     },
     "output_type": "display_data"
    }
   ],
   "source": [
    "sipp_noncitizens['winsorized_num_hh'] = winsorize(sipp_noncitizens['num_hh'], (0.0, 0.04))\n",
    "\n",
    "sns.boxplot(x = 'num_hh', data = sipp_noncitizens)\n",
    "plt.xlabel('Box Plot of num_hh')\n",
    "plt.show()\n",
    "\n",
    "sns.boxplot(x = 'winsorized_num_hh', data = sipp_noncitizens)\n",
    "plt.xlabel('Box Plot of winsorized_num_hh')\n",
    "\n",
    "plt.show()"
   ]
  },
  {
   "cell_type": "markdown",
   "metadata": {},
   "source": [
    "The feature measuring the number of workers in the household has extreme measures on the right end of the distribution and I capped it at the 89th percentile. "
   ]
  },
  {
   "cell_type": "code",
   "execution_count": 122,
   "metadata": {},
   "outputs": [
    {
     "data": {
      "image/png": "[encoded data removed]",
      "text/plain": [
       "<Figure size 432x288 with 1 Axes>"
      ]
     },
     "metadata": {
      "needs_background": "light"
     },
     "output_type": "display_data"
    },
    {
     "data": {
      "image/png": "[encoded data removed]",
      "text/plain": [
       "<Figure size 432x288 with 1 Axes>"
      ]
     },
     "metadata": {
      "needs_background": "light"
     },
     "output_type": "display_data"
    }
   ],
   "source": [
    "sipp_noncitizens['winsorized_hh_workers'] = winsorize(sipp_noncitizens['hh_workers'], (0.0, 0.11))\n",
    "\n",
    "sns.boxplot(x = 'hh_workers', data = sipp_noncitizens)\n",
    "plt.xlabel('Box Plot of hh_workers')\n",
    "plt.show()\n",
    "\n",
    "sns.boxplot(x = 'winsorized_hh_workers', data = sipp_noncitizens)\n",
    "plt.xlabel('Box Plot of winsorized_hh_workers')\n",
    "\n",
    "plt.show()"
   ]
  },
  {
   "cell_type": "markdown",
   "metadata": {},
   "source": [
    "## Feature Selection"
   ]
  },
  {
   "cell_type": "markdown",
   "metadata": {},
   "source": [
    "### Categorical Variables\n",
    "\n",
    "The target variable and most of the prospective features are categorical, so a correlation matrix using the Pearson's correlation is not adequate to capture the strength of associations between the features and the target. Let us use Cramer's V to measure strengths of association below. I am using code from a thread on [Stack Overflow that corrects for bias that is common in the Cramer's V.](https://stackoverflow.com/questions/46498455/categorical-features-correlation/46498792#46498792) The correction is recommended by Wicher Bergsma in Bergsma, Wicher. 2013. “A Bias-Correction for Cramér’s V and Tschuprow’s T.” *Journal of the Korean Statistical Society* 42 (3): 323–28. https://doi.org/10.1016/j.jkss.2012.10.002.\n"
   ]
  },
  {
   "cell_type": "code",
   "execution_count": 123,
   "metadata": {},
   "outputs": [],
   "source": [
    "def cramers_v(confusion_matrix):\n",
    "    #   calculate Cramers V stat for categorial-categorial association.\n",
    "    #   uses correction from Bergsma, Wicher, 'A Bias-Correction for Cramer's V and Tschuprow's T, \n",
    "    #   Journal of the Korean Statistical Society 42 (2013): 323-328, https://doi.org/10.1016/j.jkss.2012.10.002\n",
    "    \n",
    "    chi2 = ss.chi2_contingency(confusion_matrix)[0]\n",
    "    n = confusion_matrix.sum()\n",
    "    phi2 = chi2 / n\n",
    "    r, k = confusion_matrix.shape\n",
    "    phi2corr = max(0, phi2 - ((k-1)*(r-1))/(n-1))\n",
    "    rcorr = r - ((r-1)**2)/(n-1)\n",
    "    kcorr = k - ((k-1)**2)/(n-1)\n",
    "    return np.sqrt(phi2corr / min((kcorr-1), (rcorr-1)))"
   ]
  },
  {
   "cell_type": "code",
   "execution_count": 124,
   "metadata": {},
   "outputs": [
    {
     "name": "stdout",
     "output_type": "stream",
     "text": [
      "'unauthorized' and hh_related: 0.1987136665792486\n",
      "'unauthorized' and job: 0.134513569319962\n",
      "'unauthorized' and insurance: 0.34689886201197256\n",
      "'unauthorized' and female: 0.09256575637025438\n",
      "'unauthorized' and hispanic_latino: 0.18706799230523355\n",
      "'unauthorized' and hhcitizen: 0.07729358930707295\n",
      "'unauthorized' and age_group: 0.2144373493960914\n",
      "'unauthorized' and region_birth: 0.24620236217578775\n",
      "'unauthorized' and english: 0.13364524998685903\n",
      "'unauthorized' and educ: 0.11257194092293407\n",
      "'unauthorized' and state: 0.10262046628776147\n"
     ]
    }
   ],
   "source": [
    "categorical_list = ['hh_related', 'job', 'insurance', 'female', 'hispanic_latino', 'hhcitizen', 'age_group', 'region_birth', 'english', 'educ', 'state']\n",
    "\n",
    "\n",
    "for i in categorical_list:\n",
    "    confusion_matrix = pd.crosstab(sipp_noncitizens['unauthorized'], sipp_noncitizens[i]).as_matrix()\n",
    "    print(\"'unauthorized' and \" + i + ': {}'.format(cramers_v(confusion_matrix)))"
   ]
  },
  {
   "cell_type": "markdown",
   "metadata": {},
   "source": [
    "None of the categorical features are strongly correlated with the unauthorized immigrant measure. The feature with the strongest relationship with the target is the insurance measure, followed by region of birth ('region_birth'), and age group (.21). Even though over 60% of unauthorized immigrants are Hispanic or Latino, that measure is only correlated at .19. The feature measuring whether everyone in the household is related or not is slightly more strongly correlated the target than the ethnicity measure. "
   ]
  },
  {
   "cell_type": "markdown",
   "metadata": {},
   "source": [
    "### Continuous and Categorical Relationships\n",
    "\n",
    "I am going to use Bipoint Serial Correlation to measure the strength of the association between the target variable and the continuous variable features. "
   ]
  },
  {
   "cell_type": "code",
   "execution_count": 125,
   "metadata": {},
   "outputs": [
    {
     "name": "stdout",
     "output_type": "stream",
     "text": [
      "'unauthorized' and winsorized_years_us:\n",
      "PointbiserialrResult(correlation=-0.16403734079583648, pvalue=2.0552867277589584e-35)\n",
      "\n",
      "'unauthorized' and winsorized_num_hh:\n",
      "PointbiserialrResult(correlation=0.09019259577735428, pvalue=1.0755377321550078e-11)\n",
      "\n",
      "'unauthorized' and winsorized_hh_workers:\n",
      "PointbiserialrResult(correlation=0.06583233980254882, pvalue=7.205852714323622e-07)\n",
      "\n",
      "'unauthorized' and winsorized_poverty:\n",
      "PointbiserialrResult(correlation=-0.12359274076376381, pvalue=1.0635303293196036e-20)\n",
      "\n"
     ]
    }
   ],
   "source": [
    "numerical_list = ['winsorized_years_us', 'winsorized_num_hh', 'winsorized_hh_workers', 'winsorized_poverty']\n",
    "\n",
    "\n",
    "for i in numerical_list:\n",
    "    pbc = pointbiserialr(sipp_noncitizens['unauthorized'], sipp_noncitizens[i])\n",
    "    print(\"'unauthorized' and \" + i + ':\\n{}\\n'.format(pbc))"
   ]
  },
  {
   "cell_type": "markdown",
   "metadata": {},
   "source": [
    "None of the continuous measures are strongly correlated with the unauthorized measure either. The duration of U.S. residence ('winsorized_years_us') is only correlated with 'unauthorized' at .16. Poverty only is correlated with the target at .12. \n",
    "\n",
    "Winsorizing the the dummy measuring the number of workers in the household made me concerned that capping the extreme values caused us to lose explanatory power because unauthorized immigrants live in households with a large number of people with jobs than even legal noncitizens. To see if this is the case, I ran bipoint serial correlations with the non-winsorized versions of the continuous features. Capping extreme values improved the features' relationships with the target variable for three of the four features. As I suspected, it weakened the relationship between 'hh_workers' and 'unauthorized' (non-winsorized version has a correlation of almost .1 vs .66 for the winsorized version). "
   ]
  },
  {
   "cell_type": "code",
   "execution_count": 126,
   "metadata": {},
   "outputs": [
    {
     "name": "stdout",
     "output_type": "stream",
     "text": [
      "'unauthorized' and years_us:\n",
      "PointbiserialrResult(correlation=-0.16357609631133607, pvalue=3.197083974297821e-35)\n",
      "\n",
      "'unauthorized' and num_hh:\n",
      "PointbiserialrResult(correlation=0.08593405808161501, pvalue=9.549844029536535e-11)\n",
      "\n",
      "'unauthorized' and hh_workers:\n",
      "PointbiserialrResult(correlation=0.09615698430528749, pvalue=4.246647150188171e-13)\n",
      "\n",
      "'unauthorized' and poverty:\n",
      "PointbiserialrResult(correlation=-0.09825396058806597, pvalue=1.299005789114536e-13)\n",
      "\n"
     ]
    }
   ],
   "source": [
    "numerical_list = ['years_us', 'num_hh', 'hh_workers', 'poverty']\n",
    "\n",
    "\n",
    "for i in numerical_list:\n",
    "    pbc = pointbiserialr(sipp_noncitizens['unauthorized'], sipp_noncitizens[i])\n",
    "    print(\"'unauthorized' and \" + i + ':\\n{}\\n'.format(pbc))"
   ]
  },
  {
   "cell_type": "markdown",
   "metadata": {},
   "source": [
    "### Feature Set\n",
    "\n",
    "Ranking Strength of Relationships Between Target and Categoricals:\n",
    "- 'unauthorized' and insurance: 0.34689886201197256\n",
    "- 'unauthorized' and region_birth: 0.24620236217578775\n",
    "- 'unauthorized' and age_group: 0.2144373493960914\n",
    "- 'unauthorized' and hh_related: 0.1987136665792486\n",
    "- 'unauthorized' and hispanic_latino: 0.18706799230523355\n",
    "- 'unauthorized' and job: 0.134513569319962\n",
    "- 'unauthorized' and english: 0.13364524998685903\n",
    "- 'unauthorized' and educ: 0.11257194092293407\n",
    "- 'unauthorized' and state: 0.10262046628776147\n",
    "- 'unauthorized' and female: 0.09256575637025438\n",
    "- 'unauthorized' and hhcitizen: 0.07729358930707295\n",
    "\n",
    "Ranking Correlations Between Target and Continuous Features:\n",
    "- unauthorized and winsorized_years_us: .164\n",
    "- unauthorized and winsorized_poverty: .12\n",
    "- unauthorized and hh_workers: .097\n",
    "- unauthorized and winsorized_num_hh: .09\n",
    "\n",
    "The pool of features that are based on three major studies estimating the size of the unauthorized immigrant population in the United States is not an impressive one. The measure with the strongest association with the target variable is the insurance measure, which has a Cramer's V statistic of .35, which is objectively rather weak. Of the five features that are below 'insurance' on a ranked list (by strength of association with the target), the Cramer's V statistics ranges from .25 for region of birth to .19 for being Hispanic or Latino. The continuous features also have weak correlations with 'unauthorized,' with length of U.S. residence being the strongest one (a bipoint serial correlation of .16). \n",
    "\n",
    "I am going to move forward with the following features for the analysis:\n",
    "- *insurance*\n",
    "- *region_birth*\n",
    "- *age_group*\n",
    "- *hh_related*: are all household members related?\n",
    "- *hispanic_latino*\n",
    "- *job*: categorical classifying job industry (including a level for being unemployed)\n",
    "- *english*: ordinal measuring English proficiency\n",
    "- *winsorized_years_us*\n",
    "\n",
    "These are all categorical measures, so I will covert them to series of dummy variables. The first five features on the list are relatively more strongly correlated with the unauthorized status than the others, but I will also include employment classification and English proficiency. English proficiency shows a clear inverse relationship between speaking the language very well and immigration status and unauthorized workers are more likely to be working in the construction industry than lawfully present noncitizens (and citizens as well).\n"
   ]
  },
  {
   "cell_type": "code",
   "execution_count": 157,
   "metadata": {},
   "outputs": [],
   "source": [
    "# Creating a features dataframe\n",
    "\n",
    "sipp_ncfeatures = sipp_noncitizens[['unauthorized', 'insurance', 'region_birth', 'age_group', 'job', 'english', 'hh_related', 'hispanic_latino', 'state', 'winsorized_years_us' ]]"
   ]
  },
  {
   "cell_type": "code",
   "execution_count": 163,
   "metadata": {},
   "outputs": [
    {
     "data": {
      "image/png": "[encoded data removed]",
      "text/plain": [
       "<Figure size 1512x792 with 2 Axes>"
      ]
     },
     "metadata": {
      "needs_background": "light"
     },
     "output_type": "display_data"
    }
   ],
   "source": [
    "plt.figure(figsize = (21,11))\n",
    "sns.heatmap(sipp_ncfeatures.corr(), square = True, annot = True, linewidths = .5)\n",
    "\n",
    "plt.title(\"Features Correlation Matrix Heat Map \\n (Prior to One-Hot Encoding)\", fontsize=14)\n",
    "\n",
    "plt.show()\n"
   ]
  },
  {
   "cell_type": "code",
   "execution_count": 132,
   "metadata": {},
   "outputs": [],
   "source": [
    "sipp_ncfeatures = pd.get_dummies(sipp_ncfeatures, columns = ['insurance', 'region_birth', 'age_group', 'job', 'english'], drop_first = True)"
   ]
  },
  {
   "cell_type": "code",
   "execution_count": 133,
   "metadata": {},
   "outputs": [
    {
     "data": {
      "text/plain": [
       "0.0    4113\n",
       "1.0    1544\n",
       "Name: unauthorized, dtype: int64"
      ]
     },
     "execution_count": 133,
     "metadata": {},
     "output_type": "execute_result"
    }
   ],
   "source": [
    "sipp_ncfeatures.unauthorized.value_counts()"
   ]
  },
  {
   "cell_type": "markdown",
   "metadata": {},
   "source": [
    "### Resampling to Mitigate Class Imbalance"
   ]
  },
  {
   "cell_type": "markdown",
   "metadata": {},
   "source": [
    "Our target has a class imbalance, as roughly 73% of noncitizens are likely legal and 27% are likely unauthorized. I am going to upsample unauthorized immigrants to balance the target in the the training data and then test the model on the test data. "
   ]
  },
  {
   "cell_type": "code",
   "execution_count": 134,
   "metadata": {},
   "outputs": [],
   "source": [
    "# Shuffling the dataframe before splitting\n",
    "\n",
    "sipp_ncfeatures.sample(frac = 1)\n",
    "\n",
    "y = sipp_ncfeatures.unauthorized\n",
    "X = sipp_ncfeatures.drop(['pid', 'unauthorized'], axis = 1)\n",
    "\n",
    "# Setting training and testing sets\n",
    "\n",
    "\n",
    "X_train, X_test, y_train, y_test = train_test_split(X, y, test_size = .20, random_state = 15)\n",
    "\n",
    "# Bringing the training data back together\n",
    "\n",
    "training = pd.concat([X_train, y_train], axis = 1)\n",
    "\n",
    "# separate minority and majority classes\n",
    "\n",
    "legal = training[training.unauthorized == 0]\n",
    "unauth = training[training.unauthorized == 1]\n",
    "\n",
    "unauth_upsampled = resample(unauth, \n",
    "                           replace = True, # sample with replacement\n",
    "                           n_samples = len(legal), # match number in majority class\n",
    "                           random_state = 30)\n",
    "\n",
    "# combine majority and upsampled minority\n",
    "\n",
    "upsampled = pd.concat([legal, unauth_upsampled])\n",
    "\n",
    "ytr_upsampled = upsampled.unauthorized\n",
    "Xtr_upsampled = upsampled.drop('unauthorized', axis = 1)"
   ]
  },
  {
   "cell_type": "markdown",
   "metadata": {},
   "source": [
    "### Machine Learning: Naive Bayes"
   ]
  },
  {
   "cell_type": "markdown",
   "metadata": {},
   "source": [
    "I will first use Naive Bayes Classifier with a Bernoulli distribution without tuning any of the hyperparameters to set a benchmark to compare with other models. I will focus on classification accuracy scores, false positive and false negative rates, and sensitivity and specificity rates as metrics to evaluate model performance. "
   ]
  },
  {
   "cell_type": "code",
   "execution_count": 135,
   "metadata": {},
   "outputs": [
    {
     "name": "stdout",
     "output_type": "stream",
     "text": [
      "[72.65861027 73.11178248 71.45015106 71.45015106 71.90332326 70.39274924\n",
      " 72.35649547 72.65861027 73.63636364 68.93939394]\n",
      "Mean Cross Validation Accuracy Score is 71.9%\n"
     ]
    }
   ],
   "source": [
    "bnb = BernoulliNB()\n",
    "\n",
    "scores = cross_val_score(bnb, Xtr_upsampled, ytr_upsampled, cv = 10)\n",
    "print(scores*100)\n",
    "print('Mean Cross Validation Accuracy Score is {}%'.format(round(scores.mean()*100, 1)))"
   ]
  },
  {
   "cell_type": "markdown",
   "metadata": {},
   "source": [
    "Our mean accuracy score using 10-fold cross-validation on the training data is 72% and the scores do not fluctuate very much. This does not knock us off of our feet, but considering how poorly the individual features were correlated with our target variable, this is a respectable number. Let us see how it performs on the test set. "
   ]
  },
  {
   "cell_type": "code",
   "execution_count": 136,
   "metadata": {},
   "outputs": [],
   "source": [
    "y_pred = bnb.fit(Xtr_upsampled, ytr_upsampled).predict(X_test)"
   ]
  },
  {
   "cell_type": "code",
   "execution_count": 137,
   "metadata": {},
   "outputs": [
    {
     "name": "stdout",
     "output_type": "stream",
     "text": [
      "Accuracy on the Test Set: 68.9%\n"
     ]
    }
   ],
   "source": [
    "print('Accuracy on the Test Set: {}%'.format(round(accuracy_score(y_test, y_pred)*100, 1)))"
   ]
  },
  {
   "cell_type": "markdown",
   "metadata": {},
   "source": [
    "The accuracy score on the test set is 68.9%, which is not a huge drop-off from the training set, which suggests that we may not be overfitting the data with our model. But, accuracy scores with an imbalanced target variable are not optimal measures. So, we should explore a confusion matrix to get a better portrait of how the models performs on the data. "
   ]
  },
  {
   "cell_type": "code",
   "execution_count": 138,
   "metadata": {},
   "outputs": [
    {
     "data": {
      "text/html": [
       "<div>\n",
       "<style scoped>\n",
       "    .dataframe tbody tr th:only-of-type {\n",
       "        vertical-align: middle;\n",
       "    }\n",
       "\n",
       "    .dataframe tbody tr th {\n",
       "        vertical-align: top;\n",
       "    }\n",
       "\n",
       "    .dataframe thead th {\n",
       "        text-align: right;\n",
       "    }\n",
       "</style>\n",
       "<table border=\"1\" class=\"dataframe\">\n",
       "  <thead>\n",
       "    <tr style=\"text-align: right;\">\n",
       "      <th>col_0</th>\n",
       "      <th>0.0</th>\n",
       "      <th>1.0</th>\n",
       "      <th>All</th>\n",
       "    </tr>\n",
       "    <tr>\n",
       "      <th>unauthorized</th>\n",
       "      <th></th>\n",
       "      <th></th>\n",
       "      <th></th>\n",
       "    </tr>\n",
       "  </thead>\n",
       "  <tbody>\n",
       "    <tr>\n",
       "      <th>0.0</th>\n",
       "      <td>547</td>\n",
       "      <td>258</td>\n",
       "      <td>805</td>\n",
       "    </tr>\n",
       "    <tr>\n",
       "      <th>1.0</th>\n",
       "      <td>94</td>\n",
       "      <td>233</td>\n",
       "      <td>327</td>\n",
       "    </tr>\n",
       "    <tr>\n",
       "      <th>All</th>\n",
       "      <td>641</td>\n",
       "      <td>491</td>\n",
       "      <td>1132</td>\n",
       "    </tr>\n",
       "  </tbody>\n",
       "</table>\n",
       "</div>"
      ],
      "text/plain": [
       "col_0         0.0  1.0   All\n",
       "unauthorized                \n",
       "0.0           547  258   805\n",
       "1.0            94  233   327\n",
       "All           641  491  1132"
      ]
     },
     "execution_count": 138,
     "metadata": {},
     "output_type": "execute_result"
    }
   ],
   "source": [
    "# Confusion_matrix using Pandas Crosstab \n",
    "pd.crosstab(y_test, y_pred, margins = True)"
   ]
  },
  {
   "cell_type": "code",
   "execution_count": 139,
   "metadata": {},
   "outputs": [
    {
     "name": "stdout",
     "output_type": "stream",
     "text": [
      "False Positives: 52.5%\n",
      "False Negatives: 14.7%\n",
      "Sensitivity: 71.3%\n",
      "Specificity: 68.0%\n"
     ]
    }
   ],
   "source": [
    "# False Positives \n",
    "print('False Positives: {}%'.format((round(((258/491)*100), 1))))\n",
    "\n",
    "# False Negatives\n",
    "print('False Negatives: {}%'.format((round(((94/641)*100), 1))))\n",
    "\n",
    "# Sensitivity\n",
    "print('Sensitivity: {}%'.format((round(((233/327)*100), 1))))\n",
    "\n",
    "# Specificity\n",
    "\n",
    "print('Specificity: {}%'.format((round(((547/805)*100), 1))))"
   ]
  },
  {
   "cell_type": "markdown",
   "metadata": {},
   "source": [
    "Looking more closely, we get 52.5% false positives and get 14.7% false negatives. Most of our predictions of unauthorized immigrants are way off the mark, but we do a reasonably good job of identifying legal noncitizens. Of the unauthorized population, we identify 71% of them as actually unauthorized, which means that we incorrectly identify 29% as legal. On the other side, we identify 68% of legal noncitizens as legal and classify 32% as unauthorized. There is clearly a lot of room for improvement. Maybe tuning the hyperparameters improves the model's performance.  "
   ]
  },
  {
   "cell_type": "markdown",
   "metadata": {},
   "source": [
    "### Using Bayesian Optimization to Tune the Hyperparameters\n",
    "\n",
    "To tune the hyperparameters for the models, I am going to use [Hyperopt](https://pdfs.semanticscholar.org/d4f4/9717c9adb46137f49606ebbdf17e3598b5a5.pdf), a package utilizing Bayesian optimization (or Sequential Model Based Optimization (SMBO)) to select the best hyperparameters for a model. I initially used the most common approaches, exhaustive and randomized grid searches (gridsearchcv and randomizedsearch in scikit-learn), but they both took very long times to run. As an experiment, I attempted to tune a Support Vector Classifier first, and both grid and randomized searches took ran for over 24 hours before they were complete. On the other hand, after investing time to learn about SMBO and how to implement it hyperopt, I was able to tune the SVC in approximately 20 minutes. \n",
    "\n",
    "The Bayesian method logs evaluation results and forms a probabilistic model that maps hyperparameters to a probability score of the function that is being tuned (the objective function): \n",
    "\n",
    "\\begin{align*}\n",
    "p(score|hyperparameters)\n",
    "\\end{align*}\n",
    "\n",
    "\n",
    "This model is called the \"surrogate\" for the objective function and it is easier and less time-consuming to optimize than the objective function. In this process, the function works by first randomly selecting a set of hyperparameters to evaluate, storing the results, and using specific criteria to in learning from performance in previous trials to inform how it selects the next set of hyperparameters to evaluate. Hyperopt's default criteria uses an \"expected improvement\" function to guide its next hyperparameter selection. It performs this process until it reaches a threshold for the number of trials that the user dictates in setting up the algorithm.\n",
    "\n",
    "Hyperopt offers two estimators to use for the surrogate function, which builds the model mapping hyperparameters to probabilities: the Tree-Structure Parzen Estimator (TPE) and a random search estimator. [The TPE usually performs better than random search and does so in fewer iterations.](https://towardsdatascience.com/a-conceptual-explanation-of-bayesian-model-based-hyperparameter-optimization-for-machine-learning-b8172278050f) Thus, I will use TPE.\n",
    "\n",
    "Because the Bayesian approach learns about the results of the tuning process and updates its selection function as it goes along, it finds optimal hyperparameters in much less time than exhaustive grid searches and randomized searches. \n",
    "\n",
    "To user hyperopt, users must:\n",
    "- define their objective function (the function to be tuned), then\n",
    "- define and populate the search space with hyperparameters and values to be evaluated\n",
    "- define the metrics that the objective function returns to the surrogate function \n",
    "- select the optimization algorithm and the number of trials that Hyperopt uses as part of the 'fmin' function. (fmin is the optimization function). \n",
    "\n",
    "\n",
    "Hyperopt's main algorithm minimizes the objective function that it is fed, hence its name is \"fmin.\" I'm going to maximize the cross-validation accuracy score using the default five folds, so I will instruct it to minimize the negative of the cv score."
   ]
  },
  {
   "cell_type": "code",
   "execution_count": 140,
   "metadata": {},
   "outputs": [
    {
     "name": "stdout",
     "output_type": "stream",
     "text": [
      "100%|██████████| 100/100 [00:04<00:00, 22.29it/s, best loss: -0.7162915416844232]\n",
      "The best parameters are: {'alpha': 1.4257028262609563, 'fit_prior': False}\n"
     ]
    }
   ],
   "source": [
    "# Using Hyperopt to select the best parameters for Naive Bayes\n",
    "\n",
    "# Defining the objective function. The cross validation algorithm uses five folds for its\n",
    "# default setting, which I am using here. \n",
    "\n",
    "def hyperopt_train_test(params):\n",
    "    clf = BernoulliNB(**params)\n",
    "    return cross_val_score(clf, Xtr_upsampled, ytr_upsampled).mean()\n",
    "\n",
    "# Populating the search space with hyperparameters and values to evaluate\n",
    "\n",
    "space = {\n",
    "    'alpha': hp.uniform('alpha', 0.001, 100.0),\n",
    "    'fit_prior': hp.choice('fit_prior', [False, True])\n",
    "}\n",
    "\n",
    "# Telling Hyperopt to minimize the negative of the CV accuracy score, which will \n",
    "# prompt the algorithm to maximize the function rather than minimize it.\n",
    "\n",
    "def f(params):\n",
    "    acc = hyperopt_train_test(params)\n",
    "    return {'loss': -acc, 'status': STATUS_OK}\n",
    "\n",
    "# Setting random state seed and populating fmin with optimization algorithm (TPE), \n",
    "# number of trials (max_evals), and the trials list where evaluation scores are stored.\n",
    "\n",
    "seed = 90\n",
    "trials = Trials()\n",
    "\n",
    "# 'best' will store the optimal set of hyperparameters\n",
    "best = fmin(f, space, \n",
    "            # Selecting TPE as the estimator\n",
    "            algo = tpe.suggest, \n",
    "            \n",
    "            # Selecting 100 Trials\n",
    "            max_evals = 100, \n",
    "            \n",
    "            # Telling algorithm where to store trial results\n",
    "            trials = trials,\n",
    "            \n",
    "            # Setting random state seed to reproduce results in the future\n",
    "            rstate = np.random.RandomState(seed))\n",
    "\n",
    "\n",
    "print('The best parameters are: {}'.format(space_eval(space, best)))"
   ]
  },
  {
   "cell_type": "markdown",
   "metadata": {},
   "source": [
    "Hyperopt found that the optimal hyperparameters for Naive Bayes Bernoulli are alpha (La Place smoothing) of 1.425... and fit_prior = false (so NB will use a uniform prior instead of trying to learn the prior probabilities of the classes for *unauthorized*). Below I refit the model to use the best parameters and test it on the test set. \n",
    "\n",
    "It returned a cross validation mean accuracy score of 71.6%, as the best loss value above is -.716.... Hyperopt returns a negative value for the accuracy score, even though you set it to negative in the code to ensure that it maximizes accuracy, rather than minimizing it. "
   ]
  },
  {
   "cell_type": "code",
   "execution_count": 141,
   "metadata": {},
   "outputs": [
    {
     "name": "stdout",
     "output_type": "stream",
     "text": [
      "0.6890459363957597\n"
     ]
    }
   ],
   "source": [
    "# Refitting the model with the optimal hyperparameters on the training set and then \n",
    "# running it on the test set \n",
    "bnb_hyperopt = BernoulliNB(alpha = 1.4257028262609563, fit_prior = False)\n",
    "\n",
    "bnb_hyperopt.fit(Xtr_upsampled, ytr_upsampled)\n",
    "y_pred = bnb_hyperopt.predict(X_test)\n",
    "print(accuracy_score(y_pred, y_test))"
   ]
  },
  {
   "cell_type": "code",
   "execution_count": 142,
   "metadata": {},
   "outputs": [
    {
     "data": {
      "text/html": [
       "<div>\n",
       "<style scoped>\n",
       "    .dataframe tbody tr th:only-of-type {\n",
       "        vertical-align: middle;\n",
       "    }\n",
       "\n",
       "    .dataframe tbody tr th {\n",
       "        vertical-align: top;\n",
       "    }\n",
       "\n",
       "    .dataframe thead th {\n",
       "        text-align: right;\n",
       "    }\n",
       "</style>\n",
       "<table border=\"1\" class=\"dataframe\">\n",
       "  <thead>\n",
       "    <tr style=\"text-align: right;\">\n",
       "      <th>col_0</th>\n",
       "      <th>0.0</th>\n",
       "      <th>1.0</th>\n",
       "      <th>All</th>\n",
       "    </tr>\n",
       "    <tr>\n",
       "      <th>unauthorized</th>\n",
       "      <th></th>\n",
       "      <th></th>\n",
       "      <th></th>\n",
       "    </tr>\n",
       "  </thead>\n",
       "  <tbody>\n",
       "    <tr>\n",
       "      <th>0.0</th>\n",
       "      <td>547</td>\n",
       "      <td>258</td>\n",
       "      <td>805</td>\n",
       "    </tr>\n",
       "    <tr>\n",
       "      <th>1.0</th>\n",
       "      <td>94</td>\n",
       "      <td>233</td>\n",
       "      <td>327</td>\n",
       "    </tr>\n",
       "    <tr>\n",
       "      <th>All</th>\n",
       "      <td>641</td>\n",
       "      <td>491</td>\n",
       "      <td>1132</td>\n",
       "    </tr>\n",
       "  </tbody>\n",
       "</table>\n",
       "</div>"
      ],
      "text/plain": [
       "col_0         0.0  1.0   All\n",
       "unauthorized                \n",
       "0.0           547  258   805\n",
       "1.0            94  233   327\n",
       "All           641  491  1132"
      ]
     },
     "execution_count": 142,
     "metadata": {},
     "output_type": "execute_result"
    }
   ],
   "source": [
    "# Investigating confusion matrix to assess the model's performance\n",
    "\n",
    "pd.crosstab(y_test, y_pred, margins = True)"
   ]
  },
  {
   "cell_type": "markdown",
   "metadata": {},
   "source": [
    "Tuning the alpha (La Place smoothing) parameter nor setting a uniform prior did not change the performance. The confusion matrix is exactly the same as the \"untuned\" Naive Bayes Bernoulli model. \n",
    "\n",
    "While tuning the Naive Bayes Classifier did not improve the model's performance, it does not mean that tuning other machine learning algorithms will lead to similar results. Let us also use Hyperopt to tune K-Nearest Neighbors, Random Forests, and a Gradient Boosting Classifier to see if they improve our model's ability to correctly identity unauthorized noncitizens.  "
   ]
  },
  {
   "cell_type": "markdown",
   "metadata": {},
   "source": [
    "### K-Nearest Neighbors"
   ]
  },
  {
   "cell_type": "markdown",
   "metadata": {},
   "source": [
    "For KNN, we will have the optimization algorithm evaluate the following hyperparameters and values:\n",
    "- n_neighbors: 1 to 20\n",
    "- weights: uniform or distance\n",
    "- algorithm: Ball Tree, KD Tree, or brute force search"
   ]
  },
  {
   "cell_type": "code",
   "execution_count": 143,
   "metadata": {
    "scrolled": true
   },
   "outputs": [
    {
     "name": "stdout",
     "output_type": "stream",
     "text": [
      "100%|██████████| 100/100 [01:19<00:00,  1.26it/s, best loss: -0.828296884863862]\n",
      "The best parameters are: {'algorithm': 'brute', 'n_neighbors': 3, 'weights': 'distance'}\n"
     ]
    }
   ],
   "source": [
    "def hyperopt_train_test(params):\n",
    "    clf = KNeighborsClassifier(**params)\n",
    "    return cross_val_score(clf, Xtr_upsampled, ytr_upsampled).mean()\n",
    "\n",
    "space = {\n",
    "    'n_neighbors': hp.choice('n_neighbors', range(1, 20)),\n",
    "    'weights': hp.choice('weights', ['uniform', 'distance']),\n",
    "    'algorithm': hp.choice('algorithm', ['ball_tree', 'kd_tree', 'brute']),\n",
    "}\n",
    "\n",
    "def f(params):\n",
    "    acc = hyperopt_train_test(params)\n",
    "    return {'loss': -acc, 'status': STATUS_OK}\n",
    "\n",
    "seed = 90\n",
    "trials = Trials()\n",
    "best = fmin(f, space, algo = tpe.suggest, max_evals = 100, trials = trials,\n",
    "            rstate = np.random.RandomState(seed))\n",
    "print('The best parameters are: {}'.format(space_eval(space, best)))"
   ]
  },
  {
   "cell_type": "markdown",
   "metadata": {},
   "source": [
    "The best parameters are the brute force search algorithm, 3 neighbors, and distance weights. It achieved a mean of 83% accuracy (best loss value of -.828...)."
   ]
  },
  {
   "cell_type": "code",
   "execution_count": null,
   "metadata": {},
   "outputs": [],
   "source": [
    "# Running the optimal KNN on the test set.\n",
    "\n",
    "knn =  KNeighborsClassifier(algorithm = 'brute', n_neighbors= 3, weights = 'distance')\n",
    "print('Accuracy Score on Test Set: {}'.format(knn.fit(Xtr_upsampled, ytr_upsampled).score(X_test, y_test)))"
   ]
  },
  {
   "cell_type": "code",
   "execution_count": null,
   "metadata": {},
   "outputs": [],
   "source": [
    "# Creating a confusion matrix of the true target values in the test set vs the predicted\n",
    "# ones. \n",
    "knn = KNeighborsClassifier(algorithm = 'brute', n_neighbors = 3, weights = 'distance')\n",
    "\n",
    "y_pred = knn.fit(Xtr_upsampled, ytr_upsampled).predict(X_test)\n",
    "\n",
    "#confusion_matrix(y_test, y_pred)\n",
    "pd.crosstab(y_test, y_pred, margins = True)"
   ]
  },
  {
   "cell_type": "code",
   "execution_count": null,
   "metadata": {},
   "outputs": [],
   "source": [
    "# False Positives \n",
    "print('False Positives: {}%'.format((round(((155/286)*100), 1))))\n",
    "\n",
    "# False Negatives\n",
    "print('False Negatives: {}%'.format((round(((196/846)*100), 1))))\n",
    "\n",
    "# Sensitivity\n",
    "print('Sensitivity: {}%'.format((round(((131/327)*100), 1))))\n",
    "\n",
    "# Specificity\n",
    "\n",
    "print('Specificity: {}%'.format((round(((650/805)*100), 1))))"
   ]
  },
  {
   "cell_type": "markdown",
   "metadata": {},
   "source": [
    "The KNN model fared worse than the Naive Bayes Classifier in a few ways. There is a greater percentage of false positives and false negatives. The model also does a worse job in identifying unauthorized immigrants. On the other hand, it correctly classified more legal noncitizens than Naive Bayes. We will now try Support Vector Classifier."
   ]
  },
  {
   "cell_type": "markdown",
   "metadata": {},
   "source": [
    "### Support Vector Machines\n",
    "\n",
    "In tuning the Support Vector Classifier, we are going to evaluate the following:\n",
    "- kernels: linear, sigmoid, and rbf\n",
    "- C (regularization parameter): the algorithm will randomly evaluate values from .001 to 100\n",
    "- gamma: values along a uniform distribution from .0001 to 100.\n",
    "\n",
    "I attempted to include the polynomial kernel (and degrees), but neither Hyperopt nor the exhaustive or randomized grid searches were able to efficiently evaluate them. The algorithms would hang, including gridsearch and randomized search algorithms for over 24 hours for each. I was unable to solve the problem in a timely manner and decided to exclude the polynomial kernel. "
   ]
  },
  {
   "cell_type": "code",
   "execution_count": null,
   "metadata": {},
   "outputs": [],
   "source": [
    "# Tuning SVC\n",
    "\n",
    "def hyperopt_train_test(params):\n",
    "    clf = svm.SVC(**params)\n",
    "    return cross_val_score(clf, Xtr_upsampled, ytr_upsampled).mean()\n",
    "\n",
    "space = {\n",
    "    'kernel': hp.choice('kernel', ['linear', 'sigmoid', 'rbf']),\n",
    "    'C': hp.uniform('C', .001, 100),\n",
    "    'gamma': hp.uniform('gamma', 0.0001, 100),\n",
    "}\n",
    "\n",
    "def f(params):\n",
    "    acc = hyperopt_train_test(params)\n",
    "    return {'loss': -acc, 'status': STATUS_OK}\n",
    "\n",
    "seed = 90\n",
    "trials = Trials()\n",
    "best = fmin(f, space, algo = tpe.suggest, max_evals = 100, trials = trials,\n",
    "            rstate = np.random.RandomState(seed))\n",
    "print('The best parameters are: {}'.format(space_eval(space, best)))"
   ]
  },
  {
   "cell_type": "markdown",
   "metadata": {},
   "source": [
    "The optimal set achieves a five-fold cross validation accuracy of about 89% on the training data (best loss: -.89...)"
   ]
  },
  {
   "cell_type": "markdown",
   "metadata": {},
   "source": [
    "Let's refit the model with the optimal hyperparameters and see how it works on the test set. "
   ]
  },
  {
   "cell_type": "code",
   "execution_count": null,
   "metadata": {},
   "outputs": [],
   "source": [
    "# Setting the SVC with the optimal set of hyperparameters. \n",
    "\n",
    "svc = svm.SVC(kernel = 'rbf', C = 51.33806537406653, gamma = 2.983636770940386)"
   ]
  },
  {
   "cell_type": "code",
   "execution_count": null,
   "metadata": {},
   "outputs": [],
   "source": [
    "# Getting the accuracy score for the tuned SVC on the test set. \n",
    "\n",
    "print('Accuracy Score on Test Set: {}%'.format(round(svc.fit(Xtr_upsampled, ytr_upsampled).score(X_test, y_test)*100, 1)))"
   ]
  },
  {
   "cell_type": "code",
   "execution_count": null,
   "metadata": {},
   "outputs": [],
   "source": [
    "# Creating a confusion matrix of the true target values in the test set vs the predicted\n",
    "# ones. \n",
    "\n",
    "y_pred = svc.fit(Xtr_upsampled, ytr_upsampled).predict(X_test)\n",
    "\n",
    "#confusion_matrix(y_test, y_pred)\n",
    "pd.crosstab(y_test, y_pred, margins = True)"
   ]
  },
  {
   "cell_type": "code",
   "execution_count": null,
   "metadata": {},
   "outputs": [],
   "source": [
    "# False Positives \n",
    "print('False Positives: {}%'.format((round(((66/125)*100), 1))))\n",
    "\n",
    "# False Negatives\n",
    "print('False Negatives: {}%'.format((round(((268/1007)*100), 1))))\n",
    "\n",
    "# Sensitivity\n",
    "print('Sensitivity: {}%'.format((round(((59/327)*100), 1))))\n",
    "\n",
    "# Specificity\n",
    "\n",
    "print('Specificity: {}%'.format((round(((739/805)*100), 1))))"
   ]
  },
  {
   "cell_type": "markdown",
   "metadata": {},
   "source": [
    "SVC, after tuning the hyperparameters to find the best fitting model, has average an cross validation accuracy score of about 89%, which is much better than what Naive Bayes achieved. Yet, it only achieves 70.5% accuracy on the test set, which indicates overfitting. If we take a closer look at the predictions in the confusion matrix, we see that SVC does a better job identifying legal noncitizens, but fares worse than KNN or Naive Bayes in other important ways. It fares poorly in identifying unauthorized immigrants, classifying only 18% of unauthorized noncitizens in the test set. We are still seeing over of the positive predictions being incorrectly identified with almost 53% false positives. It also has 27% false negatives, incorrectly identifying unauthorized citizens as having legal status. "
   ]
  },
  {
   "cell_type": "markdown",
   "metadata": {},
   "source": [
    "### Random Forest Classifier\n",
    "\n",
    "For the Random Forest Classifier, we will evaluate the following hyperparameters and their values:\n",
    "- max depth of the tree: range from 1 to 30\n",
    "- maximum number of features to consider when making the best split: range from 1 to 30\n",
    "- number of estimators/number of trees: range from 10 to 500\n",
    "- criterion measuring the quality of the split: either gini impurity or entropy (information gain)."
   ]
  },
  {
   "cell_type": "code",
   "execution_count": null,
   "metadata": {
    "scrolled": false
   },
   "outputs": [],
   "source": [
    "# Tuning Random Forest\n",
    "\n",
    "def hyperopt_train_test(params):\n",
    "    clf = RandomForestClassifier(**params)\n",
    "    return cross_val_score(clf, Xtr_upsampled, ytr_upsampled).mean()\n",
    "\n",
    "space = {'max_depth': hp.choice('max_depth', range(1,30)), \n",
    "         'max_features': hp.choice('max_features', range(1, 10)), \n",
    "         'n_estimators': hp.choice('n_estimators', range(10, 500)), \n",
    "         'criterion': hp.choice('criterion', [\"gini\", \"entropy\"]),\n",
    "}\n",
    "\n",
    "def f(params):\n",
    "    acc = hyperopt_train_test(params)\n",
    "    return {'loss': -acc, 'status': STATUS_OK}\n",
    "\n",
    "seed = 90 \n",
    "trials = Trials()\n",
    "best = fmin(f, space, algo = tpe.suggest, max_evals = 100, trials = trials,\n",
    "            rstate = np.random.RandomState(seed))\n",
    "print('The best parameters are: {}'.format(space_eval(space, best)))"
   ]
  },
  {
   "cell_type": "markdown",
   "metadata": {},
   "source": [
    "The model with the optimal hyperparameter set achieves a cross validation score of about 86% ( the 'best loss' above is -.858....)."
   ]
  },
  {
   "cell_type": "code",
   "execution_count": 132,
   "metadata": {},
   "outputs": [],
   "source": [
    "# Refitting the model with the optimal set of hyperparameters\n",
    "\n",
    "rfc = RandomForestClassifier(criterion = 'entropy', max_depth = 27, max_features = 6, n_estimators = 130)"
   ]
  },
  {
   "cell_type": "code",
   "execution_count": 133,
   "metadata": {},
   "outputs": [
    {
     "name": "stdout",
     "output_type": "stream",
     "text": [
      "Accuracy Score on Test Set: 71.6%\n"
     ]
    }
   ],
   "source": [
    "# Getting the optimal model's accuracy with the test set data.\n",
    "\n",
    "print('Accuracy Score on Test Set: {}%'.format((round(rfc.fit(Xtr_upsampled, ytr_upsampled).score(X_test, y_test)*100, 1))))"
   ]
  },
  {
   "cell_type": "code",
   "execution_count": 134,
   "metadata": {},
   "outputs": [
    {
     "data": {
      "text/html": [
       "<div>\n",
       "<style scoped>\n",
       "    .dataframe tbody tr th:only-of-type {\n",
       "        vertical-align: middle;\n",
       "    }\n",
       "\n",
       "    .dataframe tbody tr th {\n",
       "        vertical-align: top;\n",
       "    }\n",
       "\n",
       "    .dataframe thead th {\n",
       "        text-align: right;\n",
       "    }\n",
       "</style>\n",
       "<table border=\"1\" class=\"dataframe\">\n",
       "  <thead>\n",
       "    <tr style=\"text-align: right;\">\n",
       "      <th>col_0</th>\n",
       "      <th>0.0</th>\n",
       "      <th>1.0</th>\n",
       "      <th>All</th>\n",
       "    </tr>\n",
       "    <tr>\n",
       "      <th>unauthorized</th>\n",
       "      <th></th>\n",
       "      <th></th>\n",
       "      <th></th>\n",
       "    </tr>\n",
       "  </thead>\n",
       "  <tbody>\n",
       "    <tr>\n",
       "      <th>0.0</th>\n",
       "      <td>648</td>\n",
       "      <td>157</td>\n",
       "      <td>805</td>\n",
       "    </tr>\n",
       "    <tr>\n",
       "      <th>1.0</th>\n",
       "      <td>159</td>\n",
       "      <td>168</td>\n",
       "      <td>327</td>\n",
       "    </tr>\n",
       "    <tr>\n",
       "      <th>All</th>\n",
       "      <td>807</td>\n",
       "      <td>325</td>\n",
       "      <td>1132</td>\n",
       "    </tr>\n",
       "  </tbody>\n",
       "</table>\n",
       "</div>"
      ],
      "text/plain": [
       "col_0         0.0  1.0   All\n",
       "unauthorized                \n",
       "0.0           648  157   805\n",
       "1.0           159  168   327\n",
       "All           807  325  1132"
      ]
     },
     "execution_count": 134,
     "metadata": {},
     "output_type": "execute_result"
    }
   ],
   "source": [
    "# Creating a confusion matrix \n",
    "\n",
    "y_pred = rfc.fit(Xtr_upsampled, ytr_upsampled).predict(X_test)\n",
    "\n",
    "#confusion_matrix(y_test, y_pred)\n",
    "pd.crosstab(y_test, y_pred, margins = True)"
   ]
  },
  {
   "cell_type": "code",
   "execution_count": 135,
   "metadata": {},
   "outputs": [
    {
     "name": "stdout",
     "output_type": "stream",
     "text": [
      "False Positives: 48.0%\n",
      "False Negatives: 19.6%\n",
      "Sensitivity: 51.7%\n",
      "Specificity: 80.6%\n"
     ]
    }
   ],
   "source": [
    "# False Positives \n",
    "print('False Positives: {}%'.format((round(((156/325)*100), 1))))\n",
    "\n",
    "# False Negatives\n",
    "print('False Negatives: {}%'.format((round(((158/807)*100), 1))))\n",
    "\n",
    "# Sensitivity\n",
    "print('Sensitivity: {}%'.format((round(((169/327)*100), 1))))\n",
    "\n",
    "# Specificity\n",
    "\n",
    "print('Specificity: {}%'.format((round(((649/805)*100), 1))))"
   ]
  },
  {
   "cell_type": "markdown",
   "metadata": {},
   "source": [
    "The tuned random forest classifier has a better performance than KNN or SVC, but it still fares worse than the other models on a pair of metrics. It has the highest accuracy score on the test set of all the models so far, which is about 72%. More importantly, it has a lower percentage of false positives than Naive Bayes and the others (48% compared to NB's 52.5%) and a higher specificity rate than NB, but lower than SVC (SVC's specificity is 91%). \n",
    "\n",
    "Unfortunately, it has a lower sensitivity rate than Naive Bayes (51.7% compared to 71.3%) and more false negatives (19.6% compared to 14.7%). "
   ]
  },
  {
   "cell_type": "markdown",
   "metadata": {},
   "source": [
    "#### Random Forest Feature Importance"
   ]
  },
  {
   "cell_type": "code",
   "execution_count": 140,
   "metadata": {},
   "outputs": [],
   "source": [
    "# udfs ----\n",
    "\n",
    "# function for creating a feature importance dataframe\n",
    "def imp_df(column_names, importances):\n",
    "    df = pd.DataFrame({'feature': column_names,\n",
    "                       'feature_importance': importances}) \\\n",
    "           .sort_values('feature_importance', ascending = False) \\\n",
    "           .reset_index(drop = True)\n",
    "    return df\n",
    "\n",
    "# plotting a feature importance dataframe (horizontal barchart)\n",
    "def var_imp_plot(imp_df, title):\n",
    "    imp_df.columns = ['feature', 'feature_importance']\n",
    "    sns.barplot(x = 'feature_importance', y = 'feature', data = imp_df, orient = 'h', color = 'royalblue') \\\n",
    "       .set_title(title, fontsize = 20)"
   ]
  },
  {
   "cell_type": "code",
   "execution_count": 141,
   "metadata": {},
   "outputs": [],
   "source": [
    "from sklearn.base import clone "
   ]
  },
  {
   "cell_type": "code",
   "execution_count": 146,
   "metadata": {},
   "outputs": [],
   "source": [
    "def drop_col_feat_imp(model, X_train, y_train, random_state = 40):\n",
    "    \n",
    "    # clone the model to have the exact same specification as the one initially trained\n",
    "    model_clone = clone(model)\n",
    "    # set random_state for comparability\n",
    "    model_clone.random_state = random_state\n",
    "    # training and scoring the benchmark model\n",
    "    model_clone.fit(X_train, y_train)\n",
    "    benchmark_score = model_clone.score(X_train, y_train)\n",
    "    # list for storing feature importances\n",
    "    importances = []\n",
    "    \n",
    "    # iterating over all columns and storing feature importance (difference between benchmark and new model)\n",
    "    for col in X_train.columns:\n",
    "        model_clone = clone(model)\n",
    "        model_clone.random_state = random_state\n",
    "        model_clone.fit(X_train.drop(col, axis = 1), y_train)\n",
    "        drop_col_score = model_clone.score(X_train.drop(col, axis = 1), y_train)\n",
    "        importances.append(benchmark_score - drop_col_score)\n",
    "    \n",
    "    importances_df = imp_df(X_train.columns, importances)\n",
    "    return importances_df"
   ]
  },
  {
   "cell_type": "code",
   "execution_count": 147,
   "metadata": {},
   "outputs": [
    {
     "data": {
      "text/html": [
       "<div>\n",
       "<style scoped>\n",
       "    .dataframe tbody tr th:only-of-type {\n",
       "        vertical-align: middle;\n",
       "    }\n",
       "\n",
       "    .dataframe tbody tr th {\n",
       "        vertical-align: top;\n",
       "    }\n",
       "\n",
       "    .dataframe thead th {\n",
       "        text-align: right;\n",
       "    }\n",
       "</style>\n",
       "<table border=\"1\" class=\"dataframe\">\n",
       "  <thead>\n",
       "    <tr style=\"text-align: right;\">\n",
       "      <th></th>\n",
       "      <th>feature</th>\n",
       "      <th>feature_importance</th>\n",
       "    </tr>\n",
       "  </thead>\n",
       "  <tbody>\n",
       "    <tr>\n",
       "      <th>0</th>\n",
       "      <td>winsorized_years_us</td>\n",
       "      <td>0.098564</td>\n",
       "    </tr>\n",
       "    <tr>\n",
       "      <th>1</th>\n",
       "      <td>state</td>\n",
       "      <td>0.021436</td>\n",
       "    </tr>\n",
       "    <tr>\n",
       "      <th>2</th>\n",
       "      <td>hh_related</td>\n",
       "      <td>0.016796</td>\n",
       "    </tr>\n",
       "    <tr>\n",
       "      <th>3</th>\n",
       "      <td>job_4.0</td>\n",
       "      <td>0.015470</td>\n",
       "    </tr>\n",
       "    <tr>\n",
       "      <th>4</th>\n",
       "      <td>insurance_2.0</td>\n",
       "      <td>0.013039</td>\n",
       "    </tr>\n",
       "    <tr>\n",
       "      <th>5</th>\n",
       "      <td>english_1.0</td>\n",
       "      <td>0.011713</td>\n",
       "    </tr>\n",
       "    <tr>\n",
       "      <th>6</th>\n",
       "      <td>insurance_6.0</td>\n",
       "      <td>0.010608</td>\n",
       "    </tr>\n",
       "    <tr>\n",
       "      <th>7</th>\n",
       "      <td>english_3.0</td>\n",
       "      <td>0.010387</td>\n",
       "    </tr>\n",
       "    <tr>\n",
       "      <th>8</th>\n",
       "      <td>hispanic_latino</td>\n",
       "      <td>0.007514</td>\n",
       "    </tr>\n",
       "    <tr>\n",
       "      <th>9</th>\n",
       "      <td>english_2.0</td>\n",
       "      <td>0.007293</td>\n",
       "    </tr>\n",
       "    <tr>\n",
       "      <th>10</th>\n",
       "      <td>job_1.0</td>\n",
       "      <td>0.006851</td>\n",
       "    </tr>\n",
       "    <tr>\n",
       "      <th>11</th>\n",
       "      <td>age_group_1</td>\n",
       "      <td>0.002210</td>\n",
       "    </tr>\n",
       "    <tr>\n",
       "      <th>12</th>\n",
       "      <td>insurance_3.0</td>\n",
       "      <td>0.001768</td>\n",
       "    </tr>\n",
       "    <tr>\n",
       "      <th>13</th>\n",
       "      <td>age_group_3</td>\n",
       "      <td>0.001768</td>\n",
       "    </tr>\n",
       "    <tr>\n",
       "      <th>14</th>\n",
       "      <td>job_2.0</td>\n",
       "      <td>0.001326</td>\n",
       "    </tr>\n",
       "    <tr>\n",
       "      <th>15</th>\n",
       "      <td>job_3.0</td>\n",
       "      <td>0.001105</td>\n",
       "    </tr>\n",
       "    <tr>\n",
       "      <th>16</th>\n",
       "      <td>age_group_2</td>\n",
       "      <td>0.001105</td>\n",
       "    </tr>\n",
       "    <tr>\n",
       "      <th>17</th>\n",
       "      <td>region_birth_7</td>\n",
       "      <td>0.000884</td>\n",
       "    </tr>\n",
       "    <tr>\n",
       "      <th>18</th>\n",
       "      <td>age_group_5</td>\n",
       "      <td>0.000884</td>\n",
       "    </tr>\n",
       "    <tr>\n",
       "      <th>19</th>\n",
       "      <td>region_birth_4</td>\n",
       "      <td>0.000663</td>\n",
       "    </tr>\n",
       "    <tr>\n",
       "      <th>20</th>\n",
       "      <td>region_birth_6</td>\n",
       "      <td>0.000663</td>\n",
       "    </tr>\n",
       "    <tr>\n",
       "      <th>21</th>\n",
       "      <td>region_birth_8</td>\n",
       "      <td>0.000442</td>\n",
       "    </tr>\n",
       "    <tr>\n",
       "      <th>22</th>\n",
       "      <td>region_birth_3</td>\n",
       "      <td>0.000442</td>\n",
       "    </tr>\n",
       "    <tr>\n",
       "      <th>23</th>\n",
       "      <td>insurance_4.0</td>\n",
       "      <td>0.000221</td>\n",
       "    </tr>\n",
       "    <tr>\n",
       "      <th>24</th>\n",
       "      <td>insurance_5.0</td>\n",
       "      <td>0.000221</td>\n",
       "    </tr>\n",
       "    <tr>\n",
       "      <th>25</th>\n",
       "      <td>age_group_4</td>\n",
       "      <td>0.000221</td>\n",
       "    </tr>\n",
       "    <tr>\n",
       "      <th>26</th>\n",
       "      <td>region_birth_11</td>\n",
       "      <td>0.000221</td>\n",
       "    </tr>\n",
       "    <tr>\n",
       "      <th>27</th>\n",
       "      <td>region_birth_5</td>\n",
       "      <td>0.000221</td>\n",
       "    </tr>\n",
       "    <tr>\n",
       "      <th>28</th>\n",
       "      <td>region_birth_9</td>\n",
       "      <td>0.000221</td>\n",
       "    </tr>\n",
       "    <tr>\n",
       "      <th>29</th>\n",
       "      <td>region_birth_12</td>\n",
       "      <td>0.000000</td>\n",
       "    </tr>\n",
       "    <tr>\n",
       "      <th>30</th>\n",
       "      <td>region_birth_10</td>\n",
       "      <td>0.000000</td>\n",
       "    </tr>\n",
       "  </tbody>\n",
       "</table>\n",
       "</div>"
      ],
      "text/plain": [
       "                feature  feature_importance\n",
       "0   winsorized_years_us            0.098564\n",
       "1                 state            0.021436\n",
       "2            hh_related            0.016796\n",
       "3               job_4.0            0.015470\n",
       "4         insurance_2.0            0.013039\n",
       "5           english_1.0            0.011713\n",
       "6         insurance_6.0            0.010608\n",
       "7           english_3.0            0.010387\n",
       "8       hispanic_latino            0.007514\n",
       "9           english_2.0            0.007293\n",
       "10              job_1.0            0.006851\n",
       "11          age_group_1            0.002210\n",
       "12        insurance_3.0            0.001768\n",
       "13          age_group_3            0.001768\n",
       "14              job_2.0            0.001326\n",
       "15              job_3.0            0.001105\n",
       "16          age_group_2            0.001105\n",
       "17       region_birth_7            0.000884\n",
       "18          age_group_5            0.000884\n",
       "19       region_birth_4            0.000663\n",
       "20       region_birth_6            0.000663\n",
       "21       region_birth_8            0.000442\n",
       "22       region_birth_3            0.000442\n",
       "23        insurance_4.0            0.000221\n",
       "24        insurance_5.0            0.000221\n",
       "25          age_group_4            0.000221\n",
       "26      region_birth_11            0.000221\n",
       "27       region_birth_5            0.000221\n",
       "28       region_birth_9            0.000221\n",
       "29      region_birth_12            0.000000\n",
       "30      region_birth_10            0.000000"
      ]
     },
     "execution_count": 147,
     "metadata": {},
     "output_type": "execute_result"
    }
   ],
   "source": [
    "drop_col_feat_imp(rfc, X_train, y_train, random_state = 40)"
   ]
  },
  {
   "cell_type": "code",
   "execution_count": 150,
   "metadata": {},
   "outputs": [
    {
     "data": {
      "image/png": "[encoded data removed]",
      "text/plain": [
       "<Figure size 720x576 with 1 Axes>"
      ]
     },
     "metadata": {
      "needs_background": "light"
     },
     "output_type": "display_data"
    }
   ],
   "source": [
    "plt.figure(figsize = (10, 8))\n",
    "\n",
    "drop_imp = drop_col_feat_imp(rfc, X_train, y_train)\n",
    "var_imp_plot(drop_imp, 'Drop Column Feature Importance')"
   ]
  },
  {
   "cell_type": "markdown",
   "metadata": {},
   "source": [
    "### Gradient Boosting Classifier"
   ]
  },
  {
   "cell_type": "code",
   "execution_count": null,
   "metadata": {
    "scrolled": false
   },
   "outputs": [],
   "source": [
    "# Tuning Gradient Boosting Classifier\n",
    "\n",
    "def hyperopt_train_test(params):\n",
    "    clf = ensemble.GradientBoostingClassifier(**params)\n",
    "    return cross_val_score(clf, Xtr_upsampled, ytr_upsampled, n_jobs = -1).mean()\n",
    "\n",
    "space = {\n",
    "    'loss': hp.choice('loss', (['deviance', 'exponential'])),\n",
    "    'learning_rate': hp.uniform('learning_rate', 0.000001, 1),\n",
    "    'n_estimators': hp.choice('n_estimators', range(10, 500)),\n",
    "    'max_depth': hp.choice('max_depth', range(1,30)), \n",
    "    'max_features': hp.choice('max_features', range(1, 10))\n",
    "}\n",
    "\n",
    "def f(params):\n",
    "    acc = hyperopt_train_test(params)\n",
    "    return {'loss': -acc, 'status': STATUS_OK}\n",
    "\n",
    "seed = 90\n",
    "trials = Trials()\n",
    "best = fmin(f, space, algo = tpe.suggest, max_evals = 100, trials = trials,\n",
    "            rstate = np.random.RandomState(seed))\n",
    "print('The best parameters are: {}'.format(space_eval(space, best)))"
   ]
  },
  {
   "cell_type": "markdown",
   "metadata": {},
   "source": [
    "The tuned gradient boosting classifier achieved an accuracy rate of 87% on a five-fold cross validation on the training data."
   ]
  },
  {
   "cell_type": "code",
   "execution_count": 145,
   "metadata": {},
   "outputs": [
    {
     "name": "stdout",
     "output_type": "stream",
     "text": [
      "Accuracy Score on Test Set: 71.8%\n"
     ]
    }
   ],
   "source": [
    "gbc = ensemble.GradientBoostingClassifier(learning_rate = 0.7627393057790193, loss = 'deviance', max_depth = 23,\n",
    "                                         max_features = 9, n_estimators = 399)\n",
    "print('Accuracy Score on Test Set: {}%'.format((round(gbc.fit(Xtr_upsampled, ytr_upsampled).score(X_test, y_test)*100, 1))))"
   ]
  },
  {
   "cell_type": "code",
   "execution_count": 146,
   "metadata": {},
   "outputs": [
    {
     "data": {
      "text/html": [
       "<div>\n",
       "<style scoped>\n",
       "    .dataframe tbody tr th:only-of-type {\n",
       "        vertical-align: middle;\n",
       "    }\n",
       "\n",
       "    .dataframe tbody tr th {\n",
       "        vertical-align: top;\n",
       "    }\n",
       "\n",
       "    .dataframe thead th {\n",
       "        text-align: right;\n",
       "    }\n",
       "</style>\n",
       "<table border=\"1\" class=\"dataframe\">\n",
       "  <thead>\n",
       "    <tr style=\"text-align: right;\">\n",
       "      <th>col_0</th>\n",
       "      <th>0.0</th>\n",
       "      <th>1.0</th>\n",
       "      <th>All</th>\n",
       "    </tr>\n",
       "    <tr>\n",
       "      <th>unauthorized</th>\n",
       "      <th></th>\n",
       "      <th></th>\n",
       "      <th></th>\n",
       "    </tr>\n",
       "  </thead>\n",
       "  <tbody>\n",
       "    <tr>\n",
       "      <th>0.0</th>\n",
       "      <td>699</td>\n",
       "      <td>106</td>\n",
       "      <td>805</td>\n",
       "    </tr>\n",
       "    <tr>\n",
       "      <th>1.0</th>\n",
       "      <td>209</td>\n",
       "      <td>118</td>\n",
       "      <td>327</td>\n",
       "    </tr>\n",
       "    <tr>\n",
       "      <th>All</th>\n",
       "      <td>908</td>\n",
       "      <td>224</td>\n",
       "      <td>1132</td>\n",
       "    </tr>\n",
       "  </tbody>\n",
       "</table>\n",
       "</div>"
      ],
      "text/plain": [
       "col_0         0.0  1.0   All\n",
       "unauthorized                \n",
       "0.0           699  106   805\n",
       "1.0           209  118   327\n",
       "All           908  224  1132"
      ]
     },
     "execution_count": 146,
     "metadata": {},
     "output_type": "execute_result"
    }
   ],
   "source": [
    "y_pred = gbc.fit(Xtr_upsampled, ytr_upsampled).predict(X_test)\n",
    "\n",
    "#confusion_matrix(y_test, y_pred)\n",
    "pd.crosstab(y_test, y_pred, margins = True)"
   ]
  },
  {
   "cell_type": "code",
   "execution_count": 148,
   "metadata": {},
   "outputs": [
    {
     "name": "stdout",
     "output_type": "stream",
     "text": [
      "False Positives: 47.3%\n",
      "False Negatives: 23.0%\n",
      "Sensitivity: 36.1%\n",
      "Specificity: 86.8%\n"
     ]
    }
   ],
   "source": [
    "# False Positives \n",
    "print('False Positives: {}%'.format((round(((106/224)*100), 1))))\n",
    "\n",
    "# False Negatives\n",
    "print('False Negatives: {}%'.format((round(((209/908)*100), 1))))\n",
    "\n",
    "# Sensitivity\n",
    "print('Sensitivity: {}%'.format((round(((118/327)*100), 1))))\n",
    "\n",
    "# Specificity\n",
    "\n",
    "print('Specificity: {}%'.format((round(((699/805)*100), 1))))"
   ]
  },
  {
   "cell_type": "markdown",
   "metadata": {},
   "source": [
    "The tuned gradient boosting classifier achieved 71.8% on the test set after achieving an 87% accuracy on the training data. Comparing it to other models, it is also a mixed bag like Random Forest was. But, it also has fewer false positives than Naive Bayes and the other classifiers. It has a very low sensitivity rate, identifying only 36% of unauthorized immigrants in the test set. On the other hand, the specificity is 87%, meaning it does a fairly good job in identifying legal noncitizens. "
   ]
  },
  {
   "cell_type": "markdown",
   "metadata": {},
   "source": [
    "### Assessing the Models, In Sum"
   ]
  },
  {
   "cell_type": "code",
   "execution_count": 151,
   "metadata": {},
   "outputs": [
    {
     "name": "stdout",
     "output_type": "stream",
     "text": [
      "           ML Classifier  Accuracy: Training (%)  Accuracy: Test Set (%)  \\\n",
      "0  Naive Bayes (Untuned)                      72                      69   \n",
      "1                    KNN                      83                      69   \n",
      "2                    SVC                      89                      71   \n",
      "3          Random Forest                      86                      72   \n",
      "4      Gradient Boosting                      87                      72   \n",
      "\n",
      "   False Positives (%)  False Negatives (%)  Sensitivity (%)  Specificity (%)  \n",
      "0                   53                   15               71               68  \n",
      "1                   54                   23               40               81  \n",
      "2                   53                   27               18               92  \n",
      "3                   48                   20               52               80  \n",
      "4                   47                   23               36               87  \n"
     ]
    }
   ],
   "source": [
    "summary = {'ML Classifier': ['Naive Bayes (Untuned)', 'KNN', 'SVC', 'Random Forest', 'Gradient Boosting'],\n",
    "           'Accuracy: Training (%)': [72, 83, 89, 86, 87], \n",
    "           'Accuracy: Test Set (%)': [69, 69, 71, 72, 72],\n",
    "           'False Positives (%)': [53, 54, 53, 48, 47],\n",
    "           'False Negatives (%)': [15, 23, 27, 20, 23],\n",
    "           'Sensitivity (%)': [71, 40, 18, 52, 36],\n",
    "           'Specificity (%)': [68, 81, 92, 80, 87]\n",
    "          }\n",
    "\n",
    "summary = pd.DataFrame(summary)\n",
    "\n",
    "print(summary)"
   ]
  },
  {
   "cell_type": "code",
   "execution_count": 153,
   "metadata": {},
   "outputs": [
    {
     "data": {
      "text/html": [
       "<table border=\"1\" class=\"dataframe\">\n",
       "  <thead>\n",
       "    <tr style=\"text-align: right;\">\n",
       "      <th></th>\n",
       "      <th>ML Classifier</th>\n",
       "      <th>Accuracy: Training (%)</th>\n",
       "      <th>Accuracy: Test Set (%)</th>\n",
       "      <th>False Positives (%)</th>\n",
       "      <th>False Negatives (%)</th>\n",
       "      <th>Sensitivity (%)</th>\n",
       "      <th>Specificity (%)</th>\n",
       "    </tr>\n",
       "  </thead>\n",
       "  <tbody>\n",
       "    <tr>\n",
       "      <th>0</th>\n",
       "      <td>Naive Bayes (Untuned)</td>\n",
       "      <td>72</td>\n",
       "      <td>69</td>\n",
       "      <td>53</td>\n",
       "      <td>15</td>\n",
       "      <td>71</td>\n",
       "      <td>68</td>\n",
       "    </tr>\n",
       "    <tr>\n",
       "      <th>1</th>\n",
       "      <td>KNN</td>\n",
       "      <td>83</td>\n",
       "      <td>69</td>\n",
       "      <td>54</td>\n",
       "      <td>23</td>\n",
       "      <td>40</td>\n",
       "      <td>81</td>\n",
       "    </tr>\n",
       "    <tr>\n",
       "      <th>2</th>\n",
       "      <td>SVC</td>\n",
       "      <td>89</td>\n",
       "      <td>71</td>\n",
       "      <td>53</td>\n",
       "      <td>27</td>\n",
       "      <td>18</td>\n",
       "      <td>92</td>\n",
       "    </tr>\n",
       "    <tr>\n",
       "      <th>3</th>\n",
       "      <td>Random Forest</td>\n",
       "      <td>86</td>\n",
       "      <td>72</td>\n",
       "      <td>48</td>\n",
       "      <td>20</td>\n",
       "      <td>52</td>\n",
       "      <td>80</td>\n",
       "    </tr>\n",
       "    <tr>\n",
       "      <th>4</th>\n",
       "      <td>Gradient Boosting</td>\n",
       "      <td>87</td>\n",
       "      <td>72</td>\n",
       "      <td>47</td>\n",
       "      <td>23</td>\n",
       "      <td>36</td>\n",
       "      <td>87</td>\n",
       "    </tr>\n",
       "  </tbody>\n",
       "</table>"
      ],
      "text/plain": [
       "<IPython.core.display.HTML object>"
      ]
     },
     "metadata": {},
     "output_type": "display_data"
    }
   ],
   "source": [
    "from IPython.display import display, HTML\n",
    "\n",
    "display(HTML(summary.to_html()))"
   ]
  },
  {
   "cell_type": "code",
   "execution_count": 154,
   "metadata": {},
   "outputs": [
    {
     "data": {
      "image/png": "[encoded data removed]",
      "text/plain": [
       "<Figure size 432x288 with 1 Axes>"
      ]
     },
     "metadata": {
      "needs_background": "light"
     },
     "output_type": "display_data"
    }
   ],
   "source": [
    "import matplotlib.backends.backend_pdf\n",
    "\n",
    "table = pd.DataFrame(summary)\n",
    "\n",
    "fig = plt.figure()\n",
    "\n",
    "ax=fig.add_subplot(111)\n",
    "\n",
    "cell_text = []\n",
    "for row in range(len(table)):\n",
    "    cell_text.append(table.iloc[row])\n",
    "\n",
    "ax.table(cellText=cell_text, colLabels=table.columns, loc='center')\n",
    "ax.axis('off')\n",
    "\n",
    "pdf = matplotlib.backends.backend_pdf.PdfPages(\"output.pdf\")\n",
    "pdf.savefig(fig)\n",
    "pdf.close()"
   ]
  },
  {
   "cell_type": "markdown",
   "metadata": {},
   "source": [
    "Comparing the models along these metrics, there is not one that did better than the others. The differences in training accuracy and test accuracy indicates that the models were overfitting the data. Naive Bayes, untuned, performed quite well overall compared to the others. It did the best job identifying unauthorized noncitizens (sensitivity and had the fewest false negatives, though it was the worst in identifying lawfully present ones (according to the sensitivity rate). Random Forest and Gradient Boosting Classifier had the fewest false positive and the second least false negative rates, but neither was impressive in their sensitivity rates. \n",
    "\n",
    "There is a lot of room for improvement  across the board and before I moved forward with a project that needed an accurate estimate of unauthorized noncitizens in the United States, I would go back and take a deeper dive into the available features. The features used by researchers are weakly correlated with unauthorized status and that probably plays a large role in why the models are not doing as well as I had hoped that they would.\n",
    "\n",
    "Before I close this capstone, since the models were likely overfitting the data, I will see if I can achieve better results by dropping three features that had the weakest correlations with the target: 'jobs', 'educ', and 'state'. Reducing the dimensionality may improve the models' performance. Since Naive Bayes and Random Forest performed relatively well compared to the others, I will use those them instead of the whole lot. "
   ]
  },
  {
   "cell_type": "code",
   "execution_count": null,
   "metadata": {},
   "outputs": [],
   "source": [
    "blah blah blah"
   ]
  },
  {
   "cell_type": "markdown",
   "metadata": {},
   "source": [
    "### Dimensionality Reduction: Removing Jobs Classification, Education, and State of Residence"
   ]
  },
  {
   "cell_type": "code",
   "execution_count": null,
   "metadata": {},
   "outputs": [],
   "source": [
    "# Creating a features dataframe\n",
    "\n",
    "sipp_ncfeatures = sipp_noncitizens[['unauthorized', 'pid', 'insurance', 'region_birth', 'age_group', 'hh_related', 'hispanic_latino', 'winsorized_years_us' ]]"
   ]
  },
  {
   "cell_type": "code",
   "execution_count": null,
   "metadata": {},
   "outputs": [],
   "source": [
    "sipp_ncfeatures = pd.get_dummies(sipp_ncfeatures, columns = ['insurance', 'region_birth', 'age_group'], drop_first = True)"
   ]
  },
  {
   "cell_type": "code",
   "execution_count": null,
   "metadata": {},
   "outputs": [],
   "source": [
    "### Resampling to mitigate class imbalance in the target"
   ]
  },
  {
   "cell_type": "code",
   "execution_count": null,
   "metadata": {},
   "outputs": [],
   "source": [
    "sipp_ncfeatures.sample(frac = 1)\n",
    "\n",
    "y = sipp_ncfeatures.unauthorized\n",
    "X = sipp_ncfeatures.drop(['pid', 'unauthorized'], axis = 1)\n",
    "\n",
    "# Setting training and testing sets\n",
    "\n",
    "\n",
    "X_train, X_test, y_train, y_test = train_test_split(X, y, test_size = .20, random_state = 17)\n",
    "\n",
    "# Bringing the training data back together\n",
    "\n",
    "training = pd.concat([X_train, y_train], axis = 1)\n",
    "\n",
    "# separate minority and majority classes\n",
    "\n",
    "legal = training[training.unauthorized == 0]\n",
    "unauth = training[training.unauthorized == 1]\n",
    "\n",
    "unauth_upsampled = resample(unauth, \n",
    "                           replace = True, # sample with replacement\n",
    "                           n_samples = len(legal), # match number in majority class\n",
    "                           random_state = 30)\n",
    "\n",
    "# combine majority and upsampled minority\n",
    "\n",
    "upsampled = pd.concat([legal, unauth_upsampled])\n",
    "\n",
    "ytr_upsampled = upsampled.unauthorized\n",
    "Xtr_upsampled = upsampled.drop('unauthorized', axis = 1)"
   ]
  },
  {
   "cell_type": "code",
   "execution_count": null,
   "metadata": {},
   "outputs": [],
   "source": [
    "# Using Hyperopt to select the best parameters for Naive Bayes\n",
    "\n",
    "# Defining the objective function. The cross validation algorithm uses five folds for its\n",
    "# default setting, which I am using here. \n",
    "\n",
    "def hyperopt_train_test(params):\n",
    "    clf = BernoulliNB(**params)\n",
    "    return cross_val_score(clf, Xtr_upsampled, ytr_upsampled).mean()\n",
    "\n",
    "# Populating the search space with hyperparameters and values to evaluate\n",
    "\n",
    "space = {\n",
    "    'alpha': hp.uniform('alpha', 0.001, 100.0),\n",
    "    'fit_prior': hp.choice('fit_prior', [False, True])\n",
    "}\n",
    "\n",
    "# Telling Hyperopt to minimize the negative of the CV accuracy score, which will \n",
    "# prompt the algorithm to maximize the function rather than minimize it.\n",
    "\n",
    "def f(params):\n",
    "    acc = hyperopt_train_test(params)\n",
    "    return {'loss': -acc, 'status': STATUS_OK}\n",
    "\n",
    "# Setting random state seed and populating fmin with optimization algorithm (TPE), \n",
    "# number of trials (max_evals), and the trials list where evaluation scores are stored.\n",
    "\n",
    "seed = 90\n",
    "trials = Trials()\n",
    "\n",
    "# 'best' will store the optimal set of hyperparameters\n",
    "best = fmin(f, space, \n",
    "            # Selecting TPE as the estimator\n",
    "            algo = tpe.suggest, \n",
    "            \n",
    "            # Selecting 100 Trials\n",
    "            max_evals = 100, \n",
    "            \n",
    "            # Telling algorithm where to store trial results\n",
    "            trials = trials,\n",
    "            \n",
    "            # Setting random state seed to reproduce results in the future\n",
    "            rstate = np.random.RandomState(seed))\n",
    "\n",
    "\n",
    "print('The best parameters are: {}'.format(space_eval(space, best)))"
   ]
  },
  {
   "cell_type": "code",
   "execution_count": null,
   "metadata": {},
   "outputs": [],
   "source": [
    "# Refitting the model with the optimal hyperparameters on the training set and then \n",
    "# running it on the test set \n",
    "bnb_hyperopt = BernoulliNB(alpha = 0.8110089100755902, fit_prior = True)\n",
    "\n",
    "bnb_hyperopt.fit(Xtr_upsampled, ytr_upsampled)\n",
    "y_pred = bnb_hyperopt.predict(X_test)\n",
    "print(accuracy_score(y_pred, y_test))"
   ]
  },
  {
   "cell_type": "code",
   "execution_count": null,
   "metadata": {},
   "outputs": [],
   "source": [
    "# Confusion matrix\n",
    "\n",
    "pd.crosstab(y_test, y_pred, margins = True)"
   ]
  },
  {
   "cell_type": "code",
   "execution_count": null,
   "metadata": {},
   "outputs": [],
   "source": [
    "# False Positives \n",
    "print('False Positives: {}%'.format((round(((268/494)*100), 1))))\n",
    "\n",
    "# False Negatives\n",
    "print('False Negatives: {}%'.format((round(((72/638)*100), 1))))\n",
    "\n",
    "# Sensitivity\n",
    "print('Sensitivity: {}%'.format((round(((226/298)*100), 1))))\n",
    "\n",
    "# Specificity\n",
    "\n",
    "print('Specificity: {}%'.format((round(((566/834)*100), 1))))"
   ]
  },
  {
   "cell_type": "markdown",
   "metadata": {},
   "source": [
    "### Random Forest Classifier"
   ]
  },
  {
   "cell_type": "code",
   "execution_count": null,
   "metadata": {
    "scrolled": false
   },
   "outputs": [],
   "source": [
    "# Tuning Random Forest\n",
    "\n",
    "def hyperopt_train_test(params):\n",
    "    clf = RandomForestClassifier(**params)\n",
    "    return cross_val_score(clf, Xtr_upsampled, ytr_upsampled).mean()\n",
    "\n",
    "space = {'max_depth': hp.choice('max_depth', range(1,30)), \n",
    "         'max_features': hp.choice('max_features', range(1, 10)), \n",
    "         'n_estimators': hp.choice('n_estimators', range(10,1000)), \n",
    "         'criterion': hp.choice('criterion', [\"gini\", \"entropy\"]),\n",
    "}\n",
    "\n",
    "def f(params):\n",
    "    acc = hyperopt_train_test(params)\n",
    "    return {'loss': -acc, 'status': STATUS_OK}\n",
    "\n",
    "seed = 90 \n",
    "trials = Trials()\n",
    "best = fmin(f, space, algo = tpe.suggest, max_evals = 100, trials = trials,\n",
    "            rstate = np.random.RandomState(seed))\n",
    "print('The best parameters are: {}'.format(space_eval(space, best)))"
   ]
  },
  {
   "cell_type": "code",
   "execution_count": null,
   "metadata": {},
   "outputs": [],
   "source": [
    "# Refitting the model with the optimal set of hyperparameters\n",
    "\n",
    "rfc = RandomForestClassifier(criterion = 'entropy', max_depth = 27, max_features = 7, n_estimators = 597)"
   ]
  },
  {
   "cell_type": "code",
   "execution_count": null,
   "metadata": {},
   "outputs": [],
   "source": [
    "# Getting the optimal model's accuracy with the test set data.\n",
    "\n",
    "print('Accuracy Score on Test Set: {}%'.format((round(rfc.fit(Xtr_upsampled, ytr_upsampled).score(X_test, y_test)*100, 1))))"
   ]
  },
  {
   "cell_type": "code",
   "execution_count": null,
   "metadata": {},
   "outputs": [],
   "source": [
    "# Creating a confusion matrix \n",
    "\n",
    "y_pred = rfc.fit(Xtr_upsampled, ytr_upsampled).predict(X_test)\n",
    "\n",
    "#confusion_matrix(y_test, y_pred)\n",
    "pd.crosstab(y_test, y_pred, margins = True)"
   ]
  },
  {
   "cell_type": "code",
   "execution_count": null,
   "metadata": {},
   "outputs": [],
   "source": [
    "# False Positives \n",
    "print('False Positives: {}%'.format((round(((239/443)*100), 1))))\n",
    "\n",
    "# False Negatives\n",
    "print('False Negatives: {}%'.format((round(((94/689)*100), 1))))\n",
    "\n",
    "# Sensitivity\n",
    "print('Sensitivity: {}%'.format((round(((204/298)*100), 1))))\n",
    "\n",
    "# Specificity\n",
    "\n",
    "print('Specificity: {}%'.format((round(((595/834)*100), 1))))"
   ]
  },
  {
   "cell_type": "markdown",
   "metadata": {},
   "source": [
    "### Comparing Performances Between Original Model and Revised Models"
   ]
  },
  {
   "cell_type": "code",
   "execution_count": null,
   "metadata": {},
   "outputs": [],
   "source": [
    "# Creating a dataframe to display a table comparing Naive Bayes and Random Forest \n",
    "# performances between the original model and the second one with fewer features.\n",
    "\n",
    "summary_two = {'Metrics': ['Accuracy: Training', 'Accuracy: Test Set', 'False Positives', 'False Negatives', 'Sensitivity', 'Specificity'],\n",
    "           'Naive Bayes I (%)': [72, 69, 53, 15, 71, 68], \n",
    "           'Naive Bayes II (%)': [71, 70, 54, 11, 76, 68],\n",
    "           'Random Forest I (%)': [86, 72, 49, 20, 52, 80],\n",
    "           'Random Forest II (%)': [79, 71, 54, 14, 69, 71],\n",
    "          }\n",
    "\n",
    "summary_two = pd.DataFrame(summary_two)\n",
    "\n",
    "summary_two\n",
    "\n"
   ]
  },
  {
   "cell_type": "markdown",
   "metadata": {},
   "source": [
    "Reducing the dimensions improved the model performance overall, though not across every metric. The Naive Bayes (untuned) classifier had lower accuracy training scores but higher testing scores. It also had fewer false negatives and higher sensitivity rates. So, it missed the mark on identifying legal noncitizens less often and had more success identifying unauthorized ones. \n",
    "\n",
    "The Random Forest Classifier also improved its performance with the revised model on two metrics. It had a higher sensitivity rate, correctly identifying a higher percentage of unauthorized citizens. Unfortunately, it had more false positives, identifying a higher number of legal noncitizens as unauthorized. It also had a lower specificity rate, meaning that it correctly identified a lower proportion of legal noncitizens as legal. "
   ]
  },
  {
   "cell_type": "markdown",
   "metadata": {},
   "source": [
    "While the models' performances were disappointing, it revealed that current models on estimating the size of the unauthorized noncitizen population leave a lot of room for improvement. I selected my features from a feature pool taken from studies that are considered the gold standard on this topic. I may have done the best that I could from a mediocre set of features. \n",
    "\n",
    "My next steps for this project, since I am working on this for my \"day job,\" would include first revisiting the research on characteristics of the unauthorized population for guidance on what else I should be looking for in the SIPP data and also taking a closer look at the SIPP data to investigate other features that might improve the models' performance that I may have missed. "
   ]
  },
  {
   "cell_type": "code",
   "execution_count": null,
   "metadata": {},
   "outputs": [],
   "source": []
  }
 ],
 "metadata": {
  "kernelspec": {
   "display_name": "Python 3",
   "language": "python",
   "name": "python3"
  },
  "language_info": {
   "codemirror_mode": {
    "name": "ipython",
    "version": 3
   },
   "file_extension": ".py",
   "mimetype": "text/x-python",
   "name": "python",
   "nbconvert_exporter": "python",
   "pygments_lexer": "ipython3",
   "version": "3.7.7"
  }
 },
 "nbformat": 4,
 "nbformat_minor": 2
}
